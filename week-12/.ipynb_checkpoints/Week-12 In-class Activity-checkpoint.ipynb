{
 "cells": [
  {
   "cell_type": "code",
   "execution_count": null,
   "id": "a561bd03",
   "metadata": {},
   "outputs": [],
   "source": []
  },
  {
   "cell_type": "markdown",
   "id": "2cfe7c65",
   "metadata": {},
   "source": [
    "#### Write a lambda function to rearrange positive and negative numbers in agiven list\n"
   ]
  },
  {
   "cell_type": "markdown",
   "id": "cd760f85",
   "metadata": {},
   "source": [
    "Sample output:\n",
    "\n",
    "original_list = [-1,2,-3,4,-5,6,-7,8,-9,10,-11,12]\n",
    "resulting_list = [2,4,6,8,10,12,-11,-9,-7,-5,-3,-1]\n"
   ]
  },
  {
   "cell_type": "code",
   "execution_count": 27,
   "id": "d426f425",
   "metadata": {},
   "outputs": [
    {
     "name": "stdout",
     "output_type": "stream",
     "text": [
      "[2, 4, 6, 8, 10, 12]\n",
      "[-11, -9, -7, -5, -3, -1]\n"
     ]
    },
    {
     "data": {
      "text/plain": [
       "([2, 4, 6, 8, 10, 12], [-11, -9, -7, -5, -3, -1])"
      ]
     },
     "execution_count": 27,
     "metadata": {},
     "output_type": "execute_result"
    }
   ],
   "source": [
    "original_list = [-1,2,-3,4,-5,6,-7,8,-9,10,-11,12]\n",
    "\n",
    "positives = list(filter(lambda x:(x>=0), original_list))\n",
    "print(positives)\n",
    "\n",
    "negatives = list(filter(lambda x:(x<0), sorted(original_list)))\n",
    "print(negatives)\n",
    "\n",
    "df = positives, negatives\n",
    "df"
   ]
  },
  {
   "cell_type": "markdown",
   "id": "dfddce83",
   "metadata": {},
   "source": [
    "Create a new dataframe using week_11/temperatures/temperature.csv file\n",
    "from last class. It should have the datetime column and one of the cities.\n",
    "Create a new boolean column called is_freezing that indicates if the\n",
    "temperature is at or below freezing. Use a lambda to create this column. Is\n",
    "there a better way to do this than with a lambda?"
   ]
  },
  {
   "cell_type": "code",
   "execution_count": 29,
   "id": "3fc9840c",
   "metadata": {},
   "outputs": [
    {
     "data": {
      "text/html": [
       "<div>\n",
       "<style scoped>\n",
       "    .dataframe tbody tr th:only-of-type {\n",
       "        vertical-align: middle;\n",
       "    }\n",
       "\n",
       "    .dataframe tbody tr th {\n",
       "        vertical-align: top;\n",
       "    }\n",
       "\n",
       "    .dataframe thead th {\n",
       "        text-align: right;\n",
       "    }\n",
       "</style>\n",
       "<table border=\"1\" class=\"dataframe\">\n",
       "  <thead>\n",
       "    <tr style=\"text-align: right;\">\n",
       "      <th></th>\n",
       "      <th>Portland</th>\n",
       "    </tr>\n",
       "    <tr>\n",
       "      <th>datetime</th>\n",
       "      <th></th>\n",
       "    </tr>\n",
       "  </thead>\n",
       "  <tbody>\n",
       "    <tr>\n",
       "      <th>2012-10-01 12:00:00</th>\n",
       "      <td>NaN</td>\n",
       "    </tr>\n",
       "    <tr>\n",
       "      <th>2012-10-01 13:00:00</th>\n",
       "      <td>282.080000</td>\n",
       "    </tr>\n",
       "    <tr>\n",
       "      <th>2012-10-01 14:00:00</th>\n",
       "      <td>282.083252</td>\n",
       "    </tr>\n",
       "    <tr>\n",
       "      <th>2012-10-01 15:00:00</th>\n",
       "      <td>282.091866</td>\n",
       "    </tr>\n",
       "    <tr>\n",
       "      <th>2012-10-01 16:00:00</th>\n",
       "      <td>282.100481</td>\n",
       "    </tr>\n",
       "    <tr>\n",
       "      <th>...</th>\n",
       "      <td>...</td>\n",
       "    </tr>\n",
       "    <tr>\n",
       "      <th>2017-11-29 20:00:00</th>\n",
       "      <td>282.000000</td>\n",
       "    </tr>\n",
       "    <tr>\n",
       "      <th>2017-11-29 21:00:00</th>\n",
       "      <td>282.890000</td>\n",
       "    </tr>\n",
       "    <tr>\n",
       "      <th>2017-11-29 22:00:00</th>\n",
       "      <td>283.390000</td>\n",
       "    </tr>\n",
       "    <tr>\n",
       "      <th>2017-11-29 23:00:00</th>\n",
       "      <td>283.020000</td>\n",
       "    </tr>\n",
       "    <tr>\n",
       "      <th>2017-11-30 00:00:00</th>\n",
       "      <td>282.280000</td>\n",
       "    </tr>\n",
       "  </tbody>\n",
       "</table>\n",
       "<p>45253 rows × 1 columns</p>\n",
       "</div>"
      ],
      "text/plain": [
       "                       Portland\n",
       "datetime                       \n",
       "2012-10-01 12:00:00         NaN\n",
       "2012-10-01 13:00:00  282.080000\n",
       "2012-10-01 14:00:00  282.083252\n",
       "2012-10-01 15:00:00  282.091866\n",
       "2012-10-01 16:00:00  282.100481\n",
       "...                         ...\n",
       "2017-11-29 20:00:00  282.000000\n",
       "2017-11-29 21:00:00  282.890000\n",
       "2017-11-29 22:00:00  283.390000\n",
       "2017-11-29 23:00:00  283.020000\n",
       "2017-11-30 00:00:00  282.280000\n",
       "\n",
       "[45253 rows x 1 columns]"
      ]
     },
     "execution_count": 29,
     "metadata": {},
     "output_type": "execute_result"
    }
   ],
   "source": [
    "import numpy as np\n",
    "import pandas as pd\n",
    "import os\n",
    "\n",
    "temp = pd.read_csv(r\"A:\\launch_code_STL\\Final_Homework\\week-11\\temperatures\\temperature.csv\", index_col='datetime', parse_dates=True)\n",
    "temp_Portland = temp['Portland']\n",
    "temp_Portland.columns = ['Seattle']\n",
    "\n",
    "Portland_df = pd.DataFrame(temp_Portland)\n",
    "Portland_df\n",
    "\n"
   ]
  },
  {
   "cell_type": "code",
   "execution_count": 30,
   "id": "b1b9c5a7",
   "metadata": {},
   "outputs": [
    {
     "data": {
      "text/html": [
       "<div>\n",
       "<style scoped>\n",
       "    .dataframe tbody tr th:only-of-type {\n",
       "        vertical-align: middle;\n",
       "    }\n",
       "\n",
       "    .dataframe tbody tr th {\n",
       "        vertical-align: top;\n",
       "    }\n",
       "\n",
       "    .dataframe thead th {\n",
       "        text-align: right;\n",
       "    }\n",
       "</style>\n",
       "<table border=\"1\" class=\"dataframe\">\n",
       "  <thead>\n",
       "    <tr style=\"text-align: right;\">\n",
       "      <th></th>\n",
       "      <th>Portland</th>\n",
       "      <th>is_freezing</th>\n",
       "    </tr>\n",
       "    <tr>\n",
       "      <th>datetime</th>\n",
       "      <th></th>\n",
       "      <th></th>\n",
       "    </tr>\n",
       "  </thead>\n",
       "  <tbody>\n",
       "    <tr>\n",
       "      <th>2012-10-01 12:00:00</th>\n",
       "      <td>NaN</td>\n",
       "      <td>False</td>\n",
       "    </tr>\n",
       "    <tr>\n",
       "      <th>2012-10-01 13:00:00</th>\n",
       "      <td>282.080000</td>\n",
       "      <td>False</td>\n",
       "    </tr>\n",
       "    <tr>\n",
       "      <th>2012-10-01 14:00:00</th>\n",
       "      <td>282.083252</td>\n",
       "      <td>False</td>\n",
       "    </tr>\n",
       "    <tr>\n",
       "      <th>2012-10-01 15:00:00</th>\n",
       "      <td>282.091866</td>\n",
       "      <td>False</td>\n",
       "    </tr>\n",
       "    <tr>\n",
       "      <th>2012-10-01 16:00:00</th>\n",
       "      <td>282.100481</td>\n",
       "      <td>False</td>\n",
       "    </tr>\n",
       "    <tr>\n",
       "      <th>...</th>\n",
       "      <td>...</td>\n",
       "      <td>...</td>\n",
       "    </tr>\n",
       "    <tr>\n",
       "      <th>2017-11-29 20:00:00</th>\n",
       "      <td>282.000000</td>\n",
       "      <td>False</td>\n",
       "    </tr>\n",
       "    <tr>\n",
       "      <th>2017-11-29 21:00:00</th>\n",
       "      <td>282.890000</td>\n",
       "      <td>False</td>\n",
       "    </tr>\n",
       "    <tr>\n",
       "      <th>2017-11-29 22:00:00</th>\n",
       "      <td>283.390000</td>\n",
       "      <td>False</td>\n",
       "    </tr>\n",
       "    <tr>\n",
       "      <th>2017-11-29 23:00:00</th>\n",
       "      <td>283.020000</td>\n",
       "      <td>False</td>\n",
       "    </tr>\n",
       "    <tr>\n",
       "      <th>2017-11-30 00:00:00</th>\n",
       "      <td>282.280000</td>\n",
       "      <td>False</td>\n",
       "    </tr>\n",
       "  </tbody>\n",
       "</table>\n",
       "<p>45253 rows × 2 columns</p>\n",
       "</div>"
      ],
      "text/plain": [
       "                       Portland  is_freezing\n",
       "datetime                                    \n",
       "2012-10-01 12:00:00         NaN        False\n",
       "2012-10-01 13:00:00  282.080000        False\n",
       "2012-10-01 14:00:00  282.083252        False\n",
       "2012-10-01 15:00:00  282.091866        False\n",
       "2012-10-01 16:00:00  282.100481        False\n",
       "...                         ...          ...\n",
       "2017-11-29 20:00:00  282.000000        False\n",
       "2017-11-29 21:00:00  282.890000        False\n",
       "2017-11-29 22:00:00  283.390000        False\n",
       "2017-11-29 23:00:00  283.020000        False\n",
       "2017-11-30 00:00:00  282.280000        False\n",
       "\n",
       "[45253 rows x 2 columns]"
      ]
     },
     "execution_count": 30,
     "metadata": {},
     "output_type": "execute_result"
    }
   ],
   "source": [
    "Portland_temp = Portland_df.assign(is_freezing = lambda x: x['Portland']<=273.15)\n",
    "Portland_temp"
   ]
  },
  {
   "cell_type": "code",
   "execution_count": 39,
   "id": "7081240a",
   "metadata": {},
   "outputs": [
    {
     "data": {
      "text/plain": [
       "0.0030490999997709878"
      ]
     },
     "execution_count": 39,
     "metadata": {},
     "output_type": "execute_result"
    }
   ],
   "source": [
    "import time\n",
    "\n",
    "start_time = time.perf_counter()\n",
    "Portland_df.assign(is_freezing = lambda x: x['Portland']<=273.15)\n",
    "end_time = time.perf_counter()\n",
    "\n",
    "total_time = end_time - start_time\n",
    "total_time"
   ]
  },
  {
   "cell_type": "code",
   "execution_count": 44,
   "id": "e7fc9741",
   "metadata": {},
   "outputs": [
    {
     "data": {
      "text/html": [
       "<div>\n",
       "<style scoped>\n",
       "    .dataframe tbody tr th:only-of-type {\n",
       "        vertical-align: middle;\n",
       "    }\n",
       "\n",
       "    .dataframe tbody tr th {\n",
       "        vertical-align: top;\n",
       "    }\n",
       "\n",
       "    .dataframe thead th {\n",
       "        text-align: right;\n",
       "    }\n",
       "</style>\n",
       "<table border=\"1\" class=\"dataframe\">\n",
       "  <thead>\n",
       "    <tr style=\"text-align: right;\">\n",
       "      <th></th>\n",
       "      <th>Portland</th>\n",
       "      <th>is_freezing2</th>\n",
       "    </tr>\n",
       "    <tr>\n",
       "      <th>datetime</th>\n",
       "      <th></th>\n",
       "      <th></th>\n",
       "    </tr>\n",
       "  </thead>\n",
       "  <tbody>\n",
       "    <tr>\n",
       "      <th>2012-10-01 12:00:00</th>\n",
       "      <td>NaN</td>\n",
       "      <td>False</td>\n",
       "    </tr>\n",
       "    <tr>\n",
       "      <th>2012-10-01 13:00:00</th>\n",
       "      <td>282.080000</td>\n",
       "      <td>False</td>\n",
       "    </tr>\n",
       "    <tr>\n",
       "      <th>2012-10-01 14:00:00</th>\n",
       "      <td>282.083252</td>\n",
       "      <td>False</td>\n",
       "    </tr>\n",
       "    <tr>\n",
       "      <th>2012-10-01 15:00:00</th>\n",
       "      <td>282.091866</td>\n",
       "      <td>False</td>\n",
       "    </tr>\n",
       "    <tr>\n",
       "      <th>2012-10-01 16:00:00</th>\n",
       "      <td>282.100481</td>\n",
       "      <td>False</td>\n",
       "    </tr>\n",
       "  </tbody>\n",
       "</table>\n",
       "</div>"
      ],
      "text/plain": [
       "                       Portland  is_freezing2\n",
       "datetime                                     \n",
       "2012-10-01 12:00:00         NaN         False\n",
       "2012-10-01 13:00:00  282.080000         False\n",
       "2012-10-01 14:00:00  282.083252         False\n",
       "2012-10-01 15:00:00  282.091866         False\n",
       "2012-10-01 16:00:00  282.100481         False"
      ]
     },
     "execution_count": 44,
     "metadata": {},
     "output_type": "execute_result"
    }
   ],
   "source": [
    "Portland_df['is_freezing'] = np.where(Portland_df['Portland']<=273.15,True,False)\n",
    "Portland_df.head()"
   ]
  },
  {
   "cell_type": "code",
   "execution_count": null,
   "id": "0c329c33",
   "metadata": {},
   "outputs": [],
   "source": []
  },
  {
   "cell_type": "code",
   "execution_count": null,
   "id": "82b45711",
   "metadata": {},
   "outputs": [],
   "source": []
  }
 ],
 "metadata": {
  "kernelspec": {
   "display_name": "Python 3 (ipykernel)",
   "language": "python",
   "name": "python3"
  },
  "language_info": {
   "codemirror_mode": {
    "name": "ipython",
    "version": 3
   },
   "file_extension": ".py",
   "mimetype": "text/x-python",
   "name": "python",
   "nbconvert_exporter": "python",
   "pygments_lexer": "ipython3",
   "version": "3.9.7"
  }
 },
 "nbformat": 4,
 "nbformat_minor": 5
}
