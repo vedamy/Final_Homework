{
 "cells": [
  {
   "cell_type": "markdown",
   "id": "6d4146af",
   "metadata": {},
   "source": [
    "# Week-20 Group Activity"
   ]
  },
  {
   "cell_type": "markdown",
   "id": "399fe902",
   "metadata": {},
   "source": [
    "1. Take the result of the following line of code (but use whatever available text you want)\n",
    "and write a function to concatenate the data back into sentences, with one readable\n",
    "sentence in each list.\n",
    "sentences = nltk.corpus.gutenberg.sents(\"carroll-alice.txt\")[:10]\n"
   ]
  },
  {
   "cell_type": "code",
   "execution_count": 2,
   "id": "6a6f99e0",
   "metadata": {},
   "outputs": [],
   "source": [
    "#from nltk.corpus import gutenberg"
   ]
  },
  {
   "cell_type": "code",
   "execution_count": null,
   "id": "f532ce17",
   "metadata": {},
   "outputs": [],
   "source": [
    " sentences = nltk.corpus.gutenberg.sents(\"carroll-alice.txt\")[:10]"
   ]
  },
  {
   "cell_type": "code",
   "execution_count": null,
   "id": "0d5ab81b",
   "metadata": {},
   "outputs": [],
   "source": []
  },
  {
   "cell_type": "markdown",
   "id": "4186a89a",
   "metadata": {},
   "source": [
    "2. Create a function that accepts a list of values. Filter out all values that are numeric and\n",
    "return the new list.\n",
    "\n",
    "Input:\n",
    "[1,2,'a','b',7.6]\n",
    "\n",
    "output:\n",
    "['a','b']"
   ]
  },
  {
   "cell_type": "code",
   "execution_count": null,
   "id": "89c4b83c",
   "metadata": {},
   "outputs": [],
   "source": []
  }
 ],
 "metadata": {
  "kernelspec": {
   "display_name": "Python 3 (ipykernel)",
   "language": "python",
   "name": "python3"
  },
  "language_info": {
   "codemirror_mode": {
    "name": "ipython",
    "version": 3
   },
   "file_extension": ".py",
   "mimetype": "text/x-python",
   "name": "python",
   "nbconvert_exporter": "python",
   "pygments_lexer": "ipython3",
   "version": "3.9.7"
  }
 },
 "nbformat": 4,
 "nbformat_minor": 5
}
