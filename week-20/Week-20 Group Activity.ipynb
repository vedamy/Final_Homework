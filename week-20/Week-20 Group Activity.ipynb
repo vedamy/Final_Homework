{
 "cells": [
  {
   "cell_type": "markdown",
   "id": "6d4146af",
   "metadata": {},
   "source": [
    "# Week-20 Group Activity"
   ]
  },
  {
   "cell_type": "code",
   "execution_count": null,
   "id": "e0d01190",
   "metadata": {},
   "outputs": [],
   "source": [
    "1.To avoid overfitting its a best practice to perform cross validation.\n",
    "Use the training data to generate multiple mini train-test splits to tune the model."
   ]
  },
  {
   "cell_type": "code",
   "execution_count": null,
   "id": "403cd00e",
   "metadata": {},
   "outputs": [],
   "source": [
    "Cross-validation allows you to tune hyperparameters with only your original training set. This allows you to keep \n",
    "your test set as a truly unseen dataset for selecting your final model."
   ]
  },
  {
   "cell_type": "code",
   "execution_count": null,
   "id": "b8d75e18",
   "metadata": {},
   "outputs": [],
   "source": [
    "If our model performs better on the training set than on the test set, then its overfitting."
   ]
  },
  {
   "cell_type": "code",
   "execution_count": null,
   "id": "818d83fc",
   "metadata": {},
   "outputs": [],
   "source": [
    "Train with more data"
   ]
  },
  {
   "cell_type": "code",
   "execution_count": null,
   "id": "925e26c1",
   "metadata": {},
   "outputs": [],
   "source": [
    "Using machine learning Ensembling methods like bagging and boosting"
   ]
  },
  {
   "cell_type": "code",
   "execution_count": null,
   "id": "812620e1",
   "metadata": {},
   "outputs": [],
   "source": [
    "1. Univariate data – data consists of only one variable. Its the simplest form of analysis, the information deals with \n",
    "only one quantity that changes.\n",
    "\n",
    "the main purpose is to find patterns that exist within it. height"
   ]
  },
  {
   "cell_type": "code",
   "execution_count": null,
   "id": "01b6f31c",
   "metadata": {},
   "outputs": [],
   "source": [
    "2. Bivariate data – involves two different variables,\n",
    "the analysis is done to find out the relationship among the two variables"
   ]
  },
  {
   "cell_type": "code",
   "execution_count": null,
   "id": "5da62530",
   "metadata": {},
   "outputs": [],
   "source": [
    "3. Multivariate data –\n",
    "When the data involves three or more variables, it is categorized under multivariate."
   ]
  },
  {
   "cell_type": "code",
   "execution_count": null,
   "id": "b2e20c2c",
   "metadata": {},
   "outputs": [],
   "source": []
  },
  {
   "cell_type": "code",
   "execution_count": null,
   "id": "377bc6b4",
   "metadata": {},
   "outputs": [],
   "source": []
  },
  {
   "cell_type": "code",
   "execution_count": null,
   "id": "9e51ec1e",
   "metadata": {},
   "outputs": [],
   "source": []
  },
  {
   "cell_type": "markdown",
   "id": "399fe902",
   "metadata": {},
   "source": [
    "1. Take the result of the following line of code (but use whatever available text you want)\n",
    "and write a function to concatenate the data back into sentences, with one readable\n",
    "sentence in each list.\n",
    "sentences = nltk.corpus.gutenberg.sents(\"carroll-alice.txt\")[:10]\n"
   ]
  },
  {
   "cell_type": "code",
   "execution_count": 2,
   "id": "6a6f99e0",
   "metadata": {},
   "outputs": [],
   "source": [
    "#from nltk.corpus import gutenberg"
   ]
  },
  {
   "cell_type": "code",
   "execution_count": null,
   "id": "f532ce17",
   "metadata": {},
   "outputs": [],
   "source": [
    " sentences = nltk.corpus.gutenberg.sents(\"carroll-alice.txt\")[:10]"
   ]
  },
  {
   "cell_type": "code",
   "execution_count": null,
   "id": "0d5ab81b",
   "metadata": {},
   "outputs": [],
   "source": []
  },
  {
   "cell_type": "markdown",
   "id": "4186a89a",
   "metadata": {},
   "source": [
    "2. Create a function that accepts a list of values. Filter out all values that are numeric and\n",
    "return the new list.\n",
    "\n",
    "Input:\n",
    "[1,2,'a','b',7.6]\n",
    "\n",
    "output:\n",
    "['a','b']"
   ]
  },
  {
   "cell_type": "code",
   "execution_count": null,
   "id": "89c4b83c",
   "metadata": {},
   "outputs": [],
   "source": []
  }
 ],
 "metadata": {
  "kernelspec": {
   "display_name": "Python 3 (ipykernel)",
   "language": "python",
   "name": "python3"
  },
  "language_info": {
   "codemirror_mode": {
    "name": "ipython",
    "version": 3
   },
   "file_extension": ".py",
   "mimetype": "text/x-python",
   "name": "python",
   "nbconvert_exporter": "python",
   "pygments_lexer": "ipython3",
   "version": "3.9.7"
  }
 },
 "nbformat": 4,
 "nbformat_minor": 5
}
