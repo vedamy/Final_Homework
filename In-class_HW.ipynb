{
 "cells": [
  {
   "cell_type": "code",
   "execution_count": null,
   "id": "cd15ddbf",
   "metadata": {},
   "outputs": [],
   "source": [
    "#Create a function that accepts two values, a and b. Add code to print three lines where:\n",
    "#The first line contains the sum of the two numbers.\n",
    "#The second line contains the difference of the two numbers (first - second).\n",
    "#The third line contains the product of the two numbers.\n",
    "\n",
    "#Conditions:\n",
    "#If any of the results are zero, print “zero” as the result instead of 0\n",
    "#Note: be sure to include useful info printed out, not just the result"
   ]
  },
  {
   "cell_type": "code",
   "execution_count": 21,
   "id": "ba18ee09",
   "metadata": {},
   "outputs": [
    {
     "name": "stdout",
     "output_type": "stream",
     "text": [
      "a + b = 8\n",
      "a - b = -2\n",
      "a * b = 15\n",
      "*******Ending result for func(a, b)***********\n",
      "a + b = 6\n",
      "a - b = zero\n",
      "a * b = 9\n",
      "*******Ending result for func(a, b)***********\n"
     ]
    }
   ],
   "source": [
    "def func(a, b):\n",
    "    for i in range(0, 3):\n",
    "        if i == 0 and a + b == 0:\n",
    "            print('a + b =', 'zero')\n",
    "        elif i == 0 and a + b != 0:\n",
    "            print('a + b =', a + b)\n",
    "        elif i == 1 and a - b == 0:\n",
    "            print('a - b =', 'zero')\n",
    "        elif i == 1 and a - b != 0:\n",
    "            print('a - b =', a - b)\n",
    "        elif i == 2 and a * b == 0:\n",
    "            print('a * b =', 'zero')\n",
    "        elif i == 2 and a * b != 0:\n",
    "            print('a * b =', a * b)\n",
    "    return (\"*******Ending result for func(a, b)***********\")\n",
    "x=func(3, 5)\n",
    "print(x)\n",
    "y=func(3, 3)\n",
    "print(y)\n",
    "    "
   ]
  }
 ],
 "metadata": {
  "kernelspec": {
   "display_name": "Python 3 (ipykernel)",
   "language": "python",
   "name": "python3"
  },
  "language_info": {
   "codemirror_mode": {
    "name": "ipython",
    "version": 3
   },
   "file_extension": ".py",
   "mimetype": "text/x-python",
   "name": "python",
   "nbconvert_exporter": "python",
   "pygments_lexer": "ipython3",
   "version": "3.9.7"
  }
 },
 "nbformat": 4,
 "nbformat_minor": 5
}
