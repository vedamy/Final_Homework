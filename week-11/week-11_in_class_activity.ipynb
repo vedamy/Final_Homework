{
 "cells": [
  {
   "cell_type": "markdown",
   "id": "6a9f6961",
   "metadata": {},
   "source": [
    "1. Explore Google Trends https://trends.google.com/ . Find a topic of interest to you with\n",
    "more than a year of trend data, and export it.\n",
    "a. Import the data into a pandas dataframe\n",
    "b. Decide whether ARMA, ARIMA, or SARIMA makes more sense for the dataset\n",
    "c. Run either an ARMA, ARIMA, or SARIMA on it\n",
    "d. Explain the results\n",
    "e. Discuss your findings with your group and explain what trend someone else\n",
    "chose and why they chose the model they did"
   ]
  },
  {
   "cell_type": "code",
   "execution_count": 3,
   "id": "c71b1fbf",
   "metadata": {},
   "outputs": [
    {
     "data": {
      "text/html": [
       "<div>\n",
       "<style scoped>\n",
       "    .dataframe tbody tr th:only-of-type {\n",
       "        vertical-align: middle;\n",
       "    }\n",
       "\n",
       "    .dataframe tbody tr th {\n",
       "        vertical-align: top;\n",
       "    }\n",
       "\n",
       "    .dataframe thead th {\n",
       "        text-align: right;\n",
       "    }\n",
       "</style>\n",
       "<table border=\"1\" class=\"dataframe\">\n",
       "  <thead>\n",
       "    <tr style=\"text-align: right;\">\n",
       "      <th></th>\n",
       "      <th>Coronavirus: (United States)</th>\n",
       "    </tr>\n",
       "    <tr>\n",
       "      <th>Week</th>\n",
       "      <th></th>\n",
       "    </tr>\n",
       "  </thead>\n",
       "  <tbody>\n",
       "    <tr>\n",
       "      <th>2020-12-06</th>\n",
       "      <td>100</td>\n",
       "    </tr>\n",
       "    <tr>\n",
       "      <th>2020-12-13</th>\n",
       "      <td>92</td>\n",
       "    </tr>\n",
       "    <tr>\n",
       "      <th>2020-12-20</th>\n",
       "      <td>93</td>\n",
       "    </tr>\n",
       "    <tr>\n",
       "      <th>2020-12-27</th>\n",
       "      <td>86</td>\n",
       "    </tr>\n",
       "    <tr>\n",
       "      <th>2021-01-03</th>\n",
       "      <td>79</td>\n",
       "    </tr>\n",
       "  </tbody>\n",
       "</table>\n",
       "</div>"
      ],
      "text/plain": [
       "            Coronavirus: (United States)\n",
       "Week                                    \n",
       "2020-12-06                           100\n",
       "2020-12-13                            92\n",
       "2020-12-20                            93\n",
       "2020-12-27                            86\n",
       "2021-01-03                            79"
      ]
     },
     "execution_count": 3,
     "metadata": {},
     "output_type": "execute_result"
    }
   ],
   "source": [
    "import pandas as pd\n",
    "#import datetime\n",
    "import matplotlib.pyplot as plt\n",
    "import numpy as np\n",
    "import os\n",
    "from statsmodels.tsa.arima_model import ARMA\n",
    "\n",
    "#def parser(x):\n",
    " #   return datetime.strptime(x, '%Y-%m-%d')\n",
    "\n",
    "df = pd.read_csv(\"multiTimeline (2).csv\", index_col=[0], parse_dates=[0])\n",
    "#df['Date'] = pd.to_datetime(df['Date']) # convert date column to DateTime\n",
    "df.head()"
   ]
  },
  {
   "cell_type": "code",
   "execution_count": 5,
   "id": "1987b284",
   "metadata": {},
   "outputs": [
    {
     "data": {
      "text/plain": [
       "Coronavirus: (United States)    0\n",
       "dtype: int64"
      ]
     },
     "execution_count": 5,
     "metadata": {},
     "output_type": "execute_result"
    }
   ],
   "source": [
    "df.isnull().sum()"
   ]
  },
  {
   "cell_type": "code",
   "execution_count": 6,
   "id": "fc70dac8",
   "metadata": {},
   "outputs": [
    {
     "data": {
      "text/plain": [
       "Coronavirus: (United States)    int64\n",
       "dtype: object"
      ]
     },
     "execution_count": 6,
     "metadata": {},
     "output_type": "execute_result"
    }
   ],
   "source": [
    "df.dtypes"
   ]
  },
  {
   "cell_type": "code",
   "execution_count": 7,
   "id": "b3c48722",
   "metadata": {},
   "outputs": [
    {
     "data": {
      "text/plain": [
       "DatetimeIndex(['2020-12-06', '2020-12-13', '2020-12-20', '2020-12-27',\n",
       "               '2021-01-03', '2021-01-10', '2021-01-17', '2021-01-24',\n",
       "               '2021-01-31', '2021-02-07', '2021-02-14', '2021-02-21',\n",
       "               '2021-02-28', '2021-03-07', '2021-03-14', '2021-03-21',\n",
       "               '2021-03-28', '2021-04-04', '2021-04-11', '2021-04-18',\n",
       "               '2021-04-25', '2021-05-02', '2021-05-09', '2021-05-16',\n",
       "               '2021-05-23', '2021-05-30', '2021-06-06', '2021-06-13',\n",
       "               '2021-06-20', '2021-06-27', '2021-07-04', '2021-07-11',\n",
       "               '2021-07-18', '2021-07-25', '2021-08-01', '2021-08-08',\n",
       "               '2021-08-15', '2021-08-22', '2021-08-29', '2021-09-05',\n",
       "               '2021-09-12', '2021-09-19', '2021-09-26', '2021-10-03',\n",
       "               '2021-10-10', '2021-10-17', '2021-10-24', '2021-10-31',\n",
       "               '2021-11-07', '2021-11-14', '2021-11-21', '2021-11-28'],\n",
       "              dtype='datetime64[ns]', name='Week', freq=None)"
      ]
     },
     "execution_count": 7,
     "metadata": {},
     "output_type": "execute_result"
    }
   ],
   "source": [
    "df.index"
   ]
  },
  {
   "cell_type": "code",
   "execution_count": 8,
   "id": "1cd1fb26",
   "metadata": {},
   "outputs": [
    {
     "data": {
      "text/plain": [
       "[<matplotlib.lines.Line2D at 0x1a86170f820>]"
      ]
     },
     "execution_count": 8,
     "metadata": {},
     "output_type": "execute_result"
    },
    {
     "data": {
      "image/png": "[encoded data removed]",
      "text/plain": [
       "<Figure size 432x288 with 1 Axes>"
      ]
     },
     "metadata": {
      "needs_background": "light"
     },
     "output_type": "display_data"
    }
   ],
   "source": [
    "plt.plot(df.index, df['Coronavirus: (United States)'])"
   ]
  },
  {
   "cell_type": "code",
   "execution_count": 10,
   "id": "a14da6f3",
   "metadata": {},
   "outputs": [
    {
     "data": {
      "text/html": [
       "<div>\n",
       "<style scoped>\n",
       "    .dataframe tbody tr th:only-of-type {\n",
       "        vertical-align: middle;\n",
       "    }\n",
       "\n",
       "    .dataframe tbody tr th {\n",
       "        vertical-align: top;\n",
       "    }\n",
       "\n",
       "    .dataframe thead th {\n",
       "        text-align: right;\n",
       "    }\n",
       "</style>\n",
       "<table border=\"1\" class=\"dataframe\">\n",
       "  <thead>\n",
       "    <tr style=\"text-align: right;\">\n",
       "      <th></th>\n",
       "      <th>Coronavirus: (United States)</th>\n",
       "    </tr>\n",
       "    <tr>\n",
       "      <th>Week</th>\n",
       "      <th></th>\n",
       "    </tr>\n",
       "  </thead>\n",
       "  <tbody>\n",
       "    <tr>\n",
       "      <th>2021-03-07</th>\n",
       "      <td>44</td>\n",
       "    </tr>\n",
       "    <tr>\n",
       "      <th>2021-03-14</th>\n",
       "      <td>42</td>\n",
       "    </tr>\n",
       "    <tr>\n",
       "      <th>2021-03-21</th>\n",
       "      <td>42</td>\n",
       "    </tr>\n",
       "    <tr>\n",
       "      <th>2021-03-28</th>\n",
       "      <td>41</td>\n",
       "    </tr>\n",
       "  </tbody>\n",
       "</table>\n",
       "</div>"
      ],
      "text/plain": [
       "            Coronavirus: (United States)\n",
       "Week                                    \n",
       "2021-03-07                            44\n",
       "2021-03-14                            42\n",
       "2021-03-21                            42\n",
       "2021-03-28                            41"
      ]
     },
     "execution_count": 10,
     "metadata": {},
     "output_type": "execute_result"
    }
   ],
   "source": [
    "df.loc[\"2021-3\"]"
   ]
  },
  {
   "cell_type": "code",
   "execution_count": 11,
   "id": "cdd65919",
   "metadata": {
    "scrolled": true
   },
   "outputs": [
    {
     "data": {
      "text/html": [
       "<div>\n",
       "<style scoped>\n",
       "    .dataframe tbody tr th:only-of-type {\n",
       "        vertical-align: middle;\n",
       "    }\n",
       "\n",
       "    .dataframe tbody tr th {\n",
       "        vertical-align: top;\n",
       "    }\n",
       "\n",
       "    .dataframe thead th {\n",
       "        text-align: right;\n",
       "    }\n",
       "</style>\n",
       "<table border=\"1\" class=\"dataframe\">\n",
       "  <thead>\n",
       "    <tr style=\"text-align: right;\">\n",
       "      <th></th>\n",
       "      <th>Coronavirus: (United States)</th>\n",
       "    </tr>\n",
       "    <tr>\n",
       "      <th>Week</th>\n",
       "      <th></th>\n",
       "    </tr>\n",
       "  </thead>\n",
       "  <tbody>\n",
       "    <tr>\n",
       "      <th>2020-12-06</th>\n",
       "      <td>100.0</td>\n",
       "    </tr>\n",
       "    <tr>\n",
       "      <th>2020-12-13</th>\n",
       "      <td>92.0</td>\n",
       "    </tr>\n",
       "    <tr>\n",
       "      <th>2020-12-20</th>\n",
       "      <td>93.0</td>\n",
       "    </tr>\n",
       "    <tr>\n",
       "      <th>2020-12-27</th>\n",
       "      <td>86.0</td>\n",
       "    </tr>\n",
       "    <tr>\n",
       "      <th>2021-01-03</th>\n",
       "      <td>79.0</td>\n",
       "    </tr>\n",
       "    <tr>\n",
       "      <th>2021-01-10</th>\n",
       "      <td>73.0</td>\n",
       "    </tr>\n",
       "    <tr>\n",
       "      <th>2021-01-17</th>\n",
       "      <td>66.0</td>\n",
       "    </tr>\n",
       "    <tr>\n",
       "      <th>2021-01-24</th>\n",
       "      <td>62.0</td>\n",
       "    </tr>\n",
       "    <tr>\n",
       "      <th>2021-01-31</th>\n",
       "      <td>52.0</td>\n",
       "    </tr>\n",
       "    <tr>\n",
       "      <th>2021-02-07</th>\n",
       "      <td>49.0</td>\n",
       "    </tr>\n",
       "    <tr>\n",
       "      <th>2021-02-14</th>\n",
       "      <td>47.0</td>\n",
       "    </tr>\n",
       "    <tr>\n",
       "      <th>2021-02-21</th>\n",
       "      <td>45.0</td>\n",
       "    </tr>\n",
       "    <tr>\n",
       "      <th>2021-02-28</th>\n",
       "      <td>48.0</td>\n",
       "    </tr>\n",
       "    <tr>\n",
       "      <th>2021-03-07</th>\n",
       "      <td>44.0</td>\n",
       "    </tr>\n",
       "    <tr>\n",
       "      <th>2021-03-14</th>\n",
       "      <td>42.0</td>\n",
       "    </tr>\n",
       "    <tr>\n",
       "      <th>2021-03-21</th>\n",
       "      <td>42.0</td>\n",
       "    </tr>\n",
       "    <tr>\n",
       "      <th>2021-03-28</th>\n",
       "      <td>41.0</td>\n",
       "    </tr>\n",
       "    <tr>\n",
       "      <th>2021-04-04</th>\n",
       "      <td>43.0</td>\n",
       "    </tr>\n",
       "    <tr>\n",
       "      <th>2021-04-11</th>\n",
       "      <td>40.0</td>\n",
       "    </tr>\n",
       "    <tr>\n",
       "      <th>2021-04-18</th>\n",
       "      <td>38.0</td>\n",
       "    </tr>\n",
       "    <tr>\n",
       "      <th>2021-04-25</th>\n",
       "      <td>38.0</td>\n",
       "    </tr>\n",
       "    <tr>\n",
       "      <th>2021-05-02</th>\n",
       "      <td>35.0</td>\n",
       "    </tr>\n",
       "    <tr>\n",
       "      <th>2021-05-09</th>\n",
       "      <td>33.0</td>\n",
       "    </tr>\n",
       "    <tr>\n",
       "      <th>2021-05-16</th>\n",
       "      <td>31.0</td>\n",
       "    </tr>\n",
       "    <tr>\n",
       "      <th>2021-05-23</th>\n",
       "      <td>29.0</td>\n",
       "    </tr>\n",
       "    <tr>\n",
       "      <th>2021-05-30</th>\n",
       "      <td>26.0</td>\n",
       "    </tr>\n",
       "    <tr>\n",
       "      <th>2021-06-06</th>\n",
       "      <td>24.0</td>\n",
       "    </tr>\n",
       "    <tr>\n",
       "      <th>2021-06-13</th>\n",
       "      <td>23.0</td>\n",
       "    </tr>\n",
       "    <tr>\n",
       "      <th>2021-06-20</th>\n",
       "      <td>21.0</td>\n",
       "    </tr>\n",
       "    <tr>\n",
       "      <th>2021-06-27</th>\n",
       "      <td>21.0</td>\n",
       "    </tr>\n",
       "    <tr>\n",
       "      <th>2021-07-04</th>\n",
       "      <td>21.0</td>\n",
       "    </tr>\n",
       "    <tr>\n",
       "      <th>2021-07-11</th>\n",
       "      <td>24.0</td>\n",
       "    </tr>\n",
       "    <tr>\n",
       "      <th>2021-07-18</th>\n",
       "      <td>31.0</td>\n",
       "    </tr>\n",
       "    <tr>\n",
       "      <th>2021-07-25</th>\n",
       "      <td>35.0</td>\n",
       "    </tr>\n",
       "    <tr>\n",
       "      <th>2021-08-01</th>\n",
       "      <td>41.0</td>\n",
       "    </tr>\n",
       "    <tr>\n",
       "      <th>2021-08-08</th>\n",
       "      <td>39.0</td>\n",
       "    </tr>\n",
       "    <tr>\n",
       "      <th>2021-08-15</th>\n",
       "      <td>35.0</td>\n",
       "    </tr>\n",
       "    <tr>\n",
       "      <th>2021-08-22</th>\n",
       "      <td>34.0</td>\n",
       "    </tr>\n",
       "    <tr>\n",
       "      <th>2021-08-29</th>\n",
       "      <td>29.0</td>\n",
       "    </tr>\n",
       "    <tr>\n",
       "      <th>2021-09-05</th>\n",
       "      <td>29.0</td>\n",
       "    </tr>\n",
       "    <tr>\n",
       "      <th>2021-09-12</th>\n",
       "      <td>26.0</td>\n",
       "    </tr>\n",
       "    <tr>\n",
       "      <th>2021-09-19</th>\n",
       "      <td>23.0</td>\n",
       "    </tr>\n",
       "    <tr>\n",
       "      <th>2021-09-26</th>\n",
       "      <td>20.0</td>\n",
       "    </tr>\n",
       "    <tr>\n",
       "      <th>2021-10-03</th>\n",
       "      <td>15.0</td>\n",
       "    </tr>\n",
       "    <tr>\n",
       "      <th>2021-10-10</th>\n",
       "      <td>12.0</td>\n",
       "    </tr>\n",
       "    <tr>\n",
       "      <th>2021-10-17</th>\n",
       "      <td>12.0</td>\n",
       "    </tr>\n",
       "    <tr>\n",
       "      <th>2021-10-24</th>\n",
       "      <td>11.0</td>\n",
       "    </tr>\n",
       "    <tr>\n",
       "      <th>2021-10-31</th>\n",
       "      <td>11.0</td>\n",
       "    </tr>\n",
       "    <tr>\n",
       "      <th>2021-11-07</th>\n",
       "      <td>11.0</td>\n",
       "    </tr>\n",
       "    <tr>\n",
       "      <th>2021-11-14</th>\n",
       "      <td>12.0</td>\n",
       "    </tr>\n",
       "    <tr>\n",
       "      <th>2021-11-21</th>\n",
       "      <td>13.0</td>\n",
       "    </tr>\n",
       "    <tr>\n",
       "      <th>2021-11-28</th>\n",
       "      <td>15.0</td>\n",
       "    </tr>\n",
       "  </tbody>\n",
       "</table>\n",
       "</div>"
      ],
      "text/plain": [
       "            Coronavirus: (United States)\n",
       "Week                                    \n",
       "2020-12-06                         100.0\n",
       "2020-12-13                          92.0\n",
       "2020-12-20                          93.0\n",
       "2020-12-27                          86.0\n",
       "2021-01-03                          79.0\n",
       "2021-01-10                          73.0\n",
       "2021-01-17                          66.0\n",
       "2021-01-24                          62.0\n",
       "2021-01-31                          52.0\n",
       "2021-02-07                          49.0\n",
       "2021-02-14                          47.0\n",
       "2021-02-21                          45.0\n",
       "2021-02-28                          48.0\n",
       "2021-03-07                          44.0\n",
       "2021-03-14                          42.0\n",
       "2021-03-21                          42.0\n",
       "2021-03-28                          41.0\n",
       "2021-04-04                          43.0\n",
       "2021-04-11                          40.0\n",
       "2021-04-18                          38.0\n",
       "2021-04-25                          38.0\n",
       "2021-05-02                          35.0\n",
       "2021-05-09                          33.0\n",
       "2021-05-16                          31.0\n",
       "2021-05-23                          29.0\n",
       "2021-05-30                          26.0\n",
       "2021-06-06                          24.0\n",
       "2021-06-13                          23.0\n",
       "2021-06-20                          21.0\n",
       "2021-06-27                          21.0\n",
       "2021-07-04                          21.0\n",
       "2021-07-11                          24.0\n",
       "2021-07-18                          31.0\n",
       "2021-07-25                          35.0\n",
       "2021-08-01                          41.0\n",
       "2021-08-08                          39.0\n",
       "2021-08-15                          35.0\n",
       "2021-08-22                          34.0\n",
       "2021-08-29                          29.0\n",
       "2021-09-05                          29.0\n",
       "2021-09-12                          26.0\n",
       "2021-09-19                          23.0\n",
       "2021-09-26                          20.0\n",
       "2021-10-03                          15.0\n",
       "2021-10-10                          12.0\n",
       "2021-10-17                          12.0\n",
       "2021-10-24                          11.0\n",
       "2021-10-31                          11.0\n",
       "2021-11-07                          11.0\n",
       "2021-11-14                          12.0\n",
       "2021-11-21                          13.0\n",
       "2021-11-28                          15.0"
      ]
     },
     "execution_count": 11,
     "metadata": {},
     "output_type": "execute_result"
    }
   ],
   "source": [
    "df.resample('W').mean()"
   ]
  },
  {
   "cell_type": "code",
   "execution_count": 12,
   "id": "6155b4bb",
   "metadata": {},
   "outputs": [
    {
     "data": {
      "text/plain": [
       "<AxesSubplot:xlabel='Week'>"
      ]
     },
     "execution_count": 12,
     "metadata": {},
     "output_type": "execute_result"
    },
    {
     "data": {
      "image/png": "[encoded data removed]",
      "text/plain": [
       "<Figure size 432x288 with 1 Axes>"
      ]
     },
     "metadata": {
      "needs_background": "light"
     },
     "output_type": "display_data"
    }
   ],
   "source": [
    "#to transform a stationary process\n",
    "df_new=df['Coronavirus: (United States)'].pct_change()\n",
    "df_new.plot()"
   ]
  },
  {
   "cell_type": "code",
   "execution_count": 35,
   "id": "89020e71",
   "metadata": {},
   "outputs": [
    {
     "data": {
      "text/plain": [
       "Week\n",
       "2020-12-06         NaN\n",
       "2020-12-13   -0.080000\n",
       "2020-12-20    0.010870\n",
       "2020-12-27   -0.075269\n",
       "2021-01-03   -0.081395\n",
       "Name: Coronavirus: (United States), dtype: float64"
      ]
     },
     "execution_count": 35,
     "metadata": {},
     "output_type": "execute_result"
    }
   ],
   "source": [
    "df_new.head()"
   ]
  },
  {
   "cell_type": "code",
   "execution_count": 14,
   "id": "08acff4a",
   "metadata": {},
   "outputs": [],
   "source": [
    "# Integrated of order 1 because We are taking 1-lag(one-time period difference) \n",
    "df_new_diff = df_new.diff(periods=1)"
   ]
  },
  {
   "cell_type": "code",
   "execution_count": 15,
   "id": "a257239e",
   "metadata": {},
   "outputs": [
    {
     "data": {
      "text/plain": [
       "Week\n",
       "2020-12-20    0.090870\n",
       "2020-12-27   -0.086138\n",
       "2021-01-03   -0.006127\n",
       "2021-01-10    0.005446\n",
       "2021-01-17   -0.019941\n",
       "Name: Coronavirus: (United States), dtype: float64"
      ]
     },
     "execution_count": 15,
     "metadata": {},
     "output_type": "execute_result"
    }
   ],
   "source": [
    "# Removing NaN values\n",
    "df_new_diff = df_new_diff[2:]\n",
    "df_new_diff.head()"
   ]
  },
  {
   "cell_type": "code",
   "execution_count": 16,
   "id": "6ee0bd91",
   "metadata": {},
   "outputs": [
    {
     "data": {
      "image/png": "[encoded data removed]",
      "text/plain": [
       "<Figure size 432x288 with 1 Axes>"
      ]
     },
     "execution_count": 16,
     "metadata": {},
     "output_type": "execute_result"
    },
    {
     "data": {
      "image/png": "[encoded data removed]",
      "text/plain": [
       "<Figure size 432x288 with 1 Axes>"
      ]
     },
     "metadata": {
      "needs_background": "light"
     },
     "output_type": "display_data"
    }
   ],
   "source": [
    "from statsmodels.graphics.tsaplots import plot_acf\n",
    "plot_acf(df_new, lags = 50, missing='drop')"
   ]
  },
  {
   "cell_type": "code",
   "execution_count": 52,
   "id": "3b9de9b5",
   "metadata": {},
   "outputs": [
    {
     "data": {
      "text/plain": [
       "Week\n",
       "2020-12-06         NaN\n",
       "2020-12-13         NaN\n",
       "2020-12-20   -0.080000\n",
       "2020-12-27    0.010870\n",
       "2021-01-03   -0.075269\n",
       "2021-01-10   -0.081395\n",
       "2021-01-17   -0.075949\n",
       "2021-01-24   -0.095890\n",
       "2021-01-31   -0.060606\n",
       "2021-02-07   -0.161290\n",
       "2021-02-14   -0.057692\n",
       "2021-02-21   -0.040816\n",
       "2021-02-28   -0.042553\n",
       "2021-03-07    0.066667\n",
       "2021-03-14   -0.083333\n",
       "2021-03-21   -0.045455\n",
       "2021-03-28    0.000000\n",
       "2021-04-04   -0.023810\n",
       "2021-04-11    0.048780\n",
       "2021-04-18   -0.069767\n",
       "2021-04-25   -0.050000\n",
       "2021-05-02    0.000000\n",
       "2021-05-09   -0.078947\n",
       "2021-05-16   -0.057143\n",
       "2021-05-23   -0.060606\n",
       "2021-05-30   -0.064516\n",
       "2021-06-06   -0.103448\n",
       "2021-06-13   -0.076923\n",
       "2021-06-20   -0.041667\n",
       "2021-06-27   -0.086957\n",
       "2021-07-04    0.000000\n",
       "2021-07-11    0.000000\n",
       "2021-07-18    0.142857\n",
       "2021-07-25    0.291667\n",
       "2021-08-01    0.129032\n",
       "2021-08-08    0.171429\n",
       "2021-08-15   -0.048780\n",
       "2021-08-22   -0.102564\n",
       "2021-08-29   -0.028571\n",
       "2021-09-05   -0.147059\n",
       "2021-09-12    0.000000\n",
       "2021-09-19   -0.103448\n",
       "2021-09-26   -0.115385\n",
       "2021-10-03   -0.130435\n",
       "2021-10-10   -0.250000\n",
       "2021-10-17   -0.200000\n",
       "2021-10-24    0.000000\n",
       "2021-10-31   -0.083333\n",
       "2021-11-07    0.000000\n",
       "2021-11-14    0.000000\n",
       "2021-11-21    0.090909\n",
       "2021-11-28    0.083333\n",
       "Name: Coronavirus: (United States), dtype: float64"
      ]
     },
     "execution_count": 52,
     "metadata": {},
     "output_type": "execute_result"
    }
   ],
   "source": [
    "# Converting series to stationary\n",
    "df_new.shift(1)"
   ]
  },
  {
   "cell_type": "code",
   "execution_count": 18,
   "id": "a7d432db",
   "metadata": {},
   "outputs": [
    {
     "data": {
      "image/png": "[encoded data removed]",
      "text/plain": [
       "<Figure size 432x288 with 1 Axes>"
      ]
     },
     "execution_count": 18,
     "metadata": {},
     "output_type": "execute_result"
    },
    {
     "data": {
      "image/png": "[encoded data removed]",
      "text/plain": [
       "<Figure size 432x288 with 1 Axes>"
      ]
     },
     "metadata": {
      "needs_background": "light"
     },
     "output_type": "display_data"
    }
   ],
   "source": [
    "plot_acf(df_new_diff)"
   ]
  },
  {
   "cell_type": "code",
   "execution_count": 19,
   "id": "b92bc304",
   "metadata": {},
   "outputs": [
    {
     "data": {
      "text/plain": [
       "<AxesSubplot:xlabel='Week'>"
      ]
     },
     "execution_count": 19,
     "metadata": {},
     "output_type": "execute_result"
    },
    {
     "data": {
      "image/png": "[encoded data removed]",
      "text/plain": [
       "<Figure size 432x288 with 1 Axes>"
      ]
     },
     "metadata": {
      "needs_background": "light"
     },
     "output_type": "display_data"
    }
   ],
   "source": [
    "df_new_diff.plot()"
   ]
  },
  {
   "cell_type": "code",
   "execution_count": 36,
   "id": "fc680ec3",
   "metadata": {},
   "outputs": [
    {
     "data": {
      "text/plain": [
       "52"
      ]
     },
     "execution_count": 36,
     "metadata": {},
     "output_type": "execute_result"
    }
   ],
   "source": [
    "x = df.values\n",
    "x.size"
   ]
  },
  {
   "cell_type": "code",
   "execution_count": 37,
   "id": "fbda7bf3",
   "metadata": {},
   "outputs": [],
   "source": [
    "# 80% of my data for training and 20% of the data is for testing\n",
    "train = x[0:41] # 41 data as train data\n",
    "test = x[41:]  #11 data as test data\n",
    "predictions = []"
   ]
  },
  {
   "cell_type": "code",
   "execution_count": 22,
   "id": "60022084",
   "metadata": {},
   "outputs": [],
   "source": [
    "# Autoreggresive AR Model"
   ]
  },
  {
   "cell_type": "code",
   "execution_count": 38,
   "id": "90306563",
   "metadata": {},
   "outputs": [],
   "source": [
    "#from statsmodels.tsa.ar_model import AR\n",
    "from statsmodels.tsa.ar_model import AutoReg\n",
    "from sklearn.metrics import mean_squared_error\n",
    "\n",
    "# train the forcasting model\n",
    "model_ar = AutoReg(train, lags=2)\n",
    "model_ar_fit = model_ar.fit() "
   ]
  },
  {
   "cell_type": "code",
   "execution_count": 39,
   "id": "248dff18",
   "metadata": {},
   "outputs": [],
   "source": [
    "predictions = model_ar_fit.predict(start=0, end=41)"
   ]
  },
  {
   "cell_type": "code",
   "execution_count": 40,
   "id": "26462d2e",
   "metadata": {},
   "outputs": [
    {
     "data": {
      "text/plain": [
       "array([[23],\n",
       "       [20],\n",
       "       [15],\n",
       "       [12],\n",
       "       [12],\n",
       "       [11],\n",
       "       [11],\n",
       "       [11],\n",
       "       [12],\n",
       "       [13],\n",
       "       [15]], dtype=int64)"
      ]
     },
     "execution_count": 40,
     "metadata": {},
     "output_type": "execute_result"
    }
   ],
   "source": [
    "test"
   ]
  },
  {
   "cell_type": "code",
   "execution_count": 41,
   "id": "3c2409e4",
   "metadata": {},
   "outputs": [
    {
     "data": {
      "text/plain": [
       "[<matplotlib.lines.Line2D at 0x1a864cf72e0>]"
      ]
     },
     "execution_count": 41,
     "metadata": {},
     "output_type": "execute_result"
    },
    {
     "data": {
      "image/png": "[encoded data removed]",
      "text/plain": [
       "<Figure size 432x288 with 1 Axes>"
      ]
     },
     "metadata": {
      "needs_background": "light"
     },
     "output_type": "display_data"
    }
   ],
   "source": [
    "plt.plot(train)\n",
    "plt.plot(predictions, color = 'red')"
   ]
  },
  {
   "cell_type": "code",
   "execution_count": 42,
   "id": "331b5062",
   "metadata": {},
   "outputs": [],
   "source": [
    "# ARIMA Model : Combination of three techniques which is auto regressive, integrated and moving \n",
    "# average"
   ]
  },
  {
   "cell_type": "code",
   "execution_count": 43,
   "id": "502e8559",
   "metadata": {},
   "outputs": [],
   "source": [
    "from pmdarima import auto_arima\n",
    "from statsmodels.tsa.arima_model import ARIMA\n",
    "from statsmodels.tsa.arima_model import ARIMA"
   ]
  },
  {
   "cell_type": "code",
   "execution_count": 51,
   "id": "9efaa445",
   "metadata": {},
   "outputs": [
    {
     "ename": "TypeError",
     "evalue": "fit() missing 1 required positional argument: 'y'",
     "output_type": "error",
     "traceback": [
      "\u001b[1;31m---------------------------------------------------------------------------\u001b[0m",
      "\u001b[1;31mTypeError\u001b[0m                                 Traceback (most recent call last)",
      "\u001b[1;32m~\\AppData\\Local\\Temp/ipykernel_21260/3633581174.py\u001b[0m in \u001b[0;36m<module>\u001b[1;34m\u001b[0m\n\u001b[0;32m      3\u001b[0m \u001b[1;31m# q - periods in moving average model\u001b[0m\u001b[1;33m\u001b[0m\u001b[1;33m\u001b[0m\u001b[0m\n\u001b[0;32m      4\u001b[0m \u001b[0mmodel_arima\u001b[0m \u001b[1;33m=\u001b[0m \u001b[0mauto_arima\u001b[0m\u001b[1;33m(\u001b[0m\u001b[0mtrain\u001b[0m\u001b[1;33m,\u001b[0m \u001b[0morder\u001b[0m\u001b[1;33m=\u001b[0m\u001b[1;33m(\u001b[0m\u001b[1;36m1\u001b[0m\u001b[1;33m,\u001b[0m\u001b[1;36m1\u001b[0m\u001b[1;33m,\u001b[0m\u001b[1;36m1\u001b[0m\u001b[1;33m)\u001b[0m\u001b[1;33m)\u001b[0m\u001b[1;33m\u001b[0m\u001b[1;33m\u001b[0m\u001b[0m\n\u001b[1;32m----> 5\u001b[1;33m \u001b[0mmodel_arima_fit\u001b[0m \u001b[1;33m=\u001b[0m \u001b[0mmodel_arima\u001b[0m\u001b[1;33m.\u001b[0m\u001b[0mfit\u001b[0m\u001b[1;33m(\u001b[0m\u001b[1;33m)\u001b[0m\u001b[1;33m\u001b[0m\u001b[1;33m\u001b[0m\u001b[0m\n\u001b[0m\u001b[0;32m      6\u001b[0m \u001b[1;31m#model_arima.summary()\u001b[0m\u001b[1;33m\u001b[0m\u001b[1;33m\u001b[0m\u001b[0m\n",
      "\u001b[1;31mTypeError\u001b[0m: fit() missing 1 required positional argument: 'y'"
     ]
    }
   ],
   "source": [
    "# p,d,q p = periods taken for autoregressive model,\n",
    "# d- integrated order, difference\n",
    "# q - periods in moving average model\n",
    "model_arima = auto_arima(train, order=(1,1,1))\n",
    "model_arima_fit = model_arima.fit()\n",
    "#model_arima.summary()"
   ]
  },
  {
   "cell_type": "code",
   "execution_count": 50,
   "id": "91320b36",
   "metadata": {},
   "outputs": [
    {
     "ename": "TypeError",
     "evalue": "'numpy.ndarray' object is not callable",
     "output_type": "error",
     "traceback": [
      "\u001b[1;31m---------------------------------------------------------------------------\u001b[0m",
      "\u001b[1;31mTypeError\u001b[0m                                 Traceback (most recent call last)",
      "\u001b[1;32m~\\AppData\\Local\\Temp/ipykernel_21260/3050190840.py\u001b[0m in \u001b[0;36m<module>\u001b[1;34m\u001b[0m\n\u001b[1;32m----> 1\u001b[1;33m \u001b[0mpredictions\u001b[0m \u001b[1;33m=\u001b[0m \u001b[0mmodel_arima_fit\u001b[0m\u001b[1;33m(\u001b[0m\u001b[0msteps\u001b[0m \u001b[1;33m=\u001b[0m \u001b[1;36m11\u001b[0m\u001b[1;33m)\u001b[0m\u001b[1;33m\u001b[0m\u001b[1;33m\u001b[0m\u001b[0m\n\u001b[0m\u001b[0;32m      2\u001b[0m \u001b[0mpredictions\u001b[0m\u001b[1;33m\u001b[0m\u001b[1;33m\u001b[0m\u001b[0m\n",
      "\u001b[1;31mTypeError\u001b[0m: 'numpy.ndarray' object is not callable"
     ]
    }
   ],
   "source": [
    "predictions = model_arima_fit(steps = 11)\n",
    "predictions"
   ]
  },
  {
   "cell_type": "code",
   "execution_count": null,
   "id": "53f52494",
   "metadata": {},
   "outputs": [],
   "source": []
  },
  {
   "cell_type": "code",
   "execution_count": null,
   "id": "afa1d252",
   "metadata": {},
   "outputs": [],
   "source": []
  },
  {
   "cell_type": "code",
   "execution_count": null,
   "id": "37388841",
   "metadata": {},
   "outputs": [],
   "source": []
  },
  {
   "cell_type": "markdown",
   "id": "9974cc37",
   "metadata": {},
   "source": [
    "What is a fourier transform? Perform one on y = np.cos(x/2), and both show (with code)\n",
    "and explain the key elements."
   ]
  },
  {
   "cell_type": "code",
   "execution_count": 243,
   "id": "fa9d29a1",
   "metadata": {},
   "outputs": [
    {
     "data": {
      "text/plain": [
       "array([-1.52201737e-02+0.00000000e+00j,  1.00306896e-02+1.14352972e-16j,\n",
       "        3.52869899e-02-6.66133815e-19j,  6.05326977e-02+1.15574217e-16j,\n",
       "        8.57517927e-02+0.00000000e+00j,  1.10928274e-01+0.00000000e+00j,\n",
       "        1.36046171e-01-5.69544412e-17j,  1.61089552e-01+5.76205750e-17j,\n",
       "        1.86042534e-01-8.88178420e-19j,  2.10889297e-01+5.57331958e-17j,\n",
       "        2.35614089e-01-1.99840144e-18j,  2.60201236e-01+5.92859095e-17j,\n",
       "        2.84635156e-01-8.88178420e-19j,  3.08900366e-01-8.88178420e-19j,\n",
       "        3.32981493e-01-1.15019105e-16j,  3.56863280e-01+0.00000000e+00j,\n",
       "        3.80530601e-01-5.68434189e-17j,  4.03968468e-01+6.08402217e-17j,\n",
       "        4.27162041e-01+5.86197757e-17j,  4.50096635e-01+1.14575016e-16j,\n",
       "        4.72757733e-01+1.77635684e-18j,  4.95130992e-01+1.11910481e-16j,\n",
       "        5.17202254e-01-5.41788836e-17j,  5.38957556e-01+6.03961325e-17j,\n",
       "        5.60383135e-01-5.59552404e-17j,  5.81465438e-01+1.74971149e-16j,\n",
       "        6.02191134e-01+8.88178420e-19j,  6.22547119e-01+1.16351373e-16j,\n",
       "        6.42520524e-01+2.66453526e-18j,  6.62098723e-01+1.72306613e-16j,\n",
       "        6.81269347e-01-5.86197757e-17j,  7.00020280e-01+6.21724894e-17j,\n",
       "        7.18339680e-01-5.86197757e-17j,  7.36215976e-01+6.03961325e-17j,\n",
       "        7.53637879e-01+5.68434189e-17j,  7.70594392e-01+1.13686838e-16j,\n",
       "        7.87074813e-01-1.77635684e-18j,  8.03068742e-01+1.77635684e-18j,\n",
       "        8.18566089e-01+0.00000000e+00j,  8.33557081e-01+3.55271368e-18j,\n",
       "        8.48032265e-01+0.00000000e+00j,  8.61982519e-01+1.17239551e-16j,\n",
       "        8.75399051e-01+5.68434189e-17j,  8.88273410e-01+1.15463195e-16j,\n",
       "        9.00597491e-01-5.68434189e-17j,  9.12363536e-01+0.00000000e+00j,\n",
       "        9.23564142e-01-2.84217094e-17j,  9.34192266e-01+3.01980663e-17j,\n",
       "        9.44241228e-01-2.66453526e-17j,  9.53704716e-01+1.77635684e-18j,\n",
       "        9.62576789e-01+2.66453526e-17j,  9.70851881e-01+3.55271368e-18j,\n",
       "        9.78524806e-01+3.55271368e-18j,  9.85590760e-01+1.77635684e-18j,\n",
       "        9.92045323e-01-3.01980663e-17j,  9.97884462e-01+3.37507799e-17j,\n",
       "        1.00310454e+00-1.42108547e-17j,  1.00770230e+00+5.32907052e-18j,\n",
       "        1.01167489e+00+3.01980663e-17j,  1.01501986e+00+7.46069873e-17j,\n",
       "        1.01773515e+00-1.24344979e-17j,  1.01981908e+00+7.10542736e-17j,\n",
       "        1.02127041e+00-1.06581410e-17j,  1.02208826e+00-2.30926389e-17j,\n",
       "        1.02227219e+00-1.42108547e-17j,  1.02182214e+00+4.79616347e-17j,\n",
       "        1.02073844e+00+3.55271368e-18j,  1.01902185e+00-1.42108547e-17j,\n",
       "        1.01667350e+00-1.06581410e-17j,  1.01369495e+00+7.46069873e-17j,\n",
       "        1.01008815e+00+3.19744231e-17j,  1.00585542e+00+3.55271368e-18j,\n",
       "        1.00099952e+00-7.10542736e-17j,  9.95523574e-01+1.77635684e-17j,\n",
       "        9.89431107e-01-6.75015599e-17j,  9.82726037e-01+2.84217094e-17j,\n",
       "        9.75412666e-01-3.19744231e-17j,  9.67495681e-01+2.84217094e-17j,\n",
       "        9.58980152e-01+8.52651283e-17j,  9.49871528e-01-1.10134124e-16j,\n",
       "        9.40175630e-01-2.84217094e-17j,  9.29898653e-01+3.55271368e-18j,\n",
       "        9.19047159e-01-5.32907052e-17j,  9.07628072e-01+3.55271368e-18j,\n",
       "        8.95648674e-01-2.84217094e-17j,  8.83116605e-01-3.19744231e-17j,\n",
       "        8.70039848e-01-5.32907052e-17j,  8.56426736e-01-1.63424829e-16j,\n",
       "        8.42285937e-01-6.03961325e-17j,  8.27626452e-01-1.10134124e-16j,\n",
       "        8.12457613e-01-5.68434189e-17j,  7.96789069e-01-1.06581410e-16j,\n",
       "        7.80630787e-01+3.55271368e-18j,  7.63993044e-01+6.03961325e-17j,\n",
       "        7.46886416e-01+0.00000000e+00j,  7.29321777e-01-1.03028697e-16j,\n",
       "        7.11310290e-01-6.03961325e-17j,  6.92863399e-01+3.55271368e-18j,\n",
       "        6.73992822e-01-1.06581410e-16j,  6.54710545e-01-1.13686838e-16j,\n",
       "        6.35028812e-01+0.00000000e+00j,  6.14960120e-01-1.06581410e-16j,\n",
       "        5.94517208e-01-5.68434189e-17j,  5.73713053e-01-1.10134124e-16j,\n",
       "        5.52560857e-01-1.13686838e-16j,  5.31074040e-01-1.10134124e-16j,\n",
       "        5.09266236e-01-1.10134124e-16j,  4.87151277e-01-1.70530257e-16j,\n",
       "        4.64743190e-01+3.55271368e-18j,  4.42056185e-01-1.66977543e-16j,\n",
       "        4.19104647e-01+1.13686838e-16j,  3.95903128e-01-2.23820962e-16j,\n",
       "        3.72466335e-01-5.68434189e-17j,  3.48809124e-01+7.10542736e-18j,\n",
       "        3.24946485e-01-1.10134124e-16j,  3.00893542e-01-1.70530257e-16j,\n",
       "        2.76665533e-01-5.68434189e-17j,  2.52277807e-01-1.13686838e-16j,\n",
       "        2.27745811e-01-5.86197757e-17j,  2.03085084e-01-1.66977543e-16j,\n",
       "        1.78311242e-01-5.68434189e-17j,  1.53439972e-01-1.66977543e-16j,\n",
       "        1.28487021e-01+1.77635684e-18j,  1.03468184e-01-5.50670620e-17j,\n",
       "        7.83992983e-02+1.77635684e-18j,  5.32962286e-02-1.13686838e-16j,\n",
       "        2.81748605e-02+1.72306613e-16j,  3.05108891e-03-5.50670620e-17j,\n",
       "       -2.20591917e-02+5.68434189e-17j, -4.71400977e-02+0.00000000e+00j,\n",
       "       -7.21757659e-02+1.77635684e-18j, -9.71503638e-02-5.32907052e-17j,\n",
       "       -1.22048100e-01+1.77635684e-18j, -1.46853233e-01-1.08357767e-16j,\n",
       "       -1.71550083e-01+1.13686838e-16j, -1.96123041e-01-1.10134124e-16j,\n",
       "       -2.20556578e-01+1.15463195e-16j, -2.44835254e-01+6.21724894e-17j,\n",
       "       -2.68943733e-01-1.11910481e-16j, -2.92866785e-01-1.70530257e-16j,\n",
       "       -3.16589301e-01+5.50670620e-17j, -3.40096302e-01-1.11910481e-16j,\n",
       "       -3.63372946e-01+5.50670620e-17j, -3.86404541e-01-5.32907052e-17j,\n",
       "       -4.09176551e-01+6.03961325e-17j, -4.31674606e-01-1.68753900e-16j,\n",
       "       -4.53884512e-01-5.32907052e-17j, -4.75792262e-01-1.15463195e-16j,\n",
       "       -4.97384038e-01-6.03961325e-17j, -5.18646228e-01-1.72306613e-16j,\n",
       "       -5.39565429e-01+1.15463195e-16j, -5.60128458e-01-1.68753900e-16j,\n",
       "       -5.80322360e-01+5.32907052e-18j, -6.00134414e-01-5.77315973e-17j,\n",
       "       -6.19552145e-01-1.67865721e-16j, -6.38563330e-01-1.69642078e-16j,\n",
       "       -6.57156003e-01-5.77315973e-17j, -6.75318468e-01+8.88178420e-19j,\n",
       "       -6.93039302e-01-5.68434189e-17j, -7.10307363e-01+0.00000000e+00j,\n",
       "       -7.27111800e-01-8.88178420e-19j, -7.43442056e-01-1.14575016e-16j,\n",
       "       -7.59287877e-01-5.68434189e-17j, -7.74639317e-01-5.95079541e-17j,\n",
       "       -7.89486746e-01-5.68434189e-17j, -8.03820854e-01-5.68434189e-17j,\n",
       "       -8.17632660e-01+1.12354570e-16j, -8.30913514e-01-1.77635684e-18j,\n",
       "       -8.43655105e-01+2.84217094e-17j, -8.55849465e-01-2.88657986e-17j,\n",
       "       -8.67488974e-01+1.14575016e-16j, -8.78566368e-01+2.57571742e-17j,\n",
       "       -8.89074737e-01+2.86437540e-17j, -8.99007535e-01-5.75095527e-17j,\n",
       "       -9.08358584e-01+1.13686838e-16j, -9.17122073e-01+5.61772850e-17j,\n",
       "       -9.25292567e-01+8.34887715e-17j, -9.32865008e-01-3.15303339e-17j,\n",
       "       -9.39834718e-01-8.88178420e-19j, -9.46197404e-01-8.72635297e-17j,\n",
       "       -9.51949157e-01-5.97299987e-17j, -9.57086458e-01-1.11910481e-16j,\n",
       "       -9.61606178e-01+2.57571742e-17j, -9.65505581e-01+2.57571742e-17j,\n",
       "       -9.68782326e-01+2.57571742e-17j, -9.71434467e-01-9.01501096e-17j,\n",
       "       -9.73460457e-01+8.52651283e-17j, -9.74859145e-01-5.86197757e-17j,\n",
       "       -9.75629780e-01-4.88498131e-18j, -9.75772009e-01-1.15019105e-16j,\n",
       "       -9.75285880e-01+8.88178420e-19j, -9.74171841e-01-3.55271368e-17j,\n",
       "       -9.72430735e-01+1.13686838e-16j, -9.70063809e-01-3.10862447e-17j,\n",
       "       -9.67072704e-01+1.77635684e-18j, -9.63459459e-01-8.52651283e-17j,\n",
       "       -9.59226508e-01+3.01980663e-17j, -9.54376679e-01-1.77635684e-18j,\n",
       "       -9.48913191e-01+8.61533067e-17j, -9.42839655e-01+1.10134124e-16j,\n",
       "       -9.36160067e-01+0.00000000e+00j, -9.28878810e-01-1.31102066e-17j,\n",
       "       -9.21000649e-01-1.54931913e-18j, -9.12530726e-01+4.71195691e-17j,\n",
       "       -9.03474562e-01+5.71354664e-18j, -8.93838048e-01-4.05459779e-17j,\n",
       "       -8.83627444e-01-1.74757635e-17j, -8.72849376e-01+4.18792692e-17j,\n",
       "       -8.61510829e-01+7.18551436e-19j, -8.49619144e-01+1.53314227e-17j,\n",
       "       -8.37182013e-01+1.51320667e-17j, -8.24207476e-01+6.75626372e-17j,\n",
       "       -8.10703911e-01-1.36968127e-18j, -7.96680036e-01-2.84003332e-17j,\n",
       "       -7.82144896e-01-3.40533377e-17j, -7.67107862e-01+2.28541865e-17j,\n",
       "       -7.51578624e-01+9.46506951e-18j, -7.35567181e-01+1.11997519e-17j,\n",
       "       -7.19083844e-01+4.10708988e-17j, -7.02139218e-01+8.84739174e-17j,\n",
       "       -6.84744203e-01+2.55935491e-17j, -6.66909986e-01+8.95854553e-17j,\n",
       "       -6.48648030e-01-2.18094695e-17j, -6.29970072e-01+1.20725752e-16j,\n",
       "       -6.10888111e-01-1.82841339e-17j, -5.91414403e-01+1.01077061e-16j,\n",
       "       -5.71561452e-01-3.85090049e-18j, -5.51342004e-01+8.70368145e-17j,\n",
       "       -5.30769036e-01-3.19977066e-18j, -5.09855749e-01+5.12596445e-17j,\n",
       "       -4.88615560e-01-1.26339320e-16j, -4.67062096e-01+6.41832287e-17j,\n",
       "       -4.45209177e-01+3.68887080e-17j, -4.23070819e-01+6.66644479e-17j,\n",
       "       -4.00661213e-01+6.95386537e-17j, -3.77994727e-01+1.97315077e-16j,\n",
       "       -3.55085889e-01+5.44542904e-17j, -3.31949379e-01+5.15800847e-17j,\n",
       "       -3.08600026e-01+2.08823271e-18j, -2.85052789e-01+1.03160169e-16j,\n",
       "       -2.61322754e-01-5.30171876e-17j, -2.37425124e-01+3.01687264e-17j,\n",
       "       -2.13375205e-01+7.05827700e-17j, -1.89188402e-01+8.77553659e-17j,\n",
       "       -1.64880205e-01+3.54516051e-17j, -1.40466181e-01-1.07078491e-16j,\n",
       "       -1.15961963e-01-1.16905399e-16j, -9.13832422e-02+5.93187596e-17j,\n",
       "       -6.67457557e-02-1.19386618e-16j, -4.20652772e-02-5.75866395e-17j,\n",
       "       -1.73576076e-02+9.17577774e-18j,  7.36143560e-03-5.69355097e-17j,\n",
       "        3.20760283e-02-5.90237424e-17j,  5.67703498e-02-3.52533558e-18j,\n",
       "        8.14285927e-02-1.69529600e-16j,  1.06034973e-01-5.22001122e-17j,\n",
       "        1.30573741e-01-5.84526995e-17j,  1.55029189e-01+4.97499953e-17j,\n",
       "        1.79385665e-01+7.34568835e-18j,  2.03627578e-01+7.47102508e-17j,\n",
       "        2.27739412e-01-5.93677442e-17j,  2.51705734e-01+1.82052657e-16j,\n",
       "        2.75511204e-01-1.14344093e-16j,  2.99140585e-01+4.09672041e-17j,\n",
       "        3.22578751e-01-5.84526995e-17j,  3.45810700e-01+1.18029602e-16j,\n",
       "        3.68821560e-01-5.90237424e-17j,  3.91596603e-01+5.07140247e-17j,\n",
       "        4.14121248e-01-7.26560135e-18j,  4.36381075e-01+1.96048305e-17j,\n",
       "        4.58361833e-01-4.97188930e-17j,  4.80049451e-01+4.96209236e-17j,\n",
       "        5.01430040e-01-1.30601644e-16j,  5.22489912e-01+5.66226101e-17j,\n",
       "        5.43215580e-01+2.71418874e-17j,  5.63593771e-01+1.70444645e-16j,\n",
       "        5.83611434e-01+1.02736081e-16j,  6.03255748e-01+7.73867487e-18j,\n",
       "        6.22514127e-01+2.73924900e-17j,  6.41374236e-01+7.01172372e-17j,\n",
       "        6.59823989e-01-8.52176213e-18j,  6.77851563e-01+2.13371010e-16j,\n",
       "        6.95445406e-01+3.18595694e-17j,  7.12594240e-01+5.18396709e-17j,\n",
       "        7.29287071e-01-6.41492406e-17j,  7.45513195e-01+4.77611748e-17j,\n",
       "        7.61262208e-01-1.27779309e-16j,  7.76524005e-01-3.86179673e-18j,\n",
       "        7.91288797e-01-1.23466557e-16j,  8.05547107e-01+1.48813024e-17j,\n",
       "        8.19289783e-01-1.75655824e-17j,  8.32508001e-01+1.50089312e-17j,\n",
       "        8.45193272e-01-4.70140936e-18j,  8.57337444e-01-3.93699272e-17j,\n",
       "        8.68932712e-01-5.22058177e-19j,  8.79971620e-01-9.78150860e-17j,\n",
       "        8.90447065e-01-6.77085643e-17j,  9.00352306e-01+5.37973891e-17j,\n",
       "        9.09680963e-01+1.37037857e-17j,  9.18427024e-01+2.10183717e-17j,\n",
       "        9.26584846e-01+1.56617453e-18j,  9.34149165e-01+1.16155530e-17j,\n",
       "        9.41115092e-01-1.24644074e-16j,  9.47478120e-01-3.69612543e-17j,\n",
       "        9.53234127e-01-3.40870485e-17j,  9.58379376e-01+7.32495863e-17j,\n",
       "        9.62910520e-01-9.20666746e-17j,  9.66824604e-01-2.30558045e-17j,\n",
       "        9.70119066e-01-2.83386832e-17j,  9.72791737e-01+2.60430610e-17j,\n",
       "        9.74840848e-01-1.00544153e-16j,  9.76265024e-01-4.34955927e-17j,\n",
       "        9.77063290e-01-1.25688190e-16j,  9.77235069e-01+2.33704732e-17j,\n",
       "        9.76780184e-01+1.60559333e-17j,  9.75698858e-01+5.54258605e-17j,\n",
       "        9.73991711e-01-3.21250248e-17j,  9.71659766e-01-8.91924688e-17j,\n",
       "        9.68704440e-01-9.72204354e-17j,  9.65127551e-01-1.60561212e-16j,\n",
       "        9.60931312e-01-3.10809084e-17j,  9.56118329e-01-4.09084674e-18j,\n",
       "        9.50691606e-01+6.36467647e-18j,  9.44654534e-01+1.01161993e-17j,\n",
       "        9.38010896e-01-1.39083125e-17j,  9.30764861e-01+6.45892940e-18j,\n",
       "        9.22920983e-01+5.12596445e-17j,  9.14484196e-01+1.01161993e-17j,\n",
       "        9.05459814e-01+4.35521181e-17j,  8.95853526e-01+1.45594423e-17j,\n",
       "        8.85671391e-01-4.76966274e-17j,  8.74919837e-01-7.03246267e-17j,\n",
       "        8.63605656e-01-1.39083125e-17j,  8.51735997e-01-3.73542408e-17j,\n",
       "        8.39318367e-01-1.99742554e-17j,  8.26360621e-01-7.43748832e-17j,\n",
       "        8.12870958e-01+8.75164277e-18j,  7.98857920e-01+4.55055076e-17j,\n",
       "        7.84330381e-01-8.85413390e-17j,  7.69297546e-01-7.65950502e-17j,\n",
       "        7.53768941e-01+2.31791507e-17j,  7.37754411e-01-3.55241514e-17j,\n",
       "        7.21264110e-01-5.93973393e-18j,  7.04308497e-01-7.13687430e-17j,\n",
       "        6.86898331e-01+1.67796094e-17j,  6.69044658e-01-7.90762695e-17j,\n",
       "        6.50758812e-01-4.53822074e-17j,  6.32052401e-01-8.67112496e-17j,\n",
       "        6.12937304e-01-6.66644479e-17j,  5.93425661e-01+4.88989215e-18j,\n",
       "        5.73529868e-01+8.87994823e-17j,  5.53262566e-01-4.89132684e-17j,\n",
       "        5.32636635e-01-5.83726125e-17j,  5.11665184e-01-1.20793173e-16j,\n",
       "        4.90361547e-01-1.05781357e-16j,  4.68739269e-01-1.59449674e-16j,\n",
       "        4.46812101e-01-6.88201022e-17j,  4.24593989e-01-1.07797043e-16j,\n",
       "        4.02099069e-01-7.16268864e-17j,  3.79341653e-01-1.04990259e-16j,\n",
       "        3.56336224e-01-1.36968127e-18j,  3.33097425e-01-3.02361480e-17j,\n",
       "        3.09640049e-01-1.44332334e-17j,  2.85979031e-01-1.23532536e-16j,\n",
       "        2.62129440e-01-1.65214661e-17j,  2.38106465e-01-1.75655824e-17j,\n",
       "        2.13925409e-01+3.51648757e-17j,  1.89601678e-01-1.04597272e-16j,\n",
       "        1.65150773e-01+6.38882115e-17j,  1.40588276e-01-6.35289358e-17j,\n",
       "        1.15929846e-01+3.54567298e-17j,  9.11912021e-02-4.10346257e-17j,\n",
       "        6.63881210e-02+1.06913861e-17j,  4.15364211e-02+3.80787514e-17j,\n",
       "        1.66519552e-02+8.91924688e-17j, -8.24940007e-03+7.73863817e-17j,\n",
       "       -3.31517543e-02+1.34863968e-16j, -5.80392135e-02-5.61526997e-17j,\n",
       "       -8.28958901e-02-5.22986361e-17j, -1.07705913e-01-1.86915545e-16j,\n",
       "       -1.32453438e-01-6.92915942e-17j, -1.57122656e-01-2.51769367e-16j,\n",
       "       -1.81697807e-01+6.70879822e-17j, -2.06163186e-01-1.50201350e-16j,\n",
       "       -2.30503156e-01+9.89432918e-18j, -2.54702154e-01-2.37597440e-16j,\n",
       "       -2.78744706e-01-7.86418851e-17j, -3.02615433e-01-2.31329579e-16j,\n",
       "       -3.26299063e-01+4.99614925e-18j, -3.49780438e-01-2.50298553e-16j,\n",
       "       -3.73044528e-01+1.36968127e-18j, -3.96076436e-01-5.50074509e-17j,\n",
       "       -4.18861409e-01+3.61752812e-17j, -4.41384849e-01-5.96443245e-17j,\n",
       "       -4.63632321e-01-1.08515594e-16j, -4.85589561e-01-1.34470982e-16j,\n",
       "       -5.07242488e-01-1.00776919e-16j, -5.28577209e-01-5.26242010e-17j,\n",
       "       -5.49580033e-01-3.05197144e-17j, -5.70237474e-01+4.11377197e-17j,\n",
       "       -5.90536263e-01+0.00000000e+00j, -6.10463357e-01-1.16581047e-16j,\n",
       "       -6.30005946e-01+3.17298483e-18j, -6.49151459e-01-8.30384207e-17j,\n",
       "       -6.67887577e-01+5.86588116e-18j, -6.86202237e-01-2.50587925e-17j,\n",
       "       -7.04083640e-01+4.59529841e-17j, -7.21520260e-01-2.56624443e-17j,\n",
       "       -7.38500851e-01-2.74462226e-19j, -7.55014453e-01-4.12621224e-17j,\n",
       "       -7.71050401e-01+7.73539082e-18j, -7.86598329e-01-8.44196597e-18j,\n",
       "       -8.01648178e-01+3.10436927e-18j, -8.16190206e-01-1.36014924e-17j,\n",
       "       -8.30214986e-01+9.15628904e-17j, -8.43713421e-01+2.34635246e-17j,\n",
       "       -8.56676743e-01+6.26931535e-17j, -8.69096522e-01-3.96839646e-17j,\n",
       "       -8.80964672e-01-2.53536743e-17j, -8.92273452e-01-5.82883982e-17j,\n",
       "       -9.03015477e-01+1.72547861e-17j, -9.13183718e-01-5.74223692e-17j,\n",
       "       -9.22771506e-01+5.01895100e-17j, -9.31772543e-01+2.53128351e-17j,\n",
       "       -9.40180897e-01+4.62617541e-17j, -9.47991012e-01-9.97990097e-17j,\n",
       "       -9.55197710e-01+5.34270947e-18j, -9.61796193e-01-5.77394738e-17j,\n",
       "       -9.67782049e-01+2.51280242e-18j, -9.73151251e-01-1.37412951e-16j,\n",
       "       -9.77900162e-01-1.80062477e-17j, -9.82025539e-01-5.86054798e-18j,\n",
       "       -9.85524530e-01+8.05395065e-17j, -9.88394682e-01-8.09888818e-18j,\n",
       "       -9.90633936e-01-9.19673709e-18j, -9.92240637e-01+8.26058614e-18j,\n",
       "       -9.93213525e-01+3.45522146e-17j, -9.93551744e-01+3.56500635e-17j,\n",
       "       -9.93254838e-01-3.37883149e-18j, -9.92322755e-01+7.13001270e-17j,\n",
       "       -9.90755842e-01-3.51011390e-17j, -9.88554850e-01-8.74979034e-17j,\n",
       "       -9.85720930e-01-1.08861528e-17j, -9.82255636e-01-5.80139360e-17j,\n",
       "       -9.78160919e-01+8.10884309e-17j, -9.73439131e-01-6.85128623e-17j,\n",
       "       -9.68093019e-01-4.38298007e-17j, -9.62125728e-01+1.43458333e-17j,\n",
       "       -9.55540795e-01-4.15914605e-17j, -9.48342149e-01-2.94839674e-17j,\n",
       "       -9.40534107e-01-2.18531546e-17j, -9.32121374e-01-3.23138744e-17j,\n",
       "       -9.23109039e-01-2.89350429e-17j, -9.13502568e-01+3.92775595e-18j,\n",
       "       -9.03307806e-01-7.77904484e-17j, -8.92530973e-01-5.05350565e-17j,\n",
       "       -8.81178656e-01-2.19149003e-17j, -8.69257806e-01+3.50584967e-17j,\n",
       "       -8.56775739e-01-2.24447215e-17j, -8.43740125e-01-2.55086663e-17j,\n",
       "       -8.30158985e-01-2.22106837e-17j, -8.16040687e-01+4.61298865e-17j,\n",
       "       -8.01393942e-01-5.59181905e-17j, -7.86227795e-01+5.80521426e-17j,\n",
       "       -7.70551622e-01-2.19149003e-17j, -7.54375122e-01+3.22903353e-17j,\n",
       "       -7.37708315e-01-2.89350429e-17j, -7.20561531e-01+4.32191305e-17j,\n",
       "       -7.02945406e-01+1.25946719e-17j, -6.84870874e-01-5.72309738e-17j,\n",
       "       -6.66349163e-01-5.27733967e-17j, -6.47391784e-01+3.70436958e-17j,\n",
       "       -6.28010526e-01-8.49462387e-18j, -6.08217449e-01+2.13233335e-17j,\n",
       "       -5.88024876e-01+9.53725185e-17j, -5.67445383e-01+7.80862318e-17j,\n",
       "       -5.46491796e-01+8.78745358e-17j, -5.25177177e-01-2.13042302e-17j,\n",
       "       -5.03514822e-01-7.06703536e-17j, -4.81518246e-01+1.59895879e-16j,\n",
       "       -4.59201180e-01+2.25712920e-17j, -4.36577560e-01+1.34744742e-16j,\n",
       "       -4.13661519e-01+8.33477531e-17j, -3.90467376e-01+3.34536874e-17j,\n",
       "       -3.67009630e-01-8.30630767e-18j, -3.43302949e-01+5.59410512e-17j,\n",
       "       -3.19362161e-01-2.10053676e-17j, -2.95202246e-01+1.72724589e-16j,\n",
       "       -2.70838324e-01-2.08781188e-17j, -2.46285649e-01+1.28384749e-16j,\n",
       "       -2.21559594e-01+4.59872919e-17j, -1.96675647e-01+1.24625527e-16j,\n",
       "       -1.71649400e-01+4.05432646e-18j, -1.46496535e-01-7.83011663e-17j,\n",
       "       -1.21232819e-01+8.44707874e-19j, -9.58740923e-02+6.18564072e-17j,\n",
       "       -7.04362579e-02+9.78830393e-18j, -4.49352721e-02+3.02860328e-17j,\n",
       "       -1.93871345e-02+1.26737297e-16j,  6.19212251e-03+1.22007476e-16j,\n",
       "        3.17864433e-02-2.53412362e-18j,  5.73797595e-02+1.30116128e-16j,\n",
       "        8.29560003e-02-2.25255705e-17j,  1.08499102e-01+9.13830169e-17j,\n",
       "        1.33993019e-01+9.02851680e-17j,  1.59421733e-01+1.54827632e-16j,\n",
       "        1.84769264e-01+5.96607094e-17j,  2.10019679e-01+1.50444198e-16j,\n",
       "        2.35157104e-01-1.81421364e-17j,  2.60165733e-01+1.88332602e-16j,\n",
       "        2.85029837e-01-1.74659184e-16j,  3.09733776e-01+1.97529339e-16j,\n",
       "        3.34262008e-01-2.08361547e-17j,  3.58599098e-01+1.55227280e-17j,\n",
       "        3.82729727e-01+1.26484156e-16j,  4.06638707e-01+2.04785322e-16j,\n",
       "        4.30310983e-01+3.93237768e-17j,  4.53731647e-01+5.85628605e-17j,\n",
       "        4.76885949e-01-4.67921752e-18j,  4.99759300e-01+6.71680307e-17j,\n",
       "        5.22337288e-01+3.76343611e-17j,  5.44605685e-01+1.61537319e-16j,\n",
       "        5.66550451e-01+3.03597412e-18j,  5.88157753e-01+5.98632465e-17j,\n",
       "        6.09413963e-01-9.49342212e-18j,  6.30305674e-01+1.15343960e-16j,\n",
       "        6.50819706e-01-1.37412951e-16j,  6.70943113e-01+5.98632465e-17j,\n",
       "        6.90663195e-01-2.75920145e-17j,  7.09967501e-01+6.66351508e-18j,\n",
       "        7.28843841e-01-3.03757492e-17j,  7.47280293e-01+6.91575449e-18j,\n",
       "        7.65265207e-01-9.49342212e-18j,  7.82787217e-01+9.02425256e-17j,\n",
       "        7.99835248e-01-1.23696891e-16j,  8.16398518e-01+6.12559772e-17j,\n",
       "        8.32466551e-01-1.11510352e-16j,  8.48029179e-01-3.60817356e-17j,\n",
       "        8.63076551e-01+5.57329534e-17j,  8.77599140e-01+1.16187767e-16j,\n",
       "        8.91587746e-01-5.32938793e-17j,  9.05033503e-01+9.08340925e-17j,\n",
       "        9.17927887e-01-6.66209095e-17j,  9.30262718e-01+8.60517024e-18j,\n",
       "        9.42030168e-01-4.82682745e-17j,  9.53222764e-01+1.18426107e-16j,\n",
       "        9.63833393e-01+2.70004476e-17j,  9.73855308e-01+5.63245203e-17j,\n",
       "        9.83282131e-01+8.09888818e-18j,  9.92107857e-01+1.67445843e-16j,\n",
       "        1.00032686e+00-5.97033518e-17j,  1.00793389e+00+1.30063721e-16j,\n",
       "        1.01492409e+00-3.17649499e-17j,  1.02129298e+00-2.78682799e-17j,\n",
       "        1.02703647e+00+1.00305292e-16j,  1.03215089e+00+6.80340598e-17j,\n",
       "        1.03663291e+00+8.92227486e-18j,  1.04047966e+00-6.82384001e-17j,\n",
       "        1.04368863e+00+1.25755686e-17j,  1.04625771e+00-7.18916938e-17j,\n",
       "        1.04818521e+00+3.10436927e-18j,  1.04946984e+00+8.49424585e-17j,\n",
       "        1.05011071e+00+4.09190446e-17j,  1.05010732e+00-2.16595414e-17j,\n",
       "        1.04945961e+00+4.42978761e-17j,  1.04816790e+00+4.59872919e-17j,\n",
       "        1.04623291e+00-9.06968613e-17j,  1.04365578e+00-7.07512025e-17j,\n",
       "        1.04043806e+00+8.72866161e-18j,  1.03658168e+00-8.86589272e-18j,\n",
       "        1.03208899e+00-9.33895373e-17j,  1.02696272e+00-6.06075874e-17j,\n",
       "        1.02120604e+00-2.63038619e-17j,  1.01482247e+00+7.75037528e-17j,\n",
       "        1.00781595e+00-5.85628605e-17j,  1.00019081e+00-2.12284940e-17j,\n",
       "        9.91951772e-01-1.01699993e-18j,  9.83103931e-01-1.81363581e-17j,\n",
       "        9.73652776e-01-3.53756013e-17j,  9.63604177e-01-3.18717721e-17j,\n",
       "        9.52964376e-01+1.16835663e-17j,  9.41739991e-01-4.28128007e-17j,\n",
       "        9.29938007e-01+6.21585919e-18j,  9.17565773e-01-1.25741618e-16j,\n",
       "        9.04630998e-01-2.21276169e-17j,  8.91141746e-01-6.78649134e-17j,\n",
       "        8.77106429e-01-1.40872632e-16j,  8.62533805e-01-8.98979415e-17j,\n",
       "        8.47432972e-01-3.19895799e-18j,  8.31813358e-01-4.20840028e-17j,\n",
       "        8.15684722e-01-3.10436927e-18j,  7.99057143e-01-1.59926067e-17j,\n",
       "        7.81941013e-01-9.36639995e-17j,  7.64347035e-01-1.29308798e-17j,\n",
       "        7.46286213e-01-6.79639379e-17j,  7.27769847e-01+2.15749122e-18j,\n",
       "        7.08809522e-01-8.92681681e-17j,  6.89417105e-01-3.39606477e-17j,\n",
       "        6.69604738e-01-9.87393674e-17j,  6.49384827e-01-9.81406799e-17j,\n",
       "        6.28770034e-01+0.00000000e+00j,  6.07773274e-01-6.69564270e-17j,\n",
       "        5.86407701e-01-3.58467816e-18j,  5.64686704e-01-9.97442823e-17j,\n",
       "        5.42623898e-01-5.86588116e-18j,  5.20233111e-01+2.50587925e-17j,\n",
       "        4.97528383e-01+4.59529841e-17j,  4.74523950e-01-6.58318306e-17j,\n",
       "        4.51234239e-01-2.74462226e-19j,  4.27673860e-01-5.13986169e-17j,\n",
       "        4.03857591e-01-8.97047083e-18j,  3.79800376e-01-8.20230755e-17j,\n",
       "        3.55517311e-01-3.65329372e-18j,  3.31023635e-01+1.30525679e-17j,\n",
       "        3.06334722e-01+9.15628904e-17j,  2.81466070e-01-2.34635246e-17j,\n",
       "        2.56433293e-01+2.92814302e-17j,  2.31252109e-01-4.98204591e-17j,\n",
       "        2.05938331e-01-6.55230606e-17j,  1.80507857e-01-1.25111845e-16j,\n",
       "        1.54976660e-01-1.61569372e-17j,  1.29360781e-01-1.27624647e-16j,\n",
       "        1.03676311e-01+4.34318471e-17j,  7.79393895e-02-1.15091721e-16j,\n",
       "        5.21661904e-02+4.62617541e-17j,  2.63729115e-02-1.73380119e-16j,\n",
       "        5.75765116e-04-4.79378502e-18j, -2.52090319e-02-1.24562920e-16j,\n",
       "       -5.09652689e-02-8.66029070e-19j, -7.66767511e-02-1.37412951e-16j,\n",
       "       -1.02327310e-01+1.08882983e-16j, -1.27900815e-01-8.28204891e-17j,\n",
       "       -1.53381179e-01+1.03372284e-17j, -1.78752375e-01-8.16799978e-17j,\n",
       "       -2.03998441e-01-8.27778467e-17j, -2.29103492e-01-1.92209754e-16j,\n",
       "       -2.54051730e-01-3.56500635e-17j, -2.78827455e-01-3.45522146e-17j,\n",
       "       -3.03415072e-01+3.37883149e-18j, -3.27799103e-01-6.91044292e-17j,\n",
       "       -3.51964197e-01+3.51011390e-17j, -3.75895137e-01-9.42555663e-17j,\n",
       "       -3.99576854e-01-8.10884309e-17j, -4.22994433e-01-1.24837383e-16j,\n",
       "       -4.46133122e-01+1.08861528e-17j, -4.68978344e-01+6.85128623e-17j,\n",
       "       -4.91515704e-01+8.98170925e-17j, -5.13731001e-01-5.92352763e-17j,\n",
       "       -5.35610232e-01+8.86766012e-17j, -5.57139604e-01+3.05818163e-17j,\n",
       "       -5.78305545e-01-2.52319861e-17j, -5.99094707e-01+3.45095722e-17j,\n",
       "       -6.19493978e-01+3.11307407e-17j, -6.39490490e-01-2.82990704e-18j,\n",
       "       -6.59071626e-01+1.22679891e-16j, -6.78225030e-01+7.84131134e-18j,\n",
       "       -6.96938611e-01+4.49085463e-17j, -7.15200556e-01-3.17649499e-17j,\n",
       "       -7.32999331e-01-2.24447215e-17j, -7.50323693e-01-8.72638656e-17j,\n",
       "       -7.67162698e-01+4.63021786e-17j, -7.83505703e-01-1.61098116e-16j,\n",
       "       -7.99342376e-01+8.11075342e-17j, -8.14662702e-01-8.77130400e-18j,\n",
       "       -8.29456989e-01+4.49085463e-17j, -8.43715875e-01-9.79777264e-17j,\n",
       "       -8.57430333e-01+3.11307407e-17j, -8.70591675e-01-2.02254846e-17j,\n",
       "       -8.83191564e-01+1.25946719e-17j, -8.95222009e-01-5.55415581e-17j,\n",
       "       -9.06675380e-01+8.98180264e-18j, -9.17544406e-01-3.48479980e-17j,\n",
       "       -9.27822183e-01+1.23462854e-16j, -9.37502178e-01-4.21212816e-17j,\n",
       "       -9.46578231e-01+2.17914090e-17j, -9.55044563e-01-1.24073524e-16j,\n",
       "       -9.62895774e-01-4.40829417e-17j, -9.70126852e-01-2.46830617e-17j,\n",
       "       -9.76733173e-01-6.72915221e-17j, -9.82710503e-01+2.62489861e-17j,\n",
       "       -9.88055005e-01+2.34159999e-17j, -9.92763237e-01-1.32549044e-16j,\n",
       "       -9.96832157e-01+1.08225284e-17j, -1.00025912e+00-3.12579896e-17j,\n",
       "       -1.00304189e+00+5.42935996e-17j, -1.00517864e+00-1.21494572e-17j,\n",
       "       -1.00666792e+00+1.15175649e-16j, -1.00750872e+00+1.07590558e-16j,\n",
       "       -1.00770042e+00+1.10657005e-16j, -1.00724281e+00+5.77601166e-17j,\n",
       "       -1.00613609e+00+4.59872919e-17j, -1.00438085e+00+6.37150358e-17j,\n",
       "       -1.00197812e+00-1.85862866e-18j, -9.98929307e-01-1.14777197e-17j,\n",
       "       -9.95236233e-01-8.44707874e-19j, -9.90901126e-01+1.28679854e-16j,\n",
       "       -9.85926615e-01+7.99905820e-17j, -9.80315732e-01-2.80903350e-17j,\n",
       "       -9.74071905e-01+6.16032661e-17j, -9.67198962e-01+6.19416920e-17j,\n",
       "       -9.59701124e-01+2.53412362e-18j, -9.51583005e-01+5.82244346e-17j,\n",
       "       -9.42849608e-01+1.14500154e-16j, -9.33506322e-01+9.47618484e-17j,\n",
       "       -9.23558919e-01+9.36639995e-17j, -9.13013549e-01+3.13172333e-17j,\n",
       "       -9.01876739e-01+1.26484156e-16j, -8.90155386e-01+1.25479553e-16j,\n",
       "       -8.77856754e-01+2.03378342e-17j, -8.64988470e-01+8.97868475e-17j,\n",
       "       -8.51558517e-01-9.28998339e-18j, -8.37575231e-01+1.72564694e-16j,\n",
       "       -8.23047298e-01+1.12810738e-16j, -8.07983741e-01-1.11313323e-17j,\n",
       "       -7.92393923e-01+5.96607094e-17j, -7.76287536e-01+7.11384290e-17j,\n",
       "       -7.59674596e-01+5.26508070e-17j, -7.42565437e-01+1.25386307e-16j,\n",
       "       -7.24970705e-01+9.55559524e-17j, -7.06901350e-01+2.10951418e-16j,\n",
       "       -6.88368621e-01+5.43402227e-17j, -6.69384057e-01+1.16582130e-16j,\n",
       "       -6.49959481e-01-1.93812521e-18j, -6.30106991e-01+3.32091862e-17j,\n",
       "       -6.09838956e-01+1.05912710e-17j, -5.89168003e-01+6.86052070e-17j,\n",
       "       -5.68107015e-01-1.37412951e-16j, -5.46669117e-01+3.32091862e-17j,\n",
       "       -5.24867671e-01-6.43825693e-17j, -5.02716270e-01-6.66351508e-18j,\n",
       "       -4.80228724e-01+3.14735981e-17j, -4.57419054e-01+8.72545271e-17j,\n",
       "       -4.34301483e-01+1.05912710e-17j, -4.10890430e-01+9.70001886e-17j,\n",
       "       -3.87200496e-01-6.02522762e-17j, -3.63246456e-01+1.24888888e-16j,\n",
       "       -3.39043253e-01-7.13409662e-17j, -3.14605986e-01-5.25993014e-17j,\n",
       "       -2.89949899e-01+1.29314063e-16j, -2.65090376e-01+1.59735985e-16j,\n",
       "       -2.40042926e-01-3.97785533e-17j, -2.14823179e-01+9.42129240e-17j,\n",
       "       -1.89446871e-01-2.64515232e-17j, -1.63929836e-01+8.55651113e-17j,\n",
       "       -1.38287997e-01-4.15106115e-17j, -1.12537356e-01+1.58595493e-16j,\n",
       "       -8.66939823e-02+6.71698339e-17j, -6.07740035e-02+1.26526798e-16j,\n",
       "       -3.47935954e-02+8.16799978e-17j, -8.76897159e-03+1.07380059e-16j,\n",
       "        1.72836266e-02-1.23147967e-16j,  4.33479402e-02+1.46957879e-16j,\n",
       "        6.94077033e-02+3.50584967e-17j,  9.54466526e-02+1.19293939e-16j,\n",
       "        1.21448538e-01+1.77265233e-16j,  1.47397133e-01+2.08438616e-16j,\n",
       "        1.73276244e-01+8.25033844e-17j,  1.99069722e-01+6.87873246e-17j,\n",
       "        2.24761471e-01+7.93990152e-17j,  2.50335459e-01+7.18916938e-17j,\n",
       "        2.75775729e-01-3.65329372e-18j,  3.01066407e-01+9.84577845e-17j,\n",
       "        3.26191713e-01+5.10555391e-17j,  3.51135971e-01+1.11987352e-16j,\n",
       "        3.75883619e-01+4.76767076e-17j,  4.00419219e-01+4.59872919e-17j,\n",
       "        4.24727466e-01-9.40756928e-17j,  4.48793195e-01+6.96533536e-17j,\n",
       "        4.72601399e-01-5.47159535e-17j,  4.96137226e-01+5.45787224e-17j,\n",
       "        5.19386001e-01-9.00107058e-17j,  5.42333226e-01+1.29735222e-17j,\n",
       "        5.64964594e-01-1.95461989e-17j,  5.87265993e-01+1.40591377e-17j,\n",
       "        6.09223524e-01-1.25386307e-16j,  6.30823498e-01-7.11577831e-17j,\n",
       "        6.52052454e-01-1.38042725e-16j,  6.72897163e-01+6.22024144e-17j,\n",
       "        6.93344637e-01+3.48266768e-17j,  7.13382139e-01+1.68598568e-16j,\n",
       "        7.32997186e-01+7.85070129e-17j,  7.52177565e-01+2.27859817e-16j,\n",
       "        7.70911331e-01-5.38499244e-17j,  7.89186822e-01+7.81075530e-17j,\n",
       "        8.06992664e-01-2.55064484e-17j,  8.24317776e-01+2.02807705e-16j,\n",
       "        8.41151381e-01+2.91075602e-18j,  8.57483008e-01+1.80774676e-16j,\n",
       "        8.73302503e-01+1.79873506e-19j,  8.88600034e-01+2.25209784e-16j,\n",
       "        9.03366093e-01+3.65329372e-18j,  9.17591510e-01+5.75885029e-17j,\n",
       "        9.31267452e-01-9.02851680e-17j,  9.44385430e-01+5.72713983e-17j,\n",
       "        9.56937307e-01+6.90617868e-17j,  9.68915300e-01+1.35804384e-16j,\n",
       "        9.80311987e-01+4.43787251e-17j,  9.91120310e-01+3.28627988e-17j,\n",
       "        1.00133358e+00-3.86735838e-17j,  1.01094548e+00-8.80041854e-17j,\n",
       "        1.01995008e+00+0.00000000e+00j,  1.02834181e+00+8.22947092e-17j,\n",
       "        1.03611551e+00+2.62714628e-18j,  1.04326639e+00+2.00889171e-17j,\n",
       "        1.04979006e+00-5.71354664e-18j,  1.05568251e+00+4.05459779e-17j,\n",
       "        1.06094014e+00-1.74757635e-17j,  1.06555975e+00-8.00556931e-18j,\n",
       "        1.06953852e+00+7.18551436e-19j,  1.07287405e+00+2.15961208e-17j,\n",
       "        1.07556434e+00-1.18985852e-17j,  1.07760780e+00-3.63835052e-17j,\n",
       "        1.07900323e+00+2.80678414e-18j,  1.07974985e+00+2.98374361e-17j,\n",
       "        1.07984728e+00-3.40533377e-17j,  1.07929554e+00-2.28541865e-17j,\n",
       "        1.07809508e+00-4.45962344e-17j,  1.07624674e+00+1.74644500e-17j,\n",
       "        1.07375175e+00-8.81393968e-18j,  1.07061179e+00-1.96486905e-17j,\n",
       "        1.06682890e+00-2.84677548e-17j,  1.06240554e+00-1.64489198e-17j,\n",
       "        1.05734458e+00-1.76330040e-17j,  1.05164928e+00-9.13429984e-17j,\n",
       "        1.04532329e+00-1.82841339e-17j,  1.03837068e+00-2.86908105e-18j,\n",
       "        1.03079587e+00+2.41379762e-18j,  1.02260372e+00-2.10857933e-17j,\n",
       "        1.01379944e+00-1.11153795e-18j,  1.00438864e+00+5.12596445e-17j,\n",
       "        9.94377297e-01+9.40823610e-17j,  9.83771779e-01-3.76746810e-17j,\n",
       "        9.72578817e-01-6.91456671e-17j,  9.60805510e-01-3.72816945e-17j,\n",
       "        9.48459322e-01-3.44074888e-17j,  9.35548074e-01-1.27052747e-16j,\n",
       "        9.22079942e-01-5.15800847e-17j,  9.08063448e-01-5.44542904e-17j,\n",
       "        8.93507458e-01-2.08823271e-18j,  8.78421177e-01-1.08908581e-16j,\n",
       "        8.62814138e-01+5.30171876e-17j,  8.46696203e-01+3.43451919e-17j,\n",
       "        8.30077550e-01-3.54516051e-17j,  8.12968671e-01-2.03672419e-17j,\n",
       "        7.95380365e-01-7.05827700e-17j,  7.77323730e-01+1.07078491e-16j,\n",
       "        7.58810155e-01+9.93398166e-17j,  7.39851316e-01-4.46273829e-17j,\n",
       "        7.20459165e-01+9.89468301e-17j,  7.00645925e-01+5.47124338e-17j,\n",
       "        6.80424081e-01+1.12640104e-17j,  6.59806375e-01+5.11870982e-17j,\n",
       "        6.38805792e-01+5.32753309e-17j,  6.17435558e-01+6.51129835e-19j,\n",
       "        5.95709128e-01+1.54838223e-16j,  5.73640178e-01+6.11430774e-17j,\n",
       "        5.51242599e-01+4.96699083e-17j,  5.28530483e-01-5.83726125e-17j,\n",
       "        5.05518121e-01+7.34568835e-18j,  4.82219988e-01-3.65447061e-17j,\n",
       "        4.58650736e-01+4.77107473e-17j,  4.34825186e-01-1.38138701e-16j,\n",
       "        4.10758318e-01+9.98128901e-17j,  3.86465258e-01-6.71554038e-17j,\n",
       "        3.61961277e-01+4.96699083e-17j,  3.37261770e-01-1.00303846e-16j,\n",
       "        3.12382258e-01+5.32753309e-17j,  2.87338368e-01-5.94968159e-17j,\n",
       "        2.62145830e-01-7.26560135e-18j,  2.36820465e-01+1.85607141e-17j,\n",
       "        2.11378173e-01+6.15360639e-17j,  1.85834927e-01-5.53693351e-17j,\n",
       "        1.60206758e-01+8.66876880e-17j,  1.34509752e-01-5.35882304e-17j,\n",
       "        1.08760030e-01-7.68042550e-17j,  8.29737486e-02-1.52879062e-16j,\n",
       "        5.71670808e-02-1.14553251e-16j,  3.13562117e-02+9.82690758e-18j,\n",
       "        5.55732545e-03+2.53042573e-17j, -2.02134039e-02-1.46127978e-16j,\n",
       "       -4.59398228e-02-9.04382031e-18j, -7.16058084e-02-2.19119421e-16j,\n",
       "       -9.71952788e-02-7.27391458e-17j, -1.22692203e-01-5.75880824e-17j,\n",
       "       -1.48080611e-01+4.65836581e-17j, -1.73344603e-01-5.95783458e-17j,\n",
       "       -1.98468363e-01+8.68997324e-17j, -2.23436162e-01-1.13028521e-16j,\n",
       "       -2.48232375e-01+9.40838038e-17j, -2.72841487e-01-9.08920437e-17j,\n",
       "       -2.97248103e-01-1.75655824e-17j, -3.21436958e-01-9.67680839e-17j,\n",
       "       -3.45392927e-01-1.04700212e-18j, -3.69101035e-01+6.87526806e-17j,\n",
       "       -3.92546465e-01+5.22058177e-19j, -4.15714568e-01+1.03075218e-17j,\n",
       "       -4.38590872e-01+3.83258109e-17j, -4.61161091e-01-5.95458005e-17j,\n",
       "       -4.83411135e-01-9.54629385e-17j, -5.05327118e-01-9.12807015e-17j,\n",
       "       -5.26895367e-01-1.56617453e-18j, -5.48102429e-01-9.33747058e-17j,\n",
       "       -5.68935082e-01+8.95129090e-17j, -5.89380343e-01-3.90494870e-17j,\n",
       "       -6.09425473e-01-3.61752812e-17j, -6.29057989e-01-1.49260328e-16j,\n",
       "       -6.48265669e-01+1.60559333e-17j, -6.67036563e-01-8.23376902e-17j,\n",
       "       -6.85358994e-01+2.25902717e-17j, -7.03221574e-01-1.37184967e-16j,\n",
       "       -7.20613205e-01+1.70806483e-16j, -7.37523086e-01-1.02777478e-16j,\n",
       "       -7.53940725e-01+9.05570254e-17j, -7.69855938e-01-3.48672961e-17j,\n",
       "       -7.85258863e-01-9.20666746e-17j, -8.00139960e-01-1.60819355e-16j,\n",
       "       -8.14490020e-01-3.00614011e-18j, -8.28300172e-01+1.89301390e-17j,\n",
       "       -8.41561885e-01+6.49634763e-17j, -8.54266974e-01+4.94193057e-17j,\n",
       "       -8.66407610e-01-4.05025647e-18j, -8.77976319e-01-1.07051059e-16j,\n",
       "       -8.88965987e-01-9.23888221e-18j, -8.99369870e-01-4.81215700e-17j,\n",
       "       -9.09181591e-01+1.10341068e-17j, -9.18395150e-01-7.67212592e-17j,\n",
       "       -9.27004924e-01+5.12596445e-17j, -9.35005671e-01-4.81215700e-17j,\n",
       "       -9.42392536e-01-8.42095316e-18j, -9.49161049e-01-1.45594423e-17j,\n",
       "       -9.55307132e-01+4.48224217e-17j, -9.60827102e-01+2.94450503e-17j,\n",
       "       -9.65717669e-01+1.10341068e-17j, -9.69975941e-01-4.15307062e-17j,\n",
       "       -9.73599425e-01+9.02365852e-17j, -9.76586030e-01-1.63585811e-18j,\n",
       "       -9.78934067e-01+5.86364813e-17j, -9.80642248e-01-1.89969599e-17j,\n",
       "       -9.81709690e-01+1.54048034e-17j, -9.82135915e-01-2.87984444e-17j,\n",
       "       -9.81920849e-01+1.48262199e-17j, -9.81064822e-01-3.76123841e-17j,\n",
       "       -9.79568569e-01+4.39451046e-17j, -9.77433228e-01+3.04891667e-17j,\n",
       "       -9.74660340e-01+1.26031440e-17j, -9.71251849e-01-2.91914310e-17j,\n",
       "       -9.67210099e-01+4.50263106e-18j, -9.62537833e-01+1.93231255e-17j,\n",
       "       -9.57238190e-01+3.72816945e-17j, -9.51314708e-01-1.07409181e-16j,\n",
       "       -9.44771314e-01-2.14113582e-17j, -9.37612328e-01-5.93544320e-17j,\n",
       "       -9.29842456e-01+4.97499953e-17j, -9.21466790e-01+8.70991114e-17j,\n",
       "       -9.12490804e-01-3.92344679e-18j, -9.02920347e-01+5.26190764e-17j,\n",
       "       -8.92761645e-01+3.51260402e-17j, -8.82021294e-01+1.06359940e-16j,\n",
       "       -8.70706253e-01+3.64957215e-17j, -8.58823847e-01+1.04990259e-16j,\n",
       "       -8.46381754e-01+2.80678414e-18j, -8.33388005e-01-3.85890789e-17j,\n",
       "       -8.19850981e-01-2.06979315e-17j, -8.05779399e-01+9.27126797e-17j,\n",
       "       -7.91182315e-01-1.86096988e-17j, -7.76069117e-01-1.75655824e-17j,\n",
       "       -7.60449513e-01+3.72531084e-17j, -7.44333533e-01+1.07471478e-16j,\n",
       "       -7.27731515e-01-4.63226290e-17j, -7.10654106e-01+4.66819048e-17j,\n",
       "       -6.93112247e-01+3.33684971e-17j, -6.75117174e-01+6.29115167e-17j,\n",
       "       -6.56680406e-01+6.51492066e-18j, -6.37813739e-01-7.21320891e-17j,\n",
       "       -6.18529237e-01-1.89301390e-17j, -5.98839229e-01-4.11773897e-17j,\n",
       "       -5.78756294e-01-7.92930149e-17j, -5.58293261e-01+4.36169773e-17j,\n",
       "       -5.37463194e-01+5.37357390e-17j, -5.16279388e-01+1.37452279e-16j,\n",
       "       -4.94755357e-01+3.88310136e-17j, -4.72904832e-01+1.78632832e-16j,\n",
       "       -4.50741743e-01-4.52110911e-17j, -4.28280218e-01+1.72078241e-16j,\n",
       "       -4.05534570e-01+1.19825619e-17j, -3.82519290e-01+1.92804759e-16j,\n",
       "       -3.59249036e-01+1.31338632e-16j, -3.35738624e-01+1.99072620e-16j,\n",
       "       -3.12003022e-01+2.90791654e-18j, -2.88057334e-01+1.82191878e-16j,\n",
       "       -2.63916796e-01-2.80678414e-18j, -2.39596766e-01+4.89386915e-17j,\n",
       "       -2.15112709e-01+3.40870485e-17j, -1.90480196e-01+4.63900506e-17j,\n",
       "       -1.65714884e-01+1.05641389e-16j, -1.40832515e-01+8.17742342e-17j,\n",
       "       -1.15848902e-01+1.15468296e-16j, -9.07799164e-02+5.54984068e-17j,\n",
       "       -6.56414842e-02+8.17793589e-17j, -4.04495710e-02+3.48730216e-17j])"
      ]
     },
     "execution_count": 243,
     "metadata": {},
     "output_type": "execute_result"
    }
   ],
   "source": [
    "import numpy as np\n",
    "from scipy.fftpack import fft, ifft\n",
    "from scipy.fftpack import dct\n",
    "from scipy.fftpack import dct,idct\n",
    "\n",
    "x=np.array([4., 3., 5., 10., 5., 3.])\n",
    "\n",
    "#Applying the fft function\n",
    "y = fft(x)\n",
    "\n",
    "yinv = ifft(y)\n",
    "\n",
    "time_step = 0.02\n",
    "period = 5.\n",
    "time_vec = np.arange(0, 20, time_step)\n",
    "sig = np.sin(2 * np.pi / period * time_vec) + 0.5 *np.random.randn(time_vec.size)\n",
    "\n",
    "sample_freq = fftpack.fftfreq(sig.size, d = time_step)\n",
    "sig_fft = fftpack.fft(sig)\n",
    "\n",
    "Amplitude = np.abs(sig_fft)\n",
    "power = Amplitude**2\n",
    "Angle = np.angle(sig_fft)\n",
    "\n",
    "Amp_freq = np.array([Amplitude, sample_freq])\n",
    "Amp_position = Amp_freq[0,:].argmax()\n",
    "\n",
    "peak_freq = Amp_freq[1, Amp_position]\n",
    "high_freq_fft = sig_fft.copy()\n",
    "high_freq_fft[np.abs(sample_freq) > peak_freq]=0\n",
    "filtered_sig = fftpack.ifft(high_freq_fft)\n",
    "filtered_sig\n",
    "\n"
   ]
  },
  {
   "cell_type": "code",
   "execution_count": 204,
   "id": "ce1df043",
   "metadata": {},
   "outputs": [],
   "source": [
    "import numpy as np\n",
    "from scipy import fftpack\n",
    "from scipy.fftpack import dct\n",
    "\n",
    "#creating a signal with a time_step of 0.05 seconds\n",
    "time_step = 0.05\n",
    "time_vec = np.arange(0, 10, time_step) \n",
    "period = 2\n",
    "cosig = (np.cos(2*np.pi*time_vec/period)+0.5*np.random.randn(time_vec.size))\n",
    "#print(cosig.size)\n",
    "\n",
    "sample_freq = fftpack.fftfreq(cosig.size, d = time_step)\n",
    "cosig_fft = fftpack.fft(cosig)\n",
    "#print(cosig_fft)"
   ]
  },
  {
   "cell_type": "code",
   "execution_count": 199,
   "id": "b0cac628",
   "metadata": {
    "scrolled": true
   },
   "outputs": [
    {
     "name": "stderr",
     "output_type": "stream",
     "text": [
      "C:\\Users\\rsagu\\AppData\\Local\\Programs\\Python\\Python39\\lib\\site-packages\\matplotlib\\cbook\\__init__.py:1333: ComplexWarning: Casting complex values to real discards the imaginary part\n",
      "  return np.asarray(x, float)\n"
     ]
    },
    {
     "data": {
      "image/png": "[encoded data removed]",
      "text/plain": [
       "<Figure size 432x288 with 1 Axes>"
      ]
     },
     "metadata": {
      "needs_background": "light"
     },
     "output_type": "display_data"
    }
   ],
   "source": [
    "plt.plot(sample_freq,cosig_fft)\n",
    "plt.axvline(1/(6*np.pi),c='y')\n",
    "plt.xlabel('Frequency')\n",
    "plt.ylabel('Amplitude')\n",
    "plt.show()\n",
    "plt.show()"
   ]
  },
  {
   "cell_type": "code",
   "execution_count": 240,
   "id": "05d04aab",
   "metadata": {},
   "outputs": [
    {
     "data": {
      "image/png": "[encoded data removed]",
      "text/plain": [
       "<Figure size 432x288 with 1 Axes>"
      ]
     },
     "metadata": {
      "needs_background": "light"
     },
     "output_type": "display_data"
    }
   ],
   "source": [
    "from scipy import signal\n",
    "\n",
    "x = np.arange(1, 100, 1)\n",
    "y = np.sin(x/4)\n",
    "plt.plot(x,y)\n",
    "plt.xlabel('Time')\n",
    "plt.ylabel('Intensity')\n",
    "plt.show()"
   ]
  },
  {
   "cell_type": "code",
   "execution_count": 242,
   "id": "5cc3abdb",
   "metadata": {
    "scrolled": true
   },
   "outputs": [
    {
     "data": {
      "image/png": "[encoded data removed]",
      "text/plain": [
       "<Figure size 432x288 with 1 Axes>"
      ]
     },
     "metadata": {
      "needs_background": "light"
     },
     "output_type": "display_data"
    }
   ],
   "source": [
    "from scipy import signal\n",
    "\n",
    "x = np.arange(1, 100, 1)\n",
    "y = np.cos(x/3)\n",
    "plt.plot(x,y)\n",
    "plt.xlabel('Time')\n",
    "plt.ylabel('Intensity')\n",
    "plt.show()"
   ]
  },
  {
   "cell_type": "code",
   "execution_count": 196,
   "id": "baf568b5",
   "metadata": {},
   "outputs": [
    {
     "data": {
      "image/png": "[encoded data removed]",
      "text/plain": [
       "<Figure size 432x288 with 1 Axes>"
      ]
     },
     "metadata": {
      "needs_background": "light"
     },
     "output_type": "display_data"
    }
   ],
   "source": [
    "#power spectral density\n",
    "psd = np.abs(np.fft.rfft(y))\n",
    "freqs = np.fft.rfftfreq(len(y))\n",
    "plt.plot(freqs,psd)\n",
    "#amplitude\n",
    "plt.axvline(1/(6*np.pi),c='y')\n",
    "plt.xlabel('Frequency')\n",
    "plt.ylabel('Intensity')\n",
    "plt.show()"
   ]
  }
 ],
 "metadata": {
  "kernelspec": {
   "display_name": "Python 3 (ipykernel)",
   "language": "python",
   "name": "python3"
  },
  "language_info": {
   "codemirror_mode": {
    "name": "ipython",
    "version": 3
   },
   "file_extension": ".py",
   "mimetype": "text/x-python",
   "name": "python",
   "nbconvert_exporter": "python",
   "pygments_lexer": "ipython3",
   "version": "3.9.7"
  }
 },
 "nbformat": 4,
 "nbformat_minor": 5
}
