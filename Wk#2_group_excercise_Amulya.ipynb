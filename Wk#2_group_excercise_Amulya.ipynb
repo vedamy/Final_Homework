{
 "cells": [
  {
   "cell_type": "code",
   "execution_count": 11,
   "id": "86ed56eb",
   "metadata": {},
   "outputs": [
    {
     "name": "stdout",
     "output_type": "stream",
     "text": [
      "Weird\n",
      "Not Weird\n"
     ]
    }
   ],
   "source": [
    "# Write a function that takes an integer n and performs the following conditional actions:\n",
    "\n",
    "# ● If n is odd, print Weird\n",
    "# ● If n is even and in the inclusive range of 2 to 5, print Not Weird\n",
    "# ● If n is even and in the inclusive range of 6 to 20, print Weird\n",
    "# ● If n is even and greater than 20, print Not Weird\n",
    "\n",
    "\n",
    "def integer(n):\n",
    "    \n",
    "    if n%2!=0:\n",
    "        print(\"Weird\")\n",
    "       \n",
    "    elif n%2==0 and n in range(2,5):\n",
    "        print(\"Not Weird\")\n",
    "            \n",
    "    elif n%2==0 and n in range(6,20):\n",
    "        print(\"Weird\")\n",
    "            \n",
    "    elif n%2==0 and n>20:\n",
    "        print(\"Not Weird\")\n",
    "            \n",
    "        while 1<=n<=100:\n",
    "            #print(n)\n",
    "            n+=1\n",
    "\n",
    "#Print “Weird” if the number is weird. Otherwise, print “Not Weird”.     \n",
    "#Sample input:\n",
    "\n",
    "integer(3)\n",
    "integer(24)  "
   ]
  },
  {
   "cell_type": "code",
   "execution_count": null,
   "id": "27bc181c",
   "metadata": {},
   "outputs": [],
   "source": []
  }
 ],
 "metadata": {
  "kernelspec": {
   "display_name": "Python 3 (ipykernel)",
   "language": "python",
   "name": "python3"
  },
  "language_info": {
   "codemirror_mode": {
    "name": "ipython",
    "version": 3
   },
   "file_extension": ".py",
   "mimetype": "text/x-python",
   "name": "python",
   "nbconvert_exporter": "python",
   "pygments_lexer": "ipython3",
   "version": "3.9.7"
  }
 },
 "nbformat": 4,
 "nbformat_minor": 5
}
