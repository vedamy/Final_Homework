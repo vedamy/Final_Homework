{
 "cells": [
  {
   "cell_type": "markdown",
   "id": "f0fd1a0b",
   "metadata": {},
   "source": [
    "## ETL Project\n",
    "### Restaurant Data with Consumer Ratings"
   ]
  },
  {
   "cell_type": "markdown",
   "id": "8f88669e",
   "metadata": {},
   "source": [
    "#### Load the data using psycopg2:"
   ]
  },
  {
   "cell_type": "code",
   "execution_count": 17,
   "id": "ffe0bd2b",
   "metadata": {},
   "outputs": [],
   "source": [
    "import psycopg2\n",
    "conn = psycopg2.connect(\"host=localhost dbname=restaurant user=postgres password=Dmaisamma@69\")\n",
    "cur = conn.cursor()\n",
    "with open('A:\\launch_code_STL\\Final_Homework\\week-15\\Restaurant\\chefmozaccepts.csv', 'r') as f:\n",
    "    # Notice that we don't need the `csv` module.\n",
    "    next(f) # Skip the header row.\n",
    "    cur.copy_from(f, 'payment', sep=',')\n",
    "with open('A:\\launch_code_STL\\Final_Homework\\week-15\\Restaurant\\chefmozcuisine.csv', 'r') as f:\n",
    "    next(f) # Skip the header row.\n",
    "    cur.copy_from(f, 'cuisine', sep=',')\n",
    "with open(r'A:\\launch_code_STL\\Final_Homework\\week-15\\Restaurant\\chefmozhours4.csv', 'r') as f:\n",
    "    next(f) # Skip the header row.\n",
    "    cur.copy_from(f, 'hours', sep=',')\n",
    "with open('A:\\launch_code_STL\\Final_Homework\\week-15\\Restaurant\\chefmozparking.csv', 'r') as f:\n",
    "    next(f) # Skip the header row.\n",
    "    cur.copy_from(f, 'parking', sep=',')\n",
    "with open(r'A:\\launch_code_STL\\Final_Homework\\week-15\\Restaurant\\geoplaces2.csv', 'r') as f:\n",
    "    next(f) # Skip the header row.\n",
    "    cur.copy_from(f, 'geoplaces', sep=',')\n",
    "with open(r'A:\\launch_code_STL\\Final_Homework\\week-15\\Restaurant\\rating.csv', 'r') as f:\n",
    "    next(f) # Skip the header row.\n",
    "    cur.copy_from(f, 'rating', sep=',')\n",
    "with open(r'A:\\launch_code_STL\\Final_Homework\\week-15\\Restaurant\\usercuisine.csv', 'r') as f:\n",
    "    next(f) # Skip the header row.\n",
    "    cur.copy_from(f, 'usercuisine', sep=',')\n",
    "with open(r'A:\\launch_code_STL\\Final_Homework\\week-15\\Restaurant\\userpayment.csv', 'r') as f:\n",
    "    next(f) # Skip the header row.\n",
    "    cur.copy_from(f, 'userpayment', sep=',')\n",
    "\n",
    "    \n",
    "# commit to load CSV files into a Postgres table.   \n",
    "conn.commit()    \n",
    "\n",
    "#close the cursor\n",
    "cur.close()\n",
    "\n",
    "#close the connection\n",
    "conn.close()"
   ]
  },
  {
   "cell_type": "code",
   "execution_count": null,
   "id": "5a9f634a",
   "metadata": {},
   "outputs": [],
   "source": []
  },
  {
   "cell_type": "code",
   "execution_count": null,
   "id": "9f1177dc",
   "metadata": {},
   "outputs": [],
   "source": []
  },
  {
   "cell_type": "code",
   "execution_count": null,
   "id": "c77e833e",
   "metadata": {},
   "outputs": [],
   "source": []
  },
  {
   "cell_type": "markdown",
   "id": "7230af11",
   "metadata": {},
   "source": [
    "Resource : https://www.kaggle.com/uciml/restaurant-data-with-consumer-ratings/metadata\n"
   ]
  },
  {
   "cell_type": "code",
   "execution_count": null,
   "id": "46f80cc0",
   "metadata": {},
   "outputs": [],
   "source": []
  }
 ],
 "metadata": {
  "kernelspec": {
   "display_name": "Python 3 (ipykernel)",
   "language": "python",
   "name": "python3"
  },
  "language_info": {
   "codemirror_mode": {
    "name": "ipython",
    "version": 3
   },
   "file_extension": ".py",
   "mimetype": "text/x-python",
   "name": "python",
   "nbconvert_exporter": "python",
   "pygments_lexer": "ipython3",
   "version": "3.9.7"
  }
 },
 "nbformat": 4,
 "nbformat_minor": 5
}
