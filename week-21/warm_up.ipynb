{
 "cells": [
  {
   "cell_type": "code",
   "execution_count": null,
   "id": "95e41f37",
   "metadata": {},
   "outputs": [],
   "source": []
  },
  {
   "cell_type": "markdown",
   "id": "d5d62f56",
   "metadata": {},
   "source": [
    "How do you use regex (re library) to write some python code to select all words in a string that contain an apostrophe?\n",
    "Use the following string to test:\n",
    "this_string=“Y’all are amazing, and I’ve loved teaching this class”\n"
   ]
  },
  {
   "cell_type": "code",
   "execution_count": 2,
   "id": "926af129",
   "metadata": {},
   "outputs": [],
   "source": [
    "import re"
   ]
  },
  {
   "cell_type": "code",
   "execution_count": 16,
   "id": "5ff73321",
   "metadata": {},
   "outputs": [
    {
     "data": {
      "text/plain": [
       "[\"Y'all\", \"I've\"]"
      ]
     },
     "execution_count": 16,
     "metadata": {},
     "output_type": "execute_result"
    }
   ],
   "source": [
    "import re \n",
    "from nltk.tokenize import regexp_tokenize\n",
    "\n",
    "this_string = \"Y'all are amazing,and I've loved teaching this class\"\n",
    "pattern1 = r\"\\w+[']\\w+\"\n",
    "hashtags = regexp_tokenize(this_string, pattern1)\n",
    "hashtags\n"
   ]
  }
 ],
 "metadata": {
  "kernelspec": {
   "display_name": "Python 3 (ipykernel)",
   "language": "python",
   "name": "python3"
  },
  "language_info": {
   "codemirror_mode": {
    "name": "ipython",
    "version": 3
   },
   "file_extension": ".py",
   "mimetype": "text/x-python",
   "name": "python",
   "nbconvert_exporter": "python",
   "pygments_lexer": "ipython3",
   "version": "3.9.7"
  }
 },
 "nbformat": 4,
 "nbformat_minor": 5
}
