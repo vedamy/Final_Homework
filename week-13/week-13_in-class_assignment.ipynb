{
 "cells": [
  {
   "cell_type": "markdown",
   "id": "dde92c44",
   "metadata": {},
   "source": [
    "# WEEK-13 In-class Activity"
   ]
  },
  {
   "cell_type": "markdown",
   "id": "eaef5c61",
   "metadata": {},
   "source": [
    "1. In markdown, describe KNN in your own words."
   ]
  },
  {
   "cell_type": "markdown",
   "id": "ea38652c",
   "metadata": {},
   "source": [
    "### KNN -K Nearest Neighbors"
   ]
  },
  {
   "cell_type": "markdown",
   "id": "d8a63369",
   "metadata": {},
   "source": [
    "K Nearest Neighbors, is one of the simplest supervised Machine learning algorithm mostly used for classification. For example\n",
    "if we want to know, is that a cat or not a cat or is that a dog or not a dog.\n",
    "\n",
    "It classifies a data point based on how its neighbors are classified.\n",
    "\n",
    "K in KNN is a parameter that refers to the number of nearset neighbors to include in the majority voting process."
   ]
  },
  {
   "cell_type": "markdown",
   "id": "018a829b",
   "metadata": {},
   "source": [
    "2. Using the KNN example from class, write a function that finds the optimal value for k.\n",
    "You should iterate over a range of values and return the k and the score when the\n",
    "accuracy score is maximized. Be sure to only use odd values."
   ]
  },
  {
   "cell_type": "code",
   "execution_count": 1,
   "id": "5386c0a0",
   "metadata": {},
   "outputs": [],
   "source": [
    "#import libraries\n",
    "import numpy as np\n",
    "import pandas as pd\n",
    "import matplotlib.pyplot as plt\n",
    "\n",
    "from sklearn.model_selection import train_test_split, cross_val_score\n",
    "from sklearn.neighbors import KNeighborsClassifier\n",
    "from sklearn.preprocessing import StandardScaler\n",
    "from sklearn.metrics import accuracy_score"
   ]
  },
  {
   "cell_type": "code",
   "execution_count": 2,
   "id": "b5e7f3c0",
   "metadata": {},
   "outputs": [
    {
     "data": {
      "text/html": [
       "<div>\n",
       "<style scoped>\n",
       "    .dataframe tbody tr th:only-of-type {\n",
       "        vertical-align: middle;\n",
       "    }\n",
       "\n",
       "    .dataframe tbody tr th {\n",
       "        vertical-align: top;\n",
       "    }\n",
       "\n",
       "    .dataframe thead th {\n",
       "        text-align: right;\n",
       "    }\n",
       "</style>\n",
       "<table border=\"1\" class=\"dataframe\">\n",
       "  <thead>\n",
       "    <tr style=\"text-align: right;\">\n",
       "      <th></th>\n",
       "      <th>Pregnancies</th>\n",
       "      <th>Glucose</th>\n",
       "      <th>BloodPressure</th>\n",
       "      <th>SkinThickness</th>\n",
       "      <th>Insulin</th>\n",
       "      <th>BMI</th>\n",
       "      <th>DiabetesPedigreeFunction</th>\n",
       "      <th>Age</th>\n",
       "      <th>Outcome</th>\n",
       "    </tr>\n",
       "  </thead>\n",
       "  <tbody>\n",
       "    <tr>\n",
       "      <th>0</th>\n",
       "      <td>6</td>\n",
       "      <td>148</td>\n",
       "      <td>72</td>\n",
       "      <td>35</td>\n",
       "      <td>0</td>\n",
       "      <td>33.6</td>\n",
       "      <td>0.627</td>\n",
       "      <td>50</td>\n",
       "      <td>1</td>\n",
       "    </tr>\n",
       "    <tr>\n",
       "      <th>1</th>\n",
       "      <td>1</td>\n",
       "      <td>85</td>\n",
       "      <td>66</td>\n",
       "      <td>29</td>\n",
       "      <td>0</td>\n",
       "      <td>26.6</td>\n",
       "      <td>0.351</td>\n",
       "      <td>31</td>\n",
       "      <td>0</td>\n",
       "    </tr>\n",
       "    <tr>\n",
       "      <th>2</th>\n",
       "      <td>8</td>\n",
       "      <td>183</td>\n",
       "      <td>64</td>\n",
       "      <td>0</td>\n",
       "      <td>0</td>\n",
       "      <td>23.3</td>\n",
       "      <td>0.672</td>\n",
       "      <td>32</td>\n",
       "      <td>1</td>\n",
       "    </tr>\n",
       "    <tr>\n",
       "      <th>3</th>\n",
       "      <td>1</td>\n",
       "      <td>89</td>\n",
       "      <td>66</td>\n",
       "      <td>23</td>\n",
       "      <td>94</td>\n",
       "      <td>28.1</td>\n",
       "      <td>0.167</td>\n",
       "      <td>21</td>\n",
       "      <td>0</td>\n",
       "    </tr>\n",
       "    <tr>\n",
       "      <th>4</th>\n",
       "      <td>0</td>\n",
       "      <td>137</td>\n",
       "      <td>40</td>\n",
       "      <td>35</td>\n",
       "      <td>168</td>\n",
       "      <td>43.1</td>\n",
       "      <td>2.288</td>\n",
       "      <td>33</td>\n",
       "      <td>1</td>\n",
       "    </tr>\n",
       "  </tbody>\n",
       "</table>\n",
       "</div>"
      ],
      "text/plain": [
       "   Pregnancies  Glucose  BloodPressure  SkinThickness  Insulin   BMI  \\\n",
       "0            6      148             72             35        0  33.6   \n",
       "1            1       85             66             29        0  26.6   \n",
       "2            8      183             64              0        0  23.3   \n",
       "3            1       89             66             23       94  28.1   \n",
       "4            0      137             40             35      168  43.1   \n",
       "\n",
       "   DiabetesPedigreeFunction  Age  Outcome  \n",
       "0                     0.627   50        1  \n",
       "1                     0.351   31        0  \n",
       "2                     0.672   32        1  \n",
       "3                     0.167   21        0  \n",
       "4                     2.288   33        1  "
      ]
     },
     "execution_count": 2,
     "metadata": {},
     "output_type": "execute_result"
    }
   ],
   "source": [
    "diabetes_df = pd.read_csv(\"diabetes.csv\")\n",
    "diabetes_df.head()"
   ]
  },
  {
   "cell_type": "code",
   "execution_count": 4,
   "id": "a3be8bc8",
   "metadata": {},
   "outputs": [
    {
     "name": "stdout",
     "output_type": "stream",
     "text": [
      "Our optimal k value is: 7\n",
      "Maximum Accuracy corresponding to optimal k is: 0.77466251298027\n"
     ]
    },
    {
     "data": {
      "text/plain": [
       "<function matplotlib.pyplot.show(close=None, block=None)>"
      ]
     },
     "execution_count": 4,
     "metadata": {},
     "output_type": "execute_result"
    },
    {
     "data": {
      "image/png": "[encoded data removed]",
      "text/plain": [
       "<Figure size 432x288 with 1 Axes>"
      ]
     },
     "metadata": {
      "needs_background": "light"
     },
     "output_type": "display_data"
    }
   ],
   "source": [
    "# X to be passed as array with 8 input variables and y as array with 1 output variable.\n",
    "X = np.array(diabetes_df.iloc[:, 0:8])\n",
    "y = np.array(diabetes_df['Outcome'])\n",
    "\n",
    "# splitting up data into test data and training data\n",
    "X_train, X_test, y_train, y_test = train_test_split(X, y, test_size=0.3, random_state=42)\n",
    "sc = StandardScaler()\n",
    "X_train = sc.fit_transform(X_train)\n",
    "X_test = sc.fit_transform(X_test)\n",
    "\n",
    "k_values = [i for i in range(1, 60, 1)] # using range() to simplify for loop and return k-value\n",
    "\n",
    "k_acc_scores= [] \n",
    "\n",
    "for k in k_values:\n",
    "    knn = KNeighborsClassifier(n_neighbors=k, n_jobs=-1)\n",
    "    knn.fit(X_train, y_train) \n",
    "    y_predict = knn.predict(X_test)\n",
    "    cv_scores = cross_val_score(knn, X_train, y_train, cv=5, scoring ='accuracy') \n",
    "    k_acc_scores.append(cv_scores.mean())\n",
    "    \n",
    "optimal_k = k_values[k_acc_scores.index(max(k_acc_scores))] \n",
    "max_acc = max(k_acc_scores)\n",
    "\n",
    "print(\"Our optimal k value is:\", (optimal_k))\n",
    "print(\"Maximum Accuracy corresponding to optimal k is:\", max_acc)\n",
    "\n",
    "# plot to show k-value and accuracy\n",
    "plt.plot(k_values, k_acc_scores)\n",
    "plt.xlabel('K - value')\n",
    "plt.ylabel('Accuracy')\n",
    "plt.show"
   ]
  },
  {
   "cell_type": "markdown",
   "id": "02e15eab",
   "metadata": {},
   "source": [
    "3.How did the panel influence your thoughts about working in tech, specifically work in the\n",
    "data realm? Discuss with your group and summarize your thoughts in under 250 words"
   ]
  },
  {
   "cell_type": "markdown",
   "id": "734a9c2a",
   "metadata": {},
   "source": [
    "* It just took me a while, to think about myself before attempting this question, and i realised how bad i am at speaking.\n",
    "\n",
    "* All the guests in the panel, influenced my thougts, firstly as Susan, said about foundations and fundaments that we need to \n",
    "understand not only they are helpful in our day to day life but also in exploring those fundamental skills to different kinds \n",
    "of work we do.\n",
    "\n",
    "* Understanding the data from business perspective. without prior knowledge and understanding the business, it's just like \n",
    "solving the problem based on math or algorithm using datascience. so, if we understand the business we can imporve our code \n",
    "and deal with it in business point of view.\n",
    "\n",
    "* Being able to keep ourselves excited and passionate about what we do.\n",
    "\n",
    "* communication is also one of the important thing that all the speakers talked about.\n",
    "\n",
    "* Somtimes when we have to deal with weird data as its not the data what we are look for. In such cases i got to know how\n",
    "important it is for us to be patient and keep learning all the time as they look for clear learners is note worthy.\n",
    "\n",
    "* As Jeromey, spoke excellently about how we see things differently, also how to think about solving the problems, the way we think and \n",
    "how we deal with challenges in life and he talked about team work, honestly this helped me many times.\n",
    "\n",
    "* Note from Susan about taking help from others if we have trouble and not getting out of it from more than 30 min or so and you just need\n",
    "other eyes on it is really worth practicing.\n",
    "\n",
    "* I would like to conculde here, and thanks Alexis for taking an initiative to inspire us by inviting such prodigal guests on this platform.\n",
    "All the speakers including you really motivated us. Finally, many thanks to you and all the Guests in the panel.\n",
    "\n",
    "\n",
    "\n"
   ]
  }
 ],
 "metadata": {
  "kernelspec": {
   "display_name": "Python 3 (ipykernel)",
   "language": "python",
   "name": "python3"
  },
  "language_info": {
   "codemirror_mode": {
    "name": "ipython",
    "version": 3
   },
   "file_extension": ".py",
   "mimetype": "text/x-python",
   "name": "python",
   "nbconvert_exporter": "python",
   "pygments_lexer": "ipython3",
   "version": "3.9.7"
  }
 },
 "nbformat": 4,
 "nbformat_minor": 5
}
