{
 "cells": [
  {
   "cell_type": "markdown",
   "id": "f4edc026",
   "metadata": {},
   "source": [
    "# week-18 class"
   ]
  },
  {
   "cell_type": "markdown",
   "id": "b78ff881",
   "metadata": {},
   "source": [
    "1. Look up the Adam optimization functions in PyTorch\n",
    "https://pytorch.org/docs/stable/optim.html . How does it work? Try at least one other\n",
    "optimization function with the diabetes dataset shown in class. How does the model\n",
    "perform with the new optimizer? Did it perform better or worse than Adam? Why do you\n",
    "think that is?\n"
   ]
  },
  {
   "cell_type": "code",
   "execution_count": 140,
   "id": "aa8ec025",
   "metadata": {},
   "outputs": [],
   "source": [
    "import pandas as pd\n",
    "import numpy as np\n",
    "from sklearn import tree\n",
    "from sklearn.metrics import classification_report, plot_confusion_matrix\n",
    "import pydotplus\n",
    "\n",
    "\n",
    "from imblearn.pipeline import Pipeline\n",
    "import matplotlib.pyplot as plt\n",
    "from sklearn.datasets import make_classification\n",
    "from sklearn.model_selection import cross_validate\n",
    "from sklearn.model_selection import RepeatedStratifiedKFold\n",
    "from sklearn.ensemble import AdaBoostClassifier\n",
    "from imblearn.combine import SMOTEENN\n",
    "from imblearn.under_sampling import EditedNearestNeighbours\n",
    "from IPython.display import Image"
   ]
  },
  {
   "cell_type": "code",
   "execution_count": 252,
   "id": "df4cc613",
   "metadata": {},
   "outputs": [
    {
     "data": {
      "text/html": [
       "<div>\n",
       "<style scoped>\n",
       "    .dataframe tbody tr th:only-of-type {\n",
       "        vertical-align: middle;\n",
       "    }\n",
       "\n",
       "    .dataframe tbody tr th {\n",
       "        vertical-align: top;\n",
       "    }\n",
       "\n",
       "    .dataframe thead th {\n",
       "        text-align: right;\n",
       "    }\n",
       "</style>\n",
       "<table border=\"1\" class=\"dataframe\">\n",
       "  <thead>\n",
       "    <tr style=\"text-align: right;\">\n",
       "      <th></th>\n",
       "      <th>Pregnancies</th>\n",
       "      <th>Glucose</th>\n",
       "      <th>BloodPressure</th>\n",
       "      <th>SkinThickness</th>\n",
       "      <th>Insulin</th>\n",
       "      <th>BMI</th>\n",
       "      <th>DiabetesPedigreeFunction</th>\n",
       "      <th>Age</th>\n",
       "      <th>Outcome</th>\n",
       "    </tr>\n",
       "  </thead>\n",
       "  <tbody>\n",
       "    <tr>\n",
       "      <th>0</th>\n",
       "      <td>6</td>\n",
       "      <td>148</td>\n",
       "      <td>72</td>\n",
       "      <td>35</td>\n",
       "      <td>0</td>\n",
       "      <td>33.6</td>\n",
       "      <td>0.627</td>\n",
       "      <td>50</td>\n",
       "      <td>1</td>\n",
       "    </tr>\n",
       "    <tr>\n",
       "      <th>1</th>\n",
       "      <td>1</td>\n",
       "      <td>85</td>\n",
       "      <td>66</td>\n",
       "      <td>29</td>\n",
       "      <td>0</td>\n",
       "      <td>26.6</td>\n",
       "      <td>0.351</td>\n",
       "      <td>31</td>\n",
       "      <td>0</td>\n",
       "    </tr>\n",
       "    <tr>\n",
       "      <th>2</th>\n",
       "      <td>8</td>\n",
       "      <td>183</td>\n",
       "      <td>64</td>\n",
       "      <td>0</td>\n",
       "      <td>0</td>\n",
       "      <td>23.3</td>\n",
       "      <td>0.672</td>\n",
       "      <td>32</td>\n",
       "      <td>1</td>\n",
       "    </tr>\n",
       "    <tr>\n",
       "      <th>3</th>\n",
       "      <td>1</td>\n",
       "      <td>89</td>\n",
       "      <td>66</td>\n",
       "      <td>23</td>\n",
       "      <td>94</td>\n",
       "      <td>28.1</td>\n",
       "      <td>0.167</td>\n",
       "      <td>21</td>\n",
       "      <td>0</td>\n",
       "    </tr>\n",
       "    <tr>\n",
       "      <th>4</th>\n",
       "      <td>0</td>\n",
       "      <td>137</td>\n",
       "      <td>40</td>\n",
       "      <td>35</td>\n",
       "      <td>168</td>\n",
       "      <td>43.1</td>\n",
       "      <td>2.288</td>\n",
       "      <td>33</td>\n",
       "      <td>1</td>\n",
       "    </tr>\n",
       "  </tbody>\n",
       "</table>\n",
       "</div>"
      ],
      "text/plain": [
       "   Pregnancies  Glucose  BloodPressure  SkinThickness  Insulin   BMI  \\\n",
       "0            6      148             72             35        0  33.6   \n",
       "1            1       85             66             29        0  26.6   \n",
       "2            8      183             64              0        0  23.3   \n",
       "3            1       89             66             23       94  28.1   \n",
       "4            0      137             40             35      168  43.1   \n",
       "\n",
       "   DiabetesPedigreeFunction  Age  Outcome  \n",
       "0                     0.627   50        1  \n",
       "1                     0.351   31        0  \n",
       "2                     0.672   32        1  \n",
       "3                     0.167   21        0  \n",
       "4                     2.288   33        1  "
      ]
     },
     "execution_count": 252,
     "metadata": {},
     "output_type": "execute_result"
    }
   ],
   "source": [
    "diabetes_df = pd.read_csv(\"A:\\launch_code_STL\\Final_Homework\\week-13\\diabetes.csv\")\n",
    "diabetes_df.head()"
   ]
  },
  {
   "cell_type": "code",
   "execution_count": 253,
   "id": "56a4258e",
   "metadata": {},
   "outputs": [],
   "source": [
    "from sklearn.model_selection import train_test_split\n",
    "from sklearn.preprocessing import StandardScaler\n",
    "\n",
    "X = diabetes_df.drop('Outcome', axis=1).values\n",
    "y = diabetes_df['Outcome'].values\n",
    "\n",
    "# Split into training and test set\n",
    "X_train, X_test, y_train, y_test = train_test_split(X, y, test_size = 0.3, random_state=42, stratify=y)\n",
    "\n",
    "# #Standardize the data\n",
    "sc= StandardScaler()\n",
    "X_train=sc.fit_transform(X_train)\n",
    "X_test=sc.fit_transform(X_test)"
   ]
  },
  {
   "cell_type": "code",
   "execution_count": 254,
   "id": "fee754a7",
   "metadata": {},
   "outputs": [
    {
     "name": "stdout",
     "output_type": "stream",
     "text": [
      "tensor([[ 0.9314,  2.0179,  0.7807,  ...,  0.4315, -0.3748,  0.6321],\n",
      "        [ 0.6326, -1.1486,  0.4654,  ..., -0.1198, -0.2942,  0.7170],\n",
      "        [-0.5625, -0.4769, -0.2703,  ..., -0.2096,  2.7452,  0.0381],\n",
      "        ...,\n",
      "        [-0.8613, -0.7648,  0.0450,  ...,  0.7648, -0.7838, -0.3014],\n",
      "        [ 0.6326,  2.2099,  1.2010,  ...,  0.4315, -0.6047,  2.7537],\n",
      "        [ 0.0351,  0.7385, -0.5856,  ..., -0.3378, -0.5778,  0.2927]])\n"
     ]
    }
   ],
   "source": [
    "import torch.nn as nn\n",
    "import torch\n",
    "import torch.nn.functional as F # Activation function\n",
    "\n",
    "#create tensors \n",
    "X_train = torch.FloatTensor(X_train) \n",
    "X_test = torch.FloatTensor(X_test)\n",
    "\n",
    "y_train = torch.LongTensor(y_train)\n",
    "y_test = torch.LongTensor(y_test)\n",
    "\n",
    "print(X_train)"
   ]
  },
  {
   "cell_type": "code",
   "execution_count": 255,
   "id": "20cdd3c7",
   "metadata": {},
   "outputs": [],
   "source": [
    "#artificial neural network\n",
    "class ANN_Model(nn.Module):\n",
    "    def __init__(self, input_features=8,hidden1=20,hidden2=20,out_features=2):\n",
    "        super().__init__() #super is a computed indirect reference. So, it isolates changes\n",
    "        self.layer_1_connection = nn.Linear(input_features, hidden1)\n",
    "        self.layer_2_connection = nn.Linear(hidden1, hidden2)\n",
    "        self.out = nn.Linear(hidden2, out_features)\n",
    "        \n",
    "    def forward(self, x):\n",
    "        #apply activation functions\n",
    "        x = F.relu(self.layer_1_connection(x))\n",
    "        x = F.relu(self.layer_2_connection(x))\n",
    "        x = self.out(x)\n",
    "        return x"
   ]
  },
  {
   "cell_type": "code",
   "execution_count": 256,
   "id": "af2689ba",
   "metadata": {},
   "outputs": [],
   "source": [
    "torch.manual_seed(42)\n",
    "\n",
    "#create instance of model\n",
    "ann = ANN_Model()"
   ]
  },
  {
   "cell_type": "code",
   "execution_count": 257,
   "id": "22d5fd71",
   "metadata": {},
   "outputs": [],
   "source": [
    "#loss function\n",
    "loss_function = nn.CrossEntropyLoss()\n",
    "\n",
    "#optimizer\n",
    "optimizer = torch.optim.SGD(ann.parameters(), lr=0.01, momentum=0.7)\n",
    "# optimizer = torch.optim.Adam(ann.parameters(),lr=0.01)\n",
    "# optimizer = torch.optim.RMSprop(ann.parameters(), lr=0.02) \n",
    "# optimizer = torch.optim.Adadelta(ann.parameters(), lr=1.0, rho=0.9, eps=1e-06, weight_decay=0)\n",
    "# optimizer = torch.optim.Adagrad(ann.parameters(), lr=0.01)\n",
    "# optimizer =torch.optim.AdamW(ann.parameters(), lr=0.001, betas=(0.9, 0.999), eps=1e-08, weight_decay=0.01, amsgrad=False)\n",
    "# optimizer = torch.optim.SparseAdam(ann.parameters(), lr=0.001, betas=(0.9, 0.999), eps=1e-08)\n",
    "# optimizer = torch.optim.Adamax(ann.parameters(), lr=0.005)\n",
    "# optimizer = torch.optim.NAdam(ann.parameters(), lr=0.002, betas=(0.9, 0.999), eps=1e-08, weight_decay=0, momentum_decay=0.004)\n",
    "# optimizer = torch.optim.RAdam(ann.parameters(), lr=0.001, betas=(0.9, 0.999), eps=1e-08, weight_decay=0)\n",
    "# optimizer = torch.optim.Rprop(ann.parameters(), lr=0.01, etas=(0.5, 1.2), step_sizes=(1e-06, 50))\n"
   ]
  },
  {
   "cell_type": "code",
   "execution_count": 258,
   "id": "ad80ce90",
   "metadata": {},
   "outputs": [
    {
     "name": "stdout",
     "output_type": "stream",
     "text": [
      "Epoch number: 1 with loss: 0.6608980894088745\n",
      "Epoch number: 11 with loss: 0.6561811566352844\n",
      "Epoch number: 21 with loss: 0.6515836119651794\n",
      "Epoch number: 31 with loss: 0.6476818323135376\n",
      "Epoch number: 41 with loss: 0.6441858410835266\n",
      "Epoch number: 51 with loss: 0.6408833265304565\n",
      "Epoch number: 61 with loss: 0.6376416087150574\n",
      "Epoch number: 71 with loss: 0.6343832612037659\n",
      "Epoch number: 81 with loss: 0.6310698390007019\n",
      "Epoch number: 91 with loss: 0.6276214718818665\n",
      "Epoch number: 101 with loss: 0.6240186095237732\n",
      "Epoch number: 111 with loss: 0.6202120184898376\n",
      "Epoch number: 121 with loss: 0.6161925792694092\n",
      "Epoch number: 131 with loss: 0.6119955778121948\n",
      "Epoch number: 141 with loss: 0.6075876951217651\n",
      "Epoch number: 151 with loss: 0.602949857711792\n",
      "Epoch number: 161 with loss: 0.5981548428535461\n",
      "Epoch number: 171 with loss: 0.5932035446166992\n",
      "Epoch number: 181 with loss: 0.5881384611129761\n",
      "Epoch number: 191 with loss: 0.5829936265945435\n",
      "Epoch number: 201 with loss: 0.577807605266571\n",
      "Epoch number: 211 with loss: 0.5725743174552917\n",
      "Epoch number: 221 with loss: 0.5672802329063416\n",
      "Epoch number: 231 with loss: 0.561983048915863\n",
      "Epoch number: 241 with loss: 0.556724488735199\n",
      "Epoch number: 251 with loss: 0.5515629649162292\n",
      "Epoch number: 261 with loss: 0.5464996099472046\n",
      "Epoch number: 271 with loss: 0.5415197610855103\n",
      "Epoch number: 281 with loss: 0.5366751551628113\n",
      "Epoch number: 291 with loss: 0.5319542288780212\n",
      "Epoch number: 301 with loss: 0.5273848176002502\n",
      "Epoch number: 311 with loss: 0.5229828953742981\n",
      "Epoch number: 321 with loss: 0.5187240839004517\n",
      "Epoch number: 331 with loss: 0.5146170258522034\n",
      "Epoch number: 341 with loss: 0.5106525421142578\n",
      "Epoch number: 351 with loss: 0.5068711638450623\n",
      "Epoch number: 361 with loss: 0.5032752752304077\n",
      "Epoch number: 371 with loss: 0.49983707070350647\n",
      "Epoch number: 381 with loss: 0.49652326107025146\n",
      "Epoch number: 391 with loss: 0.4933510422706604\n",
      "Epoch number: 401 with loss: 0.4904195964336395\n",
      "Epoch number: 411 with loss: 0.48766571283340454\n",
      "Epoch number: 421 with loss: 0.4850431978702545\n",
      "Epoch number: 431 with loss: 0.4825373589992523\n",
      "Epoch number: 441 with loss: 0.4801189601421356\n",
      "Epoch number: 451 with loss: 0.47787031531333923\n",
      "Epoch number: 461 with loss: 0.47576072812080383\n",
      "Epoch number: 471 with loss: 0.47375810146331787\n",
      "Epoch number: 481 with loss: 0.4718446731567383\n",
      "Epoch number: 491 with loss: 0.469969779253006\n"
     ]
    }
   ],
   "source": [
    "#run model through multiple epochs/iterations\n",
    "final_loss = []\n",
    "n_epochs = 500\n",
    "for epoch in range(n_epochs):\n",
    "    y_pred = ann.forward(X_train)\n",
    "    loss = loss_function(y_pred, y_train)\n",
    "    final_loss.append(loss)\n",
    "    \n",
    "    if epoch % 10 == 1:\n",
    "        print(f'Epoch number: {epoch} with loss: {loss}')\n",
    "        \n",
    "    optimizer.zero_grad() #zero the gradient before running backwards propagation\n",
    "    loss.backward() \n",
    "    optimizer.step() #perform one optimization step each epoch"
   ]
  },
  {
   "cell_type": "code",
   "execution_count": 259,
   "id": "fa046448",
   "metadata": {},
   "outputs": [],
   "source": [
    "#predictions\n",
    "y_pred = []\n",
    "\n",
    "with torch.no_grad():\n",
    "    for i, data in enumerate(X_test):\n",
    "        prediction = ann(data)\n",
    "        y_pred.append(prediction.argmax()) "
   ]
  },
  {
   "cell_type": "code",
   "execution_count": 260,
   "id": "715774cd",
   "metadata": {},
   "outputs": [
    {
     "name": "stdout",
     "output_type": "stream",
     "text": [
      "              precision    recall  f1-score   support\n",
      "\n",
      "           0       0.80      0.85      0.82       150\n",
      "           1       0.68      0.62      0.65        81\n",
      "\n",
      "    accuracy                           0.77       231\n",
      "   macro avg       0.74      0.73      0.74       231\n",
      "weighted avg       0.76      0.77      0.76       231\n",
      "\n"
     ]
    }
   ],
   "source": [
    "from sklearn.metrics import classification_report\n",
    "\n",
    "print(classification_report(y_test, y_pred))"
   ]
  },
  {
   "cell_type": "markdown",
   "id": "750a7a27",
   "metadata": {},
   "source": [
    "Among all the Adam Optimizers i found the best results with SGD, stochastic gradient descent (optionally with momentum), also i tried changing the loss function but that doesn't work for me.\n",
    "The new optimizer-SDG(stochastic gradient descent) performed relatively better, when compared to Adam in class this may be because\n",
    "of random selection of the sample for each iteration instead of sum all the samples in the dataset. \n",
    "From the classification_report the precision and recall values are 68 and 62 respectively, which are not bad when compared to Adam optimizer.\n"
   ]
  },
  {
   "cell_type": "markdown",
   "id": "4580dac0",
   "metadata": {},
   "source": [
    "2. Write a function that lists and counts the number of divisors for an input value.\n",
    "Example 1:\n",
    "    \n",
    "Input: 5\n",
    "    \n",
    "Output: “There are 2 divisors: 1 and 5”\n",
    "Example 2:\n",
    "    \n",
    "Input: 40\n",
    "    \n",
    "Output: “There are 8 divisors: 1, 2, 4, 5, 8, 10, 20, and 40\""
   ]
  },
  {
   "cell_type": "code",
   "execution_count": 129,
   "id": "42988064",
   "metadata": {},
   "outputs": [],
   "source": [
    "# define function divisor_count that counts the number of divisors for the input value\n",
    "def divisor_count (x):\n",
    "    divisors = []\n",
    "    if x == 1:\n",
    "        print(f'There is 1 divisor: 1')\n",
    "    for i in range(1, x+1):\n",
    "        if x%i==0:\n",
    "            divisors.append(i)\n",
    "    print(f'There are {len(divisors)} divisor : {str((divisors)[:-1])[1:-1]} and {divisors[-1]}')"
   ]
  },
  {
   "cell_type": "code",
   "execution_count": 130,
   "id": "020827a4",
   "metadata": {},
   "outputs": [
    {
     "name": "stdout",
     "output_type": "stream",
     "text": [
      "There are 2 divisor : 1 and 5\n"
     ]
    }
   ],
   "source": [
    "divisor_count(5)"
   ]
  },
  {
   "cell_type": "code",
   "execution_count": 131,
   "id": "f1c50921",
   "metadata": {},
   "outputs": [
    {
     "name": "stdout",
     "output_type": "stream",
     "text": [
      "There are 8 divisor : 1, 2, 4, 5, 8, 10, 20 and 40\n"
     ]
    }
   ],
   "source": [
    "divisor_count(40)"
   ]
  }
 ],
 "metadata": {
  "kernelspec": {
   "display_name": "Python 3 (ipykernel)",
   "language": "python",
   "name": "python3"
  },
  "language_info": {
   "codemirror_mode": {
    "name": "ipython",
    "version": 3
   },
   "file_extension": ".py",
   "mimetype": "text/x-python",
   "name": "python",
   "nbconvert_exporter": "python",
   "pygments_lexer": "ipython3",
   "version": "3.9.7"
  }
 },
 "nbformat": 4,
 "nbformat_minor": 5
}
