{
 "cells": [
  {
   "cell_type": "markdown",
   "id": "f4edc026",
   "metadata": {},
   "source": [
    "# week-18 class"
   ]
  },
  {
   "cell_type": "markdown",
   "id": "b78ff881",
   "metadata": {},
   "source": [
    "1. Look up the Adam optimization functions in PyTorch\n",
    "https://pytorch.org/docs/stable/optim.html . How does it work? Try at least one other\n",
    "optimization function with the diabetes dataset shown in class. How does the model\n",
    "perform with the new optimizer? Did it perform better or worse than Adam? Why do you\n",
    "think that is?\n"
   ]
  },
  {
   "cell_type": "code",
   "execution_count": 94,
   "id": "aa8ec025",
   "metadata": {},
   "outputs": [],
   "source": [
    "import pandas as pd\n",
    "import numpy as np\n",
    "from sklearn import tree\n",
    "from sklearn.metrics import classification_report, plot_confusion_matrix\n",
    "import pydotplus\n",
    "\n",
    "\n",
    "from imblearn.pipeline import Pipeline\n",
    "import matplotlib.pyplot as plt\n",
    "from sklearn.datasets import make_classification\n",
    "from sklearn.model_selection import cross_validate\n",
    "from sklearn.model_selection import RepeatedStratifiedKFold\n",
    "from sklearn.ensemble import AdaBoostClassifier\n",
    "from imblearn.combine import SMOTEENN\n",
    "from imblearn.under_sampling import EditedNearestNeighbours\n",
    "from IPython.display import Image"
   ]
  },
  {
   "cell_type": "code",
   "execution_count": 115,
   "id": "df4cc613",
   "metadata": {},
   "outputs": [
    {
     "data": {
      "text/html": [
       "<div>\n",
       "<style scoped>\n",
       "    .dataframe tbody tr th:only-of-type {\n",
       "        vertical-align: middle;\n",
       "    }\n",
       "\n",
       "    .dataframe tbody tr th {\n",
       "        vertical-align: top;\n",
       "    }\n",
       "\n",
       "    .dataframe thead th {\n",
       "        text-align: right;\n",
       "    }\n",
       "</style>\n",
       "<table border=\"1\" class=\"dataframe\">\n",
       "  <thead>\n",
       "    <tr style=\"text-align: right;\">\n",
       "      <th></th>\n",
       "      <th>Pregnancies</th>\n",
       "      <th>Glucose</th>\n",
       "      <th>BloodPressure</th>\n",
       "      <th>SkinThickness</th>\n",
       "      <th>Insulin</th>\n",
       "      <th>BMI</th>\n",
       "      <th>DiabetesPedigreeFunction</th>\n",
       "      <th>Age</th>\n",
       "      <th>Outcome</th>\n",
       "    </tr>\n",
       "  </thead>\n",
       "  <tbody>\n",
       "    <tr>\n",
       "      <th>0</th>\n",
       "      <td>6</td>\n",
       "      <td>148</td>\n",
       "      <td>72</td>\n",
       "      <td>35</td>\n",
       "      <td>0</td>\n",
       "      <td>33.6</td>\n",
       "      <td>0.627</td>\n",
       "      <td>50</td>\n",
       "      <td>1</td>\n",
       "    </tr>\n",
       "    <tr>\n",
       "      <th>1</th>\n",
       "      <td>1</td>\n",
       "      <td>85</td>\n",
       "      <td>66</td>\n",
       "      <td>29</td>\n",
       "      <td>0</td>\n",
       "      <td>26.6</td>\n",
       "      <td>0.351</td>\n",
       "      <td>31</td>\n",
       "      <td>0</td>\n",
       "    </tr>\n",
       "    <tr>\n",
       "      <th>2</th>\n",
       "      <td>8</td>\n",
       "      <td>183</td>\n",
       "      <td>64</td>\n",
       "      <td>0</td>\n",
       "      <td>0</td>\n",
       "      <td>23.3</td>\n",
       "      <td>0.672</td>\n",
       "      <td>32</td>\n",
       "      <td>1</td>\n",
       "    </tr>\n",
       "    <tr>\n",
       "      <th>3</th>\n",
       "      <td>1</td>\n",
       "      <td>89</td>\n",
       "      <td>66</td>\n",
       "      <td>23</td>\n",
       "      <td>94</td>\n",
       "      <td>28.1</td>\n",
       "      <td>0.167</td>\n",
       "      <td>21</td>\n",
       "      <td>0</td>\n",
       "    </tr>\n",
       "    <tr>\n",
       "      <th>4</th>\n",
       "      <td>0</td>\n",
       "      <td>137</td>\n",
       "      <td>40</td>\n",
       "      <td>35</td>\n",
       "      <td>168</td>\n",
       "      <td>43.1</td>\n",
       "      <td>2.288</td>\n",
       "      <td>33</td>\n",
       "      <td>1</td>\n",
       "    </tr>\n",
       "  </tbody>\n",
       "</table>\n",
       "</div>"
      ],
      "text/plain": [
       "   Pregnancies  Glucose  BloodPressure  SkinThickness  Insulin   BMI  \\\n",
       "0            6      148             72             35        0  33.6   \n",
       "1            1       85             66             29        0  26.6   \n",
       "2            8      183             64              0        0  23.3   \n",
       "3            1       89             66             23       94  28.1   \n",
       "4            0      137             40             35      168  43.1   \n",
       "\n",
       "   DiabetesPedigreeFunction  Age  Outcome  \n",
       "0                     0.627   50        1  \n",
       "1                     0.351   31        0  \n",
       "2                     0.672   32        1  \n",
       "3                     0.167   21        0  \n",
       "4                     2.288   33        1  "
      ]
     },
     "execution_count": 115,
     "metadata": {},
     "output_type": "execute_result"
    }
   ],
   "source": [
    "diabetes_df = pd.read_csv(\"A:\\launch_code_STL\\Final_Homework\\week-13\\diabetes.csv\")\n",
    "diabetes_df.head()"
   ]
  },
  {
   "cell_type": "code",
   "execution_count": 116,
   "id": "56a4258e",
   "metadata": {},
   "outputs": [],
   "source": [
    "from sklearn.model_selection import train_test_split\n",
    "from sklearn.preprocessing import StandardScaler\n",
    "\n",
    "X = diabetes_df.drop('Outcome', axis=1).values\n",
    "y = diabetes_df['Outcome'].values\n",
    "\n",
    "# Split into training and test set\n",
    "X_train, X_test, y_train, y_test = train_test_split(X, y, test_size = 0.3, random_state=42, stratify=y)\n",
    "\n",
    "# #Standardize\n",
    "sc= StandardScaler()\n",
    "X_train=sc.fit_transform(X_train)\n",
    "X_test=sc.fit_transform(X_test)"
   ]
  },
  {
   "cell_type": "code",
   "execution_count": 117,
   "id": "fee754a7",
   "metadata": {},
   "outputs": [
    {
     "name": "stdout",
     "output_type": "stream",
     "text": [
      "tensor([[ 0.9314,  2.0179,  0.7807,  ...,  0.4315, -0.3748,  0.6321],\n",
      "        [ 0.6326, -1.1486,  0.4654,  ..., -0.1198, -0.2942,  0.7170],\n",
      "        [-0.5625, -0.4769, -0.2703,  ..., -0.2096,  2.7452,  0.0381],\n",
      "        ...,\n",
      "        [-0.8613, -0.7648,  0.0450,  ...,  0.7648, -0.7838, -0.3014],\n",
      "        [ 0.6326,  2.2099,  1.2010,  ...,  0.4315, -0.6047,  2.7537],\n",
      "        [ 0.0351,  0.7385, -0.5856,  ..., -0.3378, -0.5778,  0.2927]])\n"
     ]
    }
   ],
   "source": [
    "import torch.nn as nn\n",
    "import torch\n",
    "import torch.nn.functional as F #where the activation functions are\n",
    "\n",
    "#create tensors = matrices \n",
    "X_train = torch.FloatTensor(X_train) \n",
    "X_test = torch.FloatTensor(X_test)\n",
    "\n",
    "y_train = torch.LongTensor(y_train)\n",
    "y_test = torch.LongTensor(y_test)\n",
    "\n",
    "print(X_train)"
   ]
  },
  {
   "cell_type": "code",
   "execution_count": 118,
   "id": "20cdd3c7",
   "metadata": {},
   "outputs": [],
   "source": [
    "#artificial neural network\n",
    "class ANN_Model(nn.Module):\n",
    "    def __init__(self, input_features=8,hidden1=20,hidden2=20,out_features=2):\n",
    "        super().__init__() #super is a computed indirect reference. So, it isolates changes\n",
    "        # and makes sure that children in the layers of multiple inheritence are calling\n",
    "        #the right parents\n",
    "        self.layer_1_connection = nn.Linear(input_features, hidden1)\n",
    "        self.layer_2_connection = nn.Linear(hidden1, hidden2)\n",
    "        self.out = nn.Linear(hidden2, out_features)\n",
    "        \n",
    "    def forward(self, x):\n",
    "        #apply activation functions\n",
    "        x = F.relu(self.layer_1_connection(x))\n",
    "        x = F.relu(self.layer_2_connection(x))\n",
    "        x = self.out(x)\n",
    "        return x"
   ]
  },
  {
   "cell_type": "code",
   "execution_count": 119,
   "id": "af2689ba",
   "metadata": {},
   "outputs": [],
   "source": [
    "torch.manual_seed(42)\n",
    "\n",
    "#create instance of model\n",
    "ann = ANN_Model()"
   ]
  },
  {
   "cell_type": "code",
   "execution_count": 120,
   "id": "22d5fd71",
   "metadata": {},
   "outputs": [],
   "source": [
    "#loss function\n",
    "loss_function = nn.CrossEntropyLoss()\n",
    "\n",
    "#optimizer\n",
    "optimizer = torch.optim.RMSprop(ann.parameters(), lr=0.02) "
   ]
  },
  {
   "cell_type": "code",
   "execution_count": 124,
   "id": "ad80ce90",
   "metadata": {},
   "outputs": [
    {
     "name": "stdout",
     "output_type": "stream",
     "text": [
      "Epoch number: 1 with loss: 0.04200468584895134\n",
      "Epoch number: 11 with loss: 0.0409429557621479\n",
      "Epoch number: 21 with loss: 0.03894254192709923\n",
      "Epoch number: 31 with loss: 0.03622325882315636\n",
      "Epoch number: 41 with loss: 0.034520067274570465\n",
      "Epoch number: 51 with loss: 0.033449381589889526\n",
      "Epoch number: 61 with loss: 0.03359134867787361\n",
      "Epoch number: 71 with loss: 0.034400708973407745\n",
      "Epoch number: 81 with loss: 0.030549263581633568\n",
      "Epoch number: 91 with loss: 0.029543783515691757\n",
      "Epoch number: 101 with loss: 0.028812773525714874\n",
      "Epoch number: 111 with loss: 0.04136135056614876\n",
      "Epoch number: 121 with loss: 0.13556286692619324\n",
      "Epoch number: 131 with loss: 0.08912214636802673\n",
      "Epoch number: 141 with loss: 0.07261896133422852\n",
      "Epoch number: 151 with loss: 0.06898083537817001\n",
      "Epoch number: 161 with loss: 0.05628575012087822\n",
      "Epoch number: 171 with loss: 0.048482898622751236\n",
      "Epoch number: 181 with loss: 0.04606505483388901\n",
      "Epoch number: 191 with loss: 0.04374615475535393\n",
      "Epoch number: 201 with loss: 0.04188928380608559\n",
      "Epoch number: 211 with loss: 0.04116915911436081\n",
      "Epoch number: 221 with loss: 0.0402548685669899\n",
      "Epoch number: 231 with loss: 0.06951673328876495\n",
      "Epoch number: 241 with loss: 0.4087677597999573\n",
      "Epoch number: 251 with loss: 0.05318637937307358\n",
      "Epoch number: 261 with loss: 0.04511198401451111\n",
      "Epoch number: 271 with loss: 0.03997812420129776\n",
      "Epoch number: 281 with loss: 0.037523411214351654\n",
      "Epoch number: 291 with loss: 0.03565419465303421\n",
      "Epoch number: 301 with loss: 0.03301354497671127\n",
      "Epoch number: 311 with loss: 0.030652670189738274\n",
      "Epoch number: 321 with loss: 0.029585091397166252\n",
      "Epoch number: 331 with loss: 0.029032297432422638\n",
      "Epoch number: 341 with loss: 0.06165514141321182\n",
      "Epoch number: 351 with loss: 0.06415345519781113\n",
      "Epoch number: 361 with loss: 0.03852701559662819\n",
      "Epoch number: 371 with loss: 0.03364671766757965\n",
      "Epoch number: 381 with loss: 0.03154482692480087\n",
      "Epoch number: 391 with loss: 0.03048841655254364\n",
      "Epoch number: 401 with loss: 0.02864432893693447\n",
      "Epoch number: 411 with loss: 0.025728898122906685\n",
      "Epoch number: 421 with loss: 0.02400941401720047\n",
      "Epoch number: 431 with loss: 0.02339453436434269\n",
      "Epoch number: 441 with loss: 0.02293260768055916\n",
      "Epoch number: 451 with loss: 0.02284068614244461\n",
      "Epoch number: 461 with loss: 0.022414030507206917\n",
      "Epoch number: 471 with loss: 0.022011933848261833\n",
      "Epoch number: 481 with loss: 0.022299857810139656\n",
      "Epoch number: 491 with loss: 0.021487561985850334\n"
     ]
    }
   ],
   "source": [
    "#run model through multiple epochs/iterations\n",
    "final_loss = []\n",
    "n_epochs = 500\n",
    "for epoch in range(n_epochs):\n",
    "    y_pred = ann.forward(X_train)\n",
    "    loss = loss_function(y_pred, y_train)\n",
    "    final_loss.append(loss)\n",
    "    \n",
    "    if epoch % 10 == 1:\n",
    "        print(f'Epoch number: {epoch} with loss: {loss}')\n",
    "        \n",
    "    optimizer.zero_grad() #zero the gradient before running backwards propagation\n",
    "    loss.backward() \n",
    "    optimizer.step() #perform one optimization step each epoch"
   ]
  },
  {
   "cell_type": "code",
   "execution_count": 125,
   "id": "fa046448",
   "metadata": {},
   "outputs": [],
   "source": [
    "#predictions\n",
    "y_pred = []\n",
    "\n",
    "with torch.no_grad():\n",
    "    for i, data in enumerate(X_test):\n",
    "        prediction = ann(data)\n",
    "        y_pred.append(prediction.argmax()) "
   ]
  },
  {
   "cell_type": "code",
   "execution_count": 126,
   "id": "715774cd",
   "metadata": {},
   "outputs": [
    {
     "name": "stdout",
     "output_type": "stream",
     "text": [
      "              precision    recall  f1-score   support\n",
      "\n",
      "           0       0.77      0.74      0.76       150\n",
      "           1       0.55      0.59      0.57        81\n",
      "\n",
      "    accuracy                           0.69       231\n",
      "   macro avg       0.66      0.67      0.66       231\n",
      "weighted avg       0.69      0.69      0.69       231\n",
      "\n"
     ]
    }
   ],
   "source": [
    "from sklearn.metrics import classification_report\n",
    "\n",
    "print(classification_report(y_test, y_pred))"
   ]
  },
  {
   "cell_type": "code",
   "execution_count": null,
   "id": "07324856",
   "metadata": {},
   "outputs": [],
   "source": []
  },
  {
   "cell_type": "code",
   "execution_count": null,
   "id": "77beb980",
   "metadata": {},
   "outputs": [],
   "source": [
    "# optimizer = torch.optim.Adam(ann.parameters(),lr=0.01)\n",
    "# optimizer = torch.optim.Adagrad(ann.parameters(), lr=0.01)\n",
    "# optimizer = torch.optim.Adadelta(ann.parameters(), lr=0.01)  #56\n",
    "# optimizer = torch.optim.AdamW(ann.parameters(), lr=0.001)  #53\n",
    "# optimizer = torch.optim.Adamax(ann.parameters(), lr=0.005) # 56"
   ]
  },
  {
   "cell_type": "markdown",
   "id": "4580dac0",
   "metadata": {},
   "source": [
    "2. Write a function that lists and counts the number of divisors for an input value.\n",
    "Example 1:\n",
    "    \n",
    "Input: 5\n",
    "    \n",
    "Output: “There are 2 divisors: 1 and 5”\n",
    "Example 2:\n",
    "    \n",
    "Input: 40\n",
    "    \n",
    "Output: “There are 8 divisors: 1, 2, 4, 5, 8, 10, 20, and 40\""
   ]
  },
  {
   "cell_type": "code",
   "execution_count": 129,
   "id": "42988064",
   "metadata": {},
   "outputs": [],
   "source": [
    "def divisor_count (x):\n",
    "    divisors = []\n",
    "    if x == 1:\n",
    "        print(f'There is 1 divisor: 1')\n",
    "    for i in range(1, x+1):\n",
    "        if x%i==0:\n",
    "            divisors.append(i)\n",
    "    print(f'There are {len(divisors)} divisor : {str((divisors)[:-1])[1:-1]} and {divisors[-1]}')"
   ]
  },
  {
   "cell_type": "code",
   "execution_count": 130,
   "id": "020827a4",
   "metadata": {},
   "outputs": [
    {
     "name": "stdout",
     "output_type": "stream",
     "text": [
      "There are 2 divisor : 1 and 5\n"
     ]
    }
   ],
   "source": [
    "divisor_count(5)"
   ]
  },
  {
   "cell_type": "code",
   "execution_count": 131,
   "id": "f1c50921",
   "metadata": {},
   "outputs": [
    {
     "name": "stdout",
     "output_type": "stream",
     "text": [
      "There are 8 divisor : 1, 2, 4, 5, 8, 10, 20 and 40\n"
     ]
    }
   ],
   "source": [
    "divisor_count(40)"
   ]
  }
 ],
 "metadata": {
  "kernelspec": {
   "display_name": "Python 3 (ipykernel)",
   "language": "python",
   "name": "python3"
  },
  "language_info": {
   "codemirror_mode": {
    "name": "ipython",
    "version": 3
   },
   "file_extension": ".py",
   "mimetype": "text/x-python",
   "name": "python",
   "nbconvert_exporter": "python",
   "pygments_lexer": "ipython3",
   "version": "3.9.7"
  }
 },
 "nbformat": 4,
 "nbformat_minor": 5
}
