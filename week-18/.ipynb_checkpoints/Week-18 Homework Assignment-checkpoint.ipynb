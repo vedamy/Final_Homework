{
 "cells": [
  {
   "cell_type": "markdown",
   "id": "31a8f4a5",
   "metadata": {},
   "source": [
    "# Week-18 Homework Assignment"
   ]
  },
  {
   "cell_type": "markdown",
   "id": "94210127",
   "metadata": {},
   "source": [
    "#### 1.\tWhat is a neural network? What are the general steps required to build a neural network? "
   ]
  },
  {
   "cell_type": "markdown",
   "id": "dabd3fe2",
   "metadata": {},
   "source": [
    "#### Neural network\n",
    "A large connected network which is passing the inputs(values) through hidden layers and there is some computation happening\n",
    "to get the desired output. speeding up the process with high efficiency is one of the advantage in artificial neural networks."
   ]
  },
  {
   "cell_type": "code",
   "execution_count": null,
   "id": "ba328b80",
   "metadata": {},
   "outputs": [],
   "source": []
  },
  {
   "cell_type": "markdown",
   "id": "c0a94020",
   "metadata": {},
   "source": [
    "#### 2.\tGenerally, how do you check the performance of a neural network? Why? "
   ]
  },
  {
   "cell_type": "code",
   "execution_count": null,
   "id": "256139b3",
   "metadata": {},
   "outputs": [],
   "source": []
  },
  {
   "cell_type": "code",
   "execution_count": null,
   "id": "c099d64d",
   "metadata": {},
   "outputs": [],
   "source": []
  },
  {
   "cell_type": "code",
   "execution_count": null,
   "id": "583e9918",
   "metadata": {},
   "outputs": [],
   "source": []
  },
  {
   "cell_type": "markdown",
   "id": "ee97a468",
   "metadata": {},
   "source": [
    "#### 3.\tCreate a neural network using keras to predict the outcome of either of these datasets: \n",
    "\n",
    "Cardiac Arrhythmia: https://archive.ics.uci.edu/ml/datasets/Arrhythmia \n",
    "\n",
    "Abalone age: https://archive.ics.uci.edu/ml/datasets/Abalone"
   ]
  },
  {
   "cell_type": "markdown",
   "id": "da918343",
   "metadata": {},
   "source": [
    "The common name for Abalone is sea snail. we can determine the age of the abalone by cutting the shell through the cone,\n",
    "stained and the rings are counted using the microscope. All these is a time consuming process that can be simplified \n",
    "using neural networks. Here, we can predict their age using physical measurements like length, height, weight and\n",
    "other features."
   ]
  },
  {
   "cell_type": "markdown",
   "id": "54164347",
   "metadata": {},
   "source": [
    "Lets import our Abalone dataset and some dependent libraries"
   ]
  },
  {
   "cell_type": "code",
   "execution_count": 2,
   "id": "eb31df3d",
   "metadata": {},
   "outputs": [],
   "source": [
    "import pandas as pd \n",
    "import numpy as np"
   ]
  },
  {
   "cell_type": "code",
   "execution_count": 3,
   "id": "74082566",
   "metadata": {},
   "outputs": [],
   "source": [
    "# import the dataset (Abalone dataset)\n",
    "target_url = (r\"A:\\launch_code_STL\\Final_Homework\\week-17\\abalone.data\")"
   ]
  },
  {
   "cell_type": "code",
   "execution_count": 4,
   "id": "9487baa5",
   "metadata": {},
   "outputs": [
    {
     "name": "stdout",
     "output_type": "stream",
     "text": [
      "(4177, 9)\n",
      "  Sex  Length  Diameter  Height  Whole weight  Shucked weight  Viscera weight  \\\n",
      "0   M   0.455     0.365   0.095        0.5140          0.2245          0.1010   \n",
      "1   M   0.350     0.265   0.090        0.2255          0.0995          0.0485   \n",
      "2   F   0.530     0.420   0.135        0.6770          0.2565          0.1415   \n",
      "3   M   0.440     0.365   0.125        0.5160          0.2155          0.1140   \n",
      "4   I   0.330     0.255   0.080        0.2050          0.0895          0.0395   \n",
      "\n",
      "   Shell weight  Rings  \n",
      "0         0.150     15  \n",
      "1         0.070      7  \n",
      "2         0.210      9  \n",
      "3         0.155     10  \n",
      "4         0.055      7  \n"
     ]
    }
   ],
   "source": [
    "abalone_df = pd.read_csv(target_url,header=None, prefix=\"V\")\n",
    "abalone_df.columns = ['Sex', 'Length', 'Diameter', 'Height',\n",
    "                   'Whole weight', 'Shucked weight',\n",
    "                   'Viscera weight', 'Shell weight', 'Rings']\n",
    "\n",
    "print(abalone_df.shape)\n",
    "print(abalone_df.head())"
   ]
  },
  {
   "cell_type": "markdown",
   "id": "86e49bf3",
   "metadata": {},
   "source": [
    "The dataset contains 4177 samples and each sample has 9 features('Sex', 'Length', 'Diameter', 'Height', 'Whole weight', \n",
    "'Shucked weight', 'Viscera weight', 'Shell weight', 'Rings') The Rings feature is the target variable and as given \n",
    "in the documentation, adding 1.5 to the ring attribute gives the age of the abalone."
   ]
  },
  {
   "cell_type": "markdown",
   "id": "9b32ea79",
   "metadata": {},
   "source": [
    "###  Preprocessing"
   ]
  },
  {
   "cell_type": "markdown",
   "id": "4d43037a",
   "metadata": {},
   "source": [
    "#### Encoding the input columns\n",
    "\n",
    "Out of the 8 input columns, 'Sex' column is a categorical attribute, we need to perform one hot encoding, we use \n",
    "get_dummies() function."
   ]
  },
  {
   "cell_type": "code",
   "execution_count": 5,
   "id": "6c500948",
   "metadata": {},
   "outputs": [],
   "source": [
    "# One hot encoding the sex attribute.\n",
    "df_dummies = pd.get_dummies(abalone_df['Sex'], drop_first = True, prefix = \"Sex_\") # drop_first parameter is set to True, this means\n",
    "                                                                           # that if there are n categories in the column,\n",
    "                                                                           # n-1 columns are returned instead of n.\n",
    "\n",
    "# Inserting dummy columns\n",
    "for column in df_dummies.columns:\n",
    "    abalone_df[column] = df_dummies[column]  # one-hot encoded columns are appended to the data frame\n",
    "    \n",
    "# Dropping the original column\n",
    "abalone_df = abalone_df.drop(columns = ['Sex'])     # original 'Sex' attribute column is dropped"
   ]
  },
  {
   "cell_type": "code",
   "execution_count": 6,
   "id": "e7e21724",
   "metadata": {},
   "outputs": [
    {
     "name": "stdout",
     "output_type": "stream",
     "text": [
      "      Length  Diameter  Height  Whole weight  Shucked weight  Viscera weight  \\\n",
      "0      0.455     0.365   0.095        0.5140          0.2245          0.1010   \n",
      "1      0.350     0.265   0.090        0.2255          0.0995          0.0485   \n",
      "2      0.530     0.420   0.135        0.6770          0.2565          0.1415   \n",
      "3      0.440     0.365   0.125        0.5160          0.2155          0.1140   \n",
      "4      0.330     0.255   0.080        0.2050          0.0895          0.0395   \n",
      "...      ...       ...     ...           ...             ...             ...   \n",
      "4172   0.565     0.450   0.165        0.8870          0.3700          0.2390   \n",
      "4173   0.590     0.440   0.135        0.9660          0.4390          0.2145   \n",
      "4174   0.600     0.475   0.205        1.1760          0.5255          0.2875   \n",
      "4175   0.625     0.485   0.150        1.0945          0.5310          0.2610   \n",
      "4176   0.710     0.555   0.195        1.9485          0.9455          0.3765   \n",
      "\n",
      "      Shell weight  Rings  Sex__I  Sex__M  \n",
      "0           0.1500     15       0       1  \n",
      "1           0.0700      7       0       1  \n",
      "2           0.2100      9       0       0  \n",
      "3           0.1550     10       0       1  \n",
      "4           0.0550      7       1       0  \n",
      "...            ...    ...     ...     ...  \n",
      "4172        0.2490     11       0       0  \n",
      "4173        0.2605     10       0       1  \n",
      "4174        0.3080      9       0       1  \n",
      "4175        0.2960     10       0       0  \n",
      "4176        0.4950     12       0       1  \n",
      "\n",
      "[4177 rows x 10 columns]\n"
     ]
    }
   ],
   "source": [
    "print(abalone_df)"
   ]
  },
  {
   "cell_type": "markdown",
   "id": "c03a5c7a",
   "metadata": {},
   "source": [
    "#### Encoding the output columns\n",
    "\n",
    "The attribute 'Rings' is with continuous values ranging from 1 to 29. we can split these into 3 categories — \n",
    "less than 10(young), between 10 and 20 (middle age), between 20 and 30(old).\n"
   ]
  },
  {
   "cell_type": "code",
   "execution_count": 8,
   "id": "fa9ec6bf",
   "metadata": {},
   "outputs": [],
   "source": [
    "def rings_label(x):\n",
    "    if x<=10:\n",
    "        return 'young'\n",
    "    if x<=20:\n",
    "        return 'middle age'\n",
    "    if x<=30:\n",
    "        return 'old'\n",
    "    \n",
    "abalone_df['Rings'] = abalone_df['Rings'].apply(rings_label)"
   ]
  },
  {
   "cell_type": "code",
   "execution_count": 11,
   "id": "d9aa1901",
   "metadata": {},
   "outputs": [
    {
     "name": "stdout",
     "output_type": "stream",
     "text": [
      "      Length  Diameter  Height  Whole weight  Shucked weight  Viscera weight  \\\n",
      "0      0.455     0.365   0.095        0.5140          0.2245          0.1010   \n",
      "1      0.350     0.265   0.090        0.2255          0.0995          0.0485   \n",
      "2      0.530     0.420   0.135        0.6770          0.2565          0.1415   \n",
      "3      0.440     0.365   0.125        0.5160          0.2155          0.1140   \n",
      "4      0.330     0.255   0.080        0.2050          0.0895          0.0395   \n",
      "...      ...       ...     ...           ...             ...             ...   \n",
      "4172   0.565     0.450   0.165        0.8870          0.3700          0.2390   \n",
      "4173   0.590     0.440   0.135        0.9660          0.4390          0.2145   \n",
      "4174   0.600     0.475   0.205        1.1760          0.5255          0.2875   \n",
      "4175   0.625     0.485   0.150        1.0945          0.5310          0.2610   \n",
      "4176   0.710     0.555   0.195        1.9485          0.9455          0.3765   \n",
      "\n",
      "      Shell weight       Rings  Sex__I  Sex__M  middle age  old  young  \n",
      "0           0.1500  middle age       0       1           1    0      0  \n",
      "1           0.0700       young       0       1           0    0      1  \n",
      "2           0.2100       young       0       0           0    0      1  \n",
      "3           0.1550       young       0       1           0    0      1  \n",
      "4           0.0550       young       1       0           0    0      1  \n",
      "...            ...         ...     ...     ...         ...  ...    ...  \n",
      "4172        0.2490  middle age       0       0           1    0      0  \n",
      "4173        0.2605       young       0       1           0    0      1  \n",
      "4174        0.3080       young       0       1           0    0      1  \n",
      "4175        0.2960       young       0       0           0    0      1  \n",
      "4176        0.4950  middle age       0       1           1    0      0  \n",
      "\n",
      "[4177 rows x 13 columns]\n"
     ]
    }
   ],
   "source": [
    "print(abalone_df)"
   ]
  },
  {
   "cell_type": "code",
   "execution_count": 12,
   "id": "6478143a",
   "metadata": {},
   "outputs": [],
   "source": [
    "# One hot encoding the sex attribute.\n",
    "df_dummies = pd.get_dummies(abalone_df['Rings'])\n",
    "\n",
    "# Inserting dummy columns\n",
    "for column in df_dummies.columns:\n",
    "    abalone_df[column] = df_dummies[column]\n",
    "    \n",
    "# Dropping the original column\n",
    "df = abalone_df.drop(columns = ['Rings'])"
   ]
  },
  {
   "cell_type": "code",
   "execution_count": 13,
   "id": "95b15b1f",
   "metadata": {},
   "outputs": [],
   "source": [
    "# defining the input and output columns to separate the dataset in the later cells.\n",
    "\n",
    "input_columns = df.columns.tolist()\n",
    "input_columns.remove('young')\n",
    "input_columns.remove('middle age')\n",
    "input_columns.remove('old')\n",
    "\n",
    "output_columns = ['young', 'middle age', 'old']"
   ]
  },
  {
   "cell_type": "code",
   "execution_count": 14,
   "id": "4f0bdf38",
   "metadata": {},
   "outputs": [
    {
     "name": "stdout",
     "output_type": "stream",
     "text": [
      "      Length  Diameter  Height  Whole weight  Shucked weight  Viscera weight  \\\n",
      "0      0.455     0.365   0.095        0.5140          0.2245          0.1010   \n",
      "1      0.350     0.265   0.090        0.2255          0.0995          0.0485   \n",
      "2      0.530     0.420   0.135        0.6770          0.2565          0.1415   \n",
      "3      0.440     0.365   0.125        0.5160          0.2155          0.1140   \n",
      "4      0.330     0.255   0.080        0.2050          0.0895          0.0395   \n",
      "...      ...       ...     ...           ...             ...             ...   \n",
      "4172   0.565     0.450   0.165        0.8870          0.3700          0.2390   \n",
      "4173   0.590     0.440   0.135        0.9660          0.4390          0.2145   \n",
      "4174   0.600     0.475   0.205        1.1760          0.5255          0.2875   \n",
      "4175   0.625     0.485   0.150        1.0945          0.5310          0.2610   \n",
      "4176   0.710     0.555   0.195        1.9485          0.9455          0.3765   \n",
      "\n",
      "      Shell weight  Sex__I  Sex__M  middle age  old  young  \n",
      "0           0.1500       0       1           1    0      0  \n",
      "1           0.0700       0       1           0    0      1  \n",
      "2           0.2100       0       0           0    0      1  \n",
      "3           0.1550       0       1           0    0      1  \n",
      "4           0.0550       1       0           0    0      1  \n",
      "...            ...     ...     ...         ...  ...    ...  \n",
      "4172        0.2490       0       0           1    0      0  \n",
      "4173        0.2605       0       1           0    0      1  \n",
      "4174        0.3080       0       1           0    0      1  \n",
      "4175        0.2960       0       0           0    0      1  \n",
      "4176        0.4950       0       1           1    0      0  \n",
      "\n",
      "[4177 rows x 12 columns]\n"
     ]
    }
   ],
   "source": [
    "print(df)"
   ]
  },
  {
   "cell_type": "code",
   "execution_count": 15,
   "id": "40278bfc",
   "metadata": {},
   "outputs": [],
   "source": [
    "# Splitting into train, val and test set -- 80-10-10 split\n",
    "from sklearn.model_selection import train_test_split\n",
    "\n",
    "# First, an 80-20 split\n",
    "train_df, val_test_df = train_test_split(df, test_size = 0.2)\n",
    "\n",
    "# Then split the 20% into half\n",
    "val_df, test_df = train_test_split(val_test_df, test_size = 0.5)\n",
    "\n",
    "# Splitting into X (input) and y (output)\n",
    "\n",
    "X_train, y_train = np.array(train_df[input_columns]), np.array(train_df[output_columns])\n",
    "\n",
    "X_val, y_val = np.array(val_df[input_columns]), np.array(val_df[output_columns])\n",
    "\n",
    "X_test, y_test = np.array(test_df[input_columns]), np.array(test_df[output_columns])"
   ]
  },
  {
   "cell_type": "code",
   "execution_count": 16,
   "id": "75f8c10b",
   "metadata": {},
   "outputs": [],
   "source": [
    "from sklearn.preprocessing import StandardScaler\n",
    "sc = StandardScaler()\n",
    "\n",
    "Xtrain = sc.fit_transform(X_train)\n",
    "Xval = sc.transform(X_val)\n",
    "Xtest = sc.transform(X_test)"
   ]
  },
  {
   "cell_type": "code",
   "execution_count": 17,
   "id": "b0c2878a",
   "metadata": {
    "scrolled": true
   },
   "outputs": [
    {
     "name": "stdout",
     "output_type": "stream",
     "text": [
      "Epoch 1/256\n",
      "105/105 [==============================] - 1s 3ms/step - loss: 0.8422 - accuracy: 0.6429 - val_loss: 0.7015 - val_accuracy: 0.6435\n",
      "Epoch 2/256\n",
      "105/105 [==============================] - 0s 2ms/step - loss: 0.6057 - accuracy: 0.7058 - val_loss: 0.6320 - val_accuracy: 0.6675\n",
      "Epoch 3/256\n",
      "105/105 [==============================] - 0s 1ms/step - loss: 0.5704 - accuracy: 0.7136 - val_loss: 0.6246 - val_accuracy: 0.6794\n",
      "Epoch 4/256\n",
      "105/105 [==============================] - 0s 1ms/step - loss: 0.5608 - accuracy: 0.7151 - val_loss: 0.6155 - val_accuracy: 0.6770\n",
      "Epoch 5/256\n",
      "105/105 [==============================] - 0s 2ms/step - loss: 0.5528 - accuracy: 0.7279 - val_loss: 0.6056 - val_accuracy: 0.6842\n",
      "Epoch 6/256\n",
      "105/105 [==============================] - 0s 2ms/step - loss: 0.5470 - accuracy: 0.7330 - val_loss: 0.6000 - val_accuracy: 0.7033\n",
      "Epoch 7/256\n",
      "105/105 [==============================] - 0s 1ms/step - loss: 0.5406 - accuracy: 0.7342 - val_loss: 0.5938 - val_accuracy: 0.7081\n",
      "Epoch 8/256\n",
      "105/105 [==============================] - 0s 2ms/step - loss: 0.5341 - accuracy: 0.7324 - val_loss: 0.5823 - val_accuracy: 0.7057\n",
      "Epoch 9/256\n",
      "105/105 [==============================] - 0s 2ms/step - loss: 0.5293 - accuracy: 0.7444 - val_loss: 0.5783 - val_accuracy: 0.7249\n",
      "Epoch 10/256\n",
      "105/105 [==============================] - 0s 2ms/step - loss: 0.5239 - accuracy: 0.7420 - val_loss: 0.5682 - val_accuracy: 0.7225\n",
      "Epoch 11/256\n",
      "105/105 [==============================] - 0s 2ms/step - loss: 0.5202 - accuracy: 0.7450 - val_loss: 0.5617 - val_accuracy: 0.7129\n",
      "Epoch 12/256\n",
      "105/105 [==============================] - 0s 1ms/step - loss: 0.5143 - accuracy: 0.7492 - val_loss: 0.5567 - val_accuracy: 0.7177\n",
      "Epoch 13/256\n",
      "105/105 [==============================] - 0s 1ms/step - loss: 0.5115 - accuracy: 0.7492 - val_loss: 0.5626 - val_accuracy: 0.7416\n",
      "Epoch 14/256\n",
      "105/105 [==============================] - 0s 2ms/step - loss: 0.5064 - accuracy: 0.7585 - val_loss: 0.5471 - val_accuracy: 0.7392\n",
      "Epoch 15/256\n",
      "105/105 [==============================] - 0s 2ms/step - loss: 0.5041 - accuracy: 0.7561 - val_loss: 0.5408 - val_accuracy: 0.7560\n",
      "Epoch 16/256\n",
      "105/105 [==============================] - 0s 2ms/step - loss: 0.5020 - accuracy: 0.7626 - val_loss: 0.5386 - val_accuracy: 0.7297\n",
      "Epoch 17/256\n",
      "105/105 [==============================] - 0s 1ms/step - loss: 0.4996 - accuracy: 0.7606 - val_loss: 0.5410 - val_accuracy: 0.7512\n",
      "Epoch 18/256\n",
      "105/105 [==============================] - 0s 2ms/step - loss: 0.4960 - accuracy: 0.7611 - val_loss: 0.5291 - val_accuracy: 0.7512\n",
      "Epoch 19/256\n",
      "105/105 [==============================] - 0s 2ms/step - loss: 0.4929 - accuracy: 0.7650 - val_loss: 0.5297 - val_accuracy: 0.7727\n",
      "Epoch 20/256\n",
      "105/105 [==============================] - 0s 2ms/step - loss: 0.4934 - accuracy: 0.7647 - val_loss: 0.5262 - val_accuracy: 0.7656\n",
      "Epoch 21/256\n",
      "105/105 [==============================] - 0s 1ms/step - loss: 0.4927 - accuracy: 0.7671 - val_loss: 0.5214 - val_accuracy: 0.7512\n",
      "Epoch 22/256\n",
      "105/105 [==============================] - 0s 1ms/step - loss: 0.4890 - accuracy: 0.7650 - val_loss: 0.5208 - val_accuracy: 0.7464\n",
      "Epoch 23/256\n",
      "105/105 [==============================] - 0s 2ms/step - loss: 0.4895 - accuracy: 0.7677 - val_loss: 0.5175 - val_accuracy: 0.7560\n",
      "Epoch 24/256\n",
      "105/105 [==============================] - 0s 2ms/step - loss: 0.4862 - accuracy: 0.7680 - val_loss: 0.5226 - val_accuracy: 0.7608\n",
      "Epoch 25/256\n",
      "105/105 [==============================] - 0s 2ms/step - loss: 0.4871 - accuracy: 0.7683 - val_loss: 0.5119 - val_accuracy: 0.7656\n",
      "Epoch 26/256\n",
      "105/105 [==============================] - 0s 2ms/step - loss: 0.4846 - accuracy: 0.7665 - val_loss: 0.5118 - val_accuracy: 0.7536\n",
      "Epoch 27/256\n",
      "105/105 [==============================] - 0s 1ms/step - loss: 0.4853 - accuracy: 0.7698 - val_loss: 0.5101 - val_accuracy: 0.7560\n",
      "Epoch 28/256\n",
      "105/105 [==============================] - 0s 1ms/step - loss: 0.4830 - accuracy: 0.7674 - val_loss: 0.5090 - val_accuracy: 0.7512\n",
      "Epoch 29/256\n",
      "105/105 [==============================] - 0s 2ms/step - loss: 0.4843 - accuracy: 0.7698 - val_loss: 0.5096 - val_accuracy: 0.7536\n",
      "Epoch 30/256\n",
      "105/105 [==============================] - 0s 1ms/step - loss: 0.4839 - accuracy: 0.7677 - val_loss: 0.5096 - val_accuracy: 0.7608\n"
     ]
    }
   ],
   "source": [
    "# Import necessary modules\n",
    "import keras\n",
    "import tensorflow as tf\n",
    "from tensorflow import keras\n",
    "from keras.layers import Dense\n",
    "from keras.models import Sequential\n",
    "from tensorflow.keras import layers\n",
    "import keras.callbacks\n",
    "from keras.callbacks import EarlyStopping\n",
    "\n",
    "\n",
    "model = Sequential([\n",
    "    layers.Dense(32, activation = 'relu', input_shape = X_train[0].shape),\n",
    "    layers.Dense(8, activation = 'relu'),\n",
    "    layers.Dense(3, activation = 'softmax')])\n",
    "\n",
    "early_stopping_monitor = EarlyStopping(patience=2)\n",
    "\n",
    "# cb = callbacks.EarlyStopping(patience = 5, restore_best_weights = True)\n",
    "\n",
    "model.compile(optimizer = 'Adam', loss = 'CategoricalCrossentropy', metrics = ['accuracy'])\n",
    "\n",
    "history = model.fit(X_train, y_train, validation_data = (X_val, y_val), epochs = 256, callbacks = [early_stopping_monitor])"
   ]
  },
  {
   "cell_type": "code",
   "execution_count": 18,
   "id": "2479e4ac",
   "metadata": {},
   "outputs": [
    {
     "name": "stdout",
     "output_type": "stream",
     "text": [
      "14/14 [==============================] - 0s 858us/step - loss: 0.4993 - accuracy: 0.7847\n"
     ]
    },
    {
     "data": {
      "text/plain": [
       "[0.4992688298225403, 0.7846890091896057]"
      ]
     },
     "execution_count": 18,
     "metadata": {},
     "output_type": "execute_result"
    }
   ],
   "source": [
    "model.evaluate(X_test, y_test)"
   ]
  },
  {
   "cell_type": "code",
   "execution_count": 265,
   "id": "22e1a9f0",
   "metadata": {},
   "outputs": [
    {
     "name": "stdout",
     "output_type": "stream",
     "text": [
      "Model: \"sequential_38\"\n",
      "_________________________________________________________________\n",
      " Layer (type)                Output Shape              Param #   \n",
      "=================================================================\n",
      " dense_111 (Dense)           (None, 32)                320       \n",
      "                                                                 \n",
      " dense_112 (Dense)           (None, 8)                 264       \n",
      "                                                                 \n",
      " dense_113 (Dense)           (None, 3)                 27        \n",
      "                                                                 \n",
      "=================================================================\n",
      "Total params: 611\n",
      "Trainable params: 611\n",
      "Non-trainable params: 0\n",
      "_________________________________________________________________\n"
     ]
    }
   ],
   "source": [
    "# Model summary for number of parameters used in the algorithm\n",
    "model.summary()"
   ]
  },
  {
   "cell_type": "markdown",
   "id": "8818f2e5",
   "metadata": {},
   "source": [
    "#### 4.\tWrite another algorithm to predict the same result as the previous question using either KNN or logistic regression."
   ]
  },
  {
   "cell_type": "code",
   "execution_count": 119,
   "id": "bba8cb90",
   "metadata": {},
   "outputs": [
    {
     "name": "stdout",
     "output_type": "stream",
     "text": [
      "(4177, 9)\n",
      "  Sex  Length  Diameter  Height  Whole weight  Shucked weight  Viscera weight  \\\n",
      "0   M   0.455     0.365   0.095        0.5140          0.2245          0.1010   \n",
      "1   M   0.350     0.265   0.090        0.2255          0.0995          0.0485   \n",
      "2   F   0.530     0.420   0.135        0.6770          0.2565          0.1415   \n",
      "3   M   0.440     0.365   0.125        0.5160          0.2155          0.1140   \n",
      "4   I   0.330     0.255   0.080        0.2050          0.0895          0.0395   \n",
      "\n",
      "   Shell weight  Rings  \n",
      "0         0.150     15  \n",
      "1         0.070      7  \n",
      "2         0.210      9  \n",
      "3         0.155     10  \n",
      "4         0.055      7  \n"
     ]
    }
   ],
   "source": [
    "abalone_df = pd.read_csv(target_url,header=None, prefix=\"V\")\n",
    "abalone_df.columns = ['Sex', 'Length', 'Diameter', 'Height',\n",
    "                   'Whole weight', 'Shucked weight',\n",
    "                   'Viscera weight', 'Shell weight', 'Rings']\n",
    "# abalone_df = pd.DataFrame(abalone_df, columns=abalone_df.columns)\n",
    "# y = abalone_df.Rings\n",
    "\n",
    "print(abalone_df.shape)\n",
    "print(abalone_df.head())"
   ]
  },
  {
   "cell_type": "code",
   "execution_count": 120,
   "id": "e53c5340",
   "metadata": {},
   "outputs": [],
   "source": [
    "sex_dictionary = {'M': 1, 'F' : 2,'I':3}\n",
    "abalone_df['Sex'] = abalone_df['Sex'].apply(lambda x: sex_dictionary[x])"
   ]
  },
  {
   "cell_type": "code",
   "execution_count": 121,
   "id": "26205293",
   "metadata": {},
   "outputs": [
    {
     "data": {
      "text/plain": [
       "Sex                 int64\n",
       "Length            float64\n",
       "Diameter          float64\n",
       "Height            float64\n",
       "Whole weight      float64\n",
       "Shucked weight    float64\n",
       "Viscera weight    float64\n",
       "Shell weight      float64\n",
       "Rings               int64\n",
       "dtype: object"
      ]
     },
     "execution_count": 121,
     "metadata": {},
     "output_type": "execute_result"
    }
   ],
   "source": [
    "abalone_df.dtypes"
   ]
  },
  {
   "cell_type": "code",
   "execution_count": 122,
   "id": "f326ad3f",
   "metadata": {},
   "outputs": [
    {
     "data": {
      "text/plain": [
       "Sex               0\n",
       "Length            0\n",
       "Diameter          0\n",
       "Height            0\n",
       "Whole weight      0\n",
       "Shucked weight    0\n",
       "Viscera weight    0\n",
       "Shell weight      0\n",
       "Rings             0\n",
       "dtype: int64"
      ]
     },
     "execution_count": 122,
     "metadata": {},
     "output_type": "execute_result"
    }
   ],
   "source": [
    "abalone_df.select_dtypes(include=['object']).isnull().sum()\n",
    "abalone_df.select_dtypes(include=[np.number]).isnull().sum()"
   ]
  },
  {
   "cell_type": "code",
   "execution_count": 123,
   "id": "55525529",
   "metadata": {},
   "outputs": [],
   "source": [
    "# Adding age column in the dataframe for classification. Age is classified based on the number of rings.\n",
    "#Rings 1-8 -->Age 1, denoting young\n",
    "# Rings 9-10 -->Age 2, denoting middle\n",
    "# Rings 11-29 -->Age 3, denoting old"
   ]
  },
  {
   "cell_type": "code",
   "execution_count": 124,
   "id": "ac1b0e5b",
   "metadata": {},
   "outputs": [],
   "source": [
    "def label_race (row):\n",
    "    if row['Rings']>=1 and row['Rings']<=8:\n",
    "        return 1\n",
    "    elif row['Rings'] >=9 and row['Rings']<=10:\n",
    "        return 2\n",
    "    elif row['Rings']>=11 and row['Rings']<=29:\n",
    "        return 3\n",
    "    return 0"
   ]
  },
  {
   "cell_type": "code",
   "execution_count": 125,
   "id": "6276b163",
   "metadata": {},
   "outputs": [
    {
     "data": {
      "text/html": [
       "<div>\n",
       "<style scoped>\n",
       "    .dataframe tbody tr th:only-of-type {\n",
       "        vertical-align: middle;\n",
       "    }\n",
       "\n",
       "    .dataframe tbody tr th {\n",
       "        vertical-align: top;\n",
       "    }\n",
       "\n",
       "    .dataframe thead th {\n",
       "        text-align: right;\n",
       "    }\n",
       "</style>\n",
       "<table border=\"1\" class=\"dataframe\">\n",
       "  <thead>\n",
       "    <tr style=\"text-align: right;\">\n",
       "      <th></th>\n",
       "      <th>Sex</th>\n",
       "      <th>Length</th>\n",
       "      <th>Diameter</th>\n",
       "      <th>Height</th>\n",
       "      <th>Whole weight</th>\n",
       "      <th>Shucked weight</th>\n",
       "      <th>Viscera weight</th>\n",
       "      <th>Shell weight</th>\n",
       "      <th>Rings</th>\n",
       "      <th>Age</th>\n",
       "    </tr>\n",
       "  </thead>\n",
       "  <tbody>\n",
       "    <tr>\n",
       "      <th>0</th>\n",
       "      <td>1.0</td>\n",
       "      <td>0.455</td>\n",
       "      <td>0.365</td>\n",
       "      <td>0.095</td>\n",
       "      <td>0.5140</td>\n",
       "      <td>0.2245</td>\n",
       "      <td>0.1010</td>\n",
       "      <td>0.1500</td>\n",
       "      <td>15</td>\n",
       "      <td>3</td>\n",
       "    </tr>\n",
       "    <tr>\n",
       "      <th>1</th>\n",
       "      <td>1.0</td>\n",
       "      <td>0.350</td>\n",
       "      <td>0.265</td>\n",
       "      <td>0.090</td>\n",
       "      <td>0.2255</td>\n",
       "      <td>0.0995</td>\n",
       "      <td>0.0485</td>\n",
       "      <td>0.0700</td>\n",
       "      <td>7</td>\n",
       "      <td>1</td>\n",
       "    </tr>\n",
       "    <tr>\n",
       "      <th>2</th>\n",
       "      <td>2.0</td>\n",
       "      <td>0.530</td>\n",
       "      <td>0.420</td>\n",
       "      <td>0.135</td>\n",
       "      <td>0.6770</td>\n",
       "      <td>0.2565</td>\n",
       "      <td>0.1415</td>\n",
       "      <td>0.2100</td>\n",
       "      <td>9</td>\n",
       "      <td>2</td>\n",
       "    </tr>\n",
       "    <tr>\n",
       "      <th>3</th>\n",
       "      <td>1.0</td>\n",
       "      <td>0.440</td>\n",
       "      <td>0.365</td>\n",
       "      <td>0.125</td>\n",
       "      <td>0.5160</td>\n",
       "      <td>0.2155</td>\n",
       "      <td>0.1140</td>\n",
       "      <td>0.1550</td>\n",
       "      <td>10</td>\n",
       "      <td>2</td>\n",
       "    </tr>\n",
       "    <tr>\n",
       "      <th>4</th>\n",
       "      <td>3.0</td>\n",
       "      <td>0.330</td>\n",
       "      <td>0.255</td>\n",
       "      <td>0.080</td>\n",
       "      <td>0.2050</td>\n",
       "      <td>0.0895</td>\n",
       "      <td>0.0395</td>\n",
       "      <td>0.0550</td>\n",
       "      <td>7</td>\n",
       "      <td>1</td>\n",
       "    </tr>\n",
       "    <tr>\n",
       "      <th>...</th>\n",
       "      <td>...</td>\n",
       "      <td>...</td>\n",
       "      <td>...</td>\n",
       "      <td>...</td>\n",
       "      <td>...</td>\n",
       "      <td>...</td>\n",
       "      <td>...</td>\n",
       "      <td>...</td>\n",
       "      <td>...</td>\n",
       "      <td>...</td>\n",
       "    </tr>\n",
       "    <tr>\n",
       "      <th>4172</th>\n",
       "      <td>2.0</td>\n",
       "      <td>0.565</td>\n",
       "      <td>0.450</td>\n",
       "      <td>0.165</td>\n",
       "      <td>0.8870</td>\n",
       "      <td>0.3700</td>\n",
       "      <td>0.2390</td>\n",
       "      <td>0.2490</td>\n",
       "      <td>11</td>\n",
       "      <td>3</td>\n",
       "    </tr>\n",
       "    <tr>\n",
       "      <th>4173</th>\n",
       "      <td>1.0</td>\n",
       "      <td>0.590</td>\n",
       "      <td>0.440</td>\n",
       "      <td>0.135</td>\n",
       "      <td>0.9660</td>\n",
       "      <td>0.4390</td>\n",
       "      <td>0.2145</td>\n",
       "      <td>0.2605</td>\n",
       "      <td>10</td>\n",
       "      <td>2</td>\n",
       "    </tr>\n",
       "    <tr>\n",
       "      <th>4174</th>\n",
       "      <td>1.0</td>\n",
       "      <td>0.600</td>\n",
       "      <td>0.475</td>\n",
       "      <td>0.205</td>\n",
       "      <td>1.1760</td>\n",
       "      <td>0.5255</td>\n",
       "      <td>0.2875</td>\n",
       "      <td>0.3080</td>\n",
       "      <td>9</td>\n",
       "      <td>2</td>\n",
       "    </tr>\n",
       "    <tr>\n",
       "      <th>4175</th>\n",
       "      <td>2.0</td>\n",
       "      <td>0.625</td>\n",
       "      <td>0.485</td>\n",
       "      <td>0.150</td>\n",
       "      <td>1.0945</td>\n",
       "      <td>0.5310</td>\n",
       "      <td>0.2610</td>\n",
       "      <td>0.2960</td>\n",
       "      <td>10</td>\n",
       "      <td>2</td>\n",
       "    </tr>\n",
       "    <tr>\n",
       "      <th>4176</th>\n",
       "      <td>1.0</td>\n",
       "      <td>0.710</td>\n",
       "      <td>0.555</td>\n",
       "      <td>0.195</td>\n",
       "      <td>1.9485</td>\n",
       "      <td>0.9455</td>\n",
       "      <td>0.3765</td>\n",
       "      <td>0.4950</td>\n",
       "      <td>12</td>\n",
       "      <td>3</td>\n",
       "    </tr>\n",
       "  </tbody>\n",
       "</table>\n",
       "<p>4177 rows × 10 columns</p>\n",
       "</div>"
      ],
      "text/plain": [
       "      Sex  Length  Diameter  Height  Whole weight  Shucked weight  \\\n",
       "0     1.0   0.455     0.365   0.095        0.5140          0.2245   \n",
       "1     1.0   0.350     0.265   0.090        0.2255          0.0995   \n",
       "2     2.0   0.530     0.420   0.135        0.6770          0.2565   \n",
       "3     1.0   0.440     0.365   0.125        0.5160          0.2155   \n",
       "4     3.0   0.330     0.255   0.080        0.2050          0.0895   \n",
       "...   ...     ...       ...     ...           ...             ...   \n",
       "4172  2.0   0.565     0.450   0.165        0.8870          0.3700   \n",
       "4173  1.0   0.590     0.440   0.135        0.9660          0.4390   \n",
       "4174  1.0   0.600     0.475   0.205        1.1760          0.5255   \n",
       "4175  2.0   0.625     0.485   0.150        1.0945          0.5310   \n",
       "4176  1.0   0.710     0.555   0.195        1.9485          0.9455   \n",
       "\n",
       "      Viscera weight  Shell weight  Rings  Age  \n",
       "0             0.1010        0.1500     15    3  \n",
       "1             0.0485        0.0700      7    1  \n",
       "2             0.1415        0.2100      9    2  \n",
       "3             0.1140        0.1550     10    2  \n",
       "4             0.0395        0.0550      7    1  \n",
       "...              ...           ...    ...  ...  \n",
       "4172          0.2390        0.2490     11    3  \n",
       "4173          0.2145        0.2605     10    2  \n",
       "4174          0.2875        0.3080      9    2  \n",
       "4175          0.2610        0.2960     10    2  \n",
       "4176          0.3765        0.4950     12    3  \n",
       "\n",
       "[4177 rows x 10 columns]"
      ]
     },
     "execution_count": 125,
     "metadata": {},
     "output_type": "execute_result"
    }
   ],
   "source": [
    "abalone_df['Age'] = abalone_df.apply(lambda _: '', axis=1)\n",
    "abalone_df['Age']=abalone_df.apply (lambda row: label_race (row),axis=1)\n",
    "abalone_df.Sex = abalone_df.Sex.astype(float)\n",
    "abalone_df"
   ]
  },
  {
   "cell_type": "code",
   "execution_count": 126,
   "id": "a25e72b2",
   "metadata": {},
   "outputs": [],
   "source": [
    "# Classification"
   ]
  },
  {
   "cell_type": "code",
   "execution_count": 127,
   "id": "661f71a3",
   "metadata": {},
   "outputs": [],
   "source": [
    "# Response variable is age"
   ]
  },
  {
   "cell_type": "code",
   "execution_count": 128,
   "id": "2ae02fbd",
   "metadata": {},
   "outputs": [],
   "source": [
    "y = abalone_df[['Age']]\n",
    "X = abalone_df.drop(['Age','Rings'], axis=1)"
   ]
  },
  {
   "cell_type": "code",
   "execution_count": 129,
   "id": "36be77c2",
   "metadata": {},
   "outputs": [],
   "source": [
    "# Dividing the dataset into 75% training and 25% test data using train_test_split\n",
    "\n",
    "# from sklearn import cross_validation\n",
    "from sklearn.model_selection import train_test_split \n",
    "from sklearn.model_selection import cross_validate as cv\n",
    "\n",
    "# X_train, y_train, X_test, y_test =train_test_split(X, y)\n",
    "train_X, test_X, train_y, test_y = train_test_split(X, y) # splits 75%/25% by default"
   ]
  },
  {
   "cell_type": "code",
   "execution_count": 130,
   "id": "4811cfa2",
   "metadata": {},
   "outputs": [
    {
     "name": "stdout",
     "output_type": "stream",
     "text": [
      "train_df_x:\n",
      "(3132, 8)\n",
      "train_df_y:\n",
      "(3132, 1)\n",
      "test_df_x:\n",
      "(1045, 8)\n",
      "test_df_y:\n",
      "(1045, 1)\n"
     ]
    }
   ],
   "source": [
    "print(\"train_df_x:\")\n",
    "print(train_X.shape)\n",
    "\n",
    "print(\"train_df_y:\")\n",
    "print(train_y.shape)\n",
    "\n",
    "print(\"test_df_x:\")\n",
    "print(test_X.shape)\n",
    "\n",
    "print(\"test_df_y:\")\n",
    "print(test_y.shape)"
   ]
  },
  {
   "cell_type": "code",
   "execution_count": 55,
   "id": "82d1a293",
   "metadata": {},
   "outputs": [],
   "source": [
    "def getAccuracy(testSet, predictions):\n",
    "\n",
    "    correct = 0\n",
    "\n",
    "    for x in range(len(testSet)):\n",
    "\n",
    "        if testSet[x][-1] == predictions[x]:\n",
    "\n",
    "            correct += 1\n",
    "\n",
    "    return (correct/float(len(testSet))) * 100.0"
   ]
  },
  {
   "cell_type": "code",
   "execution_count": 59,
   "id": "be6a6a68",
   "metadata": {},
   "outputs": [
    {
     "name": "stdout",
     "output_type": "stream",
     "text": [
      "Intercept is  [ 2.17304091 -1.07457767 -1.09846324]\n",
      "Coefficient is  [[ 0.36901085 -1.42643223 -1.99034619 -2.00815848 -2.17209807  4.79144695\n",
      "  -0.7153645  -4.78617367]\n",
      " [-0.16973721  2.10625163  1.39734521  0.52442215 -0.86594282  1.38386588\n",
      "   1.17567032 -0.57423431]\n",
      " [-0.19927364 -0.6798194   0.59300098  1.48373633  3.03804089 -6.17531283\n",
      "  -0.46030582  5.36040798]]\n",
      "Accuracy of Logistic Regression is: 0.6545454545454545\n",
      "MAE:0.3875598086124402\n",
      "RMSE:0.6868553959373324\n",
      "Median Absolute Error:0.0\n",
      "Classification report for Test data LogisticRegression(multi_class='multinomial', solver='newton-cg'):\n",
      "              precision    recall  f1-score   support\n",
      "\n",
      "           1       0.71      0.80      0.75       352\n",
      "           2       0.54      0.46      0.50       341\n",
      "           3       0.69      0.70      0.69       352\n",
      "\n",
      "    accuracy                           0.65      1045\n",
      "   macro avg       0.65      0.65      0.65      1045\n",
      "weighted avg       0.65      0.65      0.65      1045\n",
      "\n",
      "\n",
      "\n"
     ]
    },
    {
     "name": "stderr",
     "output_type": "stream",
     "text": [
      "C:\\Users\\rsagu\\AppData\\Local\\Programs\\Python\\Python39\\lib\\site-packages\\sklearn\\utils\\validation.py:985: DataConversionWarning: A column-vector y was passed when a 1d array was expected. Please change the shape of y to (n_samples, ), for example using ravel().\n",
      "  y = column_or_1d(y, warn=True)\n"
     ]
    }
   ],
   "source": [
    "from sklearn.linear_model import LogisticRegression\n",
    "import math\n",
    "from sklearn import metrics\n",
    "from sklearn.metrics import accuracy_score, mean_absolute_error, median_absolute_error, mean_squared_error\n",
    "\n",
    "\n",
    "#logistic regression\n",
    "log_reg = LogisticRegression(multi_class='multinomial',solver ='newton-cg')\n",
    "log_reg.fit(train_X, train_y)\n",
    "print (\"Intercept is \",log_reg.intercept_)\n",
    "print(\"Coefficient is \",log_reg.coef_)\n",
    "y_pred=log_reg.predict(test_X) \n",
    "\n",
    "# Accuracy Score\n",
    "print(\"Accuracy of Logistic Regression is:\", accuracy_score(test_y, y_pred))\n",
    "\n",
    "#Mean Absolute Error \n",
    "mae=mean_absolute_error(test_y,y_pred);\n",
    "print(\"MAE:\"+str(mae))\n",
    "\n",
    "#RMSE \n",
    "rmse = math.sqrt(mean_squared_error(test_y,y_pred))\n",
    "print(\"RMSE:\"+str(rmse))\n",
    "\n",
    "#Median Absolute error\n",
    "Medae=median_absolute_error(test_y,y_pred)\n",
    "print(\"Median Absolute Error:\"+str(Medae)) \n",
    "\n",
    "#Classification Report\n",
    "print(\"Classification report for Test data %s:\\n%s\\n\\n\"\n",
    "     % (log_reg, metrics.classification_report(test_y, y_pred)))"
   ]
  },
  {
   "cell_type": "markdown",
   "id": "7dabe3ea",
   "metadata": {},
   "source": [
    "#### 5.\tCreate a neural network using pytorch to predict the same result as question 3. "
   ]
  },
  {
   "cell_type": "code",
   "execution_count": 134,
   "id": "ad4c1833",
   "metadata": {},
   "outputs": [
    {
     "name": "stdout",
     "output_type": "stream",
     "text": [
      "(4177, 9)\n",
      "  Sex  Length  Diameter  Height  Whole weight  Shucked weight  Viscera weight  \\\n",
      "0   M   0.455     0.365   0.095        0.5140          0.2245          0.1010   \n",
      "1   M   0.350     0.265   0.090        0.2255          0.0995          0.0485   \n",
      "2   F   0.530     0.420   0.135        0.6770          0.2565          0.1415   \n",
      "3   M   0.440     0.365   0.125        0.5160          0.2155          0.1140   \n",
      "4   I   0.330     0.255   0.080        0.2050          0.0895          0.0395   \n",
      "\n",
      "   Shell weight  Rings  \n",
      "0         0.150     15  \n",
      "1         0.070      7  \n",
      "2         0.210      9  \n",
      "3         0.155     10  \n",
      "4         0.055      7  \n"
     ]
    }
   ],
   "source": [
    "abalone_df = pd.read_csv(target_url,header=None, prefix=\"V\")\n",
    "abalone_df.columns = ['Sex', 'Length', 'Diameter', 'Height',\n",
    "                   'Whole weight', 'Shucked weight',\n",
    "                   'Viscera weight', 'Shell weight', 'Rings']\n",
    "abalone_df = pd.DataFrame(abalone_df, columns=abalone_df.columns)\n",
    "y = abalone_df.Rings\n",
    "\n",
    "print(abalone_df.shape)\n",
    "print(abalone_df.head())"
   ]
  },
  {
   "cell_type": "code",
   "execution_count": 135,
   "id": "ffbb3861",
   "metadata": {},
   "outputs": [],
   "source": [
    "sex_dictionary = {'M': 1, 'F' : 2,'I':3}\n",
    "abalone_df['Sex'] = abalone_df['Sex'].apply(lambda x: sex_dictionary[x])"
   ]
  },
  {
   "cell_type": "code",
   "execution_count": 136,
   "id": "da5d6f6d",
   "metadata": {},
   "outputs": [],
   "source": [
    "def label_race (row):\n",
    "    if row['Rings']>=1 and row['Rings']<=8:\n",
    "        return 1\n",
    "    elif row['Rings'] >=9 and row['Rings']<=10:\n",
    "        return 2\n",
    "    elif row['Rings']>=11 and row['Rings']<=29:\n",
    "        return 3\n",
    "    return 0"
   ]
  },
  {
   "cell_type": "code",
   "execution_count": 137,
   "id": "e1005b40",
   "metadata": {},
   "outputs": [
    {
     "data": {
      "text/html": [
       "<div>\n",
       "<style scoped>\n",
       "    .dataframe tbody tr th:only-of-type {\n",
       "        vertical-align: middle;\n",
       "    }\n",
       "\n",
       "    .dataframe tbody tr th {\n",
       "        vertical-align: top;\n",
       "    }\n",
       "\n",
       "    .dataframe thead th {\n",
       "        text-align: right;\n",
       "    }\n",
       "</style>\n",
       "<table border=\"1\" class=\"dataframe\">\n",
       "  <thead>\n",
       "    <tr style=\"text-align: right;\">\n",
       "      <th></th>\n",
       "      <th>Sex</th>\n",
       "      <th>Length</th>\n",
       "      <th>Diameter</th>\n",
       "      <th>Height</th>\n",
       "      <th>Whole weight</th>\n",
       "      <th>Shucked weight</th>\n",
       "      <th>Viscera weight</th>\n",
       "      <th>Shell weight</th>\n",
       "      <th>Rings</th>\n",
       "      <th>Age</th>\n",
       "    </tr>\n",
       "  </thead>\n",
       "  <tbody>\n",
       "    <tr>\n",
       "      <th>0</th>\n",
       "      <td>1.0</td>\n",
       "      <td>0.455</td>\n",
       "      <td>0.365</td>\n",
       "      <td>0.095</td>\n",
       "      <td>0.5140</td>\n",
       "      <td>0.2245</td>\n",
       "      <td>0.1010</td>\n",
       "      <td>0.1500</td>\n",
       "      <td>15</td>\n",
       "      <td>3</td>\n",
       "    </tr>\n",
       "    <tr>\n",
       "      <th>1</th>\n",
       "      <td>1.0</td>\n",
       "      <td>0.350</td>\n",
       "      <td>0.265</td>\n",
       "      <td>0.090</td>\n",
       "      <td>0.2255</td>\n",
       "      <td>0.0995</td>\n",
       "      <td>0.0485</td>\n",
       "      <td>0.0700</td>\n",
       "      <td>7</td>\n",
       "      <td>1</td>\n",
       "    </tr>\n",
       "    <tr>\n",
       "      <th>2</th>\n",
       "      <td>2.0</td>\n",
       "      <td>0.530</td>\n",
       "      <td>0.420</td>\n",
       "      <td>0.135</td>\n",
       "      <td>0.6770</td>\n",
       "      <td>0.2565</td>\n",
       "      <td>0.1415</td>\n",
       "      <td>0.2100</td>\n",
       "      <td>9</td>\n",
       "      <td>2</td>\n",
       "    </tr>\n",
       "    <tr>\n",
       "      <th>3</th>\n",
       "      <td>1.0</td>\n",
       "      <td>0.440</td>\n",
       "      <td>0.365</td>\n",
       "      <td>0.125</td>\n",
       "      <td>0.5160</td>\n",
       "      <td>0.2155</td>\n",
       "      <td>0.1140</td>\n",
       "      <td>0.1550</td>\n",
       "      <td>10</td>\n",
       "      <td>2</td>\n",
       "    </tr>\n",
       "    <tr>\n",
       "      <th>4</th>\n",
       "      <td>3.0</td>\n",
       "      <td>0.330</td>\n",
       "      <td>0.255</td>\n",
       "      <td>0.080</td>\n",
       "      <td>0.2050</td>\n",
       "      <td>0.0895</td>\n",
       "      <td>0.0395</td>\n",
       "      <td>0.0550</td>\n",
       "      <td>7</td>\n",
       "      <td>1</td>\n",
       "    </tr>\n",
       "    <tr>\n",
       "      <th>...</th>\n",
       "      <td>...</td>\n",
       "      <td>...</td>\n",
       "      <td>...</td>\n",
       "      <td>...</td>\n",
       "      <td>...</td>\n",
       "      <td>...</td>\n",
       "      <td>...</td>\n",
       "      <td>...</td>\n",
       "      <td>...</td>\n",
       "      <td>...</td>\n",
       "    </tr>\n",
       "    <tr>\n",
       "      <th>4172</th>\n",
       "      <td>2.0</td>\n",
       "      <td>0.565</td>\n",
       "      <td>0.450</td>\n",
       "      <td>0.165</td>\n",
       "      <td>0.8870</td>\n",
       "      <td>0.3700</td>\n",
       "      <td>0.2390</td>\n",
       "      <td>0.2490</td>\n",
       "      <td>11</td>\n",
       "      <td>3</td>\n",
       "    </tr>\n",
       "    <tr>\n",
       "      <th>4173</th>\n",
       "      <td>1.0</td>\n",
       "      <td>0.590</td>\n",
       "      <td>0.440</td>\n",
       "      <td>0.135</td>\n",
       "      <td>0.9660</td>\n",
       "      <td>0.4390</td>\n",
       "      <td>0.2145</td>\n",
       "      <td>0.2605</td>\n",
       "      <td>10</td>\n",
       "      <td>2</td>\n",
       "    </tr>\n",
       "    <tr>\n",
       "      <th>4174</th>\n",
       "      <td>1.0</td>\n",
       "      <td>0.600</td>\n",
       "      <td>0.475</td>\n",
       "      <td>0.205</td>\n",
       "      <td>1.1760</td>\n",
       "      <td>0.5255</td>\n",
       "      <td>0.2875</td>\n",
       "      <td>0.3080</td>\n",
       "      <td>9</td>\n",
       "      <td>2</td>\n",
       "    </tr>\n",
       "    <tr>\n",
       "      <th>4175</th>\n",
       "      <td>2.0</td>\n",
       "      <td>0.625</td>\n",
       "      <td>0.485</td>\n",
       "      <td>0.150</td>\n",
       "      <td>1.0945</td>\n",
       "      <td>0.5310</td>\n",
       "      <td>0.2610</td>\n",
       "      <td>0.2960</td>\n",
       "      <td>10</td>\n",
       "      <td>2</td>\n",
       "    </tr>\n",
       "    <tr>\n",
       "      <th>4176</th>\n",
       "      <td>1.0</td>\n",
       "      <td>0.710</td>\n",
       "      <td>0.555</td>\n",
       "      <td>0.195</td>\n",
       "      <td>1.9485</td>\n",
       "      <td>0.9455</td>\n",
       "      <td>0.3765</td>\n",
       "      <td>0.4950</td>\n",
       "      <td>12</td>\n",
       "      <td>3</td>\n",
       "    </tr>\n",
       "  </tbody>\n",
       "</table>\n",
       "<p>4177 rows × 10 columns</p>\n",
       "</div>"
      ],
      "text/plain": [
       "      Sex  Length  Diameter  Height  Whole weight  Shucked weight  \\\n",
       "0     1.0   0.455     0.365   0.095        0.5140          0.2245   \n",
       "1     1.0   0.350     0.265   0.090        0.2255          0.0995   \n",
       "2     2.0   0.530     0.420   0.135        0.6770          0.2565   \n",
       "3     1.0   0.440     0.365   0.125        0.5160          0.2155   \n",
       "4     3.0   0.330     0.255   0.080        0.2050          0.0895   \n",
       "...   ...     ...       ...     ...           ...             ...   \n",
       "4172  2.0   0.565     0.450   0.165        0.8870          0.3700   \n",
       "4173  1.0   0.590     0.440   0.135        0.9660          0.4390   \n",
       "4174  1.0   0.600     0.475   0.205        1.1760          0.5255   \n",
       "4175  2.0   0.625     0.485   0.150        1.0945          0.5310   \n",
       "4176  1.0   0.710     0.555   0.195        1.9485          0.9455   \n",
       "\n",
       "      Viscera weight  Shell weight  Rings  Age  \n",
       "0             0.1010        0.1500     15    3  \n",
       "1             0.0485        0.0700      7    1  \n",
       "2             0.1415        0.2100      9    2  \n",
       "3             0.1140        0.1550     10    2  \n",
       "4             0.0395        0.0550      7    1  \n",
       "...              ...           ...    ...  ...  \n",
       "4172          0.2390        0.2490     11    3  \n",
       "4173          0.2145        0.2605     10    2  \n",
       "4174          0.2875        0.3080      9    2  \n",
       "4175          0.2610        0.2960     10    2  \n",
       "4176          0.3765        0.4950     12    3  \n",
       "\n",
       "[4177 rows x 10 columns]"
      ]
     },
     "execution_count": 137,
     "metadata": {},
     "output_type": "execute_result"
    }
   ],
   "source": [
    "abalone_df['Age'] = abalone_df.apply(lambda _: '', axis=1)\n",
    "abalone_df['Age']=abalone_df.apply (lambda row: label_race (row),axis=1)\n",
    "abalone_df.Sex = abalone_df.Sex.astype(float)\n",
    "abalone_df"
   ]
  },
  {
   "cell_type": "code",
   "execution_count": 138,
   "id": "a6c49e8c",
   "metadata": {},
   "outputs": [],
   "source": [
    "y = abalone_df[['Age']]\n",
    "X = abalone_df.drop(['Age','Rings'], axis=1)"
   ]
  },
  {
   "cell_type": "code",
   "execution_count": 139,
   "id": "38a19401",
   "metadata": {},
   "outputs": [],
   "source": [
    "# Dividing the dataset into 75% training and 25% test data using train_test_split\n",
    "\n",
    "# from sklearn import cross_validation\n",
    "from sklearn.model_selection import train_test_split \n",
    "from sklearn.model_selection import cross_validate as cv\n",
    "\n",
    "# X_train, y_train, X_test, y_test =train_test_split(X, y)\n",
    "train_X, test_X, train_y, test_y = train_test_split(X, y)"
   ]
  },
  {
   "cell_type": "code",
   "execution_count": 140,
   "id": "89360a44",
   "metadata": {},
   "outputs": [
    {
     "name": "stdout",
     "output_type": "stream",
     "text": [
      "train_df_x:\n",
      "(3132, 8)\n",
      "train_df_y:\n",
      "(3132, 1)\n",
      "test_df_x:\n",
      "(1045, 8)\n",
      "test_df_y:\n",
      "(1045, 1)\n"
     ]
    }
   ],
   "source": [
    "print(\"train_df_x:\")\n",
    "print(train_X.shape)\n",
    "\n",
    "print(\"train_df_y:\")\n",
    "print(train_y.shape)\n",
    "\n",
    "print(\"test_df_x:\")\n",
    "print(test_X.shape)\n",
    "\n",
    "print(\"test_df_y:\")\n",
    "print(test_y.shape)"
   ]
  },
  {
   "cell_type": "code",
   "execution_count": null,
   "id": "e059cf10",
   "metadata": {},
   "outputs": [],
   "source": []
  },
  {
   "cell_type": "code",
   "execution_count": null,
   "id": "54f2b0b8",
   "metadata": {},
   "outputs": [],
   "source": []
  },
  {
   "cell_type": "code",
   "execution_count": 147,
   "id": "c92a2e25",
   "metadata": {},
   "outputs": [
    {
     "name": "stdout",
     "output_type": "stream",
     "text": [
      "tensor([[0.5700, 0.4300, 0.1600,  ..., 0.2285, 0.0000, 0.0000],\n",
      "        [0.3250, 0.2500, 0.0800,  ..., 0.0630, 1.0000, 0.0000],\n",
      "        [0.6450, 0.5250, 0.1600,  ..., 0.4325, 0.0000, 1.0000],\n",
      "        ...,\n",
      "        [0.6450, 0.5050, 0.1650,  ..., 0.3360, 0.0000, 0.0000],\n",
      "        [0.7050, 0.5400, 0.2050,  ..., 0.4610, 0.0000, 0.0000],\n",
      "        [0.3400, 0.2650, 0.0800,  ..., 0.0550, 1.0000, 0.0000]])\n"
     ]
    }
   ],
   "source": [
    "# Import Dependencies\n",
    "import torch.nn as nn\n",
    "import torch\n",
    "import torch.nn.functional as F # Activation function\n",
    "\n",
    "# Create tensors \n",
    "X_train = torch.FloatTensor(X_train) \n",
    "X_test = torch.FloatTensor(X_test)\n",
    "\n",
    "y_train = torch.FloatTensor(y_train)\n",
    "y_test = torch.FloatTensor(y_test)\n",
    "\n",
    "# # Create tensors \n",
    "# train_X = torch.FloatTensor(train_X) \n",
    "# test_X = torch.FloatTensor(test_X)\n",
    "\n",
    "# train_y = torch.FloatTensor(train_y)\n",
    "# test_y = torch.FloatTensor(test_y)\n",
    "\n",
    "\n",
    "print(X_train)"
   ]
  },
  {
   "cell_type": "code",
   "execution_count": 148,
   "id": "d1e3543b",
   "metadata": {},
   "outputs": [],
   "source": [
    "#artificial neural network\n",
    "class ANN_Model(nn.Module):\n",
    "    def __init__(self, input_features=9,hidden1=400,hidden2=150,hidden3=10,out_features=3):\n",
    "        super().__init__()\n",
    "        self.layer_1_connection = nn.Linear(input_features, hidden1)\n",
    "        self.layer_2_connection = nn.Linear(hidden1, hidden2)\n",
    "        self.layer_3_connection = nn.Linear(hidden2, hidden3)\n",
    "        self.out = nn.Linear(hidden3, out_features)\n",
    "        \n",
    "    def forward(self, x):\n",
    "        #apply activation functions\n",
    "        x = F.relu(self.layer_1_connection(x))\n",
    "        x = F.relu(self.layer_2_connection(x))\n",
    "        x = F.relu(self.layer_3_connection(x))\n",
    "        x = self.out(x)\n",
    "        return x"
   ]
  },
  {
   "cell_type": "code",
   "execution_count": 149,
   "id": "a09e3fa6",
   "metadata": {},
   "outputs": [],
   "source": [
    "torch.manual_seed(42)\n",
    "\n",
    "#create instance of model\n",
    "ann = ANN_Model()"
   ]
  },
  {
   "cell_type": "code",
   "execution_count": 150,
   "id": "27ae34b6",
   "metadata": {},
   "outputs": [],
   "source": [
    "#loss function\n",
    "loss_function = nn.MSELoss()\n",
    "\n",
    "#optimizer\n",
    "optimizer = torch.optim.Adam(ann.parameters(), lr=0.01)"
   ]
  },
  {
   "cell_type": "code",
   "execution_count": 151,
   "id": "8b5ef49e",
   "metadata": {},
   "outputs": [
    {
     "name": "stdout",
     "output_type": "stream",
     "text": [
      "Epoch number: 1 with loss: 0.2916538417339325\n",
      "Epoch number: 11 with loss: 0.13605374097824097\n",
      "Epoch number: 21 with loss: 0.12362673878669739\n",
      "Epoch number: 31 with loss: 0.11897964030504227\n",
      "Epoch number: 41 with loss: 0.11392209678888321\n",
      "Epoch number: 51 with loss: 0.10748648643493652\n",
      "Epoch number: 61 with loss: 0.10350210964679718\n",
      "Epoch number: 71 with loss: 0.10031461715698242\n",
      "Epoch number: 81 with loss: 0.0991249606013298\n",
      "Epoch number: 91 with loss: 0.09994541853666306\n"
     ]
    }
   ],
   "source": [
    "#run model through multiple epochs/iterations\n",
    "final_loss = []\n",
    "n_epochs = 100\n",
    "for epoch in range(n_epochs):\n",
    "    y_pred = ann.forward(X_train)\n",
    "    loss = loss_function(y_train, y_pred)\n",
    "    final_loss.append(loss)\n",
    "    \n",
    "    if epoch % 10 == 1:\n",
    "        print(f'Epoch number: {epoch} with loss: {loss}')\n",
    "        \n",
    "    optimizer.zero_grad() #zero the gradient before running backwards propagation\n",
    "    loss.backward() \n",
    "    optimizer.step() #perform one optimization step each epoch"
   ]
  },
  {
   "cell_type": "code",
   "execution_count": 152,
   "id": "10d1c813",
   "metadata": {},
   "outputs": [],
   "source": [
    "#predictions\n",
    "y_pred = []\n",
    "\n",
    "with torch.no_grad():\n",
    "    for i, data in enumerate(X_test):\n",
    "        prediction = ann(data)\n",
    "        y_pred.append(prediction.argmax()) "
   ]
  },
  {
   "cell_type": "code",
   "execution_count": 153,
   "id": "f799a18f",
   "metadata": {},
   "outputs": [
    {
     "ename": "ValueError",
     "evalue": "Classification metrics can't handle a mix of multilabel-indicator and binary targets",
     "output_type": "error",
     "traceback": [
      "\u001b[1;31m---------------------------------------------------------------------------\u001b[0m",
      "\u001b[1;31mValueError\u001b[0m                                Traceback (most recent call last)",
      "\u001b[1;32m~\\AppData\\Local\\Temp/ipykernel_21100/2868965168.py\u001b[0m in \u001b[0;36m<module>\u001b[1;34m\u001b[0m\n\u001b[0;32m      1\u001b[0m \u001b[1;32mfrom\u001b[0m \u001b[0msklearn\u001b[0m\u001b[1;33m.\u001b[0m\u001b[0mmetrics\u001b[0m \u001b[1;32mimport\u001b[0m \u001b[0mclassification_report\u001b[0m\u001b[1;33m\u001b[0m\u001b[1;33m\u001b[0m\u001b[0m\n\u001b[0;32m      2\u001b[0m \u001b[1;33m\u001b[0m\u001b[0m\n\u001b[1;32m----> 3\u001b[1;33m \u001b[0mprint\u001b[0m\u001b[1;33m(\u001b[0m\u001b[0mclassification_report\u001b[0m\u001b[1;33m(\u001b[0m\u001b[0my_test\u001b[0m\u001b[1;33m,\u001b[0m \u001b[0my_pred\u001b[0m\u001b[1;33m)\u001b[0m\u001b[1;33m)\u001b[0m\u001b[1;33m\u001b[0m\u001b[1;33m\u001b[0m\u001b[0m\n\u001b[0m",
      "\u001b[1;32m~\\AppData\\Local\\Programs\\Python\\Python39\\lib\\site-packages\\sklearn\\metrics\\_classification.py\u001b[0m in \u001b[0;36mclassification_report\u001b[1;34m(y_true, y_pred, labels, target_names, sample_weight, digits, output_dict, zero_division)\u001b[0m\n\u001b[0;32m   2074\u001b[0m     \"\"\"\n\u001b[0;32m   2075\u001b[0m \u001b[1;33m\u001b[0m\u001b[0m\n\u001b[1;32m-> 2076\u001b[1;33m     \u001b[0my_type\u001b[0m\u001b[1;33m,\u001b[0m \u001b[0my_true\u001b[0m\u001b[1;33m,\u001b[0m \u001b[0my_pred\u001b[0m \u001b[1;33m=\u001b[0m \u001b[0m_check_targets\u001b[0m\u001b[1;33m(\u001b[0m\u001b[0my_true\u001b[0m\u001b[1;33m,\u001b[0m \u001b[0my_pred\u001b[0m\u001b[1;33m)\u001b[0m\u001b[1;33m\u001b[0m\u001b[1;33m\u001b[0m\u001b[0m\n\u001b[0m\u001b[0;32m   2077\u001b[0m \u001b[1;33m\u001b[0m\u001b[0m\n\u001b[0;32m   2078\u001b[0m     \u001b[1;32mif\u001b[0m \u001b[0mlabels\u001b[0m \u001b[1;32mis\u001b[0m \u001b[1;32mNone\u001b[0m\u001b[1;33m:\u001b[0m\u001b[1;33m\u001b[0m\u001b[1;33m\u001b[0m\u001b[0m\n",
      "\u001b[1;32m~\\AppData\\Local\\Programs\\Python\\Python39\\lib\\site-packages\\sklearn\\metrics\\_classification.py\u001b[0m in \u001b[0;36m_check_targets\u001b[1;34m(y_true, y_pred)\u001b[0m\n\u001b[0;32m     91\u001b[0m \u001b[1;33m\u001b[0m\u001b[0m\n\u001b[0;32m     92\u001b[0m     \u001b[1;32mif\u001b[0m \u001b[0mlen\u001b[0m\u001b[1;33m(\u001b[0m\u001b[0my_type\u001b[0m\u001b[1;33m)\u001b[0m \u001b[1;33m>\u001b[0m \u001b[1;36m1\u001b[0m\u001b[1;33m:\u001b[0m\u001b[1;33m\u001b[0m\u001b[1;33m\u001b[0m\u001b[0m\n\u001b[1;32m---> 93\u001b[1;33m         raise ValueError(\n\u001b[0m\u001b[0;32m     94\u001b[0m             \"Classification metrics can't handle a mix of {0} and {1} targets\".format(\n\u001b[0;32m     95\u001b[0m                 \u001b[0mtype_true\u001b[0m\u001b[1;33m,\u001b[0m \u001b[0mtype_pred\u001b[0m\u001b[1;33m\u001b[0m\u001b[1;33m\u001b[0m\u001b[0m\n",
      "\u001b[1;31mValueError\u001b[0m: Classification metrics can't handle a mix of multilabel-indicator and binary targets"
     ]
    }
   ],
   "source": [
    "from sklearn.metrics import classification_report\n",
    "\n",
    "print(classification_report(y_test, y_pred))"
   ]
  },
  {
   "cell_type": "markdown",
   "id": "8131be90",
   "metadata": {},
   "source": [
    "#### 6.\tCompare the performance of the neural networks to the other model you created. Which performed better? Why do you think that is?\n"
   ]
  },
  {
   "cell_type": "code",
   "execution_count": null,
   "id": "52180812",
   "metadata": {},
   "outputs": [],
   "source": []
  },
  {
   "cell_type": "code",
   "execution_count": null,
   "id": "aa723286",
   "metadata": {},
   "outputs": [],
   "source": []
  },
  {
   "cell_type": "code",
   "execution_count": null,
   "id": "1257cc4a",
   "metadata": {},
   "outputs": [],
   "source": []
  }
 ],
 "metadata": {
  "kernelspec": {
   "display_name": "Python 3 (ipykernel)",
   "language": "python",
   "name": "python3"
  },
  "language_info": {
   "codemirror_mode": {
    "name": "ipython",
    "version": 3
   },
   "file_extension": ".py",
   "mimetype": "text/x-python",
   "name": "python",
   "nbconvert_exporter": "python",
   "pygments_lexer": "ipython3",
   "version": "3.9.7"
  }
 },
 "nbformat": 4,
 "nbformat_minor": 5
}
