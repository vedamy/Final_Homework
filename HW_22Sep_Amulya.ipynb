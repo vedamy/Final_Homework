{
 "cells": [
  {
   "cell_type": "markdown",
   "metadata": {},
   "source": [
    "### Homework 1\n",
    "\n",
    "Skim this Homework before you do your reading assignments. It will help focus your attention. \n",
    "\n",
    "Provide written answers to questions with a `#comment`. \n",
    "\n",
    "Answer the following question **first**. The rest may be completed in any order."
   ]
  },
  {
   "cell_type": "markdown",
   "metadata": {},
   "source": [
    "1. How can you get more information about a function or an object from inside a jupyter cell? "
   ]
  },
  {
   "cell_type": "code",
   "execution_count": null,
   "metadata": {},
   "outputs": [],
   "source": [
    "# we can get the data type of any object by using the help() function. "
   ]
  },
  {
   "cell_type": "markdown",
   "metadata": {},
   "source": [
    "2. How can you determine the data type of an object? "
   ]
  },
  {
   "cell_type": "code",
   "execution_count": 3,
   "metadata": {},
   "outputs": [
    {
     "name": "stdout",
     "output_type": "stream",
     "text": [
      "<class 'str'>\n"
     ]
    }
   ],
   "source": [
    "#In python, data type is set when you assign a value to a variable:\n",
    "\n",
    "# Ex1: print the datatype of the variable X:\n",
    "\n",
    "x = \"hello world\"\n",
    "print (type(x))"
   ]
  },
  {
   "cell_type": "code",
   "execution_count": 2,
   "metadata": {},
   "outputs": [
    {
     "name": "stdout",
     "output_type": "stream",
     "text": [
      "<class 'int'>\n"
     ]
    }
   ],
   "source": [
    "# Ex2: print the datatype of the variable X:\n",
    "x = 5\n",
    "print(type(x))"
   ]
  },
  {
   "cell_type": "markdown",
   "metadata": {},
   "source": [
    "3. Assign a variable named `foo` and give it a value of `'bar'`. Oh, and what is assignment?"
   ]
  },
  {
   "cell_type": "code",
   "execution_count": 13,
   "metadata": {},
   "outputs": [
    {
     "name": "stdout",
     "output_type": "stream",
     "text": [
      "<class 'str'>\n"
     ]
    }
   ],
   "source": [
    "foo = \"bar\"\n",
    "print (type(foo))"
   ]
  },
  {
   "cell_type": "markdown",
   "metadata": {},
   "source": [
    "4. What is a data structure in another language that is not built into python? Does python have a similar data structure that may serve the same purpose? "
   ]
  },
  {
   "cell_type": "code",
   "execution_count": null,
   "metadata": {},
   "outputs": [],
   "source": []
  },
  {
   "cell_type": "markdown",
   "metadata": {},
   "source": [
    "5. You have an assortment of items you will need to keep track of. What would be a good data structure to keep them in? Provide an example."
   ]
  },
  {
   "cell_type": "code",
   "execution_count": 57,
   "metadata": {},
   "outputs": [
    {
     "name": "stdout",
     "output_type": "stream",
     "text": [
      "[1, 'sandwich', 4, 'apple']\n"
     ]
    }
   ],
   "source": [
    "# Elements in a list do not all have to be of the same type.\n",
    "\n",
    "l = [1, 'sandwich', 4, 'apple']\n",
    "\n",
    "print(l)"
   ]
  },
  {
   "cell_type": "markdown",
   "metadata": {},
   "source": [
    "6. You have an assortment of names and telephone numbers. What might be a good data structure to keep them in? Show an example. "
   ]
  },
  {
   "cell_type": "code",
   "execution_count": 1,
   "metadata": {},
   "outputs": [
    {
     "name": "stdout",
     "output_type": "stream",
     "text": [
      "{'student1': {'name': 'Alex', 'telephone number': -5560}, 'student2': {'name': 'Tina', 'telephone number': -7871}, 'student3': {'name': 'Dany', 'telephone number': -8937}}\n"
     ]
    }
   ],
   "source": [
    "# Dictionaries are used to store data values in key:value pairs. Nested dictionaries are good data structure to keep them in.\n",
    "\n",
    "# Example:\n",
    "\n",
    "student1 = {\n",
    "  \"name\" : \"Alex\",\n",
    "  \"telephone number\" : 555-555-5560\n",
    "}\n",
    "student2 = {\n",
    "  \"name\" : \"Tina\",\n",
    "  \"telephone number\" : 777-994-7654\n",
    "}\n",
    "student3 = {\n",
    "  \"name\" : \"Dany\",\n",
    "  \"telephone number\" : 456-850-8543\n",
    "}\n",
    "\n",
    "codergirl = {\n",
    "  \"student1\" : student1,\n",
    "  \"student2\" : student2,\n",
    "  \"student3\" : student3\n",
    "}\n",
    "\n",
    "print(codergirl)"
   ]
  },
  {
   "cell_type": "markdown",
   "metadata": {},
   "source": [
    "7. You need to create a copy of an important list and alter the copy. Why is the following code a bad idea? "
   ]
  },
  {
   "cell_type": "code",
   "execution_count": 5,
   "metadata": {},
   "outputs": [],
   "source": [
    "list1 = [1,2,3]\n",
    "list2 = list1\n",
    "list2[0]= 9"
   ]
  },
  {
   "cell_type": "code",
   "execution_count": 6,
   "metadata": {},
   "outputs": [
    {
     "name": "stdout",
     "output_type": "stream",
     "text": [
      "[9, 2, 3]\n",
      "[9, 2, 3]\n"
     ]
    }
   ],
   "source": [
    "list1 = [1,2,3]\n",
    "list2 = list1\n",
    "list2[0] = 9\n",
    "\n",
    "print(list1)\n",
    "print(list2)\n",
    "\n",
    "# The above code is a bad idea, because along with modifying the copy i.e., list#2, the original format i.e., list# 1 \n",
    "# was also altered."
   ]
  },
  {
   "cell_type": "markdown",
   "metadata": {},
   "source": [
    "8. What is truthy and falsey? Provide a list example and a string example. "
   ]
  },
  {
   "cell_type": "code",
   "execution_count": 5,
   "metadata": {},
   "outputs": [],
   "source": [
    "# In Python, individual values can evaluate to either True or False.\n",
    "\n",
    "# Values that evaluate to True are considered as Truthy, these values include non-empty sequences, numbers (except 0 in \n",
    "# every numeric type), and basically every value that is not falsy.\n",
    "\n",
    "# Values that evaluate to False are considered Falsey.Falsy values include empty sequences  (lists, tuples, strings, \n",
    "# dictionaries, sets), zero in every numeric type, None, and False.\n",
    "\n"
   ]
  },
  {
   "cell_type": "markdown",
   "metadata": {},
   "source": [
    "9. What is the difference between a dynamically typed and statically typed language? \n",
    "\n",
    "Which one is python? \n",
    "\n",
    "When is that a good thing? \n",
    "\n",
    "When is that a bad thing? "
   ]
  },
  {
   "cell_type": "code",
   "execution_count": null,
   "metadata": {},
   "outputs": [],
   "source": [
    "# The difference between a dynamically typed and statically typed language is, in a dynamically typed language,\n",
    "# checking of the variable is done at the runtime. Whereas in the Statically typed language the checking of the \n",
    "# variables or any other is done at the compile time.\n",
    "\n",
    "# Python is a dynamically typed language.\n",
    "\n",
    "# Static typing is generally faster because the computer doesn't have to spend extra time figuring out what type of data \n",
    "#is being used."
   ]
  },
  {
   "cell_type": "markdown",
   "metadata": {},
   "source": [
    "10. Here is a [link](https://docs.python.org/3/library/functions.html) to the python `built-in functions`. Choose 2 and give an example of how to use them. "
   ]
  },
  {
   "cell_type": "code",
   "execution_count": 1,
   "metadata": {},
   "outputs": [
    {
     "name": "stdout",
     "output_type": "stream",
     "text": [
      "{'Gender', 'Pid', 'symptoms', 'Age'}\n"
     ]
    }
   ],
   "source": [
    "#1.Set-Function:\n",
    "\n",
    "#Sets are used to store multiple items in a single variable.\n",
    "\n",
    "#Set is one of 4 built-in data types in Python used to store collections of data.\n",
    "\n",
    "#Set items are unordered, unchangeable, and do not allow duplicate values.\n",
    "\n",
    "#Sets are written with curly brackets.\n",
    "\n",
    "#Example:\n",
    "Dataset = {\"Pid\",\"Age\",\"Gender\",\"symptoms\",\"Age\"}\n",
    "print(Dataset)\n"
   ]
  },
  {
   "cell_type": "code",
   "execution_count": 2,
   "metadata": {},
   "outputs": [
    {
     "name": "stdout",
     "output_type": "stream",
     "text": [
      "('Ink Pen', 'Eraser', 'Pencil', 'Ball Pen', 'Pencil')\n"
     ]
    }
   ],
   "source": [
    "#2.Tuple-Function:\n",
    "\n",
    "#Tuples are used to store multiple items in a single variable.\n",
    "\n",
    "#Tuple items are ordered, unchangeable, and allow duplicate values.\n",
    "\n",
    "#Tuple items are indexed, the first item has index [0], the second item has index [1] etc.\n",
    "\n",
    "#Tuples are written with round brackets.\n",
    "\n",
    "#Example:\n",
    "Stationary = (\"Ink Pen\",\"Eraser\",\"Pencil\",\"Ball Pen\",\"Pencil\")\n",
    "print(Stationary)"
   ]
  },
  {
   "cell_type": "markdown",
   "metadata": {},
   "source": [
    "11. I need to know if an integer is odd or even. What `operator` might help me do that? "
   ]
  },
  {
   "cell_type": "code",
   "execution_count": 27,
   "metadata": {
    "scrolled": true
   },
   "outputs": [
    {
     "name": "stdout",
     "output_type": "stream",
     "text": [
      "x is odd\n"
     ]
    }
   ],
   "source": [
    "# Modulo Operator ( % ) is used to check whether the given number is even or odd \n",
    "x = 643\n",
    "y = 2\n",
    "z = x % y\n",
    "if z == 0:\n",
    "    print(\"x is even\")\n",
    "elif z == 1: \n",
    "    print(\"x is odd\")\n"
   ]
  },
  {
   "cell_type": "code",
   "execution_count": null,
   "metadata": {},
   "outputs": [],
   "source": [
    "#12.what is an Operator?"
   ]
  },
  {
   "cell_type": "code",
   "execution_count": null,
   "metadata": {},
   "outputs": [],
   "source": [
    "# Operators are used to perform operations on variables and values."
   ]
  },
  {
   "cell_type": "markdown",
   "metadata": {},
   "source": [
    "13. What is a data type in another language does not exist in python? Does python have a similar data type"
   ]
  },
  {
   "cell_type": "code",
   "execution_count": null,
   "metadata": {},
   "outputs": [],
   "source": [
    "# Python does not have a character or char type. If you intend to use character, you just can go with str of length 1.\n",
    "# In Python, str is the datatype for characters or Unicode characters."
   ]
  },
  {
   "cell_type": "markdown",
   "metadata": {},
   "source": [
    "14. What is a python expression? And what does it evalute to? "
   ]
  },
  {
   "cell_type": "code",
   "execution_count": 56,
   "metadata": {},
   "outputs": [
    {
     "data": {
      "text/plain": [
       "12"
      ]
     },
     "execution_count": 56,
     "metadata": {},
     "output_type": "execute_result"
    }
   ],
   "source": [
    "# An expression is an instruction that combines values and operators and always evaluates down to a single value.\n",
    "\n",
    "# Example: \n",
    "\n",
    "7 + 5\n",
    "\n",
    "# Here, 7 and 5 are integer values and the + is the mathematical operator. \n",
    "# This expression evaluates down to the single integer value 12."
   ]
  },
  {
   "cell_type": "markdown",
   "metadata": {},
   "source": [
    "15. Provide an expression that evaluates which variable is greater. (Hint: you can just test them and don't need to say which is greater)"
   ]
  },
  {
   "cell_type": "code",
   "execution_count": 29,
   "metadata": {},
   "outputs": [
    {
     "name": "stdout",
     "output_type": "stream",
     "text": [
      "True\n"
     ]
    }
   ],
   "source": [
    "foo = 23\n",
    "bar = 48\n",
    "if foo <= bar:\n",
    "    print('True')\n",
    "else:\n",
    "    print('False')\n"
   ]
  },
  {
   "cell_type": "markdown",
   "metadata": {},
   "source": [
    "16. Provide an if statement (inside the provided for loop) that prints 'even' if the number is even, 'odd' if the number is odd and 'three' if the number is 3."
   ]
  },
  {
   "cell_type": "code",
   "execution_count": 4,
   "metadata": {},
   "outputs": [],
   "source": [
    " my_list = [1,2,3,4,5,6,7,8,9]\n",
    "for i in my_list:\n",
    "    pass\n",
    "    #Your if statement goes here.\n",
    "    #Be sure to indent the statement\n",
    "    #And delete the word 'pass'"
   ]
  },
  {
   "cell_type": "code",
   "execution_count": 43,
   "metadata": {},
   "outputs": [
    {
     "name": "stdout",
     "output_type": "stream",
     "text": [
      "odd\n",
      "even\n",
      "three\n",
      "even\n",
      "odd\n",
      "even\n",
      "odd\n",
      "even\n",
      "odd\n"
     ]
    }
   ],
   "source": [
    " my_list = [1,2,3,4,5,6,7,8,9]\n",
    "for i in my_list:\n",
    "    if (i) == 3:\n",
    "        print(\"three\")\n",
    "    elif (i % 2) == 1:\n",
    "        print(\"odd\")\n",
    "    elif (i % 2) == 0:    \n",
    "        print(\"even\") \n"
   ]
  },
  {
   "cell_type": "markdown",
   "metadata": {},
   "source": [
    "17. What is the equal operator? `# comment it out`\n",
    "And show an example of how it is used. "
   ]
  },
  {
   "cell_type": "code",
   "execution_count": 8,
   "metadata": {},
   "outputs": [
    {
     "name": "stdout",
     "output_type": "stream",
     "text": [
      "False\n"
     ]
    }
   ],
   "source": [
    "#Equal Operator comes under Comparison operators, which are used to compare two values.\n",
    "\n",
    "#Example:\n",
    "x = 5\n",
    "y = 7\n",
    "print(x == y)"
   ]
  },
  {
   "cell_type": "markdown",
   "metadata": {},
   "source": [
    "18. What is the less than equal to operator? And show an example of how it is used. "
   ]
  },
  {
   "cell_type": "code",
   "execution_count": 9,
   "metadata": {},
   "outputs": [
    {
     "name": "stdout",
     "output_type": "stream",
     "text": [
      "True\n"
     ]
    }
   ],
   "source": [
    "#Operators are used to perform operations on variables and values.\n",
    "\n",
    "#Less than equal to operator comes under Comparison operators, which are used to compare two values.\n",
    "\n",
    "#Example:\n",
    "X = 25\n",
    "Y = 56\n",
    "print(X <= Y)"
   ]
  },
  {
   "cell_type": "markdown",
   "metadata": {},
   "source": [
    "19. What is the modulo remainder operator? And show an example of how it is used. "
   ]
  },
  {
   "cell_type": "code",
   "execution_count": 54,
   "metadata": {},
   "outputs": [
    {
     "name": "stdout",
     "output_type": "stream",
     "text": [
      "1\n"
     ]
    }
   ],
   "source": [
    "#The % symbol in Python is called the Modulo Operator. \n",
    "#It returns the remainder of dividing the left hand operand by right hand operand. \n",
    "#It's used to get the remainder of a division problem.\n",
    "\n",
    "#Example:\n",
    "a = 5\n",
    "b = 2\n",
    "\n",
    "print(a % b)"
   ]
  },
  {
   "cell_type": "markdown",
   "metadata": {},
   "source": [
    "20. What is the floored division operator? And show an example of how it is used. "
   ]
  },
  {
   "cell_type": "code",
   "execution_count": 46,
   "metadata": {},
   "outputs": [
    {
     "name": "stdout",
     "output_type": "stream",
     "text": [
      "7\n"
     ]
    }
   ],
   "source": [
    "#The floored division operator is “//”. It returns floor value for both integer and floating point arguments.\n",
    "\n",
    "#Example:\n",
    "x = 15\n",
    "y = 2\n",
    "\n",
    "print(x // y)"
   ]
  },
  {
   "cell_type": "markdown",
   "metadata": {},
   "source": [
    "21. Why is this assigment not a good idea? (Hint: focus on the word hex)"
   ]
  },
  {
   "cell_type": "code",
   "execution_count": 13,
   "metadata": {},
   "outputs": [],
   "source": [
    "hex = 'some text value'\n",
    "\n",
    "#  Here, the word hex was assigned as a variable name, which is one of the built-in functions in Python3 that is used to \n",
    "# convert the specified number into a hexadecimal value. \n",
    "\n",
    "# As hex is already an in-built python function it cannot be used as a variable name"
   ]
  },
  {
   "cell_type": "markdown",
   "metadata": {},
   "source": [
    "22. Why does the following give an error? Show an example of how to fix it."
   ]
  },
  {
   "cell_type": "code",
   "execution_count": 6,
   "metadata": {},
   "outputs": [
    {
     "ename": "SyntaxError",
     "evalue": "invalid syntax (<ipython-input-6-47df514039ea>, line 1)",
     "output_type": "error",
     "traceback": [
      "\u001b[0;36m  File \u001b[0;32m\"<ipython-input-6-47df514039ea>\"\u001b[0;36m, line \u001b[0;32m1\u001b[0m\n\u001b[0;31m    2cars = ('Ferarri', 'Mustang')\u001b[0m\n\u001b[0m     ^\u001b[0m\n\u001b[0;31mSyntaxError\u001b[0m\u001b[0;31m:\u001b[0m invalid syntax\n"
     ]
    }
   ],
   "source": [
    "2cars = ('Ferarri', 'Mustang')"
   ]
  },
  {
   "cell_type": "code",
   "execution_count": 12,
   "metadata": {},
   "outputs": [
    {
     "name": "stdout",
     "output_type": "stream",
     "text": [
      "('Ferarri', 'Mustang')\n"
     ]
    }
   ],
   "source": [
    "#Because the Variable name 2cars is incorrect, because in python a variable should not start with number instead we can give:\n",
    "cars2 = ('Ferarri','Mustang')\n",
    "print(cars2)"
   ]
  },
  {
   "cell_type": "markdown",
   "metadata": {},
   "source": [
    "23. Why does this if statement evaluate to true? \n",
    "You will see this shortcut a lot and it can be confusing as to what is going on. "
   ]
  },
  {
   "cell_type": "code",
   "execution_count": 17,
   "metadata": {},
   "outputs": [
    {
     "name": "stdout",
     "output_type": "stream",
     "text": [
      "Hooray!\n"
     ]
    }
   ],
   "source": [
    "some_list = ['fizz','buzz',1,{'key':'value'}]\n",
    "\n",
    "if some_list:\n",
    "    print('Hooray!')"
   ]
  },
  {
   "cell_type": "code",
   "execution_count": 8,
   "metadata": {},
   "outputs": [
    {
     "name": "stdout",
     "output_type": "stream",
     "text": [
      "['fizz', 'buzz', 'Hooray', 1, {'key': 'value'}]\n",
      "Hooray!\n"
     ]
    }
   ],
   "source": [
    "# The condition is like a filter that only accepts the items that valuate to True.\n",
    "\n",
    "\n",
    "some_list = ['fizz','buzz',1,{'key':'value'}]\n",
    "some_list.insert(2, 'Hooray')\n",
    "print(some_list)\n",
    "\n",
    "\n",
    "if some_list:\n",
    "    print('Hooray!')\n"
   ]
  },
  {
   "cell_type": "markdown",
   "metadata": {},
   "source": [
    "24. Write an expression that adds two numbers. "
   ]
  },
  {
   "cell_type": "code",
   "execution_count": 14,
   "metadata": {},
   "outputs": [
    {
     "name": "stdout",
     "output_type": "stream",
     "text": [
      "23\n"
     ]
    }
   ],
   "source": [
    "#Operators are used to perform operations on variables and values.\n",
    "\n",
    "#In the example below, we use the + operator to add together two values\n",
    "\n",
    "print(10+13)"
   ]
  },
  {
   "cell_type": "markdown",
   "metadata": {},
   "source": [
    "25. Write an expression that divides two numbers. "
   ]
  },
  {
   "cell_type": "code",
   "execution_count": 24,
   "metadata": {},
   "outputs": [
    {
     "name": "stdout",
     "output_type": "stream",
     "text": [
      "0.6666666666666666\n"
     ]
    }
   ],
   "source": [
    "X = 2\n",
    "Y = 5\n",
    "print(X / y)"
   ]
  },
  {
   "cell_type": "markdown",
   "metadata": {},
   "source": [
    "26. Write an expression that raises one number to the power of 3. "
   ]
  },
  {
   "cell_type": "code",
   "execution_count": 22,
   "metadata": {},
   "outputs": [
    {
     "name": "stdout",
     "output_type": "stream",
     "text": [
      "8\n"
     ]
    }
   ],
   "source": [
    "x = pow(2, 3)\n",
    "print(x)"
   ]
  },
  {
   "cell_type": "raw",
   "metadata": {},
   "source": [
    "# 27. You've been asked to do some semi-avanced mathematics and create a report. What module might you import to help make your job easier? \n",
    "Import this module below. (Hint: It's part of the Python Standard Library)"
   ]
  },
  {
   "cell_type": "code",
   "execution_count": 45,
   "metadata": {},
   "outputs": [],
   "source": [
    "import math"
   ]
  },
  {
   "cell_type": "markdown",
   "metadata": {},
   "source": [
    "28. How can you change `my_var` form an `int` to a `str`?"
   ]
  },
  {
   "cell_type": "code",
   "execution_count": 1,
   "metadata": {},
   "outputs": [
    {
     "data": {
      "text/plain": [
       "str"
      ]
     },
     "execution_count": 1,
     "metadata": {},
     "output_type": "execute_result"
    }
   ],
   "source": [
    "my_var = 42\n",
    "type(chr(my_var))"
   ]
  },
  {
   "cell_type": "markdown",
   "metadata": {},
   "source": [
    "29. Slice `some_string` to only include the words `lazy`. "
   ]
  },
  {
   "cell_type": "code",
   "execution_count": 45,
   "metadata": {},
   "outputs": [
    {
     "data": {
      "text/plain": [
       "'lazy'"
      ]
     },
     "execution_count": 45,
     "metadata": {},
     "output_type": "execute_result"
    }
   ],
   "source": [
    "some_string = \"The quick brown fox jumped over the lazy dog.\"\n",
    "some_string[36:40]"
   ]
  },
  {
   "cell_type": "markdown",
   "metadata": {},
   "source": [
    "30. Assign a new variable `sport` to the 3rd element in the list."
   ]
  },
  {
   "cell_type": "code",
   "execution_count": 14,
   "metadata": {},
   "outputs": [],
   "source": [
    "my_favorite_teams = ['Chiefs', 'Cardinals', 'Blues', 'Lakers','Manchester United', 'Couch Surfing']"
   ]
  },
  {
   "cell_type": "code",
   "execution_count": 12,
   "metadata": {},
   "outputs": [
    {
     "name": "stdout",
     "output_type": "stream",
     "text": [
      "Blues\n"
     ]
    }
   ],
   "source": [
    "my_favorite_teams = ['Chiefs', 'Cardinals', 'Blues', 'Lakers','Manchester United', 'Couch Surfing']\n",
    "Sport = my_favorite_teams[2]\n",
    "print(sport)\n"
   ]
  },
  {
   "cell_type": "markdown",
   "metadata": {},
   "source": [
    "**Optional Questions:**"
   ]
  },
  {
   "cell_type": "markdown",
   "metadata": {},
   "source": [
    "Write a function that takes in a number and doubles it. "
   ]
  },
  {
   "cell_type": "code",
   "execution_count": 18,
   "metadata": {},
   "outputs": [
    {
     "name": "stdout",
     "output_type": "stream",
     "text": [
      "15\n",
      "25\n",
      "45\n"
     ]
    }
   ],
   "source": [
    "def my_function(x):\n",
    "    return 5 * x\n",
    "\n",
    "print(my_function(3))\n",
    "print(my_function(5))\n",
    "print(my_function(9))\n",
    "\n"
   ]
  },
  {
   "cell_type": "markdown",
   "metadata": {},
   "source": [
    "What is the use case for the `dir()` method? "
   ]
  },
  {
   "cell_type": "code",
   "execution_count": 2,
   "metadata": {},
   "outputs": [
    {
     "name": "stdout",
     "output_type": "stream",
     "text": [
      "['In', 'Out', '_', '_1', '__', '___', '__builtin__', '__builtins__', '__doc__', '__loader__', '__name__', '__package__', '__spec__', '_dh', '_i', '_i1', '_i2', '_ih', '_ii', '_iii', '_oh', 'exit', 'get_ipython', 'math', 'my_var', 'quit']\n"
     ]
    }
   ],
   "source": [
    "# The dir() function returns all properties and methods of the specified object, without the values.\n",
    "\n",
    "import math\n",
    " \n",
    "print(dir())"
   ]
  },
  {
   "cell_type": "markdown",
   "metadata": {},
   "source": [
    "Reverse the following string using only slicing methods."
   ]
  },
  {
   "cell_type": "code",
   "execution_count": 15,
   "metadata": {},
   "outputs": [],
   "source": [
    "irreversible = \"Can you reverse me?\""
   ]
  },
  {
   "cell_type": "code",
   "execution_count": 17,
   "metadata": {},
   "outputs": [
    {
     "name": "stdout",
     "output_type": "stream",
     "text": [
      "['?', 'e', 'm', ' ', 'e', 's', 'r', 'e', 'v', 'e', 'r', ' ', 'u', 'o', 'y', ' ', 'n', 'a', 'C']\n"
     ]
    }
   ],
   "source": [
    "irreversible = \"Can you reverse me?\"\n",
    "print(list(reversed(irreversible[0:22])))\n",
    "\n",
    "                  "
   ]
  },
  {
   "cell_type": "code",
   "execution_count": null,
   "metadata": {},
   "outputs": [],
   "source": []
  },
  {
   "cell_type": "code",
   "execution_count": null,
   "metadata": {},
   "outputs": [],
   "source": []
  }
 ],
 "metadata": {
  "kernelspec": {
   "display_name": "Python 3 (ipykernel)",
   "language": "python",
   "name": "python3"
  },
  "language_info": {
   "codemirror_mode": {
    "name": "ipython",
    "version": 3
   },
   "file_extension": ".py",
   "mimetype": "text/x-python",
   "name": "python",
   "nbconvert_exporter": "python",
   "pygments_lexer": "ipython3",
   "version": "3.9.7"
  }
 },
 "nbformat": 4,
 "nbformat_minor": 4
}
