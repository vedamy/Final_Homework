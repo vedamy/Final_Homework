{
 "cells": [
  {
   "cell_type": "code",
   "execution_count": 4,
   "id": "c26aeac1",
   "metadata": {},
   "outputs": [
    {
     "data": {
      "text/plain": [
       "array([[1],\n",
       "       [2],\n",
       "       [3]])"
      ]
     },
     "execution_count": 4,
     "metadata": {},
     "output_type": "execute_result"
    }
   ],
   "source": [
    "import numpy as np\n",
    "v = np.array([[1],[2], [3]])\n",
    "v"
   ]
  },
  {
   "cell_type": "code",
   "execution_count": 11,
   "id": "7de98041",
   "metadata": {},
   "outputs": [
    {
     "data": {
      "text/plain": [
       "array([[1, 2, 3],\n",
       "       [4, 5, 6],\n",
       "       [7, 8, 9]])"
      ]
     },
     "execution_count": 11,
     "metadata": {},
     "output_type": "execute_result"
    }
   ],
   "source": [
    "m= np.array([[1,2,3],[4,5,6],[7,8,9]])\n",
    "m"
   ]
  },
  {
   "cell_type": "code",
   "execution_count": 2,
   "id": "b6a6f061",
   "metadata": {},
   "outputs": [
    {
     "data": {
      "text/plain": [
       "(3, 3)"
      ]
     },
     "execution_count": 2,
     "metadata": {},
     "output_type": "execute_result"
    }
   ],
   "source": [
    "m.shape"
   ]
  },
  {
   "cell_type": "code",
   "execution_count": 7,
   "id": "34f3df75",
   "metadata": {},
   "outputs": [
    {
     "data": {
      "text/plain": [
       "-1"
      ]
     },
     "execution_count": 7,
     "metadata": {},
     "output_type": "execute_result"
    }
   ],
   "source": [
    "north = np.array([0,1])\n",
    "east = np.array([1,0])\n",
    "south = np.array([0,-1])\n",
    "west = np.array([-1,0])\n",
    "\n",
    "np.dot(north, south)"
   ]
  },
  {
   "cell_type": "markdown",
   "id": "81d52717",
   "metadata": {},
   "source": [
    "$$ A \\cdot A^T = I $$"
   ]
  },
  {
   "cell_type": "code",
   "execution_count": 14,
   "id": "7c444723",
   "metadata": {},
   "outputs": [
    {
     "name": "stdout",
     "output_type": "stream",
     "text": [
      "[20 -4 -3]\n"
     ]
    }
   ],
   "source": [
    "A = np.array([2, 7, 4])\n",
    "B = np.array([3, 9, 8])\n",
    "\n",
    "output = np.cross(A, B)\n",
    "print(output)"
   ]
  },
  {
   "cell_type": "code",
   "execution_count": 25,
   "id": "31297e21",
   "metadata": {},
   "outputs": [],
   "source": [
    "def countdown(n):\n",
    "    print(n)\n",
    "    #count backwards from n until we get to 0\n",
    "    if n>0:\n",
    "        #stuff\n",
    "        countdown(n-1)\n",
    "    else:\n",
    "        return #stopping condition - terminates the recursion\n"
   ]
  },
  {
   "cell_type": "code",
   "execution_count": 26,
   "id": "3250f6d6",
   "metadata": {},
   "outputs": [
    {
     "name": "stdout",
     "output_type": "stream",
     "text": [
      "3\n",
      "2\n",
      "1\n",
      "0\n"
     ]
    }
   ],
   "source": [
    "countdown(3)"
   ]
  },
  {
   "cell_type": "code",
   "execution_count": 28,
   "id": "f345a550",
   "metadata": {},
   "outputs": [],
   "source": [
    "def countdown(n):\n",
    "\n",
    "    #count backwards from n until we get to 0\n",
    "    if n>0:\n",
    "        #stuff\n",
    "        countdown(n-1)\n",
    "        print(n)\n",
    "    else:\n",
    "        return #stopping condition - terminates the recursion"
   ]
  },
  {
   "cell_type": "code",
   "execution_count": 29,
   "id": "c7dff6e3",
   "metadata": {},
   "outputs": [
    {
     "name": "stdout",
     "output_type": "stream",
     "text": [
      "1\n",
      "2\n",
      "3\n"
     ]
    }
   ],
   "source": [
    "countdown(3)"
   ]
  },
  {
   "cell_type": "markdown",
   "id": "5f7a41f3",
   "metadata": {},
   "source": [
    "1. Write a function that calculates the dot product manually AND a function that\n",
    "calculates the cross product manually. Both should accept two vectors and perform\n",
    "that calculation. Be sure to use try except and error handling for basic issues that\n",
    "might occur."
   ]
  },
  {
   "cell_type": "code",
   "execution_count": 32,
   "id": "e5d926d7",
   "metadata": {},
   "outputs": [
    {
     "name": "stdout",
     "output_type": "stream",
     "text": [
      "101\n"
     ]
    }
   ],
   "source": [
    "A = np.array([2, 7, 4])\n",
    "B = np.array([3, 9, 8])\n",
    "\n",
    "output = np.dot(A, B)\n",
    "print(output)"
   ]
  },
  {
   "cell_type": "code",
   "execution_count": 39,
   "id": "d0a04793",
   "metadata": {},
   "outputs": [
    {
     "name": "stdout",
     "output_type": "stream",
     "text": [
      "130\n",
      "32\n",
      "50\n"
     ]
    }
   ],
   "source": [
    "def dot_product(a_vector,b_vector):\n",
    " \n",
    "    return sum([a*b for a,b in zip(a_vector,b_vector)])\n",
    "\n",
    "X = [1,2,3,4,5,]\n",
    "Y = [6,7,8,9,10]\n",
    "print(dot_product(X,Y)) \n",
    "a=[1,2,3]\n",
    "b=[4,5,6]\n",
    "print(dot_product(a,b)) #prints 32= 1*4 + 2*5 + 3*6 = \n",
    "m = [1, 2, 3]\n",
    "n = [7, 8, 9]\n",
    "print(dot_product(m,n)) #prints 50 "
   ]
  },
  {
   "cell_type": "code",
   "execution_count": 42,
   "id": "756dc2a8",
   "metadata": {},
   "outputs": [
    {
     "name": "stdout",
     "output_type": "stream",
     "text": [
      "50\n"
     ]
    }
   ],
   "source": [
    "m = [1, 2, 3]\n",
    "n = [7, 8, 9]\n",
    "print(dot_product(m,n))"
   ]
  },
  {
   "cell_type": "code",
   "execution_count": 43,
   "id": "cab659e1",
   "metadata": {},
   "outputs": [
    {
     "data": {
      "text/plain": [
       "50"
      ]
     },
     "execution_count": 43,
     "metadata": {},
     "output_type": "execute_result"
    }
   ],
   "source": [
    "np.dot(m,n)\n"
   ]
  },
  {
   "cell_type": "code",
   "execution_count": 71,
   "id": "dc194fd3",
   "metadata": {},
   "outputs": [],
   "source": [
    "def dot_product (a,b):\n",
    "    y = 0\n",
    "    for x in range(a.shape[0]):\n",
    "        try:\n",
    "            y += a[x]* b[x]\n",
    "        except Exception as e:\n",
    "            print(e)\n",
    "    else: \n",
    "        print(y)\n"
   ]
  },
  {
   "cell_type": "code",
   "execution_count": 72,
   "id": "f3da58b5",
   "metadata": {},
   "outputs": [
    {
     "name": "stdout",
     "output_type": "stream",
     "text": [
      "34\n"
     ]
    }
   ],
   "source": [
    "v1= np.array([1, 0, 2, 7])\n",
    "v2 = np.array([3, 8, 5, 3])\n",
    "\n",
    "dot_product(v1, v2)"
   ]
  },
  {
   "cell_type": "code",
   "execution_count": 73,
   "id": "bfe19217",
   "metadata": {},
   "outputs": [
    {
     "data": {
      "text/plain": [
       "34"
      ]
     },
     "execution_count": 73,
     "metadata": {},
     "output_type": "execute_result"
    }
   ],
   "source": [
    "np.dot(v1, v2)"
   ]
  },
  {
   "cell_type": "code",
   "execution_count": null,
   "id": "1c8b73e7",
   "metadata": {},
   "outputs": [],
   "source": [
    "x = np.array([[1,2,3], [4,5,6], [7, 8, 9]])\n",
    "y = np.array([[7, 8, 9], [4,5,6], [1,2,3]])\n",
    "z= "
   ]
  },
  {
   "cell_type": "code",
   "execution_count": 130,
   "id": "93562536",
   "metadata": {},
   "outputs": [
    {
     "name": "stdout",
     "output_type": "stream",
     "text": [
      "[[-8  7  4]]\n"
     ]
    }
   ],
   "source": [
    "v = np.array([[0, 3, 2]])\n",
    "w = np.array([[4, 1, 1]])\n",
    "#u = np.array([[0, -2, 0]])\n",
    "#+4*u\n",
    "x = 3*v-2*w\n",
    "print(x)"
   ]
  },
  {
   "cell_type": "code",
   "execution_count": 131,
   "id": "aca4fa61",
   "metadata": {},
   "outputs": [
    {
     "name": "stdout",
     "output_type": "stream",
     "text": [
      "[[  1   8 -12]]\n"
     ]
    }
   ],
   "source": [
    "print(np.cross(v, w))"
   ]
  },
  {
   "cell_type": "code",
   "execution_count": 144,
   "id": "0c6a6e4f",
   "metadata": {},
   "outputs": [
    {
     "data": {
      "text/plain": [
       "[-2, -1, -4]"
      ]
     },
     "execution_count": 144,
     "metadata": {},
     "output_type": "execute_result"
    }
   ],
   "source": [
    "def cross(a, b):\n",
    "    c = [a[1]*b[2] - a[2]*b[1],\n",
    "         a[2]*b[0] - a[0]*b[2],\n",
    "         a[0]*b[1] - a[1]*b[0]]\n",
    "\n",
    "    return c\n",
    "cross([1, 2, -1], [2, 0, -1, 3])"
   ]
  },
  {
   "cell_type": "code",
   "execution_count": 142,
   "id": "423ace63",
   "metadata": {},
   "outputs": [
    {
     "name": "stdout",
     "output_type": "stream",
     "text": [
      "[-2 -1 -4]\n"
     ]
    }
   ],
   "source": [
    "x = np.array([1, 2, -1])\n",
    "y = np.array([2, 0, -1])\n",
    "\n",
    "print(np.cross(x, y))"
   ]
  },
  {
   "cell_type": "code",
   "execution_count": 163,
   "id": "3bd07099",
   "metadata": {},
   "outputs": [
    {
     "ename": "IndexError",
     "evalue": "list index out of range",
     "output_type": "error",
     "traceback": [
      "\u001b[1;31m---------------------------------------------------------------------------\u001b[0m",
      "\u001b[1;31mIndexError\u001b[0m                                Traceback (most recent call last)",
      "\u001b[1;32m~\\AppData\\Local\\Temp/ipykernel_30628/1201966904.py\u001b[0m in \u001b[0;36m<module>\u001b[1;34m\u001b[0m\n\u001b[0;32m      5\u001b[0m             a[1]*b[2]  - a[-7]*b[5]]\n\u001b[0;32m      6\u001b[0m \u001b[1;33m\u001b[0m\u001b[0m\n\u001b[1;32m----> 7\u001b[1;33m \u001b[0mcross\u001b[0m\u001b[1;33m(\u001b[0m\u001b[1;33m[\u001b[0m\u001b[1;36m1\u001b[0m\u001b[1;33m,\u001b[0m \u001b[1;33m-\u001b[0m\u001b[1;36m7\u001b[0m\u001b[1;33m,\u001b[0m \u001b[1;36m1\u001b[0m\u001b[1;33m]\u001b[0m\u001b[1;33m,\u001b[0m \u001b[1;33m[\u001b[0m\u001b[1;36m5\u001b[0m\u001b[1;33m,\u001b[0m \u001b[1;36m2\u001b[0m\u001b[1;33m,\u001b[0m \u001b[1;36m4\u001b[0m\u001b[1;33m,\u001b[0m \u001b[1;36m3\u001b[0m\u001b[1;33m]\u001b[0m\u001b[1;33m)\u001b[0m\u001b[1;33m\u001b[0m\u001b[1;33m\u001b[0m\u001b[0m\n\u001b[0m",
      "\u001b[1;32m~\\AppData\\Local\\Temp/ipykernel_30628/1201966904.py\u001b[0m in \u001b[0;36mcross\u001b[1;34m(a, b)\u001b[0m\n\u001b[0;32m      1\u001b[0m \u001b[1;32mdef\u001b[0m \u001b[0mcross\u001b[0m\u001b[1;33m(\u001b[0m\u001b[0ma\u001b[0m\u001b[1;33m,\u001b[0m \u001b[0mb\u001b[0m\u001b[1;33m)\u001b[0m\u001b[1;33m:\u001b[0m\u001b[1;33m\u001b[0m\u001b[1;33m\u001b[0m\u001b[0m\n\u001b[0;32m      2\u001b[0m     \u001b[1;31m#assert len(a) == len(b) == 3,\u001b[0m\u001b[1;33m\u001b[0m\u001b[1;33m\u001b[0m\u001b[0m\n\u001b[1;32m----> 3\u001b[1;33m     return [a[-7]*b[4] - a[1]*b[2],\n\u001b[0m\u001b[0;32m      4\u001b[0m             \u001b[0ma\u001b[0m\u001b[1;33m[\u001b[0m\u001b[1;36m1\u001b[0m\u001b[1;33m]\u001b[0m\u001b[1;33m*\u001b[0m\u001b[0mb\u001b[0m\u001b[1;33m[\u001b[0m\u001b[1;36m5\u001b[0m\u001b[1;33m]\u001b[0m  \u001b[1;33m-\u001b[0m \u001b[0ma\u001b[0m\u001b[1;33m[\u001b[0m\u001b[1;36m1\u001b[0m\u001b[1;33m]\u001b[0m\u001b[1;33m*\u001b[0m\u001b[0mb\u001b[0m\u001b[1;33m[\u001b[0m\u001b[1;36m4\u001b[0m\u001b[1;33m]\u001b[0m\u001b[1;33m,\u001b[0m\u001b[1;33m\u001b[0m\u001b[1;33m\u001b[0m\u001b[0m\n\u001b[0;32m      5\u001b[0m             a[1]*b[2]  - a[-7]*b[5]]\n",
      "\u001b[1;31mIndexError\u001b[0m: list index out of range"
     ]
    }
   ],
   "source": [
    "def cross(a, b):\n",
    "    #assert len(a) == len(b) == 3,\n",
    "    return [a[-7]*b[4] - a[1]*b[2],\n",
    "            a[1]*b[5]  - a[1]*b[4],\n",
    "            a[1]*b[2]  - a[-7]*b[5]]\n",
    "\n",
    "cross([1, -7, 1], [5, 2, 4, 3])"
   ]
  },
  {
   "cell_type": "code",
   "execution_count": 158,
   "id": "237a5540",
   "metadata": {},
   "outputs": [
    {
     "name": "stdout",
     "output_type": "stream",
     "text": [
      "<function cross_product at 0x000001F0CEEE0940>\n"
     ]
    }
   ],
   "source": [
    "def cross_product(a, b):\n",
    "    assert len(a) == len(b) == 3, 'Vectors a, b must be three-dimensional'\n",
    "    return [a[1]*b[2] - a[2]*b[1],\n",
    "            a[2]*b[0] - a[0]*b[2],\n",
    "            a[0]*b[1] - a[1]*b[0]]\n",
    "\n",
    "    cross_product([1, 2, -1], [2, 0, -1, 3])\n",
    "print(cross_product)"
   ]
  },
  {
   "cell_type": "code",
   "execution_count": 122,
   "id": "1f8de8d0",
   "metadata": {},
   "outputs": [
    {
     "name": "stdout",
     "output_type": "stream",
     "text": [
      "[-30   1  37]\n"
     ]
    }
   ],
   "source": [
    "x = np.array([1, -7, 1])\n",
    "y = np.array([5, 2, 4])\n",
    "print(np.cross(x,y))"
   ]
  },
  {
   "cell_type": "code",
   "execution_count": 113,
   "id": "b3933e9f",
   "metadata": {},
   "outputs": [
    {
     "name": "stdout",
     "output_type": "stream",
     "text": [
      "[  5 -14   4]\n"
     ]
    }
   ],
   "source": [
    "z = x*y\n",
    "print(z)"
   ]
  },
  {
   "cell_type": "code",
   "execution_count": 111,
   "id": "3219b1ea",
   "metadata": {},
   "outputs": [
    {
     "name": "stdout",
     "output_type": "stream",
     "text": [
      "[-30   1  37]\n"
     ]
    }
   ],
   "source": [
    "print(np.cross(x, y))"
   ]
  },
  {
   "cell_type": "code",
   "execution_count": 46,
   "id": "14e6d363",
   "metadata": {},
   "outputs": [
    {
     "name": "stdout",
     "output_type": "stream",
     "text": [
      "[0 1 2 3]\n"
     ]
    }
   ],
   "source": [
    "data = np.array([1, 0, 3, 1])\n",
    "shape = (data.size, data.max()+1)\n",
    "one_hot = np.zeros(shape)\n",
    "rows = np.arange(data.size)\n",
    "print(rows)"
   ]
  },
  {
   "cell_type": "code",
   "execution_count": 47,
   "id": "95b57d05",
   "metadata": {},
   "outputs": [
    {
     "name": "stdout",
     "output_type": "stream",
     "text": [
      "[[0. 1. 0. 0.]\n",
      " [1. 0. 0. 0.]\n",
      " [0. 0. 0. 1.]\n",
      " [0. 1. 0. 0.]]\n"
     ]
    }
   ],
   "source": [
    "one_hot[rows, data] = 1\n",
    "print(one_hot)"
   ]
  },
  {
   "cell_type": "code",
   "execution_count": 48,
   "id": "06f8b3b5",
   "metadata": {},
   "outputs": [
    {
     "data": {
      "text/plain": [
       "array([[0., 1., 0., 0.],\n",
       "       [1., 0., 0., 0.],\n",
       "       [0., 0., 0., 1.]])"
      ]
     },
     "execution_count": 48,
     "metadata": {},
     "output_type": "execute_result"
    }
   ],
   "source": [
    "a = np.array([1, 0, 3])\n",
    "b = np.zeros((a.size, a.max()+1))\n",
    "b[np.arange(a.size),a] = 1\n",
    "b"
   ]
  },
  {
   "cell_type": "markdown",
   "id": "c00ba44e",
   "metadata": {},
   "source": [
    "calculate a one hot encoding for the Belize_Airbnb_listings.csv\n",
    "neighborhood_group column."
   ]
  },
  {
   "cell_type": "code",
   "execution_count": 184,
   "id": "a6c691e7",
   "metadata": {},
   "outputs": [],
   "source": [
    "import pandas as pd\n",
    "import numpy as np\n",
    "belize_listings = \"A:/launch_code_STL/Final_Homework/week-4/belize_airbnb_listings.csv\"\n",
    "belize_df = pd.read_csv(belize_listings)"
   ]
  },
  {
   "cell_type": "code",
   "execution_count": 185,
   "id": "89672980",
   "metadata": {},
   "outputs": [
    {
     "data": {
      "text/html": [
       "<div>\n",
       "<style scoped>\n",
       "    .dataframe tbody tr th:only-of-type {\n",
       "        vertical-align: middle;\n",
       "    }\n",
       "\n",
       "    .dataframe tbody tr th {\n",
       "        vertical-align: top;\n",
       "    }\n",
       "\n",
       "    .dataframe thead th {\n",
       "        text-align: right;\n",
       "    }\n",
       "</style>\n",
       "<table border=\"1\" class=\"dataframe\">\n",
       "  <thead>\n",
       "    <tr style=\"text-align: right;\">\n",
       "      <th></th>\n",
       "      <th>id</th>\n",
       "      <th>name</th>\n",
       "      <th>host_id</th>\n",
       "      <th>host_name</th>\n",
       "      <th>neighbourhood_group</th>\n",
       "      <th>neighbourhood</th>\n",
       "      <th>latitude</th>\n",
       "      <th>longitude</th>\n",
       "      <th>room_type</th>\n",
       "      <th>price</th>\n",
       "      <th>minimum_nights</th>\n",
       "      <th>number_of_reviews</th>\n",
       "      <th>last_review</th>\n",
       "      <th>reviews_per_month</th>\n",
       "      <th>calculated_host_listings_count</th>\n",
       "      <th>availability_365</th>\n",
       "    </tr>\n",
       "  </thead>\n",
       "  <tbody>\n",
       "    <tr>\n",
       "      <th>0</th>\n",
       "      <td>36666</td>\n",
       "      <td>Mo's Cozy Casa w/ veranda &amp; access to dock</td>\n",
       "      <td>157752</td>\n",
       "      <td>Monique</td>\n",
       "      <td>Belize</td>\n",
       "      <td>Belize Islands</td>\n",
       "      <td>17.74786</td>\n",
       "      <td>-88.02398</td>\n",
       "      <td>Entire home/apt</td>\n",
       "      <td>141</td>\n",
       "      <td>3</td>\n",
       "      <td>250</td>\n",
       "      <td>2/23/2021</td>\n",
       "      <td>2.0</td>\n",
       "      <td>5</td>\n",
       "      <td>225</td>\n",
       "    </tr>\n",
       "  </tbody>\n",
       "</table>\n",
       "</div>"
      ],
      "text/plain": [
       "      id                                        name  host_id host_name  \\\n",
       "0  36666  Mo's Cozy Casa w/ veranda & access to dock   157752   Monique   \n",
       "\n",
       "  neighbourhood_group   neighbourhood  latitude  longitude        room_type  \\\n",
       "0              Belize  Belize Islands  17.74786  -88.02398  Entire home/apt   \n",
       "\n",
       "   price  minimum_nights  number_of_reviews last_review  reviews_per_month  \\\n",
       "0    141               3                250   2/23/2021                2.0   \n",
       "\n",
       "   calculated_host_listings_count  availability_365  \n",
       "0                               5               225  "
      ]
     },
     "execution_count": 185,
     "metadata": {},
     "output_type": "execute_result"
    }
   ],
   "source": [
    "belize_df.head(1)"
   ]
  },
  {
   "cell_type": "code",
   "execution_count": 197,
   "id": "485a4737",
   "metadata": {},
   "outputs": [
    {
     "data": {
      "text/plain": [
       "Belize         1574\n",
       "Stann Creek     577\n",
       "Cayo            505\n",
       "Corozal          65\n",
       "Toledo           47\n",
       "Orange Walk      28\n",
       "Name: neighbourhood_group, dtype: int64"
      ]
     },
     "execution_count": 197,
     "metadata": {},
     "output_type": "execute_result"
    }
   ],
   "source": [
    "x=belize_df['neighbourhood_group'].value_counts()\n",
    "x"
   ]
  },
  {
   "cell_type": "code",
   "execution_count": 189,
   "id": "9499ebb9",
   "metadata": {},
   "outputs": [],
   "source": [
    "replace_grp = {'neighbourhood_group':{'Belize' : 1, 'Stann Creek' : 2, 'Cayo' : 3,\n",
    "                                     'Corozal' : 4, 'Toledo' : 5, 'Orange Walk' : 6}}"
   ]
  },
  {
   "cell_type": "code",
   "execution_count": 190,
   "id": "68524a3f",
   "metadata": {},
   "outputs": [
    {
     "name": "stdout",
     "output_type": "stream",
     "text": [
      "{'neighbourhood_group': {'Belize': 1, 'Cayo': 2, 'Corozal': 3, 'Orange Walk': 4, 'Stann Creek': 5, 'Toledo': 6}}\n"
     ]
    }
   ],
   "source": [
    "labels = belize_df['neighbourhood_group'].astype('category').cat.categories.tolist()\n",
    "replace_grp_comp = {'neighbourhood_group': {k: v for k,v in zip(labels,list(range(1,len(labels)+1)))}}\n",
    "print(replace_grp_comp)"
   ]
  },
  {
   "cell_type": "code",
   "execution_count": 191,
   "id": "3d5e866d",
   "metadata": {},
   "outputs": [],
   "source": [
    "belize_df_replace = belize_df.copy()"
   ]
  },
  {
   "cell_type": "code",
   "execution_count": 192,
   "id": "ebc88a61",
   "metadata": {},
   "outputs": [
    {
     "name": "stdout",
     "output_type": "stream",
     "text": [
      "       id                                               name  host_id  \\\n",
      "0   36666         Mo's Cozy Casa w/ veranda & access to dock   157752   \n",
      "1   36690  Mo's Cozy Cabana w/ comfy veranda & access to ...   157752   \n",
      "2  108932  Purple House eco solar  w/ ocean & wildlife views   563377   \n",
      "3  110483                            Michelo's fuchsia suite   567809   \n",
      "4  120115               Seaside Villas Second Floor Unit  #4   604999   \n",
      "\n",
      "  host_name  neighbourhood_group         neighbourhood  latitude  longitude  \\\n",
      "0   Monique                    1        Belize Islands  17.74786  -88.02398   \n",
      "1   Monique                    1        Belize Islands  17.74832  -88.02474   \n",
      "2   Michael                    1        Belize Islands  17.73221  -88.03824   \n",
      "3    Michel                    5  Stann Creek Mainland  16.52114  -88.36926   \n",
      "4     Bobbi                    1        Belize Islands  17.74166  -88.02395   \n",
      "\n",
      "         room_type  price  minimum_nights  number_of_reviews last_review  \\\n",
      "0  Entire home/apt    141               3                250   2/23/2021   \n",
      "1  Entire home/apt     71               3                316   2/19/2021   \n",
      "2  Entire home/apt    191               2                 30   3/14/2020   \n",
      "3       Hotel room    121               1                 27   2/24/2020   \n",
      "4  Entire home/apt    343               1                 30   3/18/2020   \n",
      "\n",
      "   reviews_per_month  calculated_host_listings_count  availability_365  \n",
      "0               2.00                               5               225  \n",
      "1               2.46                               5               164  \n",
      "2               0.78                               1               364  \n",
      "3               0.29                               3               331  \n",
      "4               0.64                              22               203  \n"
     ]
    }
   ],
   "source": [
    "belize_df_replace.replace(replace_grp_comp, inplace=True)\n",
    "\n",
    "print(belize_df_replace.head())"
   ]
  },
  {
   "cell_type": "code",
   "execution_count": 233,
   "id": "b637d9b7",
   "metadata": {},
   "outputs": [
    {
     "data": {
      "text/plain": [
       "array([[0., 1., 0., ..., 0., 0., 0.],\n",
       "       [0., 1., 0., ..., 0., 0., 0.],\n",
       "       [0., 1., 0., ..., 0., 0., 0.],\n",
       "       ...,\n",
       "       [0., 1., 0., ..., 0., 0., 0.],\n",
       "       [0., 1., 0., ..., 0., 0., 0.],\n",
       "       [0., 0., 1., ..., 0., 0., 0.]])"
      ]
     },
     "execution_count": 233,
     "metadata": {},
     "output_type": "execute_result"
    }
   ],
   "source": [
    "a = ohe\n",
    "b = np.zeros((a.size, a.max()+1))\n",
    "b[np.arange(a.size),a] = 1\n",
    "b"
   ]
  },
  {
   "cell_type": "code",
   "execution_count": 217,
   "id": "dcb049a1",
   "metadata": {},
   "outputs": [
    {
     "data": {
      "text/plain": [
       "0    1\n",
       "1    1\n",
       "2    1\n",
       "3    5\n",
       "4    1\n",
       "Name: neighbourhood_group, dtype: int64"
      ]
     },
     "execution_count": 217,
     "metadata": {},
     "output_type": "execute_result"
    }
   ],
   "source": [
    "ohe = belize_df_replace['neighbourhood_group']\n",
    "ohe.head()"
   ]
  },
  {
   "cell_type": "code",
   "execution_count": 226,
   "id": "bb02c371",
   "metadata": {},
   "outputs": [
    {
     "name": "stdout",
     "output_type": "stream",
     "text": [
      "0            Belize\n",
      "1            Belize\n",
      "2            Belize\n",
      "3       Stann Creek\n",
      "4            Belize\n",
      "           ...     \n",
      "2791         Belize\n",
      "2792        Corozal\n",
      "2793         Belize\n",
      "2794         Belize\n",
      "2795           Cayo\n",
      "Name: neighbourhood_group, Length: 2796, dtype: object\n"
     ]
    },
    {
     "ename": "KeyError",
     "evalue": "'Belize'",
     "output_type": "error",
     "traceback": [
      "\u001b[1;31m---------------------------------------------------------------------------\u001b[0m",
      "\u001b[1;31mKeyError\u001b[0m                                  Traceback (most recent call last)",
      "\u001b[1;32m~\\AppData\\Local\\Temp/ipykernel_30628/3492578485.py\u001b[0m in \u001b[0;36m<module>\u001b[1;34m\u001b[0m\n\u001b[0;32m      7\u001b[0m \u001b[0mint_to_char\u001b[0m \u001b[1;33m=\u001b[0m \u001b[0mdict\u001b[0m\u001b[1;33m(\u001b[0m\u001b[1;33m(\u001b[0m\u001b[0mi\u001b[0m\u001b[1;33m,\u001b[0m \u001b[0mc\u001b[0m\u001b[1;33m)\u001b[0m \u001b[1;32mfor\u001b[0m \u001b[0mi\u001b[0m\u001b[1;33m,\u001b[0m \u001b[0mc\u001b[0m \u001b[1;32min\u001b[0m \u001b[0menumerate\u001b[0m\u001b[1;33m(\u001b[0m\u001b[0malphabet\u001b[0m\u001b[1;33m)\u001b[0m\u001b[1;33m)\u001b[0m\u001b[1;33m\u001b[0m\u001b[1;33m\u001b[0m\u001b[0m\n\u001b[0;32m      8\u001b[0m \u001b[1;31m# integer encode input data\u001b[0m\u001b[1;33m\u001b[0m\u001b[1;33m\u001b[0m\u001b[0m\n\u001b[1;32m----> 9\u001b[1;33m \u001b[0minteger_encoded\u001b[0m \u001b[1;33m=\u001b[0m \u001b[1;33m[\u001b[0m\u001b[0mchar_to_int\u001b[0m\u001b[1;33m[\u001b[0m\u001b[0mchar\u001b[0m\u001b[1;33m]\u001b[0m \u001b[1;32mfor\u001b[0m \u001b[0mchar\u001b[0m \u001b[1;32min\u001b[0m \u001b[0mdata\u001b[0m\u001b[1;33m]\u001b[0m\u001b[1;33m\u001b[0m\u001b[1;33m\u001b[0m\u001b[0m\n\u001b[0m\u001b[0;32m     10\u001b[0m \u001b[0mprint\u001b[0m\u001b[1;33m(\u001b[0m\u001b[0minteger_encoded\u001b[0m\u001b[1;33m)\u001b[0m\u001b[1;33m\u001b[0m\u001b[1;33m\u001b[0m\u001b[0m\n\u001b[0;32m     11\u001b[0m \u001b[1;31m# one hot encode\u001b[0m\u001b[1;33m\u001b[0m\u001b[1;33m\u001b[0m\u001b[0m\n",
      "\u001b[1;32m~\\AppData\\Local\\Temp/ipykernel_30628/3492578485.py\u001b[0m in \u001b[0;36m<listcomp>\u001b[1;34m(.0)\u001b[0m\n\u001b[0;32m      7\u001b[0m \u001b[0mint_to_char\u001b[0m \u001b[1;33m=\u001b[0m \u001b[0mdict\u001b[0m\u001b[1;33m(\u001b[0m\u001b[1;33m(\u001b[0m\u001b[0mi\u001b[0m\u001b[1;33m,\u001b[0m \u001b[0mc\u001b[0m\u001b[1;33m)\u001b[0m \u001b[1;32mfor\u001b[0m \u001b[0mi\u001b[0m\u001b[1;33m,\u001b[0m \u001b[0mc\u001b[0m \u001b[1;32min\u001b[0m \u001b[0menumerate\u001b[0m\u001b[1;33m(\u001b[0m\u001b[0malphabet\u001b[0m\u001b[1;33m)\u001b[0m\u001b[1;33m)\u001b[0m\u001b[1;33m\u001b[0m\u001b[1;33m\u001b[0m\u001b[0m\n\u001b[0;32m      8\u001b[0m \u001b[1;31m# integer encode input data\u001b[0m\u001b[1;33m\u001b[0m\u001b[1;33m\u001b[0m\u001b[0m\n\u001b[1;32m----> 9\u001b[1;33m \u001b[0minteger_encoded\u001b[0m \u001b[1;33m=\u001b[0m \u001b[1;33m[\u001b[0m\u001b[0mchar_to_int\u001b[0m\u001b[1;33m[\u001b[0m\u001b[0mchar\u001b[0m\u001b[1;33m]\u001b[0m \u001b[1;32mfor\u001b[0m \u001b[0mchar\u001b[0m \u001b[1;32min\u001b[0m \u001b[0mdata\u001b[0m\u001b[1;33m]\u001b[0m\u001b[1;33m\u001b[0m\u001b[1;33m\u001b[0m\u001b[0m\n\u001b[0m\u001b[0;32m     10\u001b[0m \u001b[0mprint\u001b[0m\u001b[1;33m(\u001b[0m\u001b[0minteger_encoded\u001b[0m\u001b[1;33m)\u001b[0m\u001b[1;33m\u001b[0m\u001b[1;33m\u001b[0m\u001b[0m\n\u001b[0;32m     11\u001b[0m \u001b[1;31m# one hot encode\u001b[0m\u001b[1;33m\u001b[0m\u001b[1;33m\u001b[0m\u001b[0m\n",
      "\u001b[1;31mKeyError\u001b[0m: 'Belize'"
     ]
    }
   ],
   "source": [
    "data = belize_df['neighbourhood_group']\n",
    "print(data)\n",
    "# define universe of possible input values\n",
    "alphabet = 'abcdefghijklmnopqrst'\n",
    "# define a mapping of chars to integers\n",
    "char_to_int = dict((c, i) for i, c in enumerate(alphabet))\n",
    "int_to_char = dict((i, c) for i, c in enumerate(alphabet))\n",
    "# integer encode input data\n",
    "integer_encoded = [char_to_int[char] for char in data]\n",
    "print(integer_encoded)\n",
    "# one hot encode\n",
    "onehot_encoded = list()\n",
    "for value in integer_encoded:\n",
    "    letter = [0 for _ in range(len(alphabet))]\n",
    "    letter[value] = 1\n",
    "    onehot_encoded.append(letter)\n",
    "print(onehot_encoded)\n"
   ]
  },
  {
   "cell_type": "code",
   "execution_count": 224,
   "id": "fe4ffafe",
   "metadata": {},
   "outputs": [
    {
     "name": "stdout",
     "output_type": "stream",
     "text": [
      "0            Belize\n",
      "1            Belize\n",
      "2            Belize\n",
      "3       Stann Creek\n",
      "4            Belize\n",
      "           ...     \n",
      "2791         Belize\n",
      "2792        Corozal\n",
      "2793         Belize\n",
      "2794         Belize\n",
      "2795           Cayo\n",
      "Name: neighbourhood_group, Length: 2796, dtype: object\n"
     ]
    }
   ],
   "source": [
    "data = belize_df['neighbourhood_group']\n",
    "print(data)"
   ]
  },
  {
   "cell_type": "code",
   "execution_count": null,
   "id": "432fb300",
   "metadata": {},
   "outputs": [],
   "source": [
    "onehot_encoded = list()\n",
    "for value in integer_encoded:\n",
    "\tletter = [0 for _ in range(len(alphabet))]\n",
    "\tletter[value] = 1\n",
    "\tonehot_encoded.append(letter)\n",
    "print(onehot_encoded)"
   ]
  },
  {
   "cell_type": "code",
   "execution_count": 2,
   "id": "6db67369",
   "metadata": {},
   "outputs": [
    {
     "name": "stdout",
     "output_type": "stream",
     "text": [
      "[[8, 14, -6], [12, 7, 4], [-11, 3, 21]]\n"
     ]
    }
   ],
   "source": [
    "M1 = [[8, 14, -6], [12,7,4], [-11,3,21]]\n",
    "print(M1)"
   ]
  },
  {
   "cell_type": "code",
   "execution_count": 13,
   "id": "69ec9e5d",
   "metadata": {},
   "outputs": [
    {
     "name": "stdout",
     "output_type": "stream",
     "text": [
      "[8, 14, -6]\n",
      "[12, 7, 4]\n",
      "[-11, 3, 21]\n"
     ]
    }
   ],
   "source": [
    "M1 = [[8, 14, -6], \n",
    "      [12,7,4], \n",
    "      [-11,3,21]]\n",
    "\n",
    "matrix_length = len(M1)\n",
    "\n",
    "for i in range(matrix_length):\n",
    "    #print(M1[i][-1]) #To read the last element from each row.\n",
    "    print(M1[i]) #To print the rows in the Matrix"
   ]
  },
  {
   "cell_type": "code",
   "execution_count": 17,
   "id": "53714c6b",
   "metadata": {},
   "outputs": [
    {
     "name": "stdout",
     "output_type": "stream",
     "text": [
      "[12 14 16]\n"
     ]
    }
   ],
   "source": [
    "import numpy as np\n",
    "arr = np.array([2,4,6,8,10,12,14,16])\n",
    "print(arr[-3:])"
   ]
  },
  {
   "cell_type": "code",
   "execution_count": 19,
   "id": "d48aae99",
   "metadata": {},
   "outputs": [
    {
     "data": {
      "text/plain": [
       "array([[ 1.16675575,  0.17664351, -0.18198824],\n",
       "       [-0.0545163 ,  0.89417424,  0.37680385],\n",
       "       [ 1.09513629,  0.15526456,  1.13655799]])"
      ]
     },
     "execution_count": 19,
     "metadata": {},
     "output_type": "execute_result"
    }
   ],
   "source": [
    "m1 = [[8, 14, -6], [12,7,4], [-11,3,21]]\n",
    "m3 = [[2, 13, -3], [18,9,5], [10,4,27]]\n",
    "\n",
    "m2 = np.linalg.solve(m1, m3)\n",
    "m2"
   ]
  },
  {
   "cell_type": "code",
   "execution_count": 20,
   "id": "a0c50d75",
   "metadata": {},
   "outputs": [
    {
     "name": "stdout",
     "output_type": "stream",
     "text": [
      "[2.75209239e+01 9.30584482e+00 1.42425400e-15]\n",
      "3\n",
      "2\n"
     ]
    }
   ],
   "source": [
    "import numpy as np\n",
    "v1 = [6, 0, 3, 1, 4, 2];\n",
    "v2 = [0, -1, 2, 7, 0, 5];\n",
    "v3 = [12, 3, 0, -19, 8, -11];\n",
    "\n",
    "A = np.row_stack([v1, v2, v3])\n",
    "\n",
    "# matlab definition\n",
    "eps = np.finfo(np.linalg.norm(A).dtype).eps\n",
    "TOLERANCE = max(eps * np.array(A.shape))\n",
    "\n",
    "U, s, V = np.linalg.svd(A)\n",
    "print(s)\n",
    "print(np.sum(s > TOLERANCE))\n",
    "\n",
    "TOLERANCE = 1e-14\n",
    "print(np.sum(s > TOLERANCE))"
   ]
  },
  {
   "cell_type": "code",
   "execution_count": 1,
   "id": "c31ca4bb",
   "metadata": {},
   "outputs": [
    {
     "name": "stdout",
     "output_type": "stream",
     "text": [
      "(1, 5)\n",
      "(4, 1)\n"
     ]
    }
   ],
   "source": [
    "import numpy as np\n",
    "vector_row = np.array([[1, -5, 3, 2, 4]])\n",
    "vector_column = np.array([[1], \n",
    "                          [2], \n",
    "                          [3], \n",
    "                          [4]])\n",
    "print(vector_row.shape)\n",
    "print(vector_column.shape)"
   ]
  },
  {
   "cell_type": "code",
   "execution_count": 4,
   "id": "64e57752",
   "metadata": {},
   "outputs": [
    {
     "name": "stdout",
     "output_type": "stream",
     "text": [
      "[[ 1]\n",
      " [-5]\n",
      " [ 3]\n",
      " [ 2]\n",
      " [ 4]]\n",
      "L_1 is: 15.0\n",
      "L_2 is: 7.4\n",
      "L_inf is: 5.0\n"
     ]
    }
   ],
   "source": [
    "from numpy.linalg import norm\n",
    "new_vector = vector_row.T\n",
    "print(new_vector)\n",
    "norm_1 = norm(new_vector, 1)\n",
    "norm_2 = norm(new_vector, 2)\n",
    "norm_inf = norm(new_vector, np.inf)\n",
    "print('L_1 is: %.1f'%norm_1)\n",
    "print('L_2 is: %.1f'%norm_2)\n",
    "print('L_inf is: %.1f'%norm_inf)\n"
   ]
  },
  {
   "cell_type": "code",
   "execution_count": null,
   "id": "c35b4324",
   "metadata": {},
   "outputs": [],
   "source": []
  }
 ],
 "metadata": {
  "kernelspec": {
   "display_name": "Python 3 (ipykernel)",
   "language": "python",
   "name": "python3"
  },
  "language_info": {
   "codemirror_mode": {
    "name": "ipython",
    "version": 3
   },
   "file_extension": ".py",
   "mimetype": "text/x-python",
   "name": "python",
   "nbconvert_exporter": "python",
   "pygments_lexer": "ipython3",
   "version": "3.9.7"
  }
 },
 "nbformat": 4,
 "nbformat_minor": 5
}
