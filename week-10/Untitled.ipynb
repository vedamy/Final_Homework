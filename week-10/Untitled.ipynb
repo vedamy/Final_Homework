{
 "cells": [
  {
   "cell_type": "code",
   "execution_count": 4,
   "id": "c26aeac1",
   "metadata": {},
   "outputs": [
    {
     "data": {
      "text/plain": [
       "array([[1],\n",
       "       [2],\n",
       "       [3]])"
      ]
     },
     "execution_count": 4,
     "metadata": {},
     "output_type": "execute_result"
    }
   ],
   "source": [
    "import numpy as np\n",
    "v = np.array([[1],[2], [3]])\n",
    "v"
   ]
  },
  {
   "cell_type": "code",
   "execution_count": 11,
   "id": "7de98041",
   "metadata": {},
   "outputs": [
    {
     "data": {
      "text/plain": [
       "array([[1, 2, 3],\n",
       "       [4, 5, 6],\n",
       "       [7, 8, 9]])"
      ]
     },
     "execution_count": 11,
     "metadata": {},
     "output_type": "execute_result"
    }
   ],
   "source": [
    "m= np.array([[1,2,3],[4,5,6],[7,8,9]])\n",
    "m"
   ]
  },
  {
   "cell_type": "code",
   "execution_count": 2,
   "id": "b6a6f061",
   "metadata": {},
   "outputs": [
    {
     "data": {
      "text/plain": [
       "(3, 3)"
      ]
     },
     "execution_count": 2,
     "metadata": {},
     "output_type": "execute_result"
    }
   ],
   "source": [
    "m.shape"
   ]
  },
  {
   "cell_type": "code",
   "execution_count": 7,
   "id": "34f3df75",
   "metadata": {},
   "outputs": [
    {
     "data": {
      "text/plain": [
       "-1"
      ]
     },
     "execution_count": 7,
     "metadata": {},
     "output_type": "execute_result"
    }
   ],
   "source": [
    "north = np.array([0,1])\n",
    "east = np.array([1,0])\n",
    "south = np.array([0,-1])\n",
    "west = np.array([-1,0])\n",
    "\n",
    "np.dot(north, south)"
   ]
  },
  {
   "cell_type": "markdown",
   "id": "81d52717",
   "metadata": {},
   "source": [
    "$$ A \\cdot A^T = I $$"
   ]
  },
  {
   "cell_type": "code",
   "execution_count": 14,
   "id": "7c444723",
   "metadata": {},
   "outputs": [
    {
     "name": "stdout",
     "output_type": "stream",
     "text": [
      "[20 -4 -3]\n"
     ]
    }
   ],
   "source": [
    "A = np.array([2, 7, 4])\n",
    "B = np.array([3, 9, 8])\n",
    "\n",
    "output = np.cross(A, B)\n",
    "print(output)"
   ]
  },
  {
   "cell_type": "code",
   "execution_count": 25,
   "id": "31297e21",
   "metadata": {},
   "outputs": [],
   "source": [
    "def countdown(n):\n",
    "    print(n)\n",
    "    #count backwards from n until we get to 0\n",
    "    if n>0:\n",
    "        #stuff\n",
    "        countdown(n-1)\n",
    "    else:\n",
    "        return #stopping condition - terminates the recursion\n"
   ]
  },
  {
   "cell_type": "code",
   "execution_count": 26,
   "id": "3250f6d6",
   "metadata": {},
   "outputs": [
    {
     "name": "stdout",
     "output_type": "stream",
     "text": [
      "3\n",
      "2\n",
      "1\n",
      "0\n"
     ]
    }
   ],
   "source": [
    "countdown(3)"
   ]
  },
  {
   "cell_type": "code",
   "execution_count": 28,
   "id": "f345a550",
   "metadata": {},
   "outputs": [],
   "source": [
    "def countdown(n):\n",
    "\n",
    "    #count backwards from n until we get to 0\n",
    "    if n>0:\n",
    "        #stuff\n",
    "        countdown(n-1)\n",
    "        print(n)\n",
    "    else:\n",
    "        return #stopping condition - terminates the recursion"
   ]
  },
  {
   "cell_type": "code",
   "execution_count": 29,
   "id": "c7dff6e3",
   "metadata": {},
   "outputs": [
    {
     "name": "stdout",
     "output_type": "stream",
     "text": [
      "1\n",
      "2\n",
      "3\n"
     ]
    }
   ],
   "source": [
    "countdown(3)"
   ]
  },
  {
   "cell_type": "markdown",
   "id": "5f7a41f3",
   "metadata": {},
   "source": [
    "1. Write a function that calculates the dot product manually AND a function that\n",
    "calculates the cross product manually. Both should accept two vectors and perform\n",
    "that calculation. Be sure to use try except and error handling for basic issues that\n",
    "might occur."
   ]
  },
  {
   "cell_type": "code",
   "execution_count": 32,
   "id": "e5d926d7",
   "metadata": {},
   "outputs": [
    {
     "name": "stdout",
     "output_type": "stream",
     "text": [
      "101\n"
     ]
    }
   ],
   "source": [
    "A = np.array([2, 7, 4])\n",
    "B = np.array([3, 9, 8])\n",
    "\n",
    "output = np.dot(A, B)\n",
    "print(output)"
   ]
  },
  {
   "cell_type": "code",
   "execution_count": 39,
   "id": "d0a04793",
   "metadata": {},
   "outputs": [
    {
     "name": "stdout",
     "output_type": "stream",
     "text": [
      "130\n",
      "32\n",
      "50\n"
     ]
    }
   ],
   "source": [
    "def dot_product(a_vector,b_vector):\n",
    " \n",
    "    return sum([a*b for a,b in zip(a_vector,b_vector)])\n",
    "\n",
    "X = [1,2,3,4,5,]\n",
    "Y = [6,7,8,9,10]\n",
    "print(dot_product(X,Y)) \n",
    "a=[1,2,3]\n",
    "b=[4,5,6]\n",
    "print(dot_product(a,b)) #prints 32= 1*4 + 2*5 + 3*6 = \n",
    "m = [1, 2, 3]\n",
    "n = [7, 8, 9]\n",
    "print(dot_product(m,n)) #prints 50 "
   ]
  },
  {
   "cell_type": "code",
   "execution_count": 42,
   "id": "756dc2a8",
   "metadata": {},
   "outputs": [
    {
     "name": "stdout",
     "output_type": "stream",
     "text": [
      "50\n"
     ]
    }
   ],
   "source": [
    "m = [1, 2, 3]\n",
    "n = [7, 8, 9]\n",
    "print(dot_product(m,n))"
   ]
  },
  {
   "cell_type": "code",
   "execution_count": 43,
   "id": "cab659e1",
   "metadata": {},
   "outputs": [
    {
     "data": {
      "text/plain": [
       "50"
      ]
     },
     "execution_count": 43,
     "metadata": {},
     "output_type": "execute_result"
    }
   ],
   "source": [
    "np.dot(m,n)\n"
   ]
  },
  {
   "cell_type": "code",
   "execution_count": 45,
   "id": "dc194fd3",
   "metadata": {},
   "outputs": [],
   "source": [
    "def dot_product (a,b):\n",
    "    y = 0\n",
    "    for x in range(v.shape[0]):\n",
    "        try:\n",
    "            y += a[x]* b[x]\n",
    "        except Exception as e:\n",
    "            print(e)\n",
    "    else: \n",
    "        print(y)\n"
   ]
  },
  {
   "cell_type": "code",
   "execution_count": null,
   "id": "f3da58b5",
   "metadata": {},
   "outputs": [],
   "source": [
    "v= np.array([])"
   ]
  }
 ],
 "metadata": {
  "kernelspec": {
   "display_name": "Python 3 (ipykernel)",
   "language": "python",
   "name": "python3"
  },
  "language_info": {
   "codemirror_mode": {
    "name": "ipython",
    "version": 3
   },
   "file_extension": ".py",
   "mimetype": "text/x-python",
   "name": "python",
   "nbconvert_exporter": "python",
   "pygments_lexer": "ipython3",
   "version": "3.9.7"
  }
 },
 "nbformat": 4,
 "nbformat_minor": 5
}
