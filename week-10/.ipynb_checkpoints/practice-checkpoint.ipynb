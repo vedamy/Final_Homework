{
 "cells": [
  {
   "cell_type": "code",
   "execution_count": 4,
   "id": "c26aeac1",
   "metadata": {},
   "outputs": [
    {
     "data": {
      "text/plain": [
       "array([[1],\n",
       "       [2],\n",
       "       [3]])"
      ]
     },
     "execution_count": 4,
     "metadata": {},
     "output_type": "execute_result"
    }
   ],
   "source": [
    "import numpy as np\n",
    "v = np.array([[1],[2], [3]])\n",
    "v"
   ]
  },
  {
   "cell_type": "code",
   "execution_count": 11,
   "id": "7de98041",
   "metadata": {},
   "outputs": [
    {
     "data": {
      "text/plain": [
       "array([[1, 2, 3],\n",
       "       [4, 5, 6],\n",
       "       [7, 8, 9]])"
      ]
     },
     "execution_count": 11,
     "metadata": {},
     "output_type": "execute_result"
    }
   ],
   "source": [
    "m= np.array([[1,2,3],[4,5,6],[7,8,9]])\n",
    "m"
   ]
  },
  {
   "cell_type": "code",
   "execution_count": 2,
   "id": "b6a6f061",
   "metadata": {},
   "outputs": [
    {
     "data": {
      "text/plain": [
       "(3, 3)"
      ]
     },
     "execution_count": 2,
     "metadata": {},
     "output_type": "execute_result"
    }
   ],
   "source": [
    "m.shape"
   ]
  },
  {
   "cell_type": "code",
   "execution_count": 7,
   "id": "34f3df75",
   "metadata": {},
   "outputs": [
    {
     "data": {
      "text/plain": [
       "-1"
      ]
     },
     "execution_count": 7,
     "metadata": {},
     "output_type": "execute_result"
    }
   ],
   "source": [
    "north = np.array([0,1])\n",
    "east = np.array([1,0])\n",
    "south = np.array([0,-1])\n",
    "west = np.array([-1,0])\n",
    "\n",
    "np.dot(north, south)"
   ]
  },
  {
   "cell_type": "markdown",
   "id": "81d52717",
   "metadata": {},
   "source": [
    "$$ A \\cdot A^T = I $$"
   ]
  },
  {
   "cell_type": "code",
   "execution_count": 14,
   "id": "7c444723",
   "metadata": {},
   "outputs": [
    {
     "name": "stdout",
     "output_type": "stream",
     "text": [
      "[20 -4 -3]\n"
     ]
    }
   ],
   "source": [
    "A = np.array([2, 7, 4])\n",
    "B = np.array([3, 9, 8])\n",
    "\n",
    "output = np.cross(A, B)\n",
    "print(output)"
   ]
  },
  {
   "cell_type": "code",
   "execution_count": 25,
   "id": "31297e21",
   "metadata": {},
   "outputs": [],
   "source": [
    "def countdown(n):\n",
    "    print(n)\n",
    "    #count backwards from n until we get to 0\n",
    "    if n>0:\n",
    "        #stuff\n",
    "        countdown(n-1)\n",
    "    else:\n",
    "        return #stopping condition - terminates the recursion\n"
   ]
  },
  {
   "cell_type": "code",
   "execution_count": 26,
   "id": "3250f6d6",
   "metadata": {},
   "outputs": [
    {
     "name": "stdout",
     "output_type": "stream",
     "text": [
      "3\n",
      "2\n",
      "1\n",
      "0\n"
     ]
    }
   ],
   "source": [
    "countdown(3)"
   ]
  },
  {
   "cell_type": "code",
   "execution_count": 28,
   "id": "f345a550",
   "metadata": {},
   "outputs": [],
   "source": [
    "def countdown(n):\n",
    "\n",
    "    #count backwards from n until we get to 0\n",
    "    if n>0:\n",
    "        #stuff\n",
    "        countdown(n-1)\n",
    "        print(n)\n",
    "    else:\n",
    "        return #stopping condition - terminates the recursion"
   ]
  },
  {
   "cell_type": "code",
   "execution_count": 29,
   "id": "c7dff6e3",
   "metadata": {},
   "outputs": [
    {
     "name": "stdout",
     "output_type": "stream",
     "text": [
      "1\n",
      "2\n",
      "3\n"
     ]
    }
   ],
   "source": [
    "countdown(3)"
   ]
  },
  {
   "cell_type": "markdown",
   "id": "5f7a41f3",
   "metadata": {},
   "source": [
    "1. Write a function that calculates the dot product manually AND a function that\n",
    "calculates the cross product manually. Both should accept two vectors and perform\n",
    "that calculation. Be sure to use try except and error handling for basic issues that\n",
    "might occur."
   ]
  },
  {
   "cell_type": "code",
   "execution_count": 32,
   "id": "e5d926d7",
   "metadata": {},
   "outputs": [
    {
     "name": "stdout",
     "output_type": "stream",
     "text": [
      "101\n"
     ]
    }
   ],
   "source": [
    "A = np.array([2, 7, 4])\n",
    "B = np.array([3, 9, 8])\n",
    "\n",
    "output = np.dot(A, B)\n",
    "print(output)"
   ]
  },
  {
   "cell_type": "code",
   "execution_count": 39,
   "id": "d0a04793",
   "metadata": {},
   "outputs": [
    {
     "name": "stdout",
     "output_type": "stream",
     "text": [
      "130\n",
      "32\n",
      "50\n"
     ]
    }
   ],
   "source": [
    "def dot_product(a_vector,b_vector):\n",
    " \n",
    "    return sum([a*b for a,b in zip(a_vector,b_vector)])\n",
    "\n",
    "X = [1,2,3,4,5,]\n",
    "Y = [6,7,8,9,10]\n",
    "print(dot_product(X,Y)) \n",
    "a=[1,2,3]\n",
    "b=[4,5,6]\n",
    "print(dot_product(a,b)) #prints 32= 1*4 + 2*5 + 3*6 = \n",
    "m = [1, 2, 3]\n",
    "n = [7, 8, 9]\n",
    "print(dot_product(m,n)) #prints 50 "
   ]
  },
  {
   "cell_type": "code",
   "execution_count": 42,
   "id": "756dc2a8",
   "metadata": {},
   "outputs": [
    {
     "name": "stdout",
     "output_type": "stream",
     "text": [
      "50\n"
     ]
    }
   ],
   "source": [
    "m = [1, 2, 3]\n",
    "n = [7, 8, 9]\n",
    "print(dot_product(m,n))"
   ]
  },
  {
   "cell_type": "code",
   "execution_count": 43,
   "id": "cab659e1",
   "metadata": {},
   "outputs": [
    {
     "data": {
      "text/plain": [
       "50"
      ]
     },
     "execution_count": 43,
     "metadata": {},
     "output_type": "execute_result"
    }
   ],
   "source": [
    "np.dot(m,n)\n"
   ]
  },
  {
   "cell_type": "code",
   "execution_count": 71,
   "id": "dc194fd3",
   "metadata": {},
   "outputs": [],
   "source": [
    "def dot_product (a,b):\n",
    "    y = 0\n",
    "    for x in range(a.shape[0]):\n",
    "        try:\n",
    "            y += a[x]* b[x]\n",
    "        except Exception as e:\n",
    "            print(e)\n",
    "    else: \n",
    "        print(y)\n"
   ]
  },
  {
   "cell_type": "code",
   "execution_count": 72,
   "id": "f3da58b5",
   "metadata": {},
   "outputs": [
    {
     "name": "stdout",
     "output_type": "stream",
     "text": [
      "34\n"
     ]
    }
   ],
   "source": [
    "v1= np.array([1, 0, 2, 7])\n",
    "v2 = np.array([3, 8, 5, 3])\n",
    "\n",
    "dot_product(v1, v2)"
   ]
  },
  {
   "cell_type": "code",
   "execution_count": 73,
   "id": "3f00620d",
   "metadata": {},
   "outputs": [
    {
     "data": {
      "text/plain": [
       "34"
      ]
     },
     "execution_count": 73,
     "metadata": {},
     "output_type": "execute_result"
    }
   ],
   "source": [
    "np.dot(v1, v2)"
   ]
  },
  {
   "cell_type": "code",
   "execution_count": null,
   "id": "3dedb99c",
   "metadata": {},
   "outputs": [],
   "source": [
    "x = np.array([[1,2,3], [4,5,6], [7, 8, 9]])\n",
    "y = np.array([[7, 8, 9], [4,5,6], [1,2,3]])\n",
    "z= "
   ]
  },
  {
   "cell_type": "code",
   "execution_count": 103,
   "id": "dfd79a25",
   "metadata": {},
   "outputs": [
    {
     "name": "stdout",
     "output_type": "stream",
     "text": [
      "[[-8 -1  4]]\n"
     ]
    }
   ],
   "source": [
    "v = np.array([[0, 3, 2]])\n",
    "w = np.array([[4, 1, 1]])\n",
    "u = np.array([[0, -2, 0]])\n",
    "x = 3*v-2*w+4*u\n",
    "print(x)"
   ]
  },
  {
   "cell_type": "code",
   "execution_count": 117,
   "id": "3da5a064",
   "metadata": {},
   "outputs": [],
   "source": [
    "def cross(a, b):\n",
    "    c = [a[1]*b[2] - a[2]*b[1],\n",
    "         a[2]*b[0] - a[0]*b[2],\n",
    "         a[0]*b[1] - a[1]*b[0]]\n",
    "\n",
    "    return c"
   ]
  },
  {
   "cell_type": "code",
   "execution_count": 123,
   "id": "3e7c7074",
   "metadata": {},
   "outputs": [
    {
     "name": "stdout",
     "output_type": "stream",
     "text": [
      "[-30, 1, 37]\n"
     ]
    }
   ],
   "source": [
    "x = np.array([1, -7, 1])\n",
    "y = np.array([5, 2, 4])\n",
    "\n",
    "print(cross(x, y))"
   ]
  },
  {
   "cell_type": "code",
   "execution_count": 122,
   "id": "3c76b087",
   "metadata": {},
   "outputs": [
    {
     "name": "stdout",
     "output_type": "stream",
     "text": [
      "[-30   1  37]\n"
     ]
    }
   ],
   "source": [
    "x = np.array([1, -7, 1])\n",
    "y = np.array([5, 2, 4])\n",
    "print(np.cross(x,y))"
   ]
  },
  {
   "cell_type": "code",
   "execution_count": 113,
   "id": "8e043250",
   "metadata": {},
   "outputs": [
    {
     "name": "stdout",
     "output_type": "stream",
     "text": [
      "[  5 -14   4]\n"
     ]
    }
   ],
   "source": [
    "z = x*y\n",
    "print(z)"
   ]
  },
  {
   "cell_type": "code",
   "execution_count": 111,
   "id": "6d8772da",
   "metadata": {},
   "outputs": [
    {
     "name": "stdout",
     "output_type": "stream",
     "text": [
      "[-30   1  37]\n"
     ]
    }
   ],
   "source": [
    "print(np.cross(x, y))"
   ]
  },
  {
   "cell_type": "code",
   "execution_count": 46,
   "id": "141ea698",
   "metadata": {},
   "outputs": [
    {
     "name": "stdout",
     "output_type": "stream",
     "text": [
      "[0 1 2 3]\n"
     ]
    }
   ],
   "source": [
    "data = np.array([1, 0, 3, 1])\n",
    "shape = (data.size, data.max()+1)\n",
    "one_hot = np.zeros(shape)\n",
    "rows = np.arange(data.size)\n",
    "print(rows)"
   ]
  },
  {
   "cell_type": "code",
   "execution_count": 47,
   "id": "ff154ea5",
   "metadata": {},
   "outputs": [
    {
     "name": "stdout",
     "output_type": "stream",
     "text": [
      "[[0. 1. 0. 0.]\n",
      " [1. 0. 0. 0.]\n",
      " [0. 0. 0. 1.]\n",
      " [0. 1. 0. 0.]]\n"
     ]
    }
   ],
   "source": [
    "one_hot[rows, data] = 1\n",
    "print(one_hot)"
   ]
  },
  {
   "cell_type": "code",
   "execution_count": 48,
   "id": "384973ad",
   "metadata": {},
   "outputs": [
    {
     "data": {
      "text/plain": [
       "array([[0., 1., 0., 0.],\n",
       "       [1., 0., 0., 0.],\n",
       "       [0., 0., 0., 1.]])"
      ]
     },
     "execution_count": 48,
     "metadata": {},
     "output_type": "execute_result"
    }
   ],
   "source": [
    "a = np.array([1, 0, 3])\n",
    "b = np.zeros((a.size, a.max()+1))\n",
    "b[np.arange(a.size),a] = 1\n",
    "b"
   ]
  },
  {
   "cell_type": "markdown",
   "id": "ac0cf92e",
   "metadata": {},
   "source": [
    "calculate a one hot encoding for the Belize_Airbnb_listings.csv\n",
    "neighborhood_group column."
   ]
  },
  {
   "cell_type": "code",
   "execution_count": 51,
   "id": "fa7bc6a9",
   "metadata": {},
   "outputs": [],
   "source": [
    "import pandas as pd\n",
    "import numpy as np\n",
    "belize_listings = \"A:/launch_code_STL/Final_Homework/week-4/belize_airbnb_listings.csv\"\n",
    "belize_df = pd.read_csv(belize_listings)"
   ]
  },
  {
   "cell_type": "code",
   "execution_count": 52,
   "id": "49f4bd10",
   "metadata": {},
   "outputs": [
    {
     "data": {
      "text/html": [
       "<div>\n",
       "<style scoped>\n",
       "    .dataframe tbody tr th:only-of-type {\n",
       "        vertical-align: middle;\n",
       "    }\n",
       "\n",
       "    .dataframe tbody tr th {\n",
       "        vertical-align: top;\n",
       "    }\n",
       "\n",
       "    .dataframe thead th {\n",
       "        text-align: right;\n",
       "    }\n",
       "</style>\n",
       "<table border=\"1\" class=\"dataframe\">\n",
       "  <thead>\n",
       "    <tr style=\"text-align: right;\">\n",
       "      <th></th>\n",
       "      <th>id</th>\n",
       "      <th>name</th>\n",
       "      <th>host_id</th>\n",
       "      <th>host_name</th>\n",
       "      <th>neighbourhood_group</th>\n",
       "      <th>neighbourhood</th>\n",
       "      <th>latitude</th>\n",
       "      <th>longitude</th>\n",
       "      <th>room_type</th>\n",
       "      <th>price</th>\n",
       "      <th>minimum_nights</th>\n",
       "      <th>number_of_reviews</th>\n",
       "      <th>last_review</th>\n",
       "      <th>reviews_per_month</th>\n",
       "      <th>calculated_host_listings_count</th>\n",
       "      <th>availability_365</th>\n",
       "    </tr>\n",
       "  </thead>\n",
       "  <tbody>\n",
       "    <tr>\n",
       "      <th>0</th>\n",
       "      <td>36666</td>\n",
       "      <td>Mo's Cozy Casa w/ veranda &amp; access to dock</td>\n",
       "      <td>157752</td>\n",
       "      <td>Monique</td>\n",
       "      <td>Belize</td>\n",
       "      <td>Belize Islands</td>\n",
       "      <td>17.74786</td>\n",
       "      <td>-88.02398</td>\n",
       "      <td>Entire home/apt</td>\n",
       "      <td>141</td>\n",
       "      <td>3</td>\n",
       "      <td>250</td>\n",
       "      <td>2/23/2021</td>\n",
       "      <td>2.0</td>\n",
       "      <td>5</td>\n",
       "      <td>225</td>\n",
       "    </tr>\n",
       "  </tbody>\n",
       "</table>\n",
       "</div>"
      ],
      "text/plain": [
       "      id                                        name  host_id host_name  \\\n",
       "0  36666  Mo's Cozy Casa w/ veranda & access to dock   157752   Monique   \n",
       "\n",
       "  neighbourhood_group   neighbourhood  latitude  longitude        room_type  \\\n",
       "0              Belize  Belize Islands  17.74786  -88.02398  Entire home/apt   \n",
       "\n",
       "   price  minimum_nights  number_of_reviews last_review  reviews_per_month  \\\n",
       "0    141               3                250   2/23/2021                2.0   \n",
       "\n",
       "   calculated_host_listings_count  availability_365  \n",
       "0                               5               225  "
      ]
     },
     "execution_count": 52,
     "metadata": {},
     "output_type": "execute_result"
    }
   ],
   "source": [
    "belize_df.head(1)"
   ]
  },
  {
   "cell_type": "code",
   "execution_count": 59,
   "id": "a7844612",
   "metadata": {},
   "outputs": [
    {
     "data": {
      "text/plain": [
       "Belize         1574\n",
       "Stann Creek     577\n",
       "Cayo            505\n",
       "Corozal          65\n",
       "Toledo           47\n",
       "Orange Walk      28\n",
       "Name: neighbourhood_group, dtype: int64"
      ]
     },
     "execution_count": 59,
     "metadata": {},
     "output_type": "execute_result"
    }
   ],
   "source": [
    "x=belize_df['neighbourhood_group'].value_counts()\n",
    "x"
   ]
  },
  {
   "cell_type": "code",
   "execution_count": 60,
   "id": "7a32111f",
   "metadata": {},
   "outputs": [],
   "source": [
    "replace_grp = {'neighbourhood_group':{'Belize' : 1, 'Stann Creek' : 2, 'Cayo' : 3,\n",
    "                                     'Corozal' : 4, 'Toledo' : 5, 'Orange Walk' : 6}}"
   ]
  },
  {
   "cell_type": "code",
   "execution_count": 64,
   "id": "ce58f63d",
   "metadata": {},
   "outputs": [
    {
     "name": "stdout",
     "output_type": "stream",
     "text": [
      "{'neighbourhood_group': {'Belize': 1, 'Cayo': 2, 'Corozal': 3, 'Orange Walk': 4, 'Stann Creek': 5, 'Toledo': 6}}\n"
     ]
    }
   ],
   "source": [
    "labels = belize_df['neighbourhood_group'].astype('category').cat.categories.tolist()\n",
    "replace_grp_comp = {'neighbourhood_group': {k: v for k,v in zip(labels,list(range(1,len(labels)+1)))}}\n",
    "print(replace_grp_comp)"
   ]
  },
  {
   "cell_type": "code",
   "execution_count": 65,
   "id": "5ece0360",
   "metadata": {},
   "outputs": [],
   "source": [
    "belize_df_replace = belize_df.copy()"
   ]
  },
  {
   "cell_type": "code",
   "execution_count": 68,
   "id": "3518a1ad",
   "metadata": {},
   "outputs": [
    {
     "name": "stdout",
     "output_type": "stream",
     "text": [
      "        id                                               name  host_id  \\\n",
      "0    36666         Mo's Cozy Casa w/ veranda & access to dock   157752   \n",
      "1    36690  Mo's Cozy Cabana w/ comfy veranda & access to ...   157752   \n",
      "2   108932  Purple House eco solar  w/ ocean & wildlife views   563377   \n",
      "3   110483                            Michelo's fuchsia suite   567809   \n",
      "4   120115               Seaside Villas Second Floor Unit  #4   604999   \n",
      "5   120116                                           Valarosa   604999   \n",
      "6   124794                 Sabal Beach - secluded eco-retreat   562206   \n",
      "7   152512  Stunning one br apt-kitchen, air con, bikes & ...   733857   \n",
      "8   152922                     rent a private room in a house   735525   \n",
      "9   171294                                        King Deluxe   817242   \n",
      "10  171301                     Cabana in a Rainforest Setting   817242   \n",
      "11  179190  Stand Alone Caribbean Cabana #7 - Colinda Cabanas   857431   \n",
      "12  182596        Caribbean Beach Cabana #6 @ Colinda Cabanas   857431   \n",
      "13  182610   Ocean View Caribbean Cabana #5 @ Colinda Cabanas   857431   \n",
      "14  183285        Caribbean Beach Cabana #8 - Colinda Cabanas   857431   \n",
      "\n",
      "        host_name  neighbourhood_group         neighbourhood  latitude  \\\n",
      "0         Monique                    1        Belize Islands  17.74786   \n",
      "1         Monique                    1        Belize Islands  17.74832   \n",
      "2         Michael                    1        Belize Islands  17.73221   \n",
      "3          Michel                    5  Stann Creek Mainland  16.52114   \n",
      "4           Bobbi                    1        Belize Islands  17.74166   \n",
      "5           Bobbi                    1        Belize Islands  17.73644   \n",
      "6   David & Wayne                    6       Toledo Mainland  16.28752   \n",
      "7           Jacki                    5  Stann Creek Mainland  16.52644   \n",
      "8        Jennifer                    2                  Cayo  17.25395   \n",
      "9         Michael                    2                  Cayo  17.16261   \n",
      "10        Michael                    2                  Cayo  17.16368   \n",
      "11        Colinda                    1        Belize Islands  17.73696   \n",
      "12        Colinda                    1        Belize Islands  17.73696   \n",
      "13        Colinda                    1        Belize Islands  17.73696   \n",
      "14        Colinda                    1        Belize Islands  17.73696   \n",
      "\n",
      "    longitude        room_type  price  minimum_nights  number_of_reviews  \\\n",
      "0   -88.02398  Entire home/apt    141               3                250   \n",
      "1   -88.02474  Entire home/apt     71               3                316   \n",
      "2   -88.03824  Entire home/apt    191               2                 30   \n",
      "3   -88.36926       Hotel room    121               1                 27   \n",
      "4   -88.02395  Entire home/apt    343               1                 30   \n",
      "5   -88.02858  Entire home/apt    171               2                 49   \n",
      "6   -88.54550  Entire home/apt    232               3                 18   \n",
      "7   -88.37000  Entire home/apt    165               7                 64   \n",
      "8   -88.76870     Private room     52               1                 11   \n",
      "9   -89.06995     Private room    286               1                 40   \n",
      "10  -89.07051  Entire home/apt    212               1                 87   \n",
      "11  -88.02607  Entire home/apt    151               1                110   \n",
      "12  -88.02607  Entire home/apt    175               1                142   \n",
      "13  -88.02607  Entire home/apt    168               1                126   \n",
      "14  -88.02607  Entire home/apt    134               1                 47   \n",
      "\n",
      "   last_review  reviews_per_month  calculated_host_listings_count  \\\n",
      "0    2/23/2021               2.00                               5   \n",
      "1    2/19/2021               2.46                               5   \n",
      "2    3/14/2020               0.78                               1   \n",
      "3    2/24/2020               0.29                               3   \n",
      "4    3/18/2020               0.64                              22   \n",
      "5    3/23/2020               0.80                              22   \n",
      "6    1/12/2020               0.16                               2   \n",
      "7    2/10/2021               0.57                               5   \n",
      "8   12/14/2019               0.18                               1   \n",
      "9     2/3/2020               0.47                               8   \n",
      "10    1/5/2020               1.02                               8   \n",
      "11   1/31/2020               0.96                              14   \n",
      "12   3/17/2020               1.27                              14   \n",
      "13   2/20/2021               1.15                              14   \n",
      "14   2/29/2020               0.41                              14   \n",
      "\n",
      "    availability_365  \n",
      "0                225  \n",
      "1                164  \n",
      "2                364  \n",
      "3                331  \n",
      "4                203  \n",
      "5                  0  \n",
      "6                338  \n",
      "7                298  \n",
      "8                364  \n",
      "9                362  \n",
      "10               359  \n",
      "11               308  \n",
      "12               323  \n",
      "13               322  \n",
      "14               353  \n"
     ]
    }
   ],
   "source": [
    "belize_df_replace.replace(replace_grp_comp, inplace=True)\n",
    "\n",
    "print(belize_df_replace.head(15))"
   ]
  }
 ],
 "metadata": {
  "kernelspec": {
   "display_name": "Python 3 (ipykernel)",
   "language": "python",
   "name": "python3"
  },
  "language_info": {
   "codemirror_mode": {
    "name": "ipython",
    "version": 3
   },
   "file_extension": ".py",
   "mimetype": "text/x-python",
   "name": "python",
   "nbconvert_exporter": "python",
   "pygments_lexer": "ipython3",
   "version": "3.9.7"
  }
 },
 "nbformat": 4,
 "nbformat_minor": 5
}
