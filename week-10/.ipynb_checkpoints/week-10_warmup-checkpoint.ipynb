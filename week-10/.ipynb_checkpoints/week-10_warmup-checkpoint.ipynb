{
 "cells": [
  {
   "cell_type": "code",
   "execution_count": 2,
   "id": "2b92b2aa",
   "metadata": {},
   "outputs": [
    {
     "name": "stdout",
     "output_type": "stream",
     "text": [
      "List of numbers in reverse order= [9, 8, 7, 6, 5, 4, 3, 2, 1, 0]\n"
     ]
    }
   ],
   "source": [
    "num_list = [0,1,2,3,4,5,6,7,8,9] \n",
    "num_list.reverse()\n",
    "print('List of numbers in reverse order=', num_list)"
   ]
  },
  {
   "cell_type": "code",
   "execution_count": 10,
   "id": "c5e8d254",
   "metadata": {},
   "outputs": [
    {
     "name": "stdout",
     "output_type": "stream",
     "text": [
      "List of numbers in reverse order= [9, 8, 7, 6, 5, 4, 3, 2, 1, 0]\n"
     ]
    }
   ],
   "source": [
    "def numbers(num_list):\n",
    "    num_list.reverse()\n",
    "    return num_list\n",
    "      \n",
    "num_list = [0,1,2,3,4,5,6,7,8,9]\n",
    "print('List of numbers in reverse order=',Reverse(num_list))"
   ]
  },
  {
   "cell_type": "code",
   "execution_count": 20,
   "id": "147beefb",
   "metadata": {},
   "outputs": [
    {
     "name": "stdout",
     "output_type": "stream",
     "text": [
      "[4.5, 4.0, 3.5, 3.0, 2.5, 2.0, 1.5, 1.0, 0.5, 0.0]\n"
     ]
    }
   ],
   "source": [
    "reverse_numbers = [9, 8, 7, 6, 5, 4, 3, 2, 1, 0]\n",
    "new_list = []\n",
    "\n",
    "for n in reverse_numbers:\n",
    "    new_list.append(n/2) \n",
    "\n",
    "print(new_list)"
   ]
  }
 ],
 "metadata": {
  "kernelspec": {
   "display_name": "Python 3 (ipykernel)",
   "language": "python",
   "name": "python3"
  },
  "language_info": {
   "codemirror_mode": {
    "name": "ipython",
    "version": 3
   },
   "file_extension": ".py",
   "mimetype": "text/x-python",
   "name": "python",
   "nbconvert_exporter": "python",
   "pygments_lexer": "ipython3",
   "version": "3.9.7"
  }
 },
 "nbformat": 4,
 "nbformat_minor": 5
}
