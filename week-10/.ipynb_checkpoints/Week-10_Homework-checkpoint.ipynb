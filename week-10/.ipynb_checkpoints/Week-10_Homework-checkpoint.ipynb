{
 "cells": [
  {
   "cell_type": "code",
   "execution_count": 262,
   "id": "7c34336e",
   "metadata": {},
   "outputs": [
    {
     "name": "stdout",
     "output_type": "stream",
     "text": [
      "0.9707461133931431\n",
      "55.619655276155136\n"
     ]
    }
   ],
   "source": [
    "import numpy as np\n",
    "from numpy.linalg import norm\n",
    "\n",
    "def unit_vector(vector):\n",
    "## Returns the unit vector of the vector.\n",
    "    return vector / np.linalg.norm(vector)\n",
    "\n",
    "def angle_between(v1, v2):\n",
    "   \n",
    "    v1_u = unit_vector(v1)\n",
    "    v2_u = unit_vector(v2)\n",
    "    return np.arccos(np.clip(np.dot(v1_u, v2_u), -1.0, 1.0))\n",
    "\n",
    "X = [6, 2]\n",
    "Y = [2, 7]\n",
    "rad = angle(X,Y)\n",
    "deg = np.rad2deg(angle(X,Y))\n",
    "print(rad)\n",
    "print(deg)\n",
    "\n",
    "#print(angle(X,Y))\n",
    " "
   ]
  },
  {
   "cell_type": "code",
   "execution_count": 308,
   "id": "f5682b26",
   "metadata": {},
   "outputs": [
    {
     "name": "stdout",
     "output_type": "stream",
     "text": [
      "1.5707963267948966\n",
      "90.0\n"
     ]
    }
   ],
   "source": [
    "import math\n",
    "\n",
    "def dotproduct(v1, v2):\n",
    "    return sum((a*b) for a, b in zip(v1, v2))\n",
    "\n",
    "def angle(v1, v2):\n",
    "    return math.acos(dotproduct(v1, v2) / (length(v1) * length(v2)))\n",
    "\n",
    "X = [0, 1]\n",
    "Y = [1, 0]\n",
    "rad = angle(X,Y)\n",
    "deg = np.rad2deg(angle(X,Y))\n",
    "print(rad)\n",
    "print(deg)"
   ]
  },
  {
   "cell_type": "code",
   "execution_count": 258,
   "id": "560fb8d8",
   "metadata": {},
   "outputs": [
    {
     "name": "stdout",
     "output_type": "stream",
     "text": [
      "1.5707963267948966\n",
      "90.0\n"
     ]
    }
   ],
   "source": [
    "import numpy as np\n",
    "import numpy.linalg as LA\n",
    "\n",
    "a = np.array([0, 1])\n",
    "b = np.array([1, 0])\n",
    "\n",
    "inner = np.inner(a, b)\n",
    "norms = LA.norm(a) * LA.norm(b)\n",
    "\n",
    "cos = inner / norms\n",
    "rad = np.arccos(np.clip(cos, -1.0, 1.0))\n",
    "deg = np.rad2deg(rad)\n",
    "\n",
    "print(rad) \n",
    "print(deg)  "
   ]
  },
  {
   "cell_type": "code",
   "execution_count": 152,
   "id": "fa6f39fc",
   "metadata": {},
   "outputs": [
    {
     "name": "stdout",
     "output_type": "stream",
     "text": [
      "Matrix Division : \n",
      "[[0.14285714 0.25      ]\n",
      " [0.44444444 0.5       ]]\n"
     ]
    }
   ],
   "source": [
    "import numpy\n",
    "# Two matrices are initialized by value\n",
    "m1 = numpy.array([[1, 2], [4, 5]])\n",
    "m2 = numpy.array([[7, 8], [9, 10]])\n",
    "\n",
    "# divide()is used to divide matrices\n",
    "print (\"Matrix Division : \")\n",
    "print (numpy.divide(m1,m2))"
   ]
  },
  {
   "cell_type": "markdown",
   "id": "6b5518c1",
   "metadata": {},
   "source": [
    "3.\tWrite a function called row_dot(A, r1, r2) which takes an input matrix called A, one row number identified by r1, and another row number identified by r2 and returns the dot product of the r1 and r2 rows (indexing starts at 0)."
   ]
  },
  {
   "cell_type": "code",
   "execution_count": 263,
   "id": "fbff5937",
   "metadata": {},
   "outputs": [
    {
     "name": "stdout",
     "output_type": "stream",
     "text": [
      "Enter the number of rows:2\n",
      "Enter the number of columns:2\n",
      "Enter Element Rowwise:4\n",
      "Enter Element Rowwise:6\n",
      "Enter Element Rowwise:8\n",
      "Enter Element Rowwise:2\n"
     ]
    },
    {
     "data": {
      "text/plain": [
       "44"
      ]
     },
     "execution_count": 263,
     "metadata": {},
     "output_type": "execute_result"
    }
   ],
   "source": [
    "def row_dot(A, r1, r2):\n",
    "    A = []\n",
    "\n",
    "    rowNo = int(input(\"Enter the number of rows:\")) \n",
    "    colNo = int(input(\"Enter the number of columns:\")) \n",
    "\n",
    "    for i in range(rowNo):\n",
    "        row = []\n",
    "        for j in range(colNo):\n",
    "            ip = int(input(\"Enter Element Rowwise:\"))\n",
    "            row.append(ip)\n",
    "        A.append(row)\n",
    "   # print(A)   \n",
    "    r1 = A[0]\n",
    "    r2 = A[1]\n",
    "    row_dot = np.matmul(r1, r2)\n",
    "    return row_dot\n",
    "\n",
    "row_dot(A, r1, r2)"
   ]
  },
  {
   "cell_type": "code",
   "execution_count": 271,
   "id": "bdf1761c",
   "metadata": {},
   "outputs": [
    {
     "name": "stdout",
     "output_type": "stream",
     "text": [
      "Enter the number of rows:2\n",
      "Enter the number of columns:2\n",
      "Enter Element Rowwise:4\n",
      "Enter Element Rowwise:6\n",
      "Enter Element Rowwise:8\n",
      "Enter Element Rowwise:2\n",
      "[[4, 6], [8, 2]]\n"
     ]
    },
    {
     "data": {
      "text/plain": [
       "44"
      ]
     },
     "execution_count": 271,
     "metadata": {},
     "output_type": "execute_result"
    }
   ],
   "source": [
    "def row_dot(A, r1, r2):\n",
    "    A = []\n",
    "\n",
    "    rowNo = int(input(\"Enter the number of rows:\")) \n",
    "    colNo = int(input(\"Enter the number of columns:\")) \n",
    "\n",
    "    for i in range(rowNo):\n",
    "        row = []\n",
    "        for j in range(colNo):\n",
    "            ip = int(input(\"Enter Element Rowwise:\"))\n",
    "            row.append(ip)\n",
    "        A.append(row)\n",
    "    print(A)   \n",
    "    x = A[r1]\n",
    "    y = A[r2]\n",
    "    row_dot = np.matmul(x, y)\n",
    "    return row_dot\n",
    "\n",
    "row_dot(A, 0, 1)"
   ]
  },
  {
   "cell_type": "markdown",
   "id": "b61c582d",
   "metadata": {},
   "source": [
    "\n",
    "4.\tWrite a function matrix_division(m1, m2) that takes in two matrices, m1 and m2, and returns the result. What is the trick with matrix division?\n"
   ]
  },
  {
   "cell_type": "code",
   "execution_count": 380,
   "id": "b0a4d57a",
   "metadata": {},
   "outputs": [
    {
     "name": "stdout",
     "output_type": "stream",
     "text": [
      "[[1.00000000e+00 0.00000000e+00]\n",
      " [3.55271368e-15 1.00000000e+00]]\n",
      "Is identical to:\n",
      "[[1.00000000e+00 0.00000000e+00]\n",
      " [4.88498131e-15 1.00000000e+00]]\n"
     ]
    }
   ],
   "source": [
    "import numpy as np\n",
    "\n",
    "def matrix_division(m1, m2):\n",
    "    c=[[0 for row in range(len(m1))]for col in range(len(m2[0]))]\n",
    "    for i in range(len(m1)):\n",
    "        for j in range(len(m2[0])):\n",
    "            for k in range(len(m2)):\n",
    "                c[i][j]+=m1[i][k]/m2[k][j]\n",
    "    return c\n",
    "# Two matrices are initialized by value\n",
    "m1 = np.array([[1, 2], [4, 5]])\n",
    "m2 = np.array([[7, 8], [9, 10]])\n",
    "m2_inverse = np.linalg.inv(m2)\n",
    "#print(m2_inverse)\n",
    "print( m2.dot(m2_inverse))\n",
    "print( \"Is identical to:\")\n",
    "print( m2_inverse.dot(m2))"
   ]
  },
  {
   "cell_type": "code",
   "execution_count": null,
   "id": "ea7a644c",
   "metadata": {},
   "outputs": [],
   "source": [
    "\n",
    "m1 = np.array([[2, 4], [4, 6]])\n",
    "m2 = np.array([[6, 4], [8, 2]])\n",
    "\n",
    "def matrix_division(m1, m2):\n",
    "    #determine the inverse of divisor matrix i.e., m2 here\n",
    "    im2 = np.linalg.inv(m2)\n",
    "    print(im2)\n",
    "    c = np.divide(m1, m2)\n",
    "    #c = m1*im2\n",
    "    return c\n",
    "\n",
    "matrix_division(m1, m2)"
   ]
  },
  {
   "cell_type": "code",
   "execution_count": 376,
   "id": "a086b121",
   "metadata": {},
   "outputs": [
    {
     "data": {
      "text/plain": [
       "array([[ 0.28571429, -0.14285714,  0.14285714],\n",
       "       [-1.07142857,  0.45238095, -0.11904762],\n",
       "       [ 0.71428571, -0.19047619,  0.02380952]])"
      ]
     },
     "execution_count": 376,
     "metadata": {},
     "output_type": "execute_result"
    }
   ],
   "source": [
    "m1 = np.array([[8, 14, -6], [12,7,4], [-11,3,21]])\n",
    "m2 = np.array([[1, 2, 4], [5, 8, 10], [10, 4, 2]])\n",
    "\n",
    "#m3 = np.linalg.solve(m1, m3)\n",
    "IM2 = np.linalg.inv(m2)\n",
    "IM2\n",
    "#Id = np.matmul(IM2,m2)\n",
    "#Id"
   ]
  },
  {
   "cell_type": "code",
   "execution_count": 418,
   "id": "a2093982",
   "metadata": {},
   "outputs": [
    {
     "name": "stdout",
     "output_type": "stream",
     "text": [
      "[[ 1.00000000e+00  0.00000000e+00  4.16333634e-17]\n",
      " [ 6.66133815e-16  1.00000000e+00  2.42861287e-16]\n",
      " [-2.22044605e-16 -2.22044605e-16  1.00000000e+00]]\n",
      "Is identical to:\n",
      "[[ 1.00000000e+00 -1.11022302e-16 -2.22044605e-16]\n",
      " [ 1.94289029e-16  1.00000000e+00  1.94289029e-16]\n",
      " [ 2.08166817e-17  9.71445147e-17  1.00000000e+00]]\n"
     ]
    },
    {
     "data": {
      "text/plain": [
       "array([[ 0.28571429, -0.14285714,  0.14285714],\n",
       "       [-1.07142857,  0.45238095, -0.11904762],\n",
       "       [ 0.71428571, -0.19047619,  0.02380952]])"
      ]
     },
     "execution_count": 418,
     "metadata": {},
     "output_type": "execute_result"
    }
   ],
   "source": [
    "m1 = np.array([[8, 14, -6], [12,7,4], [-11,3,21]])\n",
    "m2 = np.array([[1, 2, 4], [5, 8, 10], [10, 4, 2]])\n",
    "\n",
    "def matrix_division(m1, m2):\n",
    "    matrix_inverse = np.linalg.inv(m2)\n",
    "    print( m2.dot(C_inverse))\n",
    "    print( \"Is identical to:\")\n",
    "    print( matrix_inverse.dot(m2))\n",
    "    return matrix_inverse\n",
    "\n",
    "\n",
    "matrix_division(m1, m2)"
   ]
  },
  {
   "cell_type": "code",
   "execution_count": 377,
   "id": "8184b59c",
   "metadata": {},
   "outputs": [
    {
     "name": "stdout",
     "output_type": "stream",
     "text": [
      "[[ 1.00000000e+00  0.00000000e+00  4.16333634e-17]\n",
      " [ 6.66133815e-16  1.00000000e+00  2.42861287e-16]\n",
      " [-2.22044605e-16 -2.22044605e-16  1.00000000e+00]]\n",
      "Is identical to:\n",
      "[[ 1.00000000e+00 -1.11022302e-16 -2.22044605e-16]\n",
      " [ 1.94289029e-16  1.00000000e+00  1.94289029e-16]\n",
      " [ 2.08166817e-17  9.71445147e-17  1.00000000e+00]]\n"
     ]
    }
   ],
   "source": [
    "print( C.dot(C_inverse))\n",
    "print( \"Is identical to:\")\n",
    "print( C_inverse.dot(C))"
   ]
  },
  {
   "cell_type": "code",
   "execution_count": 297,
   "id": "e1e8d3d1",
   "metadata": {},
   "outputs": [
    {
     "name": "stdout",
     "output_type": "stream",
     "text": [
      "[[0.14285714 0.25      ]\n",
      " [0.44444444 0.5       ]]\n"
     ]
    },
    {
     "data": {
      "text/plain": [
       "[[0.36507936507936506, 0.325], [1.126984126984127, 1.0]]"
      ]
     },
     "execution_count": 297,
     "metadata": {},
     "output_type": "execute_result"
    }
   ],
   "source": [
    "def matrix_division(m1, m2):\n",
    "    c=[[0 for row in range(len(m1))]for col in range(len(m2[0]))]\n",
    "    for i in range(len(m1)):\n",
    "        for j in range(len(m2[0])):\n",
    "            for k in range(len(m2)):\n",
    "                c[i][j]+=m1[i][k]/m2[k][j]\n",
    "    return c\n",
    "\n",
    "m1 = np.array([[1, 2], [4, 5]])\n",
    "m2 = np.array([[7, 8], [9, 10]])\n",
    "m3 = np.divide(m1, m2)\n",
    "print(m3)\n",
    "matrix_division(m1, m2)"
   ]
  },
  {
   "cell_type": "code",
   "execution_count": 406,
   "id": "2d946313",
   "metadata": {},
   "outputs": [
    {
     "name": "stdout",
     "output_type": "stream",
     "text": [
      "Enter first number : 52\n",
      "Enter second number : 64\n",
      "Division of [[2 4]\n",
      " [4 6]] and [[6 4]\n",
      " [8 2]] is [[0.33333333 1.        ]\n",
      " [0.5        3.        ]]\n"
     ]
    }
   ],
   "source": [
    "def matrix_division(m1, m2):\n",
    "    div = m1/m2\n",
    "    return div\n",
    "\n",
    "x=int(input(\"Enter first number : \"))\n",
    "y=int(input(\"Enter second number : \"))\n",
    "\n",
    "m=matrix_division(m1, m2)\n",
    "print(f\"Division of {m1} and {m2} is {m}\")"
   ]
  },
  {
   "cell_type": "code",
   "execution_count": 397,
   "id": "650f498a",
   "metadata": {},
   "outputs": [
    {
     "name": "stdout",
     "output_type": "stream",
     "text": [
      "[[-0.1  0.2]\n",
      " [ 0.4 -0.3]]\n"
     ]
    },
    {
     "data": {
      "text/plain": [
       "array([[0.33333333, 1.        ],\n",
       "       [0.5       , 3.        ]])"
      ]
     },
     "execution_count": 397,
     "metadata": {},
     "output_type": "execute_result"
    }
   ],
   "source": [
    "#m1 = np.array([[4, 16], [8, 20]])\n",
    "#m2 = np.array([[6, 8], [12, 18]])\n",
    "\n",
    "m1 = np.array([[2, 4], [4, 6]])\n",
    "m2 = np.array([[6, 4], [8, 2]])\n",
    "\n",
    "def matrix_division(m1, m2):\n",
    "    #determine the inverse of divisor matrix i.e., m2 here\n",
    "    im2 = np.linalg.inv(m2)\n",
    "    print(im2)\n",
    "    c = np.divide(m1, m2)\n",
    "    #c = m1*im2\n",
    "    return c\n",
    "\n",
    "matrix_division(m1, m2)"
   ]
  },
  {
   "cell_type": "code",
   "execution_count": 373,
   "id": "e567dbe2",
   "metadata": {},
   "outputs": [
    {
     "data": {
      "text/plain": [
       "array([[0.33333333, 1.        ],\n",
       "       [0.5       , 3.        ]])"
      ]
     },
     "execution_count": 373,
     "metadata": {},
     "output_type": "execute_result"
    }
   ],
   "source": [
    "m1 = np.array([[2, 4], [4, 6]])\n",
    "m2 = np.array([[6, 4], [8, 2]])\n",
    "m3= np.divide(m1, m2)\n",
    "m3"
   ]
  }
 ],
 "metadata": {
  "kernelspec": {
   "display_name": "Python 3 (ipykernel)",
   "language": "python",
   "name": "python3"
  },
  "language_info": {
   "codemirror_mode": {
    "name": "ipython",
    "version": 3
   },
   "file_extension": ".py",
   "mimetype": "text/x-python",
   "name": "python",
   "nbconvert_exporter": "python",
   "pygments_lexer": "ipython3",
   "version": "3.9.7"
  }
 },
 "nbformat": 4,
 "nbformat_minor": 5
}
