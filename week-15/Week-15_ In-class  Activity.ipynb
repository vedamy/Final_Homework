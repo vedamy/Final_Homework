{
 "cells": [
  {
   "cell_type": "markdown",
   "id": "51fd6775",
   "metadata": {},
   "source": [
    "# Week-15 In-class Assignment"
   ]
  },
  {
   "cell_type": "markdown",
   "id": "743a4a1c",
   "metadata": {},
   "source": [
    "1. Look up SMOTE oversampling\n",
    "https://imbalanced-learn.org/stable/references/generated/imblearn.over_sampling.SMOT\n",
    "E.html .\n",
    "a. Describe what it is in your own words in markdown.\n",
    "b. Use this technique with the diabetes dataset. Comment on the model\n",
    "performance compared to other methods. Make sure you are clear about why\n",
    "you chose the performance metric you did."
   ]
  },
  {
   "cell_type": "markdown",
   "id": "2b155a99",
   "metadata": {},
   "source": [
    "### SMOTE(Synthetic Minority Oversampling Technique)"
   ]
  },
  {
   "cell_type": "markdown",
   "id": "da585056",
   "metadata": {},
   "source": [
    "SMOTE is an advanced oversampling technique or it is an algorithm that performs data augmentation for the minority class\n",
    "by creating synthetic data points that are slightly different from the original data points and is referred to as Synthetic Minority Oversampling Technique. \n",
    "\n",
    "By using SMOTE we can adjust the model to reduce the number of false negatives, \n",
    "at the cost of increase in false positives, as in many cases we prefer having false positives rather than having false \n",
    "negatives which are of high risk. \n",
    "\n",
    "As oversampling leads to duplicates but here the advantage with SMOTE is no duplicates are generated."
   ]
  },
  {
   "cell_type": "code",
   "execution_count": 47,
   "id": "0d59527b",
   "metadata": {},
   "outputs": [],
   "source": [
    "#import libraries\n",
    "import numpy as np\n",
    "import pandas as pd\n",
    "import matplotlib.pyplot as plt"
   ]
  },
  {
   "cell_type": "code",
   "execution_count": 48,
   "id": "58cf2ecc",
   "metadata": {},
   "outputs": [
    {
     "data": {
      "text/html": [
       "<div>\n",
       "<style scoped>\n",
       "    .dataframe tbody tr th:only-of-type {\n",
       "        vertical-align: middle;\n",
       "    }\n",
       "\n",
       "    .dataframe tbody tr th {\n",
       "        vertical-align: top;\n",
       "    }\n",
       "\n",
       "    .dataframe thead th {\n",
       "        text-align: right;\n",
       "    }\n",
       "</style>\n",
       "<table border=\"1\" class=\"dataframe\">\n",
       "  <thead>\n",
       "    <tr style=\"text-align: right;\">\n",
       "      <th></th>\n",
       "      <th>Pregnancies</th>\n",
       "      <th>Glucose</th>\n",
       "      <th>BloodPressure</th>\n",
       "      <th>SkinThickness</th>\n",
       "      <th>Insulin</th>\n",
       "      <th>BMI</th>\n",
       "      <th>DiabetesPedigreeFunction</th>\n",
       "      <th>Age</th>\n",
       "      <th>Outcome</th>\n",
       "    </tr>\n",
       "  </thead>\n",
       "  <tbody>\n",
       "    <tr>\n",
       "      <th>0</th>\n",
       "      <td>6</td>\n",
       "      <td>148</td>\n",
       "      <td>72</td>\n",
       "      <td>35</td>\n",
       "      <td>0</td>\n",
       "      <td>33.6</td>\n",
       "      <td>0.627</td>\n",
       "      <td>50</td>\n",
       "      <td>1</td>\n",
       "    </tr>\n",
       "    <tr>\n",
       "      <th>1</th>\n",
       "      <td>1</td>\n",
       "      <td>85</td>\n",
       "      <td>66</td>\n",
       "      <td>29</td>\n",
       "      <td>0</td>\n",
       "      <td>26.6</td>\n",
       "      <td>0.351</td>\n",
       "      <td>31</td>\n",
       "      <td>0</td>\n",
       "    </tr>\n",
       "    <tr>\n",
       "      <th>2</th>\n",
       "      <td>8</td>\n",
       "      <td>183</td>\n",
       "      <td>64</td>\n",
       "      <td>0</td>\n",
       "      <td>0</td>\n",
       "      <td>23.3</td>\n",
       "      <td>0.672</td>\n",
       "      <td>32</td>\n",
       "      <td>1</td>\n",
       "    </tr>\n",
       "    <tr>\n",
       "      <th>3</th>\n",
       "      <td>1</td>\n",
       "      <td>89</td>\n",
       "      <td>66</td>\n",
       "      <td>23</td>\n",
       "      <td>94</td>\n",
       "      <td>28.1</td>\n",
       "      <td>0.167</td>\n",
       "      <td>21</td>\n",
       "      <td>0</td>\n",
       "    </tr>\n",
       "    <tr>\n",
       "      <th>4</th>\n",
       "      <td>0</td>\n",
       "      <td>137</td>\n",
       "      <td>40</td>\n",
       "      <td>35</td>\n",
       "      <td>168</td>\n",
       "      <td>43.1</td>\n",
       "      <td>2.288</td>\n",
       "      <td>33</td>\n",
       "      <td>1</td>\n",
       "    </tr>\n",
       "  </tbody>\n",
       "</table>\n",
       "</div>"
      ],
      "text/plain": [
       "   Pregnancies  Glucose  BloodPressure  SkinThickness  Insulin   BMI  \\\n",
       "0            6      148             72             35        0  33.6   \n",
       "1            1       85             66             29        0  26.6   \n",
       "2            8      183             64              0        0  23.3   \n",
       "3            1       89             66             23       94  28.1   \n",
       "4            0      137             40             35      168  43.1   \n",
       "\n",
       "   DiabetesPedigreeFunction  Age  Outcome  \n",
       "0                     0.627   50        1  \n",
       "1                     0.351   31        0  \n",
       "2                     0.672   32        1  \n",
       "3                     0.167   21        0  \n",
       "4                     2.288   33        1  "
      ]
     },
     "execution_count": 48,
     "metadata": {},
     "output_type": "execute_result"
    }
   ],
   "source": [
    "diabetes_df = pd.read_csv(\"A:\\launch_code_STL\\Final_Homework\\week-13\\diabetes.csv\")\n",
    "diabetes_df.head()"
   ]
  },
  {
   "cell_type": "code",
   "execution_count": 49,
   "id": "3c6590af",
   "metadata": {},
   "outputs": [
    {
     "data": {
      "text/plain": [
       "<AxesSubplot:xlabel='Outcome'>"
      ]
     },
     "execution_count": 49,
     "metadata": {},
     "output_type": "execute_result"
    },
    {
     "data": {
      "image/png": "[encoded data removed]",
      "text/plain": [
       "<Figure size 432x288 with 1 Axes>"
      ]
     },
     "metadata": {
      "needs_background": "light"
     },
     "output_type": "display_data"
    }
   ],
   "source": [
    "# Showing the class imbalance between Non-diabetic and Diabetic\n",
    "diabetes_df.pivot_table(index='Outcome', aggfunc='size').plot(kind='bar')"
   ]
  },
  {
   "cell_type": "code",
   "execution_count": 50,
   "id": "bd59f67d",
   "metadata": {},
   "outputs": [],
   "source": [
    "from sklearn.model_selection import train_test_split\n",
    "train, test = train_test_split(diabetes_df, test_size = 0.3, stratify=diabetes_df.Outcome)"
   ]
  },
  {
   "cell_type": "code",
   "execution_count": 51,
   "id": "070a8ea2",
   "metadata": {},
   "outputs": [
    {
     "data": {
      "text/plain": [
       "<AxesSubplot:xlabel='Outcome'>"
      ]
     },
     "execution_count": 51,
     "metadata": {},
     "output_type": "execute_result"
    },
    {
     "data": {
      "image/png": "[encoded data removed]",
      "text/plain": [
       "<Figure size 432x288 with 1 Axes>"
      ]
     },
     "metadata": {
      "needs_background": "light"
     },
     "output_type": "display_data"
    }
   ],
   "source": [
    "train.pivot_table(index='Outcome', aggfunc='size').plot(kind='bar')"
   ]
  },
  {
   "cell_type": "markdown",
   "id": "98dd3ed9",
   "metadata": {},
   "source": [
    "The class distributuion in train is same as input data"
   ]
  },
  {
   "cell_type": "code",
   "execution_count": 52,
   "id": "492a8ea3",
   "metadata": {},
   "outputs": [
    {
     "data": {
      "text/plain": [
       "<AxesSubplot:xlabel='Outcome'>"
      ]
     },
     "execution_count": 52,
     "metadata": {},
     "output_type": "execute_result"
    },
    {
     "data": {
      "image/png": "[encoded data removed]",
      "text/plain": [
       "<Figure size 432x288 with 1 Axes>"
      ]
     },
     "metadata": {
      "needs_background": "light"
     },
     "output_type": "display_data"
    }
   ],
   "source": [
    "test.pivot_table(index='Outcome', aggfunc='size').plot(kind='bar')"
   ]
  },
  {
   "cell_type": "markdown",
   "id": "a3768d7d",
   "metadata": {},
   "source": [
    "Here also we observe that class distributuion in test is same as input data"
   ]
  },
  {
   "cell_type": "code",
   "execution_count": 55,
   "id": "336b7579",
   "metadata": {},
   "outputs": [],
   "source": [
    "from sklearn.linear_model import LogisticRegression\n",
    "\n",
    "# Instantiate the Logistic Regression with only default settings\n",
    "my_log_reg = LogisticRegression(max_iter=1000)\n",
    "\n",
    "# Fit the logistic regression on the independent variables of the train data with Outcome as dependent variable\n",
    "my_log_reg.fit(train[['Pregnancies', 'Glucose', 'BloodPressure', 'SkinThickness', 'Insulin', 'BMI', 'DiabetesPedigreeFunction', 'Age']], train['Outcome'])\n",
    "\n",
    "# Make a prediction using our model on the test set\n",
    "preds = my_log_reg.predict(test[['Pregnancies', 'Glucose', 'BloodPressure', 'SkinThickness', 'Insulin', 'BMI', 'DiabetesPedigreeFunction', 'Age']])\n"
   ]
  },
  {
   "cell_type": "code",
   "execution_count": 56,
   "id": "c53e786a",
   "metadata": {},
   "outputs": [
    {
     "name": "stdout",
     "output_type": "stream",
     "text": [
      "True negatives:  130 \n",
      "False positives:  20 \n",
      "False negatives:  34 \n",
      "True Positives:  47\n"
     ]
    }
   ],
   "source": [
    "# plot the confusion matrix to see psoitives and negatives\n",
    "from sklearn.metrics import confusion_matrix\n",
    "tn, fp, fn, tp = confusion_matrix(test['Outcome'], preds).ravel()\n",
    "print('True negatives: ', tn, '\\nFalse positives: ', fp, '\\nFalse negatives: ', fn, '\\nTrue Positives: ', tp)"
   ]
  },
  {
   "cell_type": "code",
   "execution_count": 57,
   "id": "1851e0f4",
   "metadata": {},
   "outputs": [
    {
     "name": "stdout",
     "output_type": "stream",
     "text": [
      "              precision    recall  f1-score   support\n",
      "\n",
      "           0       0.79      0.87      0.83       150\n",
      "           1       0.70      0.58      0.64        81\n",
      "\n",
      "    accuracy                           0.77       231\n",
      "   macro avg       0.75      0.72      0.73       231\n",
      "weighted avg       0.76      0.77      0.76       231\n",
      "\n"
     ]
    }
   ],
   "source": [
    "# Classification report \n",
    "from sklearn.metrics import classification_report\n",
    "print(classification_report(test['Outcome'], preds))"
   ]
  },
  {
   "cell_type": "code",
   "execution_count": 58,
   "id": "86194334",
   "metadata": {},
   "outputs": [],
   "source": [
    "# Redoing the Logistic Regression with SMOTE\n",
    "\n",
    "from imblearn.over_sampling import SMOTE\n",
    "X_resampled, y_resampled = SMOTE().fit_resample(train[['Pregnancies', 'Glucose', 'BloodPressure', 'SkinThickness', 'Insulin', 'BMI', 'DiabetesPedigreeFunction', 'Age']], train['Outcome'])"
   ]
  },
  {
   "cell_type": "code",
   "execution_count": 59,
   "id": "8a5f08fc",
   "metadata": {},
   "outputs": [
    {
     "data": {
      "text/plain": [
       "<AxesSubplot:title={'center':'Class distribution after appying SMOTE'}, xlabel='Outcome'>"
      ]
     },
     "execution_count": 59,
     "metadata": {},
     "output_type": "execute_result"
    },
    {
     "data": {
      "image/png": "[encoded data removed]",
      "text/plain": [
       "<Figure size 432x288 with 1 Axes>"
      ]
     },
     "metadata": {
      "needs_background": "light"
     },
     "output_type": "display_data"
    }
   ],
   "source": [
    "pd.Series(y_resampled).value_counts().plot(kind='bar', title='Class distribution after appying SMOTE', xlabel='Outcome')"
   ]
  },
  {
   "cell_type": "markdown",
   "id": "9bdb0d3e",
   "metadata": {},
   "source": [
    "Class distribution after appying SMOTE gives the clear picture of increase in number of Diabetic patients."
   ]
  },
  {
   "cell_type": "code",
   "execution_count": 60,
   "id": "5fac2880",
   "metadata": {},
   "outputs": [],
   "source": [
    "# Instantiate the new Logistic Regression\n",
    "log_reg_2 = LogisticRegression(max_iter=1000)\n",
    "\n",
    "# Fit the model with the data that has been resampled with SMOTE\n",
    "log_reg_2.fit(X_resampled, y_resampled)\n",
    "\n",
    "# Predict on the test set (not resampled to obtain honest evaluation)\n",
    "preds2 = log_reg_2.predict(test[['Pregnancies', 'Glucose', 'BloodPressure', 'SkinThickness', 'Insulin', 'BMI', 'DiabetesPedigreeFunction', 'Age']])\n"
   ]
  },
  {
   "cell_type": "code",
   "execution_count": 61,
   "id": "266aaa21",
   "metadata": {},
   "outputs": [
    {
     "name": "stdout",
     "output_type": "stream",
     "text": [
      "True negatives:  113 \n",
      "False positives:  37 \n",
      "False negatives:  24 \n",
      "True positives:  57\n"
     ]
    }
   ],
   "source": [
    "tn, fp, fn, tp = confusion_matrix(test['Outcome'], preds2).ravel()\n",
    "print('True negatives: ', tn, '\\nFalse positives: ', fp, '\\nFalse negatives: ', fn, '\\nTrue positives: ', tp)"
   ]
  },
  {
   "cell_type": "code",
   "execution_count": 62,
   "id": "a091dd3a",
   "metadata": {},
   "outputs": [
    {
     "name": "stdout",
     "output_type": "stream",
     "text": [
      "              precision    recall  f1-score   support\n",
      "\n",
      "           0       0.82      0.75      0.79       150\n",
      "           1       0.61      0.70      0.65        81\n",
      "\n",
      "    accuracy                           0.74       231\n",
      "   macro avg       0.72      0.73      0.72       231\n",
      "weighted avg       0.75      0.74      0.74       231\n",
      "\n"
     ]
    }
   ],
   "source": [
    "\n",
    "print(classification_report(test['Outcome'], preds2))"
   ]
  },
  {
   "cell_type": "markdown",
   "id": "23f7861b",
   "metadata": {},
   "source": [
    "Recall of non-Diabetic went down from 0.87 to 0.75, ther are more non-diabetic individuals that we did not suceed to find.\n",
    "\n",
    "Recall of Diabetic went up from 0.58 to 0.70 that means we succeeded to identify more diabetic individuals.\n",
    "\n",
    "Coming to precision of Diabetic went down from 0.70 to 0.61, the cost of correctly identifying more diabetic is that we \n",
    "now also incorrectly identify more diabetic(identifying non-diabetic individuals as diabetic while they are actually \n",
    "non-diabetic)"
   ]
  },
  {
   "cell_type": "markdown",
   "id": "d1a1c44d",
   "metadata": {},
   "source": [
    "2. Create a function called rec_digit_sum that takes in an integer. This function is the recursive sum of all the digits in a number. Given n, take the sum of all the digits in n. If the resulting value has more than one digit, continue calling the function in this way until a single-digit number is produced. The input will be a non-negative integer, and this should work for extremely large values as well as for single-digit inputs. Examples:\n",
    "16 --> 1 + 6 = 7\n",
    "\n",
    "942 --> 9 + 4 + 2 = 15 --> 1 + 5 = 6\n",
    "\n",
    "132189 --> 1 + 3 + 2 + 1 + 8 + 9 = 24 --> 2 + 4 = 6\n",
    "\n",
    "493193 --> 4 + 9 + 3 + 1 + 9 + 3 = 29 --> 2 + 9 = 11"
   ]
  },
  {
   "cell_type": "code",
   "execution_count": 44,
   "id": "cffd62d3",
   "metadata": {},
   "outputs": [
    {
     "name": "stdout",
     "output_type": "stream",
     "text": [
      "Recursive sum of 16 is : 7\n",
      "Recursive sum of 942 is : 6\n",
      "Recursive sum of 132189 is : 6\n",
      "Recursive sum of 493193 is : 2\n"
     ]
    }
   ],
   "source": [
    "def rec_digit_sum(n):\n",
    "    if n < 10:\n",
    "        return n\n",
    "\n",
    "    q, r = divmod(n, 10)\n",
    "\n",
    "    return rec_digit_sum(rec_digit_sum(q) + r)\n",
    "\n",
    "x = rec_digit_sum(16)\n",
    "y = rec_digit_sum(942)\n",
    "z = rec_digit_sum(132189)\n",
    "a = rec_digit_sum(493193)\n",
    "\n",
    "print('Recursive sum of 16 is :', x)\n",
    "print('Recursive sum of 942 is :', y)\n",
    "print('Recursive sum of 132189 is :', z)\n",
    "print('Recursive sum of 493193 is :', a)"
   ]
  }
 ],
 "metadata": {
  "kernelspec": {
   "display_name": "Python 3 (ipykernel)",
   "language": "python",
   "name": "python3"
  },
  "language_info": {
   "codemirror_mode": {
    "name": "ipython",
    "version": 3
   },
   "file_extension": ".py",
   "mimetype": "text/x-python",
   "name": "python",
   "nbconvert_exporter": "python",
   "pygments_lexer": "ipython3",
   "version": "3.9.7"
  }
 },
 "nbformat": 4,
 "nbformat_minor": 5
}
