{
 "cells": [
  {
   "cell_type": "markdown",
   "id": "a61e7158",
   "metadata": {},
   "source": [
    "# Week-16 In-class Assignment"
   ]
  },
  {
   "cell_type": "markdown",
   "id": "25260db1",
   "metadata": {},
   "source": [
    "1.Work to improve the model performance for the diabetes decision tree we created in\n",
    "class. You should be able to improve the precision and recall to be above .8 and .7\n",
    "respectively. You can improve the preprocessing OR alter the model itself.\n"
   ]
  },
  {
   "cell_type": "code",
   "execution_count": 409,
   "id": "8b9a2469",
   "metadata": {},
   "outputs": [],
   "source": [
    "import pandas as pd\n",
    "import numpy as np\n",
    "from sklearn import tree\n",
    "from sklearn.metrics import classification_report, plot_confusion_matrix\n",
    "import pydotplus\n",
    "\n",
    "from matplotlib import pyplot as plt\n",
    "\n",
    "from IPython.display import Image"
   ]
  },
  {
   "cell_type": "code",
   "execution_count": 410,
   "id": "2c29d775",
   "metadata": {},
   "outputs": [
    {
     "data": {
      "text/html": [
       "<div>\n",
       "<style scoped>\n",
       "    .dataframe tbody tr th:only-of-type {\n",
       "        vertical-align: middle;\n",
       "    }\n",
       "\n",
       "    .dataframe tbody tr th {\n",
       "        vertical-align: top;\n",
       "    }\n",
       "\n",
       "    .dataframe thead th {\n",
       "        text-align: right;\n",
       "    }\n",
       "</style>\n",
       "<table border=\"1\" class=\"dataframe\">\n",
       "  <thead>\n",
       "    <tr style=\"text-align: right;\">\n",
       "      <th></th>\n",
       "      <th>Pregnancies</th>\n",
       "      <th>Glucose</th>\n",
       "      <th>BloodPressure</th>\n",
       "      <th>SkinThickness</th>\n",
       "      <th>Insulin</th>\n",
       "      <th>BMI</th>\n",
       "      <th>DiabetesPedigreeFunction</th>\n",
       "      <th>Age</th>\n",
       "      <th>Outcome</th>\n",
       "    </tr>\n",
       "  </thead>\n",
       "  <tbody>\n",
       "    <tr>\n",
       "      <th>0</th>\n",
       "      <td>6</td>\n",
       "      <td>148</td>\n",
       "      <td>72</td>\n",
       "      <td>35</td>\n",
       "      <td>0</td>\n",
       "      <td>33.6</td>\n",
       "      <td>0.627</td>\n",
       "      <td>50</td>\n",
       "      <td>1</td>\n",
       "    </tr>\n",
       "    <tr>\n",
       "      <th>1</th>\n",
       "      <td>1</td>\n",
       "      <td>85</td>\n",
       "      <td>66</td>\n",
       "      <td>29</td>\n",
       "      <td>0</td>\n",
       "      <td>26.6</td>\n",
       "      <td>0.351</td>\n",
       "      <td>31</td>\n",
       "      <td>0</td>\n",
       "    </tr>\n",
       "    <tr>\n",
       "      <th>2</th>\n",
       "      <td>8</td>\n",
       "      <td>183</td>\n",
       "      <td>64</td>\n",
       "      <td>0</td>\n",
       "      <td>0</td>\n",
       "      <td>23.3</td>\n",
       "      <td>0.672</td>\n",
       "      <td>32</td>\n",
       "      <td>1</td>\n",
       "    </tr>\n",
       "    <tr>\n",
       "      <th>3</th>\n",
       "      <td>1</td>\n",
       "      <td>89</td>\n",
       "      <td>66</td>\n",
       "      <td>23</td>\n",
       "      <td>94</td>\n",
       "      <td>28.1</td>\n",
       "      <td>0.167</td>\n",
       "      <td>21</td>\n",
       "      <td>0</td>\n",
       "    </tr>\n",
       "    <tr>\n",
       "      <th>4</th>\n",
       "      <td>0</td>\n",
       "      <td>137</td>\n",
       "      <td>40</td>\n",
       "      <td>35</td>\n",
       "      <td>168</td>\n",
       "      <td>43.1</td>\n",
       "      <td>2.288</td>\n",
       "      <td>33</td>\n",
       "      <td>1</td>\n",
       "    </tr>\n",
       "  </tbody>\n",
       "</table>\n",
       "</div>"
      ],
      "text/plain": [
       "   Pregnancies  Glucose  BloodPressure  SkinThickness  Insulin   BMI  \\\n",
       "0            6      148             72             35        0  33.6   \n",
       "1            1       85             66             29        0  26.6   \n",
       "2            8      183             64              0        0  23.3   \n",
       "3            1       89             66             23       94  28.1   \n",
       "4            0      137             40             35      168  43.1   \n",
       "\n",
       "   DiabetesPedigreeFunction  Age  Outcome  \n",
       "0                     0.627   50        1  \n",
       "1                     0.351   31        0  \n",
       "2                     0.672   32        1  \n",
       "3                     0.167   21        0  \n",
       "4                     2.288   33        1  "
      ]
     },
     "execution_count": 410,
     "metadata": {},
     "output_type": "execute_result"
    }
   ],
   "source": [
    "diabetes_df = pd.read_csv(\"A:\\launch_code_STL\\Final_Homework\\week-13\\diabetes.csv\")\n",
    "diabetes_df.head()"
   ]
  },
  {
   "cell_type": "code",
   "execution_count": 411,
   "id": "6873051f",
   "metadata": {},
   "outputs": [],
   "source": [
    "X = diabetes_df.drop('Outcome', axis=1)\n",
    "y = diabetes_df['Outcome']"
   ]
  },
  {
   "cell_type": "code",
   "execution_count": 412,
   "id": "37cf194c",
   "metadata": {},
   "outputs": [
    {
     "name": "stdout",
     "output_type": "stream",
     "text": [
      "Tuned Decision Tree Parameters: {'criterion': 'entropy', 'max_depth': 5, 'max_features': 3, 'min_samples_leaf': 1, 'splitter': 'best'}\n",
      "Best score is 0.749193655870985\n"
     ]
    }
   ],
   "source": [
    "# Import necessary modules\n",
    "from scipy.stats import randint\n",
    "from sklearn.tree import DecisionTreeClassifier\n",
    "from sklearn.model_selection import RandomizedSearchCV\n",
    "\n",
    "\n",
    "# Setup the parameters and distributions to sample from: param_dist\n",
    "param_dist = {\"max_depth\": [5, None],\n",
    "              \"max_features\": randint(1, 9),\n",
    "              \"min_samples_leaf\": randint(1, 9),\n",
    "              \"criterion\": [\"gini\", \"entropy\"],\n",
    "             \"splitter\": [\"best\", \"random\"]}\n",
    "\n",
    "# Instantiate a Decision Tree classifier: tree\n",
    "tree = tree.DecisionTreeClassifier()\n",
    "\n",
    "# Instantiate the RandomizedSearchCV object: tree_cv\n",
    "tree_cv = RandomizedSearchCV(tree, param_dist, cv=5)\n",
    "\n",
    "# Fit it to the data\n",
    "tree_cv.fit(X_train, y_train)\n",
    "\n",
    "# Print the tuned parameters and score\n",
    "print(\"Tuned Decision Tree Parameters: {}\".format(tree_cv.best_params_))\n",
    "print(\"Best score is {}\".format(tree_cv.best_score_))"
   ]
  },
  {
   "cell_type": "code",
   "execution_count": 413,
   "id": "7eb8364e",
   "metadata": {},
   "outputs": [],
   "source": [
    "# Import tree\n",
    "from sklearn import tree\n",
    "best_model = tree.DecisionTreeClassifier(criterion ='entropy', max_depth =5, max_features=7,\n",
    "                                        min_samples_leaf=5, splitter='best', random_state = 49)"
   ]
  },
  {
   "cell_type": "code",
   "execution_count": 414,
   "id": "440b99c8",
   "metadata": {},
   "outputs": [
    {
     "name": "stdout",
     "output_type": "stream",
     "text": [
      "              precision    recall  f1-score   support\n",
      "\n",
      "           0       0.87      0.90      0.88        50\n",
      "           1       0.80      0.74      0.77        27\n",
      "\n",
      "    accuracy                           0.84        77\n",
      "   macro avg       0.83      0.82      0.83        77\n",
      "weighted avg       0.84      0.84      0.84        77\n",
      "\n"
     ]
    }
   ],
   "source": [
    "# test the model performance\n",
    "best_model.fit(X_train, y_train)\n",
    "y_pred_best = best_model.predict(X_test)\n",
    "print(classification_report(y_test, y_pred_best))"
   ]
  },
  {
   "cell_type": "markdown",
   "id": "1d91a5a4",
   "metadata": {},
   "source": [
    "I tried changing the parameters and found the best model performance with max_depth=5, and random_state = 49\n",
    "\n",
    "The model classifies someone as non-diabetic, it will be correct roughly 87% of the time.\n",
    "\n",
    "The model classifies someone as diabetic, it will be correct roughly 80% of the time.\n",
    "\n",
    "The model classify 90% of the individuals as non-diabetic.\n",
    "\n",
    "The model classify 74% of the individuals as diabetic."
   ]
  },
  {
   "cell_type": "code",
   "execution_count": 366,
   "id": "080ba11a",
   "metadata": {},
   "outputs": [
    {
     "data": {
      "image/png": "[encoded data removed]",
      "text/plain": [
       "<Figure size 432x288 with 1 Axes>"
      ]
     },
     "metadata": {
      "needs_background": "light"
     },
     "output_type": "display_data"
    }
   ],
   "source": [
    "\n",
    "tree.plot_tree(best_model)\n",
    "plt.savefig(\"tree.svg\")\n",
    "plt.show()"
   ]
  },
  {
   "cell_type": "markdown",
   "id": "bfbcad35",
   "metadata": {},
   "source": [
    "2. Create a function that accepts an array of names and returns a string formatted as a list\n",
    "of names separated by commas EXCEPT for the last two names, which are separated\n",
    "by an ampersand (and sign - &)\n",
    "\n",
    "Example input:\n",
    "[ {'name': 'Nichole'}, {'name': 'Tanisha'}, {'name': 'Maggie'} ]\n",
    "\n",
    "Example output:\n",
    "Nichole, Tanisha & Maggie"
   ]
  },
  {
   "cell_type": "code",
   "execution_count": 357,
   "id": "4eddf93b",
   "metadata": {},
   "outputs": [
    {
     "name": "stdout",
     "output_type": "stream",
     "text": [
      "Output :  Nichole, Tanisha & Maggie\n"
     ]
    }
   ],
   "source": [
    "def namelist(names):\n",
    "    str = ''\n",
    "    l_names = []\n",
    "    for i in range(len(names) - 1):  # list of first two names\n",
    "          l_names.append(names[i]['name'])\n",
    "    if len(names) != 0:\n",
    "        str = ', '.join(l_names)\n",
    "        str += ' & ' + names[-1]['name'] if str != '' else names[-1]['name']\n",
    "     \n",
    "    return str\n",
    "\n",
    "print(\"Output : \", namelist([ {'name': 'Nichole'}, {'name': 'Tanisha'}, {'name': 'Maggie'} ]))"
   ]
  },
  {
   "cell_type": "code",
   "execution_count": null,
   "id": "70a4c9de",
   "metadata": {},
   "outputs": [],
   "source": []
  }
 ],
 "metadata": {
  "kernelspec": {
   "display_name": "Python 3 (ipykernel)",
   "language": "python",
   "name": "python3"
  },
  "language_info": {
   "codemirror_mode": {
    "name": "ipython",
    "version": 3
   },
   "file_extension": ".py",
   "mimetype": "text/x-python",
   "name": "python",
   "nbconvert_exporter": "python",
   "pygments_lexer": "ipython3",
   "version": "3.9.7"
  }
 },
 "nbformat": 4,
 "nbformat_minor": 5
}
