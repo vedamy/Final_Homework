{
 "cells": [
  {
   "cell_type": "markdown",
   "id": "f0035ff6",
   "metadata": {},
   "source": [
    "# Week-17 In-class Activity"
   ]
  },
  {
   "cell_type": "code",
   "execution_count": 19,
   "id": "47a23eea",
   "metadata": {},
   "outputs": [],
   "source": [
    "# Dependencies and modules:\n",
    "\n",
    "import pandas as pd\n",
    "import numpy as np\n",
    "\n",
    "from sklearn.model_selection import train_test_split\n",
    "from sklearn.preprocessing import StandardScaler\n",
    "\n",
    "from imblearn.over_sampling import SMOTE\n",
    "from imblearn.combine import SMOTEENN\n",
    "from imblearn.under_sampling import EditedNearestNeighbours\n",
    "\n",
    "from sklearn.linear_model import LogisticRegression\n",
    "from imblearn.pipeline import Pipeline\n",
    "\n",
    "from sklearn.metrics import classification_report, roc_curve, roc_auc_score\n",
    "\n",
    "import matplotlib.pyplot as plt\n",
    "\n",
    "from sklearn.svm import SVC"
   ]
  },
  {
   "cell_type": "code",
   "execution_count": 20,
   "id": "e989125d",
   "metadata": {},
   "outputs": [
    {
     "data": {
      "text/html": [
       "<div>\n",
       "<style scoped>\n",
       "    .dataframe tbody tr th:only-of-type {\n",
       "        vertical-align: middle;\n",
       "    }\n",
       "\n",
       "    .dataframe tbody tr th {\n",
       "        vertical-align: top;\n",
       "    }\n",
       "\n",
       "    .dataframe thead th {\n",
       "        text-align: right;\n",
       "    }\n",
       "</style>\n",
       "<table border=\"1\" class=\"dataframe\">\n",
       "  <thead>\n",
       "    <tr style=\"text-align: right;\">\n",
       "      <th></th>\n",
       "      <th>Pregnancies</th>\n",
       "      <th>Glucose</th>\n",
       "      <th>BloodPressure</th>\n",
       "      <th>SkinThickness</th>\n",
       "      <th>Insulin</th>\n",
       "      <th>BMI</th>\n",
       "      <th>DiabetesPedigreeFunction</th>\n",
       "      <th>Age</th>\n",
       "      <th>Outcome</th>\n",
       "    </tr>\n",
       "  </thead>\n",
       "  <tbody>\n",
       "    <tr>\n",
       "      <th>0</th>\n",
       "      <td>6</td>\n",
       "      <td>148</td>\n",
       "      <td>72</td>\n",
       "      <td>35</td>\n",
       "      <td>0</td>\n",
       "      <td>33.6</td>\n",
       "      <td>0.627</td>\n",
       "      <td>50</td>\n",
       "      <td>1</td>\n",
       "    </tr>\n",
       "    <tr>\n",
       "      <th>1</th>\n",
       "      <td>1</td>\n",
       "      <td>85</td>\n",
       "      <td>66</td>\n",
       "      <td>29</td>\n",
       "      <td>0</td>\n",
       "      <td>26.6</td>\n",
       "      <td>0.351</td>\n",
       "      <td>31</td>\n",
       "      <td>0</td>\n",
       "    </tr>\n",
       "    <tr>\n",
       "      <th>2</th>\n",
       "      <td>8</td>\n",
       "      <td>183</td>\n",
       "      <td>64</td>\n",
       "      <td>0</td>\n",
       "      <td>0</td>\n",
       "      <td>23.3</td>\n",
       "      <td>0.672</td>\n",
       "      <td>32</td>\n",
       "      <td>1</td>\n",
       "    </tr>\n",
       "    <tr>\n",
       "      <th>3</th>\n",
       "      <td>1</td>\n",
       "      <td>89</td>\n",
       "      <td>66</td>\n",
       "      <td>23</td>\n",
       "      <td>94</td>\n",
       "      <td>28.1</td>\n",
       "      <td>0.167</td>\n",
       "      <td>21</td>\n",
       "      <td>0</td>\n",
       "    </tr>\n",
       "    <tr>\n",
       "      <th>4</th>\n",
       "      <td>0</td>\n",
       "      <td>137</td>\n",
       "      <td>40</td>\n",
       "      <td>35</td>\n",
       "      <td>168</td>\n",
       "      <td>43.1</td>\n",
       "      <td>2.288</td>\n",
       "      <td>33</td>\n",
       "      <td>1</td>\n",
       "    </tr>\n",
       "  </tbody>\n",
       "</table>\n",
       "</div>"
      ],
      "text/plain": [
       "   Pregnancies  Glucose  BloodPressure  SkinThickness  Insulin   BMI  \\\n",
       "0            6      148             72             35        0  33.6   \n",
       "1            1       85             66             29        0  26.6   \n",
       "2            8      183             64              0        0  23.3   \n",
       "3            1       89             66             23       94  28.1   \n",
       "4            0      137             40             35      168  43.1   \n",
       "\n",
       "   DiabetesPedigreeFunction  Age  Outcome  \n",
       "0                     0.627   50        1  \n",
       "1                     0.351   31        0  \n",
       "2                     0.672   32        1  \n",
       "3                     0.167   21        0  \n",
       "4                     2.288   33        1  "
      ]
     },
     "execution_count": 20,
     "metadata": {},
     "output_type": "execute_result"
    }
   ],
   "source": [
    "diabetes_df = pd.read_csv(\"A:\\launch_code_STL\\Final_Homework\\week-13\\diabetes.csv\")\n",
    "diabetes_df.head()"
   ]
  },
  {
   "cell_type": "code",
   "execution_count": 21,
   "id": "69b7c762",
   "metadata": {},
   "outputs": [],
   "source": [
    "from sklearn.model_selection import train_test_split\n",
    "from sklearn.preprocessing import StandardScaler\n",
    "\n",
    "X = diabetes_df.drop('Outcome', axis=1)\n",
    "y = diabetes_df['Outcome']\n",
    "\n",
    "# Split into training and test set\n",
    "X_train, X_test, y_train, y_test = train_test_split(X, y, test_size = 0.3, random_state=42)\n",
    "\n",
    "#Standardize\n",
    "sc= StandardScaler()\n",
    "X_train=sc.fit_transform(X_train)\n",
    "X_test=sc.fit_transform(X_test)"
   ]
  },
  {
   "cell_type": "code",
   "execution_count": 22,
   "id": "345a55bc",
   "metadata": {},
   "outputs": [
    {
     "data": {
      "text/plain": [
       "0.7532467532467533"
      ]
     },
     "execution_count": 22,
     "metadata": {},
     "output_type": "execute_result"
    }
   ],
   "source": [
    "from sklearn.ensemble import RandomForestClassifier\n",
    "\n",
    "#estimator=model\n",
    "rf = RandomForestClassifier(n_estimators = 100, max_depth=None, min_samples_split=2,min_samples_leaf=1, \n",
    "                            min_weight_fraction_leaf=0.0,max_leaf_nodes=None, min_impurity_decrease=0.0,\n",
    "                            bootstrap=True, random_state=42) \n",
    "\n",
    "rf= rf.fit(X_train, y_train)\n",
    "rf.score(X_test, y_test)"
   ]
  },
  {
   "cell_type": "code",
   "execution_count": 23,
   "id": "630a5ef4",
   "metadata": {},
   "outputs": [
    {
     "name": "stdout",
     "output_type": "stream",
     "text": [
      "              precision    recall  f1-score   support\n",
      "\n",
      "           0       0.81      0.81      0.81       151\n",
      "           1       0.64      0.65      0.65        80\n",
      "\n",
      "    accuracy                           0.75       231\n",
      "   macro avg       0.73      0.73      0.73       231\n",
      "weighted avg       0.75      0.75      0.75       231\n",
      "\n"
     ]
    }
   ],
   "source": [
    "predictions=rf.predict(X_test)\n",
    "print(classification_report(y_test,predictions))"
   ]
  },
  {
   "cell_type": "code",
   "execution_count": 24,
   "id": "c26ce97c",
   "metadata": {},
   "outputs": [
    {
     "name": "stdout",
     "output_type": "stream",
     "text": [
      "              precision    recall  f1-score   support\n",
      "\n",
      "           0       0.69      0.95      0.80       151\n",
      "           1       0.67      0.20      0.31        80\n",
      "\n",
      "    accuracy                           0.69       231\n",
      "   macro avg       0.68      0.57      0.55       231\n",
      "weighted avg       0.68      0.69      0.63       231\n",
      "\n"
     ]
    }
   ],
   "source": [
    "from sklearn.ensemble import RandomForestClassifier\n",
    "\n",
    "# Model to tweak:\n",
    "\n",
    "rf = RandomForestClassifier(n_estimators=100, max_depth= None, min_samples_split= 2, min_samples_leaf =1, \n",
    "                            min_weight_fraction_leaf = 0.0, max_leaf_nodes = None, min_impurity_decrease = 0.05, \n",
    "                            bootstrap=True, random_state=42)\n",
    "\n",
    "rf = rf.fit(X_train, y_train)\n",
    "predictions = rf.predict(X_test)\n",
    "print(classification_report(y_test,predictions))"
   ]
  },
  {
   "cell_type": "markdown",
   "id": "9a26ffa9",
   "metadata": {},
   "source": [
    "1. Write simple (straightforward) definitions for the following parameters for\n",
    "RandomForestClassifier\n",
    "(https://scikit-learn.org/stable/modules/generated/sklearn.ensemble.RandomForestClass\n",
    "ifier.html) and indicate how they correlate with the precision and recall for the basic\n",
    "diabetes model we built in class. You will need to rerun the model multiple times to do\n",
    "so.\n",
    "\n"
   ]
  },
  {
   "cell_type": "markdown",
   "id": "01959a3d",
   "metadata": {},
   "source": [
    "<table border=\"1\">\n",
    " <tr>\n",
    "    <td><b style=\"font-size:10px\"><H1 align=\"left\">Parameter</H1></b></td>\n",
    "    <td><b style=\"font-size:10px\"><H1 align=\"left\">Definition</H1></b></td>\n",
    "    <td><b style=\"font-size:10px\"><H1 align=\"left\">Correlation with Precision</H1></b></td>\n",
    "    <td><b style=\"font-size:10px\"><H1 align=\"left\">Correlation with Recall</H1></b></td>\n",
    " </tr>\n",
    " <tr>\n",
    "    <td><b style=\"font-size:6.5px\"><H1 align=\"left\">estimators</H1></b></td>\n",
    "    <td><b style=\"font-size:6.5px\"><H1 align=\"left\">number of trees in the forest.</H1></b></td>\n",
    "    <td><b style=\"font-size:6.5px\"><H1 align=\"left\">fewer number of estimators lowers sensitivity</H1></b></td>\n",
    "    <td><b style=\"font-size:6.5px\"><H1 align=\"left\">fewer number of estimators decreases negative predictive value(NPV)</H1></b></td>\n",
    " </tr>\n",
    " <tr>\n",
    "    <td><b style=\"font-size:6.5px\"><H1 align=\"left\">max_depth</H1></b></td>\n",
    "    <td><b style=\"font-size:6.5px\"><H1 align=\"left\">Limit to branches of tree</H1></b></td>\n",
    "    <td><b style=\"font-size:6.5px\"><H1 align=\"left\">less depth indicates less specificity and more sensitivity</H1></b></td>\n",
    "    <td><b style=\"font-size:6.5px\"><H1 align=\"left\">less depth means greater NPV but lower positive predictive value(PPV)</H1></b></td>\n",
    " </tr>\n",
    " <tr>\n",
    "    <td><b style=\"font-size:6.5px\"><H1 align=\"left\">min_samples_split</H1></b></td>\n",
    "    <td><b style=\"font-size:6.5px\"><H1 align=\"left\">number of samples present before the node gets to split</H1></b></td>\n",
    "    <td><b style=\"font-size:6.5px\"><H1 align=\"left\">if set to high, this parameter produces less specificity but more sensitivity</H1></b></td>\n",
    "    <td><b style=\"font-size:6.5px\"><H1 align=\"left\">if set to high, this parameter produces greater NPV but lower PPV</H1></b></td>\n",
    " </tr>\n",
    " <tr>\n",
    "    <td><b style=\"font-size:6.5px\"><H1 align=\"left\">min_samples_leaf</H1></b></td>\n",
    "    <td><b style=\"font-size:6.5px\"><H1 align=\"left\">number of samples that must be left in each side of a split node</H1></b></td>\n",
    "    <td><b style=\"font-size:6.5px\"><H1 align=\"left\">if this parameter gets raised, you get less specificity but more sensitivity</H1></b></td>\n",
    "    <td><b style=\"font-size:6.5px\"><H1 align=\"left\">if this parameter gets raised, you get greater NPV but lower PPV</H1></b></td>\n",
    " </tr>\n",
    " <tr>\n",
    "    <td><b style=\"font-size:6.5px\"><H1 align=\"left\">min_weight_fraction_leaf</H1></b></td>\n",
    "    <td><b style=\"font-size:6.5px\"><H1 align=\"left\">percent of entire sample weight that must be in each leaf</H1></b></td>\n",
    "    <td><b style=\"font-size:6.5px\"><H1 align=\"left\">if taken to 33%, specificity declines and sensitivity moderatly rises</H1></b></td>\n",
    "    <td><b style=\"font-size:6.5px\"><H1 align=\"left\">if taken to 33%, you get significantly greater NPV but lower PPV</H1></b></td>\n",
    " </tr>\n",
    " <tr>\n",
    "    <td><b style=\"font-size:6.5px\"><H1 align=\"left\">max_leaf_nodes</H1></b></td>\n",
    "    <td><b style=\"font-size:6.5px\"><H1 align=\"left\">limits the number of nodes that can split off, best-first</H1></b></td>\n",
    "    <td><b style=\"font-size:6.5px\"><H1 align=\"left\">if leaf nodes are limited(3), you get less specificity but more sensitivity</H1></b></td>\n",
    "    <td><b style=\"font-size:6.5px\"><H1 align=\"left\">if leaf nodes are limited(3), you get significantly greater NPV but lower PPV </H1></b></td>\n",
    " </tr>\n",
    " <tr>\n",
    "    <td><b style=\"font-size:6.5px\"><H1 align=\"left\">min_impurity_decrease</H1></b></td>\n",
    "    <td><b style=\"font-size:6.5px\"><H1 align=\"left\">sets nodes to only split if there is atleast this much impurity decrease</H1></b></td>\n",
    "    <td><b style=\"font-size:6.5px\"><H1 align=\"left\">5% limit does not affect sensitivity much, but specificity declines</H1></b></td>\n",
    "    <td><b style=\"font-size:6.5px\"><H1 align=\"left\">5% limit significsntly raises NPV and declines PPV</H1></b></td>\n",
    " </tr>\n",
    " <tr>\n",
    "    <td><b style=\"font-size:6.5px\"><H1 align=\"left\">min_impurity_split</H1></b></td>\n",
    "    <td><b style=\"font-size:6.5px\"><H1 align=\"left\">deprecated</H1></b></td>\n",
    "    <td><b style=\"font-size:6.5px\"><H1 align=\"left\">X</H1></b></td>\n",
    "    <td><b style=\"font-size:6.5px\"><H1 align=\"left\">X</H1></b></td>\n",
    " </tr>\n",
    "<script src=\"https://cdn.mathjax.org/mathjax/latest/MathJax.js?config=TeX-AMS-MML_HTMLorMML\" type=\"text/javascript\"></script>\n",
    "</table>"
   ]
  },
  {
   "cell_type": "markdown",
   "id": "6931b16e",
   "metadata": {},
   "source": [
    "2. How does setting bootstrap=False influence the model performance? Note: the default is\n",
    "bootstrap=True. Explain why your results might be so"
   ]
  },
  {
   "cell_type": "markdown",
   "id": "0d5dd70c",
   "metadata": {},
   "source": [
    "When we set bootstrap=False the model performance is poor as this is because of fewer samples to fit the model and there\n",
    "might not be enough samples to fill each determined parameter. Whereas when we set bootstrap=True, data will be synthesised until desired parameters are met.\n",
    "This might be not a good idea to spend time on tunning the parameters with boostrapping."
   ]
  }
 ],
 "metadata": {
  "kernelspec": {
   "display_name": "Python 3 (ipykernel)",
   "language": "python",
   "name": "python3"
  },
  "language_info": {
   "codemirror_mode": {
    "name": "ipython",
    "version": 3
   },
   "file_extension": ".py",
   "mimetype": "text/x-python",
   "name": "python",
   "nbconvert_exporter": "python",
   "pygments_lexer": "ipython3",
   "version": "3.9.7"
  }
 },
 "nbformat": 4,
 "nbformat_minor": 5
}
