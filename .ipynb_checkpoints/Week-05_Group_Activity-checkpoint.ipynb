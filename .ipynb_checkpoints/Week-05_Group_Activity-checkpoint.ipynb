{
 "cells": [
  {
   "cell_type": "code",
   "execution_count": null,
   "id": "ad4bacb2",
   "metadata": {},
   "outputs": [],
   "source": [
    "# 1.Make a function that can take any non-negative integer as an argument and return it with its digits in descending order.\n",
    "# Essentially, rearrange the digits to create the highest possible number. If no number is passed in, make the default value\n",
    "# inputted = 111111.\n",
    "# Input = 43905 Output = 95430\n",
    "# Input = 584366 Output = 866543"
   ]
  },
  {
   "cell_type": "code",
   "execution_count": 12,
   "id": "8adcbc7d",
   "metadata": {},
   "outputs": [],
   "source": [
    "def des_order(new_string = 11111):\n",
    "    new_string = str(new_string)\n",
    "    list_A = []\n",
    "    list_B = \"\"\n",
    "    for value in new_string:\n",
    "        list_A.append(value)\n",
    "        list_A.sort(reverse = True)\n",
    "    print(list_A)\n",
    "    for value in list_A:\n",
    "        list_B += value\n",
    "    return list_B"
   ]
  },
  {
   "cell_type": "code",
   "execution_count": 15,
   "id": "685f25b2",
   "metadata": {},
   "outputs": [
    {
     "name": "stdout",
     "output_type": "stream",
     "text": [
      "['9', '5', '4', '3', '0']\n"
     ]
    },
    {
     "data": {
      "text/plain": [
       "'95430'"
      ]
     },
     "execution_count": 15,
     "metadata": {},
     "output_type": "execute_result"
    }
   ],
   "source": [
    "des_order(43905)"
   ]
  },
  {
   "cell_type": "code",
   "execution_count": 16,
   "id": "9e038b22",
   "metadata": {},
   "outputs": [
    {
     "name": "stdout",
     "output_type": "stream",
     "text": [
      "['8', '6', '6', '5', '4', '3']\n"
     ]
    },
    {
     "data": {
      "text/plain": [
       "'866543'"
      ]
     },
     "execution_count": 16,
     "metadata": {},
     "output_type": "execute_result"
    }
   ],
   "source": [
    "des_order(584366)"
   ]
  },
  {
   "cell_type": "code",
   "execution_count": 17,
   "id": "c8a996b6",
   "metadata": {},
   "outputs": [],
   "source": [
    "# Import jeopardy.csv and create a dataframe from the data. Find out the following:\n",
    "# a. How many rows are there in the dataframe? What does a row represent?\n",
    "# b. How many unique shows were there each year?\n",
    "# c. Think of another question that this data can help answer. Make that question a header in your notebook.\n",
    "# d. Answer your question and show the steps you used to do so clearly."
   ]
  },
  {
   "cell_type": "code",
   "execution_count": null,
   "id": "b776234e",
   "metadata": {},
   "outputs": [],
   "source": []
  },
  {
   "cell_type": "code",
   "execution_count": null,
   "id": "f61dba07",
   "metadata": {},
   "outputs": [],
   "source": []
  },
  {
   "cell_type": "code",
   "execution_count": null,
   "id": "31ab2b92",
   "metadata": {},
   "outputs": [],
   "source": []
  },
  {
   "cell_type": "code",
   "execution_count": null,
   "id": "19d4b7c9",
   "metadata": {},
   "outputs": [],
   "source": []
  },
  {
   "cell_type": "code",
   "execution_count": null,
   "id": "e1115315",
   "metadata": {},
   "outputs": [],
   "source": []
  },
  {
   "cell_type": "code",
   "execution_count": null,
   "id": "9949888b",
   "metadata": {},
   "outputs": [],
   "source": [
    "# 3. Create any graph using matplotlib that helps you understand the jeopardy data. Explain what your graph shows and why \n",
    "# it is useful."
   ]
  }
 ],
 "metadata": {
  "kernelspec": {
   "display_name": "Python 3 (ipykernel)",
   "language": "python",
   "name": "python3"
  },
  "language_info": {
   "codemirror_mode": {
    "name": "ipython",
    "version": 3
   },
   "file_extension": ".py",
   "mimetype": "text/x-python",
   "name": "python",
   "nbconvert_exporter": "python",
   "pygments_lexer": "ipython3",
   "version": "3.9.7"
  }
 },
 "nbformat": 4,
 "nbformat_minor": 5
}
