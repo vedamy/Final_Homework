{
 "cells": [
  {
   "cell_type": "code",
   "execution_count": 2,
   "metadata": {},
   "outputs": [],
   "source": [
    "from api_keys import api_key\n",
    "\n",
    "#you import a variable named api_key\n",
    "#the file is called api_keys\n",
    "#the interpreter assumes its a .py file, so you dont need to specify\n",
    "#print(api_key)"
   ]
  },
  {
   "cell_type": "code",
   "execution_count": 3,
   "metadata": {
    "scrolled": true
   },
   "outputs": [
    {
     "name": "stdout",
     "output_type": "stream",
     "text": [
      "<!doctype html>\n",
      "<html>\n",
      "<head>\n",
      "    <title>Example Domain</title>\n",
      "\n",
      "    <meta charset=\"utf-8\" />\n",
      "    <meta http-equiv=\"Content-type\" content=\"text/html; charset=utf-8\" />\n",
      "    <meta name=\"viewport\" content=\"width=device-width, initial-scale=1\" />\n",
      "    <style type=\"text/css\">\n",
      "    body {\n",
      "        background-color: #f0f0f2;\n",
      "        margin: 0;\n",
      "        padding: 0;\n",
      "        font-family: -apple-system, system-ui, BlinkMacSystemFont, \"Segoe UI\", \"Open Sans\", \"Helvetica Neue\", Helvetica, Arial, sans-serif;\n",
      "        \n",
      "    }\n",
      "    div {\n",
      "        width: 600px;\n",
      "        margin: 5em auto;\n",
      "        padding: 2em;\n",
      "        background-color: #fdfdff;\n",
      "        border-radius: 0.5em;\n",
      "        box-shadow: 2px 3px 7px 2px rgba(0,0,0,0.02);\n",
      "    }\n",
      "    a:link, a:visited {\n",
      "        color: #38488f;\n",
      "        text-decoration: none;\n",
      "    }\n",
      "    @media (max-width: 700px) {\n",
      "        div {\n",
      "            margin: 0 auto;\n",
      "            width: auto;\n",
      "        }\n",
      "    }\n",
      "    </style>    \n",
      "</head>\n",
      "\n",
      "<body>\n",
      "<div>\n",
      "    <h1>Example Domain</h1>\n",
      "    <p>This domain is for use in illustrative examples in documents. You may use this\n",
      "    domain in literature without prior coordination or asking for permission.</p>\n",
      "    <p><a href=\"https://www.iana.org/domains/example\">More information...</a></p>\n",
      "</div>\n",
      "</body>\n",
      "</html>\n",
      "\n"
     ]
    }
   ],
   "source": [
    "import requests\n",
    "import pandas as pd\n",
    "\n",
    "#variable for the url\n",
    "url = 'http://www.example.com'\n",
    "\n",
    "#requests library/module is used to send all types\n",
    "#of http requests\n",
    "req = requests.get(url)\n",
    "print(req.text)"
   ]
  },
  {
   "cell_type": "code",
   "execution_count": 5,
   "metadata": {},
   "outputs": [
    {
     "name": "stdout",
     "output_type": "stream",
     "text": [
      "http://api.openweathermap.org/data/2.5/weather?units=Imperial&APPID=95282a298c2729d61f377316f5967d33&q=st. louis\n",
      "{'coord': {'lon': -90.1979, 'lat': 38.6273}, 'weather': [{'id': 804, 'main': 'Clouds', 'description': 'overcast clouds', 'icon': '04n'}], 'base': 'stations', 'main': {'temp': 77.79, 'feels_like': 78.75, 'temp_min': 75.88, 'temp_max': 79.38, 'pressure': 1011, 'humidity': 74}, 'visibility': 10000, 'wind': {'speed': 10.11, 'deg': 187, 'gust': 22.3}, 'clouds': {'all': 96}, 'dt': 1634169725, 'sys': {'type': 2, 'id': 2009674, 'country': 'US', 'sunrise': 1634126883, 'sunset': 1634167530}, 'timezone': -18000, 'id': 4407066, 'name': 'St Louis', 'cod': 200}\n"
     ]
    }
   ],
   "source": [
    "base_url = \"http://api.openweathermap.org/data/2.5/weather?units=Imperial&APPID=\" + api_key\n",
    "city = 'st. louis'\n",
    "\n",
    "#q represents the city\n",
    "req = requests.get(base_url + f'&q={city}')\n",
    "\n",
    "#you can play around with the full url in your browser if youre stuck\n",
    "print(base_url + f'&q={city}')\n",
    "#create a json output of the data\n",
    "json_data = req.json()\n",
    "print(json_data)"
   ]
  },
  {
   "cell_type": "code",
   "execution_count": 9,
   "metadata": {},
   "outputs": [
    {
     "name": "stdout",
     "output_type": "stream",
     "text": [
      "{'temp': 77.79, 'feels_like': 78.75, 'temp_min': 75.88, 'temp_max': 79.38, 'pressure': 1011, 'humidity': 74}\n"
     ]
    },
    {
     "data": {
      "text/plain": [
       "'overcast clouds'"
      ]
     },
     "execution_count": 9,
     "metadata": {},
     "output_type": "execute_result"
    }
   ],
   "source": [
    "main = json_data['main']\n",
    "print(main)\n",
    "\n",
    "weather_desc = json_data['weather'][0]['description']\n",
    "weather_desc"
   ]
  },
  {
   "cell_type": "code",
   "execution_count": 13,
   "metadata": {},
   "outputs": [
    {
     "name": "stdout",
     "output_type": "stream",
     "text": [
      "processing denver\n",
      "processing st louis\n",
      "processing phoenix\n"
     ]
    }
   ],
   "source": [
    "cities_list = ['denver','st louis','phoenix']\n",
    "\n",
    "city_weather = {'city':[],\n",
    "               'humidity':[],\n",
    "               'pressure':[]}\n",
    "\n",
    "#loop over cities and add data to dictionary\n",
    "for city in cities_list:\n",
    "    base_url = \"http://api.openweathermap.org/data/2.5/weather?units=Imperial&APPID=\" + api_key\n",
    "\n",
    "    try:\n",
    "        #q represents the city\n",
    "        req = requests.get(base_url + f'&q={city}')\n",
    "        \n",
    "        data = req.json()\n",
    "        \n",
    "        #add values to our city_weather dictionary\n",
    "        city_weather['city'].append(data['name'])\n",
    "        city_weather['humidity'].append(data['main']['humidity'])\n",
    "        city_weather['pressure'].append(data['main']['pressure'])\n",
    "        \n",
    "        print(\"processing \" + city)\n",
    "    except:\n",
    "        print(city+ \" not found\")\n",
    "        pass"
   ]
  },
  {
   "cell_type": "code",
   "execution_count": 14,
   "metadata": {},
   "outputs": [
    {
     "data": {
      "text/plain": [
       "{'city': ['Denver', 'St Louis', 'Phoenix'],\n",
       " 'humidity': [29, 74, 22],\n",
       " 'pressure': [1006, 1011, 1008]}"
      ]
     },
     "execution_count": 14,
     "metadata": {},
     "output_type": "execute_result"
    }
   ],
   "source": [
    "city_weather"
   ]
  },
  {
   "cell_type": "code",
   "execution_count": 16,
   "metadata": {},
   "outputs": [
    {
     "data": {
      "text/html": [
       "<div>\n",
       "<style scoped>\n",
       "    .dataframe tbody tr th:only-of-type {\n",
       "        vertical-align: middle;\n",
       "    }\n",
       "\n",
       "    .dataframe tbody tr th {\n",
       "        vertical-align: top;\n",
       "    }\n",
       "\n",
       "    .dataframe thead th {\n",
       "        text-align: right;\n",
       "    }\n",
       "</style>\n",
       "<table border=\"1\" class=\"dataframe\">\n",
       "  <thead>\n",
       "    <tr style=\"text-align: right;\">\n",
       "      <th></th>\n",
       "      <th>city</th>\n",
       "      <th>humidity</th>\n",
       "      <th>pressure</th>\n",
       "    </tr>\n",
       "  </thead>\n",
       "  <tbody>\n",
       "    <tr>\n",
       "      <th>0</th>\n",
       "      <td>Denver</td>\n",
       "      <td>29</td>\n",
       "      <td>1006</td>\n",
       "    </tr>\n",
       "    <tr>\n",
       "      <th>1</th>\n",
       "      <td>St Louis</td>\n",
       "      <td>74</td>\n",
       "      <td>1011</td>\n",
       "    </tr>\n",
       "    <tr>\n",
       "      <th>2</th>\n",
       "      <td>Phoenix</td>\n",
       "      <td>22</td>\n",
       "      <td>1008</td>\n",
       "    </tr>\n",
       "  </tbody>\n",
       "</table>\n",
       "</div>"
      ],
      "text/plain": [
       "       city  humidity  pressure\n",
       "0    Denver        29      1006\n",
       "1  St Louis        74      1011\n",
       "2   Phoenix        22      1008"
      ]
     },
     "execution_count": 16,
     "metadata": {},
     "output_type": "execute_result"
    }
   ],
   "source": [
    "weather_df = pd.DataFrame.from_dict(city_weather)\n",
    "weather_df"
   ]
  },
  {
   "cell_type": "code",
   "execution_count": null,
   "metadata": {},
   "outputs": [],
   "source": []
  }
 ],
 "metadata": {
  "kernelspec": {
   "display_name": "Python 3 (ipykernel)",
   "language": "python",
   "name": "python3"
  },
  "language_info": {
   "codemirror_mode": {
    "name": "ipython",
    "version": 3
   },
   "file_extension": ".py",
   "mimetype": "text/x-python",
   "name": "python",
   "nbconvert_exporter": "python",
   "pygments_lexer": "ipython3",
   "version": "3.9.7"
  }
 },
 "nbformat": 4,
 "nbformat_minor": 4
}
