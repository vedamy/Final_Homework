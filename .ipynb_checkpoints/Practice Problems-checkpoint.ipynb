{
 "cells": [
  {
   "cell_type": "markdown",
   "id": "fd5108b2",
   "metadata": {},
   "source": [
    "# Practice Problems"
   ]
  },
  {
   "cell_type": "code",
   "execution_count": 1,
   "id": "7d4f4f9f",
   "metadata": {},
   "outputs": [
    {
     "name": "stdout",
     "output_type": "stream",
     "text": [
      "Weird\n",
      "Not Weird\n"
     ]
    }
   ],
   "source": [
    "# Write a function that takes an integer n and performs the following conditional actions:\n",
    "\n",
    "# ● If n is odd, print Weird\n",
    "# ● If n is even and in the inclusive range of 2 to 5, print Not Weird\n",
    "# ● If n is even and in the inclusive range of 6 to 20, print Weird\n",
    "# ● If n is even and greater than 20, print Not Weird\n",
    "\n",
    "\n",
    "def integer(n):\n",
    "    \n",
    "    if n%2!=0:\n",
    "        print(\"Weird\")\n",
    "       \n",
    "    elif n%2==0 and n in range(2,5):\n",
    "        print(\"Not Weird\")\n",
    "            \n",
    "    elif n%2==0 and n in range(6,20):\n",
    "        print(\"Weird\")\n",
    "            \n",
    "    elif n%2==0 and n>20:\n",
    "        print(\"Not Weird\")\n",
    "            \n",
    "        while 1<=n<=100:\n",
    "            #print(n)\n",
    "            n+=1\n",
    "\n",
    "#Print “Weird” if the number is weird. Otherwise, print “Not Weird”.     \n",
    "#Sample input:\n",
    "\n",
    "integer(3)\n",
    "integer(24)  "
   ]
  },
  {
   "cell_type": "markdown",
   "id": "253f6c84",
   "metadata": {},
   "source": [
    "Write a function that takes a list and removes all duplicate values from the list while preserving the order of the values. \n",
    "\n",
    "Input:[13125432]\n",
    "\n",
    "Output: [13254]\n"
   ]
  },
  {
   "cell_type": "code",
   "execution_count": 1,
   "id": "a0e7b19d",
   "metadata": {},
   "outputs": [
    {
     "name": "stdout",
     "output_type": "stream",
     "text": [
      "[1, 3, 2, 5, 4]\n"
     ]
    }
   ],
   "source": [
    "# Python code to remove duplicate elements\n",
    "def Remove(duplicate):\n",
    "    final_list = []\n",
    "    for num in duplicate:\n",
    "        if num not in final_list:\n",
    "            final_list.append(num)\n",
    "    return final_list\n",
    "     \n",
    "# Driver Code\n",
    "duplicate = [1,3,1,2,5,4,3,2]\n",
    "print(Remove(duplicate))"
   ]
  },
  {
   "cell_type": "code",
   "execution_count": 63,
   "id": "5037a078",
   "metadata": {},
   "outputs": [
    {
     "data": {
      "text/plain": [
       "'M'"
      ]
     },
     "execution_count": 63,
     "metadata": {},
     "output_type": "execute_result"
    }
   ],
   "source": [
    "def anti_vowel(c):\n",
    "    newstr = c\n",
    "    final_str = ''\n",
    "    vowels = ('a', 'e', 'i', 'o', 'u')\n",
    "    for x in c.lower():\n",
    "        if x in vowels:\n",
    "            newstr = newstr.replace(x,\"\")\n",
    "    for i in range(len(newstr)):\n",
    "        if i%2 ==0:\n",
    "            final_str += newstr[i]\n",
    "            \n",
    "            return final_str\n",
    "\n",
    "        \n",
    "anti_vowel(\"Missouri\")\n"
   ]
  },
  {
   "cell_type": "code",
   "execution_count": 65,
   "id": "6df345fc",
   "metadata": {},
   "outputs": [
    {
     "name": "stdout",
     "output_type": "stream",
     "text": [
      "Hello, Paul. Good morning!\n"
     ]
    }
   ],
   "source": [
    "def greet(name):\n",
    "    \"\"\"\n",
    "    This function greets to\n",
    "    the person passed in as\n",
    "    a parameter\n",
    "    \"\"\"\n",
    "    print(\"Hello, \" + name + \". Good morning!\")\n",
    "\n",
    "greet('Paul')"
   ]
  },
  {
   "cell_type": "code",
   "execution_count": null,
   "id": "64795632",
   "metadata": {},
   "outputs": [],
   "source": [
    "# write a python function to reverse the string"
   ]
  },
  {
   "cell_type": "code",
   "execution_count": 98,
   "id": "3fc98344",
   "metadata": {},
   "outputs": [
    {
     "name": "stdout",
     "output_type": "stream",
     "text": [
      "dlroW olleH\n"
     ]
    }
   ],
   "source": [
    "txt = \"Hello World\"[::-1]\n",
    "print(txt)"
   ]
  },
  {
   "cell_type": "code",
   "execution_count": 99,
   "id": "274983e8",
   "metadata": {},
   "outputs": [
    {
     "name": "stdout",
     "output_type": "stream",
     "text": [
      "gnirts eht esrever ot noitcnuf nohtyp a etirw\n"
     ]
    }
   ],
   "source": [
    "string = \"write a python function to reverse the string\"[::-1]\n",
    "print(string)"
   ]
  }
 ],
 "metadata": {
  "kernelspec": {
   "display_name": "Python 3 (ipykernel)",
   "language": "python",
   "name": "python3"
  },
  "language_info": {
   "codemirror_mode": {
    "name": "ipython",
    "version": 3
   },
   "file_extension": ".py",
   "mimetype": "text/x-python",
   "name": "python",
   "nbconvert_exporter": "python",
   "pygments_lexer": "ipython3",
   "version": "3.9.7"
  }
 },
 "nbformat": 4,
 "nbformat_minor": 5
}
