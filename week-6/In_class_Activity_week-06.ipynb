{
 "cells": [
  {
   "cell_type": "code",
   "execution_count": 2,
   "id": "e106b3e0",
   "metadata": {},
   "outputs": [],
   "source": [
    "# Import jeopardy.csv and create a dataframe from the data Find out the following:\n",
    "# a. How many rows are there in the dataframe? What does a row represent in this\n",
    "# dataset? What is the “grain”?\n",
    "# b. Clean the data. How do you need to “clean” it? What is “dirty” about this data?\n",
    "# c. How many unique shows were there each year?\n",
    "# d. How many times was each category used?\n",
    "# e. Which month (over the years) has had the most shows?\n",
    "# f. Are there any answers that appeared multiple times? Find the questions for the top\n",
    "# three most common answers."
   ]
  },
  {
   "cell_type": "code",
   "execution_count": 15,
   "id": "20890a7e",
   "metadata": {},
   "outputs": [],
   "source": [
    "import pandas as pd\n",
    "import numpy as np\n",
    "import matplotlib.pyplot as plt\n",
    "\n",
    "# File to Load (Remember to Change These)\n",
    "file_to_load = \"C:/Users/rsagu/OneDrive/Documents/launch_code/Data-Science-Assignments/course_material/week_05/JEOPARDY_CSV.csv\"\n",
    "\n",
    "# Read Purchasing File and store into Pandas data frame\n",
    "df = pd.read_csv(file_to_load)"
   ]
  },
  {
   "cell_type": "code",
   "execution_count": 26,
   "id": "3c29b5e2",
   "metadata": {},
   "outputs": [
    {
     "name": "stdout",
     "output_type": "stream",
     "text": [
      "Numer of rows = 216930\n"
     ]
    }
   ],
   "source": [
    "row_count = len(df.index)\n",
    "print(\"Numer of rows =\", row_count)"
   ]
  },
  {
   "cell_type": "code",
   "execution_count": 27,
   "id": "4b407729",
   "metadata": {},
   "outputs": [
    {
     "name": "stdout",
     "output_type": "stream",
     "text": [
      " Air Date\n",
      "1984     23\n",
      "1985     16\n",
      "1986     25\n",
      "1987     22\n",
      "1988     22\n",
      "1989     36\n",
      "1990     73\n",
      "1991     24\n",
      "1992     32\n",
      "1993     35\n",
      "1994     19\n",
      "1995     19\n",
      "1996     83\n",
      "1997    221\n",
      "1998    223\n",
      "1999    229\n",
      "2000    225\n",
      "2001    203\n",
      "2002    114\n",
      "2003    158\n",
      "2004    220\n",
      "2005    225\n",
      "2006    230\n",
      "2007    231\n",
      "2008    232\n",
      "2009    226\n",
      "2010    231\n",
      "2011    224\n",
      "2012     19\n",
      "Name: Show Number, dtype: int64\n"
     ]
    }
   ],
   "source": [
    "years = pd.DatetimeIndex(df[\" Air Date\"]).year\n",
    "unique = df.groupby(years)['Show Number'].nunique()\n",
    "print(unique)"
   ]
  },
  {
   "cell_type": "code",
   "execution_count": 16,
   "id": "7a5c9a5c",
   "metadata": {},
   "outputs": [
    {
     "name": "stdout",
     "output_type": "stream",
     "text": [
      "Number of rows and columns:\n",
      "(216930, 7)\n",
      "Data type of each column:\n",
      "Show Number     int64\n",
      " Air Date      object\n",
      " Round         object\n",
      " Category      object\n",
      " Value         object\n",
      " Question      object\n",
      " Answer        object\n",
      "dtype: object\n"
     ]
    }
   ],
   "source": [
    "print(\"Number of rows and columns:\")\n",
    "print(df.shape)\n",
    "print(\"Data type of each column:\")\n",
    "print(df.dtypes)"
   ]
  },
  {
   "cell_type": "code",
   "execution_count": 17,
   "id": "0d9090a6",
   "metadata": {},
   "outputs": [
    {
     "data": {
      "text/plain": [
       "BEFORE & AFTER             547\n",
       "SCIENCE                    519\n",
       "LITERATURE                 496\n",
       "AMERICAN HISTORY           418\n",
       "POTPOURRI                  401\n",
       "WORLD HISTORY              377\n",
       "WORD ORIGINS               371\n",
       "COLLEGES & UNIVERSITIES    351\n",
       "HISTORY                    349\n",
       "SPORTS                     342\n",
       "Name:  Category, dtype: int64"
      ]
     },
     "execution_count": 17,
     "metadata": {},
     "output_type": "execute_result"
    }
   ],
   "source": [
    "df[' Category'].value_counts().nlargest(10)"
   ]
  },
  {
   "cell_type": "code",
   "execution_count": 19,
   "id": "4f6b83a4",
   "metadata": {},
   "outputs": [
    {
     "name": "stdout",
     "output_type": "stream",
     "text": [
      "ARCHITECTS\n",
      "Louis Skidmore designed the secret atomic site that became this Tennessee town\n",
      "Oak Ridge\n"
     ]
    }
   ],
   "source": [
    "print(df.iloc[202][' Category'])\n",
    "print(df.iloc[202][' Question'])\n",
    "print(df.iloc[202][' Answer'])"
   ]
  },
  {
   "cell_type": "code",
   "execution_count": null,
   "id": "805e2e4c",
   "metadata": {},
   "outputs": [],
   "source": [
    "# One thing I’ve noticed that there’s an extra space in the column names"
   ]
  },
  {
   "cell_type": "code",
   "execution_count": 22,
   "id": "7b5efcd7",
   "metadata": {},
   "outputs": [
    {
     "data": {
      "text/plain": [
       "(216930, 7)"
      ]
     },
     "execution_count": 22,
     "metadata": {},
     "output_type": "execute_result"
    }
   ],
   "source": [
    "df.shape"
   ]
  },
  {
   "cell_type": "code",
   "execution_count": null,
   "id": "029a285d",
   "metadata": {},
   "outputs": [],
   "source": [
    "# isnull(). sum() function returns the number of missing values in the data set."
   ]
  },
  {
   "cell_type": "code",
   "execution_count": 23,
   "id": "0c3f82db",
   "metadata": {},
   "outputs": [
    {
     "data": {
      "text/plain": [
       "Show Number    0\n",
       " Air Date      0\n",
       " Round         0\n",
       " Category      0\n",
       " Value         0\n",
       " Question      0\n",
       " Answer        2\n",
       "dtype: int64"
      ]
     },
     "execution_count": 23,
     "metadata": {},
     "output_type": "execute_result"
    }
   ],
   "source": [
    "df.isnull().sum()"
   ]
  },
  {
   "cell_type": "code",
   "execution_count": null,
   "id": "6c01a820",
   "metadata": {},
   "outputs": [],
   "source": [
    "# here we see the Answer column has two missing values."
   ]
  }
 ],
 "metadata": {
  "kernelspec": {
   "display_name": "Python 3 (ipykernel)",
   "language": "python",
   "name": "python3"
  },
  "language_info": {
   "codemirror_mode": {
    "name": "ipython",
    "version": 3
   },
   "file_extension": ".py",
   "mimetype": "text/x-python",
   "name": "python",
   "nbconvert_exporter": "python",
   "pygments_lexer": "ipython3",
   "version": "3.9.7"
  }
 },
 "nbformat": 4,
 "nbformat_minor": 5
}
