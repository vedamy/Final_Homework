{
 "cells": [
  {
   "cell_type": "markdown",
   "id": "e8138790",
   "metadata": {},
   "source": [
    "# Warmup week-22"
   ]
  },
  {
   "cell_type": "markdown",
   "id": "2ab6d804",
   "metadata": {},
   "source": [
    "Write a function that takes a list and removes all duplicate values from the list while preserving the order of the values.\n",
    "\n",
    "Input:[13125432]\n",
    "\n",
    "Output: [13254]"
   ]
  },
  {
   "cell_type": "code",
   "execution_count": 12,
   "id": "d56eef14",
   "metadata": {},
   "outputs": [
    {
     "name": "stdout",
     "output_type": "stream",
     "text": [
      "[1, 3, 2, 5, 4]\n"
     ]
    }
   ],
   "source": [
    "def funct(Input):\n",
    "    # passing an empty list\n",
    "    rm_list = []\n",
    "    for x in Input: # searching x for integers in Input\n",
    "        if x not in rm_list: # if condition to check if x \n",
    "            rm_list.append(x)\n",
    "    return rm_list\n",
    "\n",
    "Input = [1,3,1,2,5,4,3,2]\n",
    "print(funct(Input))"
   ]
  },
  {
   "cell_type": "code",
   "execution_count": null,
   "id": "dc0a2ede",
   "metadata": {},
   "outputs": [],
   "source": []
  },
  {
   "cell_type": "code",
   "execution_count": null,
   "id": "23958981",
   "metadata": {},
   "outputs": [],
   "source": []
  }
 ],
 "metadata": {
  "kernelspec": {
   "display_name": "Python 3 (ipykernel)",
   "language": "python",
   "name": "python3"
  },
  "language_info": {
   "codemirror_mode": {
    "name": "ipython",
    "version": 3
   },
   "file_extension": ".py",
   "mimetype": "text/x-python",
   "name": "python",
   "nbconvert_exporter": "python",
   "pygments_lexer": "ipython3",
   "version": "3.9.7"
  }
 },
 "nbformat": 4,
 "nbformat_minor": 5
}
