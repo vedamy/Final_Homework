{
 "cells": [
  {
   "cell_type": "markdown",
   "id": "2e952d35",
   "metadata": {},
   "source": [
    "# Week-19 In-class Assignment\n"
   ]
  },
  {
   "cell_type": "markdown",
   "id": "faee731e",
   "metadata": {},
   "source": [
    "#### 1. Take one of the supervised learning models you have built recently and apply at least three dimensionality reduction techniques to it (separately). Be sure to create a short summary of each technique you use. Indicate how each changed the model performance. Reference:\n",
    "https://machinelearningmastery.com/dimensionality-reduction-algorithms-with-python/\n"
   ]
  },
  {
   "cell_type": "code",
   "execution_count": 1,
   "id": "0b4cf62a",
   "metadata": {},
   "outputs": [],
   "source": [
    "import pandas as pd\n",
    "import numpy as np\n",
    "import matplotlib.pyplot as plt\n",
    "from sklearn.linear_model import LogisticRegression"
   ]
  },
  {
   "cell_type": "markdown",
   "id": "fbb27ddf",
   "metadata": {},
   "source": [
    "### Diabetes Dataset with Logistic Regression Model"
   ]
  },
  {
   "cell_type": "code",
   "execution_count": 2,
   "id": "119f9785",
   "metadata": {},
   "outputs": [
    {
     "data": {
      "text/html": [
       "<div>\n",
       "<style scoped>\n",
       "    .dataframe tbody tr th:only-of-type {\n",
       "        vertical-align: middle;\n",
       "    }\n",
       "\n",
       "    .dataframe tbody tr th {\n",
       "        vertical-align: top;\n",
       "    }\n",
       "\n",
       "    .dataframe thead th {\n",
       "        text-align: right;\n",
       "    }\n",
       "</style>\n",
       "<table border=\"1\" class=\"dataframe\">\n",
       "  <thead>\n",
       "    <tr style=\"text-align: right;\">\n",
       "      <th></th>\n",
       "      <th>Pregnancies</th>\n",
       "      <th>Glucose</th>\n",
       "      <th>BloodPressure</th>\n",
       "      <th>SkinThickness</th>\n",
       "      <th>Insulin</th>\n",
       "      <th>BMI</th>\n",
       "      <th>DiabetesPedigreeFunction</th>\n",
       "      <th>Age</th>\n",
       "      <th>Outcome</th>\n",
       "    </tr>\n",
       "  </thead>\n",
       "  <tbody>\n",
       "    <tr>\n",
       "      <th>0</th>\n",
       "      <td>6</td>\n",
       "      <td>148</td>\n",
       "      <td>72</td>\n",
       "      <td>35</td>\n",
       "      <td>0</td>\n",
       "      <td>33.6</td>\n",
       "      <td>0.627</td>\n",
       "      <td>50</td>\n",
       "      <td>1</td>\n",
       "    </tr>\n",
       "    <tr>\n",
       "      <th>1</th>\n",
       "      <td>1</td>\n",
       "      <td>85</td>\n",
       "      <td>66</td>\n",
       "      <td>29</td>\n",
       "      <td>0</td>\n",
       "      <td>26.6</td>\n",
       "      <td>0.351</td>\n",
       "      <td>31</td>\n",
       "      <td>0</td>\n",
       "    </tr>\n",
       "    <tr>\n",
       "      <th>2</th>\n",
       "      <td>8</td>\n",
       "      <td>183</td>\n",
       "      <td>64</td>\n",
       "      <td>0</td>\n",
       "      <td>0</td>\n",
       "      <td>23.3</td>\n",
       "      <td>0.672</td>\n",
       "      <td>32</td>\n",
       "      <td>1</td>\n",
       "    </tr>\n",
       "    <tr>\n",
       "      <th>3</th>\n",
       "      <td>1</td>\n",
       "      <td>89</td>\n",
       "      <td>66</td>\n",
       "      <td>23</td>\n",
       "      <td>94</td>\n",
       "      <td>28.1</td>\n",
       "      <td>0.167</td>\n",
       "      <td>21</td>\n",
       "      <td>0</td>\n",
       "    </tr>\n",
       "    <tr>\n",
       "      <th>4</th>\n",
       "      <td>0</td>\n",
       "      <td>137</td>\n",
       "      <td>40</td>\n",
       "      <td>35</td>\n",
       "      <td>168</td>\n",
       "      <td>43.1</td>\n",
       "      <td>2.288</td>\n",
       "      <td>33</td>\n",
       "      <td>1</td>\n",
       "    </tr>\n",
       "  </tbody>\n",
       "</table>\n",
       "</div>"
      ],
      "text/plain": [
       "   Pregnancies  Glucose  BloodPressure  SkinThickness  Insulin   BMI  \\\n",
       "0            6      148             72             35        0  33.6   \n",
       "1            1       85             66             29        0  26.6   \n",
       "2            8      183             64              0        0  23.3   \n",
       "3            1       89             66             23       94  28.1   \n",
       "4            0      137             40             35      168  43.1   \n",
       "\n",
       "   DiabetesPedigreeFunction  Age  Outcome  \n",
       "0                     0.627   50        1  \n",
       "1                     0.351   31        0  \n",
       "2                     0.672   32        1  \n",
       "3                     0.167   21        0  \n",
       "4                     2.288   33        1  "
      ]
     },
     "execution_count": 2,
     "metadata": {},
     "output_type": "execute_result"
    }
   ],
   "source": [
    "diabetes_df = pd.read_csv(\"A:\\launch_code_STL\\Final_Homework\\week-13\\diabetes.csv\")\n",
    "diabetes_df.head()"
   ]
  },
  {
   "cell_type": "code",
   "execution_count": 3,
   "id": "1b7173d6",
   "metadata": {},
   "outputs": [],
   "source": [
    "from sklearn.model_selection import train_test_split\n",
    "from sklearn.preprocessing import StandardScaler\n",
    "\n",
    "X = diabetes_df.drop('Outcome', axis=1)\n",
    "y = diabetes_df['Outcome']\n",
    "\n",
    "# Split into training and test set\n",
    "X_train, X_test, y_train, y_test = train_test_split(X, y, test_size = 0.3, random_state=42, stratify=y)\n",
    "\n",
    "#Standardize\n",
    "sc= StandardScaler()\n",
    "X_train_sc=sc.fit_transform(X_train)\n",
    "X_test_sc=sc.fit_transform(X_test)"
   ]
  },
  {
   "cell_type": "code",
   "execution_count": 4,
   "id": "283c7e6a",
   "metadata": {},
   "outputs": [
    {
     "data": {
      "text/plain": [
       "0.7359307359307359"
      ]
     },
     "execution_count": 4,
     "metadata": {},
     "output_type": "execute_result"
    }
   ],
   "source": [
    "#LogisticRegression\n",
    "\n",
    "clr = LogisticRegression(random_state=42).fit(X_train_sc, y_train)\n",
    "\n",
    "#predict\n",
    "y_predicted = clr.predict(X_test_sc)\n",
    "\n",
    "#accuracy\n",
    "clr.score(X_test_sc, y_test)"
   ]
  },
  {
   "cell_type": "markdown",
   "id": "ddcfad46",
   "metadata": {},
   "source": [
    "### Singular Value Decomposition"
   ]
  },
  {
   "cell_type": "markdown",
   "id": "b5031785",
   "metadata": {},
   "source": [
    "SVD breaks a matrix down to its component parts. For the diabetes dataset, SVD produced an accuracy score of 0.71"
   ]
  },
  {
   "cell_type": "code",
   "execution_count": 12,
   "id": "a53079b1",
   "metadata": {},
   "outputs": [
    {
     "data": {
      "text/plain": [
       "0.70995670995671"
      ]
     },
     "execution_count": 12,
     "metadata": {},
     "output_type": "execute_result"
    }
   ],
   "source": [
    "from sklearn.decomposition import TruncatedSVD\n",
    "\n",
    "svd = TruncatedSVD(n_components=6)\n",
    "\n",
    "X_train_svd = svd.fit_transform(X_train)\n",
    "X_test_svd = svd.fit_transform(X_test)\n",
    "\n",
    "clr = LogisticRegression(random_state=42).fit(X_train_svd, y_train)\n",
    "\n",
    "clr.score(X_test_svd, y_test)"
   ]
  },
  {
   "cell_type": "markdown",
   "id": "c9e3a8ff",
   "metadata": {},
   "source": [
    "#### Reference:\n",
    "https://scikit-learn.org/stable/modules/generated/sklearn.decomposition.TruncatedSVD.html\n",
    "    \n",
    "https://machinelearningmastery.com/singular-value-decomposition-for-machine-learning/"
   ]
  },
  {
   "cell_type": "markdown",
   "id": "4a88f193",
   "metadata": {},
   "source": [
    "### Linear Discriminant Analysis"
   ]
  },
  {
   "cell_type": "markdown",
   "id": "9e238824",
   "metadata": {},
   "source": [
    "Linear Discriminant Analysis(LDA) is most often used for multi-class classification problems. LDA reduces the number of input variables in the dataset.\n",
    "\n"
   ]
  },
  {
   "cell_type": "code",
   "execution_count": 13,
   "id": "16740144",
   "metadata": {},
   "outputs": [
    {
     "data": {
      "text/plain": [
       "0.7489177489177489"
      ]
     },
     "execution_count": 13,
     "metadata": {},
     "output_type": "execute_result"
    }
   ],
   "source": [
    "from sklearn.discriminant_analysis import LinearDiscriminantAnalysis\n",
    "\n",
    "lda = LinearDiscriminantAnalysis(n_components=1)\n",
    "\n",
    "X_train_lda = lda.fit_transform(X_train, y_train)\n",
    "X_test_lda = lda.fit_transform(X_test, y_test)\n",
    "\n",
    "clr = LogisticRegression(random_state=42).fit(X_train_lda, y_train)\n",
    "\n",
    "clr.score(X_test_lda, y_test)"
   ]
  },
  {
   "cell_type": "markdown",
   "id": "a4bfcfac",
   "metadata": {},
   "source": [
    "LDA on the diabetes dataset - Because the diabetes dataset has 2 classes, the maximum number of components to use is 1. We found that LDA gave an accuracy score of 0.75.\n",
    "\n",
    "#### Resources:\n",
    "https://scikit-learn.org/stable/modules/generated/sklearn.discriminant_analysis.LinearDiscriminantAnalysis.html\n",
    "    \n",
    "https://machinelearningmastery.com/linear-discriminant-analysis-for-dimensionality-reduction-in-python/"
   ]
  },
  {
   "cell_type": "markdown",
   "id": "11c1aa38",
   "metadata": {},
   "source": [
    "### Principal Component Analysis"
   ]
  },
  {
   "cell_type": "markdown",
   "id": "d01d69c0",
   "metadata": {},
   "source": [
    "PCA is used to reduce the number of features by finding the related components in the dataset and removing the non-essential components. It projects the high dimensional original data into a lower dimensional subspace."
   ]
  },
  {
   "cell_type": "code",
   "execution_count": 14,
   "id": "d4beb2bd",
   "metadata": {},
   "outputs": [
    {
     "data": {
      "text/plain": [
       "0.7489177489177489"
      ]
     },
     "execution_count": 14,
     "metadata": {},
     "output_type": "execute_result"
    }
   ],
   "source": [
    "from sklearn.decomposition import PCA\n",
    "\n",
    "pca = PCA(n_components = 6, random_state=42)\n",
    "\n",
    "X_train_pca = pca.fit_transform(X_train)\n",
    "X_test_pca = pca.fit_transform(X_test)\n",
    "\n",
    "clr = LogisticRegression(random_state = 42).fit(X_train_pca, y_train)\n",
    "\n",
    "clr.score(X_test_pca, y_test)"
   ]
  },
  {
   "cell_type": "markdown",
   "id": "d3291bfe",
   "metadata": {},
   "source": [
    "PCA on the diabetes dataset - A PCA with 6 components gave an accuracy score of 0.75.\n",
    "For both PCA and LDA we got the same accuracy score, using same random_state but the n_components for \n",
    "LDA is 1 whereas for PCA we use 6.\n",
    "\n",
    "#### Resources:\n",
    "\n",
    "https://scikit-learn.org/stable/modules/generated/sklearn.decomposition.PCA.html \n",
    "    \n",
    "https://machinelearningmastery.com/calculate-principal-component-analysis-scratch-python/ \n",
    "    \n",
    "https://www.datacamp.com/community/tutorials/principal-component-analysis-in-python"
   ]
  },
  {
   "cell_type": "markdown",
   "id": "85a934ab",
   "metadata": {},
   "source": [
    "#### 2. Write a function that will indicate if an inputted IPv4 address is accurate or not. IP addresses are valid if they have 4 values between 0 and 255 (inclusive), punctuated by periods. \n",
    "\n",
    "#### Input 1:  2.33.245.5\n",
    "#### Output 1:  True\n",
    "\n",
    "#### Input 2:  12.345.67.89\n",
    "#### Output 2:  False"
   ]
  },
  {
   "cell_type": "code",
   "execution_count": 15,
   "id": "c1d6ef50",
   "metadata": {},
   "outputs": [],
   "source": [
    "def IPv4_address(address):\n",
    "    import numbers\n",
    "    if address.count(\".\") !=3:\n",
    "        return False\n",
    "    elif address == \"\":\n",
    "        return False\n",
    "    else:\n",
    "        lst_split_address = address.split(\".\")\n",
    "        for k in lst_split_address:\n",
    "            if k.isnumeric() == False:  # isnumeric returns True if all characters in a string are numeric, else returns False.\n",
    "                return False\n",
    "                break\n",
    "        slice_split_address = [int(num) for num in lst_split_address[0:]]\n",
    "        m=0\n",
    "        for u in slice_split_address:\n",
    "            if u > 255:\n",
    "                return False\n",
    "            else:\n",
    "                m = m + 1\n",
    "        if m == 4:\n",
    "            return True\n",
    "        else:\n",
    "            return False\n"
   ]
  },
  {
   "cell_type": "code",
   "execution_count": 16,
   "id": "96d5401e",
   "metadata": {},
   "outputs": [
    {
     "data": {
      "text/plain": [
       "False"
      ]
     },
     "execution_count": 16,
     "metadata": {},
     "output_type": "execute_result"
    }
   ],
   "source": [
    "IPv4_address('12.256.67.89')"
   ]
  },
  {
   "cell_type": "code",
   "execution_count": 17,
   "id": "689fae7c",
   "metadata": {},
   "outputs": [
    {
     "data": {
      "text/plain": [
       "True"
      ]
     },
     "execution_count": 17,
     "metadata": {},
     "output_type": "execute_result"
    }
   ],
   "source": [
    "IPv4_address('2.66.245.5')"
   ]
  }
 ],
 "metadata": {
  "kernelspec": {
   "display_name": "Python 3 (ipykernel)",
   "language": "python",
   "name": "python3"
  },
  "language_info": {
   "codemirror_mode": {
    "name": "ipython",
    "version": 3
   },
   "file_extension": ".py",
   "mimetype": "text/x-python",
   "name": "python",
   "nbconvert_exporter": "python",
   "pygments_lexer": "ipython3",
   "version": "3.9.7"
  }
 },
 "nbformat": 4,
 "nbformat_minor": 5
}
