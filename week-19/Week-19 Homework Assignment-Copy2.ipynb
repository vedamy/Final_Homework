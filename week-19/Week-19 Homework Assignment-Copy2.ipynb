{
 "cells": [
  {
   "cell_type": "markdown",
   "id": "5a420831",
   "metadata": {},
   "source": [
    "# Week-19 Homework Assignment"
   ]
  },
  {
   "cell_type": "markdown",
   "id": "13a87504",
   "metadata": {},
   "source": [
    "1.\tCreate a study guide for all the supervised learning models we have gone over. Include information about how the algorithms work, how they are evaluated, and any other information you deem necessary. Use your own words. Do NOT copy mine or that of articles we have read."
   ]
  },
  {
   "cell_type": "markdown",
   "id": "fb825bde",
   "metadata": {},
   "source": [
    "#### supervised learning models:\n",
    "With supervised learning task, we can generate a model or predict an output based on input values.\n",
    " In machine learning models the output of the model is typically called a label, target variable, or response variable or dependent variable.\n",
    " The inputs into the model are called features or predictors or independent variable.\n",
    "\n",
    "The algorithm \"learns\" the optimal model by studying a training set of data that consists of several obsevations, \n",
    "or instances, each of which contains values for both features and its labels.here, the supervised learning algorithm acts as\n",
    "a function that takes training data as input and produces a model as its output.\n",
    "\n",
    "\n",
    "    "
   ]
  },
  {
   "cell_type": "markdown",
   "id": "132af0f0",
   "metadata": {},
   "source": [
    "The most popular Python library for machine learning is the Scikit-Learn (sklearn) package. Scikit-Learn provides functions for creating supervised learning models, as well as for performing unsupervised learning tasks,also provides tools for working and preparing data in creating models.\n",
    "scikit-learn makes it very easy to try different models, since the Train-Test-Split/Instantiate/Fit/Predict pattern applies to all the classifiers and regressors."
   ]
  },
  {
   "cell_type": "markdown",
   "id": "20c36c9d",
   "metadata": {},
   "source": [
    "Supervised learning models are divided into Classification and Regression problems based on whether the target values are\n",
    "continuous or categorical.\n",
    "Classification, when the target values are discrete classes For example, Predicting whether the loan is at 'high risk' or \n",
    "'low risk'. In class example like predicting the patient as diabetic or not diabetic.\n",
    "\n",
    "Regression, when the target values are continuous, real numbers. For example, Predicting a credit score, predicting the sale\n",
    "price of a home.\n"
   ]
  },
  {
   "cell_type": "markdown",
   "id": "a15dfedd",
   "metadata": {},
   "source": [
    "#### K-Nearest Neighbors(KNN)\n",
    "K-Nearest Neighbors(KNN) is a simple algorithm, used to predict the label of any data point by looking at the K. \n",
    "'K' in KNN is a parameter that refers to the number of nearset neighbors to include in the majority voting process. It is \n",
    "mostly used for classification problems."
   ]
  },
  {
   "cell_type": "markdown",
   "id": "9fa07c8d",
   "metadata": {},
   "source": [
    "steps involved are:\n",
    "1. import all the necessary libraries from scikit-learn\n",
    "\n",
    "from sklearn.neighbors import KNeighborsClassifier \n",
    "\n",
    "2. Instantiate the model, and set the number of neighbors\n",
    "\n",
    "knn = KNeighborsClassifier(n_neighbors=?)\n",
    "\n",
    "3. Fit the model to the training set, the labeled data\n",
    "\n",
    "knn.fit()\n",
    "\n",
    "4. Predict the label of an unlabeled data point(new data)\n",
    "\n",
    "knn.predict()"
   ]
  },
  {
   "cell_type": "markdown",
   "id": "13a268fc",
   "metadata": {},
   "source": [
    "After prediction we need to test the model performance, to measure its performance we need a metric.\n",
    "Generally in classification problems we use accuracy as a performance metric.\n",
    "The classifier is trained on training set, generally we use train_test_split to split the data into training set and \n",
    "test set and then predictions are made on the test set and then compared with the known labels.\n",
    "The accuracy of the predictions is then computed."
   ]
  },
  {
   "cell_type": "markdown",
   "id": "3a59982a",
   "metadata": {},
   "source": [
    "#### Regression: \n",
    "In regression tasks, the target value is a continuously varying variable, like the price of a house.\n",
    "\n",
    "#### Linear Regression\n",
    "A linear regression model uses the features to generate predictions for the countinous/real-valued label. \n",
    "The model parameters are calculated by a learning algorithm to generate the model that provides the best fit for the given\n",
    "data. The learning algorithm measures the quality of the fit using the sum of squared errors loss function.\n",
    "\n",
    "1.To start with, we need to create features and target variables in distinct arrays, X and y. \n",
    "Using the .values attribute returns numpy arrays or using .to_numpy.\n",
    "\n",
    "2. We will now split the dataset into training and test sets, using an 80/20 split.\n",
    "\n",
    "3.Instantiate sklearn.linear_model.LinearRegression\n",
    "\n",
    "4.Fit the model by passing in the data and target.\n",
    "\n",
    "5.The trained model will contain two new attributes: intercept_ and coef_.\n",
    "The intercept_ attribute contains the optimal value of the fitted model and coef_ attribute contains a list of values of \n",
    "other parameters."
   ]
  },
  {
   "cell_type": "markdown",
   "id": "119de452",
   "metadata": {},
   "source": [
    "For classification models, score() returns the model's accuracy on the provided dataset.\n",
    "For regression models, score() returns the model's r-squared score, as calculated on the provided dataset.\n",
    "The r-squared score is a number between 0 and 1 that can be interpretted as the proportion of the variance of the response variable"
   ]
  },
  {
   "cell_type": "markdown",
   "id": "f3290572",
   "metadata": {},
   "source": [
    "#### Cross-validation\n",
    "Cross-validation is an important step in evaluating a model. It maximizes the amount of data that is used to train \n",
    "the model, the model is trained, and also tested on that data.\n",
    "\n",
    "we use scikit-learn's cross-validation, import cross_val_score from sklearn.model_selection.\n",
    "We do this by splitting the dataset into groups, or folds. As the dataset is split into 5 folds, \n",
    "this process is called 5-fold cross validation, if k-folds are used it is called k-fold CV.\n",
    "while using cross-validation, it is important to remember that if we use more folds, the more computationally expensive\n",
    "it will be."
   ]
  },
  {
   "cell_type": "markdown",
   "id": "ddf0bd82",
   "metadata": {},
   "source": [
    "#### To test how good your model is?\n",
    "Accuracy is not useful in all the cases, particularly when dealing with class imbalance problems. For example,\n",
    "in spam detection where  99% of emails are real and only 1% are SPAM. There comes confusion_matrix into picture \n",
    "which gives the summary of predictive performance, True Positive, True Negative, False Negative, False Positive.\n",
    "Also, there are several other important metrics we can easily calculate from the confusion matrix.\n",
    "Precision, which is the number of true positives, divided by the total number to true positives and false positives.\n",
    "Recall, which is the number of true positives, divided by the total number of true positives and false negatives.\n",
    "Recall is also called sensitivity, or true positive rate.\n",
    "\n",
    "To evaluate the performance of binary classifiers, we use confusion matrix and generate a classification report.\n",
    "Import classification_report and confusion_matrix from sklearn.metrics. Then, create training and test sets, instantiate\n",
    "the model, then fit the model on the training set and predict the labels on the test set. Lastly, compute and print the\n",
    "confusion matrix and classification report using the confusion_matrix() and classification_report() functions."
   ]
  },
  {
   "cell_type": "markdown",
   "id": "2a812575",
   "metadata": {},
   "source": [
    "#### Logistic regression \n",
    "Logistic regression is a linear classification method based on probabilty. It can be used in multi-class\n",
    "classification problems, as well as in binary clasiffication problems.\n",
    "\n",
    "1.We use the LogisticRegression class from Scikit-Learn to create the classification model, will start with extracting the \n",
    "feature and label arrays from the dataset, Before creating the model, we can roughly ckeck the probability of actual values\n",
    "using numpy.mean() function.\n",
    "\n",
    "2.Next split the data into training and test sets, now we use Scikit-Learn to create our logistic regression classifier and\n",
    "then print the parameters(intercept_ and coef_) for our optimal model.\n",
    "\n",
    "3.Then, model's score() method to used to calculate the accuracy on the training and test sets.\n",
    "\n",
    "4.Next, to generate predictions will use the predict() method.\n",
    "\n",
    "5.we will use predict_proba to generate probability estimates for each observations.\n",
    "\n",
    "6.Fnally, compute and print the confusion matrix and classification report for the model.\n",
    "\n"
   ]
  },
  {
   "cell_type": "markdown",
   "id": "be3f7607",
   "metadata": {},
   "source": [
    "To evaluate the model performance we have ROC curve. It is a way to visually evaluate model performance. After building the logistic regression model, we try to evaluate its performance by plotting an ROC curve. This can be done using the .predict_proba() method.\n",
    "\n",
    "ROC(Receiver Operating Characteristic)curve is an evaluation metric for binary classification problems, created by plotting the true positive rate (TPR) against the false positive rate (FPR) at various thresholds. It shows the trade-off between sensitivity (or TPR) and specificity (1 – FPR)"
   ]
  },
  {
   "cell_type": "code",
   "execution_count": null,
   "id": "c3ba385f",
   "metadata": {},
   "outputs": [],
   "source": []
  },
  {
   "cell_type": "code",
   "execution_count": null,
   "id": "f97d84d3",
   "metadata": {},
   "outputs": [],
   "source": [
    "Parameters that needs to be specified before fitting a model, are called hyperparameters.\n",
    "By Choosing the correct hyperparameters we can build a successful model.\n",
    "\n",
    "When fitting different values of hypterparameter, it is better to use cross-validation along with train_test_split to avoid overfitting of the model"
   ]
  },
  {
   "cell_type": "code",
   "execution_count": null,
   "id": "635bc9c2",
   "metadata": {},
   "outputs": [],
   "source": []
  },
  {
   "cell_type": "code",
   "execution_count": null,
   "id": "880e245f",
   "metadata": {},
   "outputs": [],
   "source": []
  },
  {
   "cell_type": "markdown",
   "id": "d4e94318",
   "metadata": {},
   "source": [
    "#### Data Preprocessing steps:\n",
    "\n",
    "1. Handle missing data : drop or fill NaNs\n",
    "2. Cleaning Datatypes for all features\n",
    "3. Processing Categorical features to numerical values\n",
    "4. Feature Engineering\n",
    "5. Standardizing or Normalizing\n",
    "6. Removing redundant or related features\n",
    "7. Stratified Sampling / PCA (Dimensionality reduction)"
   ]
  },
  {
   "cell_type": "code",
   "execution_count": null,
   "id": "5dcb6cc5",
   "metadata": {},
   "outputs": [],
   "source": []
  },
  {
   "cell_type": "markdown",
   "id": "32bcf7bd",
   "metadata": {},
   "source": [
    "2.\tDo the same as question 1 except for unsupervised learning models. Something that is necessary for many models is determining number, so specify how you determine the number of clusters for example. Apply this concept to any other algorithms it is relevant for.\n"
   ]
  },
  {
   "cell_type": "code",
   "execution_count": null,
   "id": "e3a8d930",
   "metadata": {},
   "outputs": [],
   "source": []
  },
  {
   "cell_type": "code",
   "execution_count": null,
   "id": "daf719ab",
   "metadata": {},
   "outputs": [],
   "source": []
  },
  {
   "cell_type": "markdown",
   "id": "a9175a77",
   "metadata": {},
   "source": [
    "3.\tPreprocess the customer data https://www.kaggle.com/carrie1/ecommerce-data . How are you handling nulls? What process(es) are you using to encode and normalize the data?"
   ]
  },
  {
   "cell_type": "code",
   "execution_count": 2,
   "id": "b8b6722d",
   "metadata": {},
   "outputs": [],
   "source": [
    "import pandas as pd\n",
    "import numpy as np\n",
    "from matplotlib import pyplot as plt\n",
    "import seaborn as sns"
   ]
  },
  {
   "cell_type": "code",
   "execution_count": 22,
   "id": "d598166f",
   "metadata": {},
   "outputs": [
    {
     "name": "stdout",
     "output_type": "stream",
     "text": [
      "(541909, 8)\n"
     ]
    },
    {
     "data": {
      "text/html": [
       "<div>\n",
       "<style scoped>\n",
       "    .dataframe tbody tr th:only-of-type {\n",
       "        vertical-align: middle;\n",
       "    }\n",
       "\n",
       "    .dataframe tbody tr th {\n",
       "        vertical-align: top;\n",
       "    }\n",
       "\n",
       "    .dataframe thead th {\n",
       "        text-align: right;\n",
       "    }\n",
       "</style>\n",
       "<table border=\"1\" class=\"dataframe\">\n",
       "  <thead>\n",
       "    <tr style=\"text-align: right;\">\n",
       "      <th></th>\n",
       "      <th>InvoiceNo</th>\n",
       "      <th>StockCode</th>\n",
       "      <th>Description</th>\n",
       "      <th>Quantity</th>\n",
       "      <th>InvoiceDate</th>\n",
       "      <th>UnitPrice</th>\n",
       "      <th>CustomerID</th>\n",
       "      <th>Country</th>\n",
       "    </tr>\n",
       "  </thead>\n",
       "  <tbody>\n",
       "    <tr>\n",
       "      <th>0</th>\n",
       "      <td>536365</td>\n",
       "      <td>85123A</td>\n",
       "      <td>WHITE HANGING HEART T-LIGHT HOLDER</td>\n",
       "      <td>6</td>\n",
       "      <td>12/1/2010 8:26</td>\n",
       "      <td>2.55</td>\n",
       "      <td>17850.0</td>\n",
       "      <td>United Kingdom</td>\n",
       "    </tr>\n",
       "    <tr>\n",
       "      <th>1</th>\n",
       "      <td>536365</td>\n",
       "      <td>71053</td>\n",
       "      <td>WHITE METAL LANTERN</td>\n",
       "      <td>6</td>\n",
       "      <td>12/1/2010 8:26</td>\n",
       "      <td>3.39</td>\n",
       "      <td>17850.0</td>\n",
       "      <td>United Kingdom</td>\n",
       "    </tr>\n",
       "    <tr>\n",
       "      <th>2</th>\n",
       "      <td>536365</td>\n",
       "      <td>84406B</td>\n",
       "      <td>CREAM CUPID HEARTS COAT HANGER</td>\n",
       "      <td>8</td>\n",
       "      <td>12/1/2010 8:26</td>\n",
       "      <td>2.75</td>\n",
       "      <td>17850.0</td>\n",
       "      <td>United Kingdom</td>\n",
       "    </tr>\n",
       "    <tr>\n",
       "      <th>3</th>\n",
       "      <td>536365</td>\n",
       "      <td>84029G</td>\n",
       "      <td>KNITTED UNION FLAG HOT WATER BOTTLE</td>\n",
       "      <td>6</td>\n",
       "      <td>12/1/2010 8:26</td>\n",
       "      <td>3.39</td>\n",
       "      <td>17850.0</td>\n",
       "      <td>United Kingdom</td>\n",
       "    </tr>\n",
       "    <tr>\n",
       "      <th>4</th>\n",
       "      <td>536365</td>\n",
       "      <td>84029E</td>\n",
       "      <td>RED WOOLLY HOTTIE WHITE HEART.</td>\n",
       "      <td>6</td>\n",
       "      <td>12/1/2010 8:26</td>\n",
       "      <td>3.39</td>\n",
       "      <td>17850.0</td>\n",
       "      <td>United Kingdom</td>\n",
       "    </tr>\n",
       "  </tbody>\n",
       "</table>\n",
       "</div>"
      ],
      "text/plain": [
       "  InvoiceNo StockCode                          Description  Quantity  \\\n",
       "0    536365    85123A   WHITE HANGING HEART T-LIGHT HOLDER         6   \n",
       "1    536365     71053                  WHITE METAL LANTERN         6   \n",
       "2    536365    84406B       CREAM CUPID HEARTS COAT HANGER         8   \n",
       "3    536365    84029G  KNITTED UNION FLAG HOT WATER BOTTLE         6   \n",
       "4    536365    84029E       RED WOOLLY HOTTIE WHITE HEART.         6   \n",
       "\n",
       "      InvoiceDate  UnitPrice  CustomerID         Country  \n",
       "0  12/1/2010 8:26       2.55     17850.0  United Kingdom  \n",
       "1  12/1/2010 8:26       3.39     17850.0  United Kingdom  \n",
       "2  12/1/2010 8:26       2.75     17850.0  United Kingdom  \n",
       "3  12/1/2010 8:26       3.39     17850.0  United Kingdom  \n",
       "4  12/1/2010 8:26       3.39     17850.0  United Kingdom  "
      ]
     },
     "execution_count": 22,
     "metadata": {},
     "output_type": "execute_result"
    }
   ],
   "source": [
    "df = pd.read_csv(\"A:\\launch_code_STL\\Final_Homework\\week-19\\data.csv\", sep=\",\", encoding=\"ISO-8859-1\")\n",
    "print(df.shape)\n",
    "df.head()"
   ]
  },
  {
   "cell_type": "markdown",
   "id": "7cebabcb",
   "metadata": {},
   "source": [
    "when we import the data in csv format, we get different characters in the data that's when we should be using encoding.\n",
    "In this dataset encoding is used to convert string into byte string. so, to be able to pass non-ascii data, we are using \n",
    "encoding=\"ISO-8859-1\".\n",
    "\n"
   ]
  },
  {
   "cell_type": "code",
   "execution_count": 23,
   "id": "08924589",
   "metadata": {},
   "outputs": [
    {
     "name": "stdout",
     "output_type": "stream",
     "text": [
      "<class 'pandas.core.frame.DataFrame'>\n",
      "RangeIndex: 541909 entries, 0 to 541908\n",
      "Data columns (total 8 columns):\n",
      " #   Column       Non-Null Count   Dtype  \n",
      "---  ------       --------------   -----  \n",
      " 0   InvoiceNo    541909 non-null  object \n",
      " 1   StockCode    541909 non-null  object \n",
      " 2   Description  540455 non-null  object \n",
      " 3   Quantity     541909 non-null  int64  \n",
      " 4   InvoiceDate  541909 non-null  object \n",
      " 5   UnitPrice    541909 non-null  float64\n",
      " 6   CustomerID   406829 non-null  float64\n",
      " 7   Country      541909 non-null  object \n",
      "dtypes: float64(2), int64(1), object(5)\n",
      "memory usage: 33.1+ MB\n"
     ]
    }
   ],
   "source": [
    "df.info()"
   ]
  },
  {
   "cell_type": "markdown",
   "id": "1c67ad23",
   "metadata": {},
   "source": [
    "### Checking missing values"
   ]
  },
  {
   "cell_type": "code",
   "execution_count": 24,
   "id": "be61a733",
   "metadata": {},
   "outputs": [
    {
     "data": {
      "text/plain": [
       "CustomerID     135080\n",
       "Description      1454\n",
       "InvoiceNo           0\n",
       "StockCode           0\n",
       "Quantity            0\n",
       "InvoiceDate         0\n",
       "UnitPrice           0\n",
       "Country             0\n",
       "dtype: int64"
      ]
     },
     "execution_count": 24,
     "metadata": {},
     "output_type": "execute_result"
    }
   ],
   "source": [
    "df.isnull().sum().sort_values(ascending=False)"
   ]
  },
  {
   "cell_type": "markdown",
   "id": "a90f1ac0",
   "metadata": {},
   "source": [
    "We have data missing for the columns customer ID and Description"
   ]
  },
  {
   "cell_type": "markdown",
   "id": "3d57d099",
   "metadata": {},
   "source": [
    "#### Check out the rows with Missing Values"
   ]
  },
  {
   "cell_type": "code",
   "execution_count": 25,
   "id": "9cf08b9f",
   "metadata": {},
   "outputs": [
    {
     "data": {
      "text/html": [
       "<div>\n",
       "<style scoped>\n",
       "    .dataframe tbody tr th:only-of-type {\n",
       "        vertical-align: middle;\n",
       "    }\n",
       "\n",
       "    .dataframe tbody tr th {\n",
       "        vertical-align: top;\n",
       "    }\n",
       "\n",
       "    .dataframe thead th {\n",
       "        text-align: right;\n",
       "    }\n",
       "</style>\n",
       "<table border=\"1\" class=\"dataframe\">\n",
       "  <thead>\n",
       "    <tr style=\"text-align: right;\">\n",
       "      <th></th>\n",
       "      <th>InvoiceNo</th>\n",
       "      <th>StockCode</th>\n",
       "      <th>Description</th>\n",
       "      <th>Quantity</th>\n",
       "      <th>InvoiceDate</th>\n",
       "      <th>UnitPrice</th>\n",
       "      <th>CustomerID</th>\n",
       "      <th>Country</th>\n",
       "    </tr>\n",
       "  </thead>\n",
       "  <tbody>\n",
       "    <tr>\n",
       "      <th>622</th>\n",
       "      <td>536414</td>\n",
       "      <td>22139</td>\n",
       "      <td>NaN</td>\n",
       "      <td>56</td>\n",
       "      <td>12/1/2010 11:52</td>\n",
       "      <td>0.00</td>\n",
       "      <td>NaN</td>\n",
       "      <td>United Kingdom</td>\n",
       "    </tr>\n",
       "    <tr>\n",
       "      <th>1443</th>\n",
       "      <td>536544</td>\n",
       "      <td>21773</td>\n",
       "      <td>DECORATIVE ROSE BATHROOM BOTTLE</td>\n",
       "      <td>1</td>\n",
       "      <td>12/1/2010 14:32</td>\n",
       "      <td>2.51</td>\n",
       "      <td>NaN</td>\n",
       "      <td>United Kingdom</td>\n",
       "    </tr>\n",
       "    <tr>\n",
       "      <th>1444</th>\n",
       "      <td>536544</td>\n",
       "      <td>21774</td>\n",
       "      <td>DECORATIVE CATS BATHROOM BOTTLE</td>\n",
       "      <td>2</td>\n",
       "      <td>12/1/2010 14:32</td>\n",
       "      <td>2.51</td>\n",
       "      <td>NaN</td>\n",
       "      <td>United Kingdom</td>\n",
       "    </tr>\n",
       "    <tr>\n",
       "      <th>1445</th>\n",
       "      <td>536544</td>\n",
       "      <td>21786</td>\n",
       "      <td>POLKADOT RAIN HAT</td>\n",
       "      <td>4</td>\n",
       "      <td>12/1/2010 14:32</td>\n",
       "      <td>0.85</td>\n",
       "      <td>NaN</td>\n",
       "      <td>United Kingdom</td>\n",
       "    </tr>\n",
       "    <tr>\n",
       "      <th>1446</th>\n",
       "      <td>536544</td>\n",
       "      <td>21787</td>\n",
       "      <td>RAIN PONCHO RETROSPOT</td>\n",
       "      <td>2</td>\n",
       "      <td>12/1/2010 14:32</td>\n",
       "      <td>1.66</td>\n",
       "      <td>NaN</td>\n",
       "      <td>United Kingdom</td>\n",
       "    </tr>\n",
       "    <tr>\n",
       "      <th>1447</th>\n",
       "      <td>536544</td>\n",
       "      <td>21790</td>\n",
       "      <td>VINTAGE SNAP CARDS</td>\n",
       "      <td>9</td>\n",
       "      <td>12/1/2010 14:32</td>\n",
       "      <td>1.66</td>\n",
       "      <td>NaN</td>\n",
       "      <td>United Kingdom</td>\n",
       "    </tr>\n",
       "    <tr>\n",
       "      <th>1448</th>\n",
       "      <td>536544</td>\n",
       "      <td>21791</td>\n",
       "      <td>VINTAGE HEADS AND TAILS CARD GAME</td>\n",
       "      <td>2</td>\n",
       "      <td>12/1/2010 14:32</td>\n",
       "      <td>2.51</td>\n",
       "      <td>NaN</td>\n",
       "      <td>United Kingdom</td>\n",
       "    </tr>\n",
       "    <tr>\n",
       "      <th>1449</th>\n",
       "      <td>536544</td>\n",
       "      <td>21801</td>\n",
       "      <td>CHRISTMAS TREE DECORATION WITH BELL</td>\n",
       "      <td>10</td>\n",
       "      <td>12/1/2010 14:32</td>\n",
       "      <td>0.43</td>\n",
       "      <td>NaN</td>\n",
       "      <td>United Kingdom</td>\n",
       "    </tr>\n",
       "    <tr>\n",
       "      <th>1450</th>\n",
       "      <td>536544</td>\n",
       "      <td>21802</td>\n",
       "      <td>CHRISTMAS TREE HEART DECORATION</td>\n",
       "      <td>9</td>\n",
       "      <td>12/1/2010 14:32</td>\n",
       "      <td>0.43</td>\n",
       "      <td>NaN</td>\n",
       "      <td>United Kingdom</td>\n",
       "    </tr>\n",
       "    <tr>\n",
       "      <th>1451</th>\n",
       "      <td>536544</td>\n",
       "      <td>21803</td>\n",
       "      <td>CHRISTMAS TREE STAR DECORATION</td>\n",
       "      <td>11</td>\n",
       "      <td>12/1/2010 14:32</td>\n",
       "      <td>0.43</td>\n",
       "      <td>NaN</td>\n",
       "      <td>United Kingdom</td>\n",
       "    </tr>\n",
       "  </tbody>\n",
       "</table>\n",
       "</div>"
      ],
      "text/plain": [
       "     InvoiceNo StockCode                          Description  Quantity  \\\n",
       "622     536414     22139                                  NaN        56   \n",
       "1443    536544     21773      DECORATIVE ROSE BATHROOM BOTTLE         1   \n",
       "1444    536544     21774      DECORATIVE CATS BATHROOM BOTTLE         2   \n",
       "1445    536544     21786                   POLKADOT RAIN HAT          4   \n",
       "1446    536544     21787                RAIN PONCHO RETROSPOT         2   \n",
       "1447    536544     21790                   VINTAGE SNAP CARDS         9   \n",
       "1448    536544     21791   VINTAGE HEADS AND TAILS CARD GAME          2   \n",
       "1449    536544     21801  CHRISTMAS TREE DECORATION WITH BELL        10   \n",
       "1450    536544     21802      CHRISTMAS TREE HEART DECORATION         9   \n",
       "1451    536544     21803       CHRISTMAS TREE STAR DECORATION        11   \n",
       "\n",
       "          InvoiceDate  UnitPrice  CustomerID         Country  \n",
       "622   12/1/2010 11:52       0.00         NaN  United Kingdom  \n",
       "1443  12/1/2010 14:32       2.51         NaN  United Kingdom  \n",
       "1444  12/1/2010 14:32       2.51         NaN  United Kingdom  \n",
       "1445  12/1/2010 14:32       0.85         NaN  United Kingdom  \n",
       "1446  12/1/2010 14:32       1.66         NaN  United Kingdom  \n",
       "1447  12/1/2010 14:32       1.66         NaN  United Kingdom  \n",
       "1448  12/1/2010 14:32       2.51         NaN  United Kingdom  \n",
       "1449  12/1/2010 14:32       0.43         NaN  United Kingdom  \n",
       "1450  12/1/2010 14:32       0.43         NaN  United Kingdom  \n",
       "1451  12/1/2010 14:32       0.43         NaN  United Kingdom  "
      ]
     },
     "execution_count": 25,
     "metadata": {},
     "output_type": "execute_result"
    }
   ],
   "source": [
    "df[df.isna().any(axis=1)].head(10)"
   ]
  },
  {
   "cell_type": "markdown",
   "id": "713d01d8",
   "metadata": {},
   "source": [
    "#### Changing Invoice Date Format"
   ]
  },
  {
   "cell_type": "code",
   "execution_count": 26,
   "id": "8a5f54e1",
   "metadata": {},
   "outputs": [],
   "source": [
    "df['InvoiceDate']=pd.to_datetime(df.InvoiceDate,format='%m/%d/%Y %H:%M')"
   ]
  },
  {
   "cell_type": "markdown",
   "id": "8f475d15",
   "metadata": {},
   "source": [
    "#### Dropping missing values"
   ]
  },
  {
   "cell_type": "code",
   "execution_count": 27,
   "id": "365e7d1c",
   "metadata": {},
   "outputs": [],
   "source": [
    "df=df.dropna()"
   ]
  },
  {
   "cell_type": "code",
   "execution_count": 32,
   "id": "2a81593b",
   "metadata": {},
   "outputs": [
    {
     "data": {
      "text/plain": [
       "InvoiceNo      0\n",
       "StockCode      0\n",
       "Description    0\n",
       "Quantity       0\n",
       "InvoiceDate    0\n",
       "UnitPrice      0\n",
       "CustomerID     0\n",
       "Country        0\n",
       "dtype: int64"
      ]
     },
     "execution_count": 32,
     "metadata": {},
     "output_type": "execute_result"
    }
   ],
   "source": [
    "df.isnull().sum().sort_values(ascending=False)"
   ]
  },
  {
   "cell_type": "code",
   "execution_count": null,
   "id": "360d5f74",
   "metadata": {},
   "outputs": [],
   "source": [
    "#### Change the column type from String to Integer"
   ]
  },
  {
   "cell_type": "code",
   "execution_count": 29,
   "id": "da973f29",
   "metadata": {},
   "outputs": [],
   "source": [
    "df['CustomerID']=df['CustomerID'].astype('int64')"
   ]
  },
  {
   "cell_type": "code",
   "execution_count": 30,
   "id": "6e43108f",
   "metadata": {},
   "outputs": [],
   "source": [
    "#### Making copy of dataframe\n",
    "df2=df.copy()"
   ]
  },
  {
   "cell_type": "code",
   "execution_count": 31,
   "id": "b66c9724",
   "metadata": {},
   "outputs": [
    {
     "data": {
      "text/html": [
       "<div>\n",
       "<style scoped>\n",
       "    .dataframe tbody tr th:only-of-type {\n",
       "        vertical-align: middle;\n",
       "    }\n",
       "\n",
       "    .dataframe tbody tr th {\n",
       "        vertical-align: top;\n",
       "    }\n",
       "\n",
       "    .dataframe thead th {\n",
       "        text-align: right;\n",
       "    }\n",
       "</style>\n",
       "<table border=\"1\" class=\"dataframe\">\n",
       "  <thead>\n",
       "    <tr style=\"text-align: right;\">\n",
       "      <th></th>\n",
       "      <th>Quantity</th>\n",
       "      <th>UnitPrice</th>\n",
       "      <th>CustomerID</th>\n",
       "    </tr>\n",
       "  </thead>\n",
       "  <tbody>\n",
       "    <tr>\n",
       "      <th>count</th>\n",
       "      <td>406829.00</td>\n",
       "      <td>406829.00</td>\n",
       "      <td>406829.00</td>\n",
       "    </tr>\n",
       "    <tr>\n",
       "      <th>mean</th>\n",
       "      <td>12.06</td>\n",
       "      <td>3.46</td>\n",
       "      <td>15287.69</td>\n",
       "    </tr>\n",
       "    <tr>\n",
       "      <th>std</th>\n",
       "      <td>248.69</td>\n",
       "      <td>69.32</td>\n",
       "      <td>1713.60</td>\n",
       "    </tr>\n",
       "    <tr>\n",
       "      <th>min</th>\n",
       "      <td>-80995.00</td>\n",
       "      <td>0.00</td>\n",
       "      <td>12346.00</td>\n",
       "    </tr>\n",
       "    <tr>\n",
       "      <th>25%</th>\n",
       "      <td>2.00</td>\n",
       "      <td>1.25</td>\n",
       "      <td>13953.00</td>\n",
       "    </tr>\n",
       "    <tr>\n",
       "      <th>50%</th>\n",
       "      <td>5.00</td>\n",
       "      <td>1.95</td>\n",
       "      <td>15152.00</td>\n",
       "    </tr>\n",
       "    <tr>\n",
       "      <th>75%</th>\n",
       "      <td>12.00</td>\n",
       "      <td>3.75</td>\n",
       "      <td>16791.00</td>\n",
       "    </tr>\n",
       "    <tr>\n",
       "      <th>max</th>\n",
       "      <td>80995.00</td>\n",
       "      <td>38970.00</td>\n",
       "      <td>18287.00</td>\n",
       "    </tr>\n",
       "  </tbody>\n",
       "</table>\n",
       "</div>"
      ],
      "text/plain": [
       "        Quantity  UnitPrice  CustomerID\n",
       "count  406829.00  406829.00   406829.00\n",
       "mean       12.06       3.46    15287.69\n",
       "std       248.69      69.32     1713.60\n",
       "min    -80995.00       0.00    12346.00\n",
       "25%         2.00       1.25    13953.00\n",
       "50%         5.00       1.95    15152.00\n",
       "75%        12.00       3.75    16791.00\n",
       "max     80995.00   38970.00    18287.00"
      ]
     },
     "execution_count": 31,
     "metadata": {},
     "output_type": "execute_result"
    }
   ],
   "source": [
    "df2.describe().round(2)"
   ]
  },
  {
   "cell_type": "markdown",
   "id": "bdb89d91",
   "metadata": {},
   "source": [
    "#### Remove Quantity with negative values"
   ]
  },
  {
   "cell_type": "code",
   "execution_count": 42,
   "id": "d4bcb599",
   "metadata": {},
   "outputs": [
    {
     "data": {
      "text/html": [
       "<div>\n",
       "<style scoped>\n",
       "    .dataframe tbody tr th:only-of-type {\n",
       "        vertical-align: middle;\n",
       "    }\n",
       "\n",
       "    .dataframe tbody tr th {\n",
       "        vertical-align: top;\n",
       "    }\n",
       "\n",
       "    .dataframe thead th {\n",
       "        text-align: right;\n",
       "    }\n",
       "</style>\n",
       "<table border=\"1\" class=\"dataframe\">\n",
       "  <thead>\n",
       "    <tr style=\"text-align: right;\">\n",
       "      <th></th>\n",
       "      <th>Quantity</th>\n",
       "      <th>UnitPrice</th>\n",
       "      <th>CustomerID</th>\n",
       "    </tr>\n",
       "  </thead>\n",
       "  <tbody>\n",
       "    <tr>\n",
       "      <th>count</th>\n",
       "      <td>397924.00</td>\n",
       "      <td>397924.00</td>\n",
       "      <td>397924.00</td>\n",
       "    </tr>\n",
       "    <tr>\n",
       "      <th>mean</th>\n",
       "      <td>13.02</td>\n",
       "      <td>3.12</td>\n",
       "      <td>15294.32</td>\n",
       "    </tr>\n",
       "    <tr>\n",
       "      <th>std</th>\n",
       "      <td>180.42</td>\n",
       "      <td>22.10</td>\n",
       "      <td>1713.17</td>\n",
       "    </tr>\n",
       "    <tr>\n",
       "      <th>min</th>\n",
       "      <td>1.00</td>\n",
       "      <td>0.00</td>\n",
       "      <td>12346.00</td>\n",
       "    </tr>\n",
       "    <tr>\n",
       "      <th>25%</th>\n",
       "      <td>2.00</td>\n",
       "      <td>1.25</td>\n",
       "      <td>13969.00</td>\n",
       "    </tr>\n",
       "    <tr>\n",
       "      <th>50%</th>\n",
       "      <td>6.00</td>\n",
       "      <td>1.95</td>\n",
       "      <td>15159.00</td>\n",
       "    </tr>\n",
       "    <tr>\n",
       "      <th>75%</th>\n",
       "      <td>12.00</td>\n",
       "      <td>3.75</td>\n",
       "      <td>16795.00</td>\n",
       "    </tr>\n",
       "    <tr>\n",
       "      <th>max</th>\n",
       "      <td>80995.00</td>\n",
       "      <td>8142.75</td>\n",
       "      <td>18287.00</td>\n",
       "    </tr>\n",
       "  </tbody>\n",
       "</table>\n",
       "</div>"
      ],
      "text/plain": [
       "        Quantity  UnitPrice  CustomerID\n",
       "count  397924.00  397924.00   397924.00\n",
       "mean       13.02       3.12    15294.32\n",
       "std       180.42      22.10     1713.17\n",
       "min         1.00       0.00    12346.00\n",
       "25%         2.00       1.25    13969.00\n",
       "50%         6.00       1.95    15159.00\n",
       "75%        12.00       3.75    16795.00\n",
       "max     80995.00    8142.75    18287.00"
      ]
     },
     "execution_count": 42,
     "metadata": {},
     "output_type": "execute_result"
    }
   ],
   "source": [
    "df_new = df2[df2.Quantity > 0]\n",
    "df_new.describe().round(2)"
   ]
  },
  {
   "cell_type": "markdown",
   "id": "a1d85c10",
   "metadata": {},
   "source": [
    "So the minimum value for the quantity is 1 i.e, we have managed to remove outlier from the dataset"
   ]
  },
  {
   "cell_type": "code",
   "execution_count": 43,
   "id": "ed48b9fa",
   "metadata": {},
   "outputs": [],
   "source": [
    "#### Lets Calculate the Amount Spend by a customer"
   ]
  },
  {
   "cell_type": "code",
   "execution_count": 44,
   "id": "7980d10c",
   "metadata": {},
   "outputs": [
    {
     "name": "stderr",
     "output_type": "stream",
     "text": [
      "C:\\Users\\rsagu\\AppData\\Local\\Temp/ipykernel_9048/3317870604.py:2: SettingWithCopyWarning: \n",
      "A value is trying to be set on a copy of a slice from a DataFrame.\n",
      "Try using .loc[row_indexer,col_indexer] = value instead\n",
      "\n",
      "See the caveats in the documentation: https://pandas.pydata.org/pandas-docs/stable/user_guide/indexing.html#returning-a-view-versus-a-copy\n",
      "  df_new['Amount_spent'] = df_new['Quantity'] * df_new['UnitPrice']\n"
     ]
    },
    {
     "data": {
      "text/html": [
       "<div>\n",
       "<style scoped>\n",
       "    .dataframe tbody tr th:only-of-type {\n",
       "        vertical-align: middle;\n",
       "    }\n",
       "\n",
       "    .dataframe tbody tr th {\n",
       "        vertical-align: top;\n",
       "    }\n",
       "\n",
       "    .dataframe thead th {\n",
       "        text-align: right;\n",
       "    }\n",
       "</style>\n",
       "<table border=\"1\" class=\"dataframe\">\n",
       "  <thead>\n",
       "    <tr style=\"text-align: right;\">\n",
       "      <th></th>\n",
       "      <th>InvoiceNo</th>\n",
       "      <th>StockCode</th>\n",
       "      <th>Description</th>\n",
       "      <th>Quantity</th>\n",
       "      <th>InvoiceDate</th>\n",
       "      <th>UnitPrice</th>\n",
       "      <th>CustomerID</th>\n",
       "      <th>Country</th>\n",
       "      <th>Amount_spent</th>\n",
       "    </tr>\n",
       "  </thead>\n",
       "  <tbody>\n",
       "    <tr>\n",
       "      <th>0</th>\n",
       "      <td>536365</td>\n",
       "      <td>85123A</td>\n",
       "      <td>WHITE HANGING HEART T-LIGHT HOLDER</td>\n",
       "      <td>6</td>\n",
       "      <td>2010-12-01 08:26:00</td>\n",
       "      <td>2.55</td>\n",
       "      <td>17850</td>\n",
       "      <td>United Kingdom</td>\n",
       "      <td>15.30</td>\n",
       "    </tr>\n",
       "    <tr>\n",
       "      <th>1</th>\n",
       "      <td>536365</td>\n",
       "      <td>71053</td>\n",
       "      <td>WHITE METAL LANTERN</td>\n",
       "      <td>6</td>\n",
       "      <td>2010-12-01 08:26:00</td>\n",
       "      <td>3.39</td>\n",
       "      <td>17850</td>\n",
       "      <td>United Kingdom</td>\n",
       "      <td>20.34</td>\n",
       "    </tr>\n",
       "    <tr>\n",
       "      <th>2</th>\n",
       "      <td>536365</td>\n",
       "      <td>84406B</td>\n",
       "      <td>CREAM CUPID HEARTS COAT HANGER</td>\n",
       "      <td>8</td>\n",
       "      <td>2010-12-01 08:26:00</td>\n",
       "      <td>2.75</td>\n",
       "      <td>17850</td>\n",
       "      <td>United Kingdom</td>\n",
       "      <td>22.00</td>\n",
       "    </tr>\n",
       "    <tr>\n",
       "      <th>3</th>\n",
       "      <td>536365</td>\n",
       "      <td>84029G</td>\n",
       "      <td>KNITTED UNION FLAG HOT WATER BOTTLE</td>\n",
       "      <td>6</td>\n",
       "      <td>2010-12-01 08:26:00</td>\n",
       "      <td>3.39</td>\n",
       "      <td>17850</td>\n",
       "      <td>United Kingdom</td>\n",
       "      <td>20.34</td>\n",
       "    </tr>\n",
       "    <tr>\n",
       "      <th>4</th>\n",
       "      <td>536365</td>\n",
       "      <td>84029E</td>\n",
       "      <td>RED WOOLLY HOTTIE WHITE HEART.</td>\n",
       "      <td>6</td>\n",
       "      <td>2010-12-01 08:26:00</td>\n",
       "      <td>3.39</td>\n",
       "      <td>17850</td>\n",
       "      <td>United Kingdom</td>\n",
       "      <td>20.34</td>\n",
       "    </tr>\n",
       "  </tbody>\n",
       "</table>\n",
       "</div>"
      ],
      "text/plain": [
       "  InvoiceNo StockCode                          Description  Quantity  \\\n",
       "0    536365    85123A   WHITE HANGING HEART T-LIGHT HOLDER         6   \n",
       "1    536365     71053                  WHITE METAL LANTERN         6   \n",
       "2    536365    84406B       CREAM CUPID HEARTS COAT HANGER         8   \n",
       "3    536365    84029G  KNITTED UNION FLAG HOT WATER BOTTLE         6   \n",
       "4    536365    84029E       RED WOOLLY HOTTIE WHITE HEART.         6   \n",
       "\n",
       "          InvoiceDate  UnitPrice  CustomerID         Country  Amount_spent  \n",
       "0 2010-12-01 08:26:00       2.55       17850  United Kingdom         15.30  \n",
       "1 2010-12-01 08:26:00       3.39       17850  United Kingdom         20.34  \n",
       "2 2010-12-01 08:26:00       2.75       17850  United Kingdom         22.00  \n",
       "3 2010-12-01 08:26:00       3.39       17850  United Kingdom         20.34  \n",
       "4 2010-12-01 08:26:00       3.39       17850  United Kingdom         20.34  "
      ]
     },
     "execution_count": 44,
     "metadata": {},
     "output_type": "execute_result"
    }
   ],
   "source": [
    "#Add the column - amount_spent\n",
    "df_new['Amount_spent'] = df_new['Quantity'] * df_new['UnitPrice']\n",
    "df_new.head()"
   ]
  },
  {
   "cell_type": "code",
   "execution_count": null,
   "id": "2360e0ce",
   "metadata": {},
   "outputs": [],
   "source": []
  },
  {
   "cell_type": "markdown",
   "id": "10d95b25",
   "metadata": {},
   "source": [
    "#### Number of sales in country by customer"
   ]
  },
  {
   "cell_type": "code",
   "execution_count": 48,
   "id": "60f4754d",
   "metadata": {},
   "outputs": [
    {
     "data": {
      "text/html": [
       "<div>\n",
       "<style scoped>\n",
       "    .dataframe tbody tr th:only-of-type {\n",
       "        vertical-align: middle;\n",
       "    }\n",
       "\n",
       "    .dataframe tbody tr th {\n",
       "        vertical-align: top;\n",
       "    }\n",
       "\n",
       "    .dataframe thead th {\n",
       "        text-align: right;\n",
       "    }\n",
       "</style>\n",
       "<table border=\"1\" class=\"dataframe\">\n",
       "  <thead>\n",
       "    <tr style=\"text-align: right;\">\n",
       "      <th></th>\n",
       "      <th>CustomerID</th>\n",
       "      <th>Country</th>\n",
       "      <th>NumberofSales</th>\n",
       "    </tr>\n",
       "  </thead>\n",
       "  <tbody>\n",
       "    <tr>\n",
       "      <th>4019</th>\n",
       "      <td>17841</td>\n",
       "      <td>United Kingdom</td>\n",
       "      <td>7847</td>\n",
       "    </tr>\n",
       "    <tr>\n",
       "      <th>1888</th>\n",
       "      <td>14911</td>\n",
       "      <td>EIRE</td>\n",
       "      <td>5677</td>\n",
       "    </tr>\n",
       "    <tr>\n",
       "      <th>1298</th>\n",
       "      <td>14096</td>\n",
       "      <td>United Kingdom</td>\n",
       "      <td>5111</td>\n",
       "    </tr>\n",
       "    <tr>\n",
       "      <th>334</th>\n",
       "      <td>12748</td>\n",
       "      <td>United Kingdom</td>\n",
       "      <td>4596</td>\n",
       "    </tr>\n",
       "    <tr>\n",
       "      <th>1670</th>\n",
       "      <td>14606</td>\n",
       "      <td>United Kingdom</td>\n",
       "      <td>2700</td>\n",
       "    </tr>\n",
       "  </tbody>\n",
       "</table>\n",
       "</div>"
      ],
      "text/plain": [
       "      CustomerID         Country  NumberofSales\n",
       "4019       17841  United Kingdom           7847\n",
       "1888       14911            EIRE           5677\n",
       "1298       14096  United Kingdom           5111\n",
       "334        12748  United Kingdom           4596\n",
       "1670       14606  United Kingdom           2700"
      ]
     },
     "execution_count": 48,
     "metadata": {},
     "output_type": "execute_result"
    }
   ],
   "source": [
    "sales_per_cust=df_new.groupby(by=['CustomerID','Country'],as_index=False)['InvoiceNo'].count().sort_values(by='InvoiceNo',ascending=False)\n",
    "sales_per_cust.columns=['CustomerID','Country','NumberofSales']\n",
    "sales_per_cust.head()"
   ]
  },
  {
   "cell_type": "markdown",
   "id": "997f4693",
   "metadata": {},
   "source": [
    "#### The Customer ID of highest spending Customers"
   ]
  },
  {
   "cell_type": "code",
   "execution_count": 49,
   "id": "24f4e259",
   "metadata": {},
   "outputs": [
    {
     "data": {
      "text/html": [
       "<div>\n",
       "<style scoped>\n",
       "    .dataframe tbody tr th:only-of-type {\n",
       "        vertical-align: middle;\n",
       "    }\n",
       "\n",
       "    .dataframe tbody tr th {\n",
       "        vertical-align: top;\n",
       "    }\n",
       "\n",
       "    .dataframe thead th {\n",
       "        text-align: right;\n",
       "    }\n",
       "</style>\n",
       "<table border=\"1\" class=\"dataframe\">\n",
       "  <thead>\n",
       "    <tr style=\"text-align: right;\">\n",
       "      <th></th>\n",
       "      <th>CustomerID</th>\n",
       "      <th>Country</th>\n",
       "      <th>Amount_spent</th>\n",
       "    </tr>\n",
       "  </thead>\n",
       "  <tbody>\n",
       "    <tr>\n",
       "      <th>1698</th>\n",
       "      <td>14646</td>\n",
       "      <td>Netherlands</td>\n",
       "      <td>280206.02</td>\n",
       "    </tr>\n",
       "    <tr>\n",
       "      <th>4210</th>\n",
       "      <td>18102</td>\n",
       "      <td>United Kingdom</td>\n",
       "      <td>259657.30</td>\n",
       "    </tr>\n",
       "    <tr>\n",
       "      <th>3737</th>\n",
       "      <td>17450</td>\n",
       "      <td>United Kingdom</td>\n",
       "      <td>194550.79</td>\n",
       "    </tr>\n",
       "    <tr>\n",
       "      <th>3017</th>\n",
       "      <td>16446</td>\n",
       "      <td>United Kingdom</td>\n",
       "      <td>168472.50</td>\n",
       "    </tr>\n",
       "    <tr>\n",
       "      <th>1888</th>\n",
       "      <td>14911</td>\n",
       "      <td>EIRE</td>\n",
       "      <td>143825.06</td>\n",
       "    </tr>\n",
       "    <tr>\n",
       "      <th>57</th>\n",
       "      <td>12415</td>\n",
       "      <td>Australia</td>\n",
       "      <td>124914.53</td>\n",
       "    </tr>\n",
       "    <tr>\n",
       "      <th>1342</th>\n",
       "      <td>14156</td>\n",
       "      <td>EIRE</td>\n",
       "      <td>117379.63</td>\n",
       "    </tr>\n",
       "    <tr>\n",
       "      <th>3780</th>\n",
       "      <td>17511</td>\n",
       "      <td>United Kingdom</td>\n",
       "      <td>91062.38</td>\n",
       "    </tr>\n",
       "    <tr>\n",
       "      <th>2711</th>\n",
       "      <td>16029</td>\n",
       "      <td>United Kingdom</td>\n",
       "      <td>81024.84</td>\n",
       "    </tr>\n",
       "    <tr>\n",
       "      <th>0</th>\n",
       "      <td>12346</td>\n",
       "      <td>United Kingdom</td>\n",
       "      <td>77183.60</td>\n",
       "    </tr>\n",
       "  </tbody>\n",
       "</table>\n",
       "</div>"
      ],
      "text/plain": [
       "      CustomerID         Country  Amount_spent\n",
       "1698       14646     Netherlands     280206.02\n",
       "4210       18102  United Kingdom     259657.30\n",
       "3737       17450  United Kingdom     194550.79\n",
       "3017       16446  United Kingdom     168472.50\n",
       "1888       14911            EIRE     143825.06\n",
       "57         12415       Australia     124914.53\n",
       "1342       14156            EIRE     117379.63\n",
       "3780       17511  United Kingdom      91062.38\n",
       "2711       16029  United Kingdom      81024.84\n",
       "0          12346  United Kingdom      77183.60"
      ]
     },
     "execution_count": 49,
     "metadata": {},
     "output_type": "execute_result"
    }
   ],
   "source": [
    "spent_per_cust=df_new.groupby(by=['CustomerID','Country'],as_index=False)['Amount_spent'].sum().sort_values(by='Amount_spent',ascending=False)\n",
    "#spent_per_cust.columns=['CustomerID','Country','TotalSpent']\n",
    "spent_per_cust.head(10)"
   ]
  },
  {
   "cell_type": "code",
   "execution_count": null,
   "id": "a79b16b5",
   "metadata": {},
   "outputs": [],
   "source": []
  }
 ],
 "metadata": {
  "kernelspec": {
   "display_name": "Python 3 (ipykernel)",
   "language": "python",
   "name": "python3"
  },
  "language_info": {
   "codemirror_mode": {
    "name": "ipython",
    "version": 3
   },
   "file_extension": ".py",
   "mimetype": "text/x-python",
   "name": "python",
   "nbconvert_exporter": "python",
   "pygments_lexer": "ipython3",
   "version": "3.9.7"
  }
 },
 "nbformat": 4,
 "nbformat_minor": 5
}
